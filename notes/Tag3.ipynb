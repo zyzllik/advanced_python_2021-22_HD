{
 "cells": [
  {
   "cell_type": "markdown",
   "metadata": {},
   "source": [
    "Black, PEP8 ---> für einheitliche fromatierung\n",
    "\n",
    "besser->\n",
    "for k in stuff.keys():\n",
    "als->\n",
    "for k in stuff:\n",
    "-----> Gleiches resultat, aber explizit\n",
    "\n",
    "\n",
    "import gzip\n",
    "with gzip.open(jjjj, 'wb')"
   ]
  },
  {
   "cell_type": "code",
   "execution_count": null,
   "metadata": {},
   "outputs": [],
   "source": [
    "# dict aus csv\n",
    "\n",
    "aap = csv.DictReader(file, delimitor=',')"
   ]
  },
  {
   "cell_type": "code",
   "execution_count": 1,
   "metadata": {},
   "outputs": [],
   "source": [
    "import bz2"
   ]
  }
 ],
 "metadata": {
  "interpreter": {
   "hash": "889aa5f08f3a7220f144011aaed856cb1a6b7dc2809f8ad5acb52014058e2a26"
  },
  "kernelspec": {
   "display_name": "Python 3.9.7 64-bit ('.venv': venv)",
   "language": "python",
   "name": "python3"
  },
  "language_info": {
   "codemirror_mode": {
    "name": "ipython",
    "version": 3
   },
   "file_extension": ".py",
   "mimetype": "text/x-python",
   "name": "python",
   "nbconvert_exporter": "python",
   "pygments_lexer": "ipython3",
   "version": "3.9.7"
  },
  "orig_nbformat": 4
 },
 "nbformat": 4,
 "nbformat_minor": 2
}
