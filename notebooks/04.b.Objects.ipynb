{
 "cells": [
  {
   "cell_type": "code",
   "execution_count": null,
   "metadata": {
    "slideshow": {
     "slide_type": "slide"
    }
   },
   "outputs": [],
   "source": [
    "import course;course.header()"
   ]
  },
  {
   "cell_type": "code",
   "execution_count": null,
   "metadata": {},
   "outputs": [],
   "source": [
    "course.display_topics(day=4)"
   ]
  },
  {
   "cell_type": "markdown",
   "metadata": {
    "slideshow": {
     "slide_type": "slide"
    }
   },
   "source": [
    "In the first three days we have coded functions that encapsulate our code and that wrangle our data when  passed into our function. \n",
    "\n",
    "This is termed [procedural programming](https://en.wikipedia.org/wiki/Procedural_programming)  \n",
    "\n",
    "Python (and Java, C++, ...) is a object oriented programming language which adds a more natural level to programms. \n",
    "\n",
    "For example, instead of storing x, y, z coordinates in lists and then using these lists to calculate distances between two points in space, which could look like:\n",
    "``` python\n",
    "def calc_difference(x_coordinates, y_coordiantes, z_coordinates, index1=0, index2=1):\n",
    "    ...\n",
    "    return distance\n",
    "```\n",
    "\n",
    "it would be much more convenient to be able to \n",
    "``` python\n",
    "a = Point(x1, y1, z1)\n",
    "b = Point(x1, y1, z1)\n",
    "difference = a - b\n",
    "```"
   ]
  },
  {
   "cell_type": "markdown",
   "metadata": {},
   "source": [
    "Another view of object oriented programming is that we attach functions to a customized data container and define how this data container behaves and how datacontainers of the same type interact"
   ]
  },
  {
   "cell_type": "markdown",
   "metadata": {
    "slideshow": {
     "slide_type": "subslide"
    }
   },
   "source": [
    "🚀\n",
    "We call **classes** the blueprints of such customized data containers and **objects** initialized instances of a class. One can spawn many objects from one class, each of which will be unique. \n",
    "\n",
    "From the procedural prgramming, we used the terminology functions and variabels. In order to avoid confusion, functions that are associated to classes/objects are called **methods** and variables are calles **attributes** or **properties**."
   ]
  },
  {
   "cell_type": "code",
   "execution_count": null,
   "metadata": {},
   "outputs": [],
   "source": [
    "# one uses the class declaration for class names\n",
    "# quick reminder - PEP8! https://www.python.org/dev/peps/pep-0008/#class-names\n",
    "class Sequence(object):\n",
    "    def aa_distribution(self):\n",
    "        return \"Not implemented yet\"\n",
    "        # should raise NotImplementedError('!')\n",
    "\n",
    "s1 = Sequence()\n",
    "s1.aa_distribution()\n"
   ]
  },
  {
   "cell_type": "markdown",
   "metadata": {},
   "source": [
    "The *object* in the brackets refer to the parent class from which our Sequence class inherits its properties. Here object is not neccessary since all classes inhert from object to start with.\n",
    "\n",
    "We defined a new method **aa_distribution** which takes one argument **self**, this is always the case for functions associated to objects - which are called **methods**. Think about it as passing the actual data container into our \"function\". "
   ]
  },
  {
   "cell_type": "markdown",
   "metadata": {
    "slideshow": {
     "slide_type": "slide"
    }
   },
   "source": [
    "## \\__init__\n",
    "One very importante method is **__init__** as it is called when a new instance is initialized.\n",
    "\n",
    "Note: methods starting and ending on two _ have special meanings in Python and should not be used in order to avoid collisions. They ar called **magic functions**"
   ]
  },
  {
   "cell_type": "code",
   "execution_count": null,
   "metadata": {},
   "outputs": [],
   "source": [
    "from collections import Counter\n",
    "\n",
    "class Sequence(object):\n",
    "    def __init__(self, sequence):\n",
    "        self.sequence = sequence\n",
    "        # we store the sequence that is used to \n",
    "        # initialize this object into self.sequence\n",
    "    \n",
    "    def aa_distribution(self):\n",
    "        return Counter(self.sequence) \n",
    "  \n",
    "s1 = Sequence(\"WHEREISELVIS\")\n",
    "s1.aa_distribution()"
   ]
  },
  {
   "cell_type": "code",
   "execution_count": null,
   "metadata": {},
   "outputs": [],
   "source": [
    "s1.sequence"
   ]
  },
  {
   "cell_type": "markdown",
   "metadata": {
    "slideshow": {
     "slide_type": "slide"
    }
   },
   "source": [
    "Classes and their objects can each have methods and attributes. \n",
    "\n",
    "Class attributes can be used like:"
   ]
  },
  {
   "cell_type": "code",
   "execution_count": null,
   "metadata": {},
   "outputs": [],
   "source": [
    "from collections import Counter\n",
    "\n",
    "class Sequence(object):\n",
    "    \n",
    "    total_initialized_sequence = 0\n",
    "    \n",
    "    def __init__(self, sequence):\n",
    "        self.sequence = sequence\n",
    "        Sequence.total_initialized_sequence += 1\n",
    "        # every time a Sequence object is initialized, we increase\n",
    "        # the counter of the class attribute\n",
    "    \n",
    "    def aa_distribution(self):\n",
    "        return Counter(self.sequence)\n",
    "        # should raise \n",
    "\n",
    "for _ in range(13):\n",
    "    s1 = Sequence(\"AACCEE\")\n",
    "\n",
    "Sequence.total_initialized_sequence\n",
    "# ^-- note: we are refereing to the actual class Sequence and not the instance s1"
   ]
  },
  {
   "cell_type": "code",
   "execution_count": null,
   "metadata": {},
   "outputs": [],
   "source": []
  },
  {
   "cell_type": "markdown",
   "metadata": {},
   "source": [
    "Yet each instance has a reference to the one class attribute!"
   ]
  },
  {
   "cell_type": "code",
   "execution_count": null,
   "metadata": {},
   "outputs": [],
   "source": [
    "new = Sequence(\"ELVIS\")\n",
    "new.total_initialized_sequence"
   ]
  },
  {
   "cell_type": "markdown",
   "metadata": {
    "slideshow": {
     "slide_type": "slide"
    }
   },
   "source": [
    "Methods that belong to the class are assiged by using a decorator"
   ]
  },
  {
   "cell_type": "code",
   "execution_count": null,
   "metadata": {},
   "outputs": [],
   "source": [
    "from collections import Counter\n",
    "\n",
    "class Sequence(object):\n",
    "    \n",
    "    total_initialized_sequence = 0\n",
    "    \n",
    "    def __init__(self, sequence):\n",
    "        self.sequence = sequence\n",
    "        Sequence.total_initialized_sequence += 1\n",
    "        # every time a Sequence object is initialized, we increase\n",
    "        # the counter of the class attribute\n",
    "    \n",
    "    def aa_distribution(self):\n",
    "        return Counter(self.sequence)\n",
    "        # should raise \n",
    "\n",
    "    @classmethod\n",
    "    def class_status(cls):\n",
    "        print(f\"We have initialized {Sequence.total_initialized_sequence} sequences\")\n",
    "        \n",
    "for _ in range(3):\n",
    "    s1 = Sequence(\"AACCEE\") \n",
    "\n",
    "Sequence.class_status()"
   ]
  },
  {
   "cell_type": "markdown",
   "metadata": {},
   "source": [
    "For the sake of readability - class methods argument is **cls** not **self**."
   ]
  },
  {
   "cell_type": "code",
   "execution_count": null,
   "metadata": {},
   "outputs": [],
   "source": [
    "# note: again, each class has this method as well, which is why defining classmethods\n",
    "#       is in IMHO not so useful ..\n",
    "s1.class_status()"
   ]
  },
  {
   "cell_type": "markdown",
   "metadata": {},
   "source": [
    "# more fun with class attributes"
   ]
  },
  {
   "cell_type": "code",
   "execution_count": null,
   "metadata": {},
   "outputs": [],
   "source": [
    "from collections import Counter\n",
    "\n",
    "class Sequence(object):\n",
    "    \n",
    "    all_intialized_sequences = []\n",
    "    \n",
    "    def __init__(self, sequence):\n",
    "        self.sequence = sequence\n",
    "        # we collect all intialized sequences in the class\n",
    "        Sequence.all_intialized_sequences.append(self)\n",
    "            \n",
    "s1 = Sequence(\"AACCEE\")\n",
    "s1 = Sequence(\"ELVIS\")\n",
    "s1 = Sequence(\"NANANA\")\n",
    "\n",
    "Sequence.all_intialized_sequences"
   ]
  },
  {
   "cell_type": "code",
   "execution_count": null,
   "metadata": {},
   "outputs": [],
   "source": [
    "Sequence.all_intialized_sequences[1].sequence"
   ]
  },
  {
   "cell_type": "markdown",
   "metadata": {
    "slideshow": {
     "slide_type": "slide"
    }
   },
   "source": [
    "## more magic functions"
   ]
  },
  {
   "cell_type": "markdown",
   "metadata": {},
   "source": [
    "## \\__str__\n",
    "making the object more descriptive"
   ]
  },
  {
   "cell_type": "code",
   "execution_count": null,
   "metadata": {},
   "outputs": [],
   "source": [
    "class Sequence(object):\n",
    "    def __init__(self, sequence):\n",
    "        self.sequence = sequence\n",
    "\n",
    "    def __str__(self):\n",
    "        return \"Sequence class mobi-HD, length {0}, id {1}\".format(\n",
    "            len(self.sequence),\n",
    "            id(self)\n",
    "        )"
   ]
  },
  {
   "cell_type": "code",
   "execution_count": null,
   "metadata": {},
   "outputs": [],
   "source": [
    "s1 = Sequence(\"ELVISLIVES\")\n",
    "print(s1)"
   ]
  },
  {
   "cell_type": "markdown",
   "metadata": {
    "slideshow": {
     "slide_type": "subslide"
    }
   },
   "source": [
    "# \\__add__ \n",
    "allowing adding of objects"
   ]
  },
  {
   "cell_type": "code",
   "execution_count": null,
   "metadata": {},
   "outputs": [],
   "source": [
    "class Sequence(object):\n",
    "    def __init__(self, sequence):\n",
    "        self.sequence = sequence\n",
    "        \n",
    "    def __str__(self):\n",
    "        return \"\"\"Sequence class mobi-HD, length {0}, id {1}, {2}\"\"\".format(\n",
    "            len(self.sequence),\n",
    "            id(self),\n",
    "            self.sequence\n",
    "        )\n",
    "\n",
    "    def add(self, other):\n",
    "        return self + other  \n",
    "    \n",
    "    def __add__(self, other):\n",
    "        new_sequence_obj = Sequence(self.sequence + other.sequence)\n",
    "        return new_sequence_obj\n",
    "  "
   ]
  },
  {
   "cell_type": "code",
   "execution_count": null,
   "metadata": {},
   "outputs": [],
   "source": [
    "s1 = Sequence(\"ELVIS\")\n",
    "s2 = Sequence(\"LIVES\")\n",
    "s3 = s1 + s2\n",
    "print(s1)\n",
    "print(s2)\n",
    "print(s3)\n",
    "s1 += s2\n",
    "print(s1.add(s2))\n"
   ]
  },
  {
   "cell_type": "markdown",
   "metadata": {
    "slideshow": {
     "slide_type": "subslide"
    }
   },
   "source": [
    "# Comparisons\n",
    "Often we want to sort objects stored in a list or check for equality.\n",
    "But what does it mean that sequence_1 \\< sequence_2 or sequence_1 == sequence_2 ?"
   ]
  },
  {
   "cell_type": "code",
   "execution_count": null,
   "metadata": {},
   "outputs": [],
   "source": [
    "# answer is that we need to define magic functions that are called by Python internals \n",
    "# in order to eval equality or to sort. Minimum is __eq__ and __lt__, respectively.\n",
    "\n",
    "class Sequence(object):\n",
    "    def __init__(self, sequence):\n",
    "        self.sequence = sequence\n",
    "        \n",
    "    def __str__(self):\n",
    "        return self.sequence\n",
    "    \n",
    "    def __eq__(self, other):\n",
    "        return self.sequence == other.sequence\n",
    "    \n",
    "    def __lt__(self, other):\n",
    "        # return True if self < other\n",
    "        # I chose sequence length but it could equally be anything \n",
    "        # one can computer for both sequence ...\n",
    "        self_smaller = True\n",
    "        if len(self.sequence) >= len(other.sequence):\n",
    "            self_smaller = False\n",
    "        return self_smaller\n",
    "#         return len(self.sequence) < len(other.sequence)\n",
    "        "
   ]
  },
  {
   "cell_type": "code",
   "execution_count": null,
   "metadata": {
    "slideshow": {
     "slide_type": "subslide"
    }
   },
   "outputs": [],
   "source": [
    "s1 = Sequence(\"ELVISLIVES\")\n",
    "s2 = Sequence(\"REALLYELVISLIVES\")\n",
    "s3 = Sequence(\"DEADELVISIS\")\n",
    " \n",
    "print(\"is s1 == s2 ?\", s1 == s2)\n",
    "print(\"is s1 != s3 ?\", s1 != s3)\n",
    "\n",
    "\n",
    "for sequence in sorted([s2, s3, s1], reverse=False):\n",
    "    print(sequence)"
   ]
  },
  {
   "cell_type": "markdown",
   "metadata": {},
   "source": [
    "Minimum set of magic functions that enables equality and sorting\n",
    "\\__eq__ for equality (and inequality) \n",
    "\\__lt__ for sorting (less than)\n",
    "\n",
    "For more possibilities see [python docu](https://docs.python.org/3/reference/datamodel.html#object.__lt__) (no need to know all of those for the exam)"
   ]
  },
  {
   "cell_type": "markdown",
   "metadata": {
    "slideshow": {
     "slide_type": "slide"
    }
   },
   "source": [
    "# Make our class iterable"
   ]
  },
  {
   "cell_type": "code",
   "execution_count": null,
   "metadata": {
    "slideshow": {
     "slide_type": "subslide"
    }
   },
   "outputs": [],
   "source": [
    "\n",
    "class Sequence(object):\n",
    "    def __init__(self, sequence):\n",
    "        self.sequence = sequence\n",
    "        self._current_iter_state = 0\n",
    "        \n",
    "    def __iter__(self):\n",
    "        return self\n",
    "    \n",
    "    def __next__(self):\n",
    "        \n",
    "        if self._current_iter_state < len(self.sequence):\n",
    "            current_aa = self.sequence[self._current_iter_state]\n",
    "            self._current_iter_state += 1\n",
    "            return current_aa\n",
    "        raise StopIteration\n"
   ]
  },
  {
   "cell_type": "code",
   "execution_count": null,
   "metadata": {},
   "outputs": [],
   "source": [
    "s3 = Sequence(\"ELVISISDEAD\")\n",
    "for aa in s3:\n",
    "    print(aa)\n",
    "# next(s3)"
   ]
  },
  {
   "cell_type": "markdown",
   "metadata": {},
   "source": [
    "Why is the second iteration not working?"
   ]
  },
  {
   "cell_type": "code",
   "execution_count": null,
   "metadata": {},
   "outputs": [],
   "source": [
    "for aa in s3:\n",
    "    print(aa)"
   ]
  },
  {
   "cell_type": "markdown",
   "metadata": {},
   "source": [
    "### Fix it!"
   ]
  },
  {
   "cell_type": "code",
   "execution_count": null,
   "metadata": {
    "slideshow": {
     "slide_type": "slide"
    }
   },
   "outputs": [],
   "source": [
    "\n",
    "class Sequence(object):\n",
    "    def __init__(self, sequence):\n",
    "        self.sequence = sequence\n",
    "        self._current_iter_state = 0\n",
    "        \n",
    "    def __iter__(self):\n",
    "        self._current_iter_state = 0\n",
    "        return self\n",
    "    \n",
    "    def __next__(self):\n",
    "        \n",
    "        if self._current_iter_state < len(self.sequence):\n",
    "            current_aa = self.sequence[self._current_iter_state]\n",
    "            self._current_iter_state += 1\n",
    "            return current_aa\n",
    "        raise StopIteration\n"
   ]
  },
  {
   "cell_type": "markdown",
   "metadata": {
    "slideshow": {
     "slide_type": "subslide"
    }
   },
   "source": [
    "### Again, what does it mean to iterate over our object ? Well it is on us to decide, why not iter over it using a sliding window ..."
   ]
  },
  {
   "cell_type": "code",
   "execution_count": null,
   "metadata": {},
   "outputs": [],
   "source": [
    "from collections import deque\n",
    "class Sequence(object):\n",
    "    def __init__(self, sequence):\n",
    "        self.sequence = sequence   \n",
    "        \n",
    "    def __iter__(self):\n",
    "        self._current_iter_state = 0\n",
    "        self._sliding_window = deque([], maxlen=3)\n",
    "        return self\n",
    "    \n",
    "    def __next__(self):\n",
    "        if self._current_iter_state < len(self.sequence):\n",
    "            current_aa = self.sequence[self._current_iter_state]\n",
    "            self._sliding_window.append(current_aa)\n",
    "            self._current_iter_state += 1\n",
    "            return self._sliding_window\n",
    "        raise StopIteration"
   ]
  },
  {
   "cell_type": "code",
   "execution_count": null,
   "metadata": {},
   "outputs": [],
   "source": [
    "s3 = Sequence(\"ELVISISDEAD\")\n",
    "for sliding_window in s3:\n",
    "    print(sliding_window)"
   ]
  },
  {
   "cell_type": "markdown",
   "metadata": {
    "slideshow": {
     "slide_type": "slide"
    }
   },
   "source": [
    "# on demand / lazy loading et al. "
   ]
  },
  {
   "cell_type": "code",
   "execution_count": null,
   "metadata": {},
   "outputs": [],
   "source": [
    "from collections import Counter\n",
    "\n",
    "class Sequence:\n",
    "    def __init__(self, sequence):\n",
    "        self.sequence = sequence\n",
    "        \n",
    "    def aa_distribution(self):\n",
    "        return Counter(self.sequence)\n",
    "        # Problem is that we calculate aa_distribution every time\n",
    "        # this method is called \n"
   ]
  },
  {
   "cell_type": "code",
   "execution_count": null,
   "metadata": {},
   "outputs": [],
   "source": [
    "aa_seq = \"ACGHCNASOINDQIEODHASDJALSKDJASDJ\" * 100000"
   ]
  },
  {
   "cell_type": "code",
   "execution_count": null,
   "metadata": {},
   "outputs": [],
   "source": [
    "s1 = Sequence(aa_seq)"
   ]
  },
  {
   "cell_type": "code",
   "execution_count": null,
   "metadata": {},
   "outputs": [],
   "source": [
    "%timeit -n 3 s1.aa_distribution()"
   ]
  },
  {
   "cell_type": "code",
   "execution_count": null,
   "metadata": {},
   "outputs": [],
   "source": [
    "%timeit -n 3 s1.aa_distribution()"
   ]
  },
  {
   "cell_type": "markdown",
   "metadata": {
    "slideshow": {
     "slide_type": "slide"
    }
   },
   "source": [
    "How to make this faster the second time?"
   ]
  },
  {
   "cell_type": "markdown",
   "metadata": {},
   "source": [
    "### Fix it!"
   ]
  },
  {
   "cell_type": "code",
   "execution_count": null,
   "metadata": {},
   "outputs": [],
   "source": []
  },
  {
   "cell_type": "code",
   "execution_count": null,
   "metadata": {},
   "outputs": [],
   "source": []
  },
  {
   "cell_type": "code",
   "execution_count": null,
   "metadata": {},
   "outputs": [],
   "source": []
  },
  {
   "cell_type": "code",
   "execution_count": null,
   "metadata": {},
   "outputs": [],
   "source": []
  },
  {
   "cell_type": "code",
   "execution_count": null,
   "metadata": {},
   "outputs": [],
   "source": []
  },
  {
   "cell_type": "markdown",
   "metadata": {
    "slideshow": {
     "slide_type": "subslide"
    }
   },
   "source": [
    "... let's calculate distribution on demand and only if we have not done before ..."
   ]
  },
  {
   "cell_type": "code",
   "execution_count": null,
   "metadata": {},
   "outputs": [],
   "source": [
    "from collections import Counter\n",
    "\n",
    "class Sequence:\n",
    "    def __init__(self, sequence):\n",
    "        self.sequence = sequence\n",
    "        self._aa_distribution = None\n",
    "    \n",
    "    def aa_distribution(self):\n",
    "        if self._aa_distribution is None:\n",
    "            self._aa_distribution = Counter(self.sequence)\n",
    "        return self._aa_distribution\n"
   ]
  },
  {
   "cell_type": "code",
   "execution_count": null,
   "metadata": {},
   "outputs": [],
   "source": [
    "s2 = Sequence(aa_seq)\n",
    "distribution = s2.aa_distribution()"
   ]
  },
  {
   "cell_type": "code",
   "execution_count": null,
   "metadata": {},
   "outputs": [],
   "source": [
    "%timeit -n 3  s2.aa_distribution()"
   ]
  },
  {
   "cell_type": "markdown",
   "metadata": {
    "slideshow": {
     "slide_type": "slide"
    }
   },
   "source": [
    "What about properties?\n",
    "Sequence.aa_distribution feels much more like a property of the sequence,\n",
    "and a function should start with a verb :)"
   ]
  },
  {
   "cell_type": "markdown",
   "metadata": {
    "slideshow": {
     "slide_type": "subslide"
    }
   },
   "source": [
    "## accessing properties that do calculations on demand "
   ]
  },
  {
   "cell_type": "code",
   "execution_count": null,
   "metadata": {},
   "outputs": [],
   "source": [
    "\n",
    "class Sequence(object):\n",
    "    def __init__(self, sequence):\n",
    "        self.sequence = sequence\n",
    "        self.aa_distribution = Counter(self.sequence)"
   ]
  },
  {
   "cell_type": "code",
   "execution_count": null,
   "metadata": {},
   "outputs": [],
   "source": [
    "%%timeit -n 3 \n",
    "s4 = Sequence(aa_seq)"
   ]
  },
  {
   "cell_type": "markdown",
   "metadata": {},
   "source": [
    "Slow again and we just initialized the class! :(\n",
    "\n",
    "Note: %timeit profiles a line and %%timeit profiles the whole cell!"
   ]
  },
  {
   "cell_type": "markdown",
   "metadata": {
    "slideshow": {
     "slide_type": "subslide"
    }
   },
   "source": [
    "## on demand or lazy loading of properties?"
   ]
  },
  {
   "cell_type": "code",
   "execution_count": null,
   "metadata": {
    "slideshow": {
     "slide_type": "subslide"
    }
   },
   "outputs": [],
   "source": [
    "# on demand calculation, and if so then only once :)\n",
    "class Sequence(object):\n",
    "    def __init__(self, sequence):\n",
    "        self.sequence = sequence\n",
    "        self._aa_distribution = None\n",
    "        \n",
    "    @property\n",
    "    def aa_distribution(self):\n",
    "        if self._aa_distribution is None:\n",
    "            self._aa_distribution = Counter(self.sequence)\n",
    "        return self._aa_distribution"
   ]
  },
  {
   "cell_type": "code",
   "execution_count": null,
   "metadata": {},
   "outputs": [],
   "source": [
    "%timeit -n 3 Sequence(aa_seq)"
   ]
  },
  {
   "cell_type": "code",
   "execution_count": null,
   "metadata": {},
   "outputs": [],
   "source": [
    "s3 = Sequence(aa_seq)\n",
    "distribution = s3.aa_distribution"
   ]
  },
  {
   "cell_type": "code",
   "execution_count": null,
   "metadata": {},
   "outputs": [],
   "source": [
    "%timeit  -n 3 s3.aa_distribution"
   ]
  },
  {
   "cell_type": "markdown",
   "metadata": {},
   "source": [
    "Class initializes faster! "
   ]
  },
  {
   "cell_type": "markdown",
   "metadata": {
    "slideshow": {
     "slide_type": "slide"
    }
   },
   "source": [
    "# Object inheritance\n",
    "Another major advantage of OOP is that blue-print properties can be inherited, thus reducing code duplication.\n",
    "\n",
    "Using inheritance can, however, also lead to complex data / class structure. Follow the Zen of Python! Not every method needs to have its own subclass\n",
    "\n",
    "Note: The parents constructor (\\__init__) is not called by default!"
   ]
  },
  {
   "cell_type": "code",
   "execution_count": null,
   "metadata": {},
   "outputs": [],
   "source": [
    "class SequenceBaseClass:\n",
    "    def __init__(self, sequence):\n",
    "        self.sequence = sequence\n",
    "\n",
    "    def __add__(self, other):\n",
    "        new_sequence_obj = SequenceBaseClass(self.sequence + other.sequence)\n",
    "        return new_sequence_obj        \n",
    "\n",
    "    def __len__(self):\n",
    "        raise NotImplementedError(\n",
    "            \"If you inherit from SequenceBaseClass, \"\n",
    "            \"you must define len yourself\"\n",
    "            # Note: you can split strings to make it more readable\n",
    "        )\n",
    "    \n",
    "class Sequence(SequenceBaseClass):\n",
    "    def __init__(self, *args, **kwargs):\n",
    "        super().__init__(*args, **kwargs)\n",
    "    \n",
    "    def __len__(self):\n",
    "        return len(self.sequence)\n",
    "    \n",
    "    \n",
    "s1 = Sequence(\"SIRIFINDELVIS\")"
   ]
  },
  {
   "cell_type": "code",
   "execution_count": null,
   "metadata": {},
   "outputs": [],
   "source": [
    "print(s1.sequence)\n",
    "print(len(s1))"
   ]
  },
  {
   "cell_type": "markdown",
   "metadata": {
    "slideshow": {
     "slide_type": "slide"
    }
   },
   "source": [
    "# Finally,\n",
    "We can check if an object is based on a given class by using:"
   ]
  },
  {
   "cell_type": "code",
   "execution_count": null,
   "metadata": {},
   "outputs": [],
   "source": [
    "isinstance(s1, Sequence)"
   ]
  },
  {
   "cell_type": "code",
   "execution_count": null,
   "metadata": {},
   "outputs": [],
   "source": []
  }
 ],
 "metadata": {
  "celltoolbar": "Slideshow",
  "interpreter": {
   "hash": "1db61796eef522af4c3bfa7a1992d331ca5efcfc6f3218f7d019c02f1fab5e13"
  },
  "kernelspec": {
   "display_name": "Python 3.7.9 64-bit ('.venv': venv)",
   "name": "python3"
  },
  "language_info": {
   "codemirror_mode": {
    "name": "ipython",
    "version": 3
   },
   "file_extension": ".py",
   "mimetype": "text/x-python",
   "name": "python",
   "nbconvert_exporter": "python",
   "pygments_lexer": "ipython3",
   "version": "3.7.9"
  }
 },
 "nbformat": 4,
 "nbformat_minor": 2
}
