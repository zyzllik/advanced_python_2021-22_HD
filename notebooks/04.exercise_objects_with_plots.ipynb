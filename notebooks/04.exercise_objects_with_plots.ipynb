{
 "cells": [
  {
   "cell_type": "code",
   "execution_count": 1,
   "id": "million-advancement",
   "metadata": {},
   "outputs": [
    {
     "data": {
      "text/markdown": [
       "# Advanced Python Course \n",
       "## Mobi Heidelberg WS 2021/22\n",
       "### by Christian Fufezan \n",
       "\n",
       "christian@fufezan.net\n",
       "\n",
       "https://fufezan.net\n",
       "\n",
       "<img src=\"./images/cc.png\" alt=\"drawing\" width=\"200\" style=\"float: left;\"/>\n"
      ],
      "text/plain": [
       "<IPython.core.display.Markdown object>"
      ]
     },
     "metadata": {},
     "output_type": "display_data"
    }
   ],
   "source": [
    "import course;course.header()"
   ]
  },
  {
   "cell_type": "markdown",
   "id": "quick-microwave",
   "metadata": {},
   "source": [
    "## A) get data\n",
    "go to uniprot and download the fasta protein sequence for \"G-protein coupled receptor 183\" - aka \"P32249\""
   ]
  },
  {
   "cell_type": "markdown",
   "id": "coated-instrumentation",
   "metadata": {},
   "source": [
    "## B) Create a protein class\n",
    "\n",
    "that can be initialized by a name (or ID), sequence and a metrics dictionary, like:"
   ]
  },
  {
   "cell_type": "code",
   "execution_count": 2,
   "metadata": {},
   "outputs": [],
   "source": [
    "metrics = {\n",
    "    \"hydropathy\": {\"A\" : \"...\"},\n",
    "    \"pI\": {\"A\": \"...\"},\n",
    "}"
   ]
  },
  {
   "cell_type": "markdown",
   "id": "committed-publication",
   "metadata": {},
   "source": [
    "## C) Plot\n",
    "\n",
    "Create a method that has the following signature:"
   ]
  },
  {
   "cell_type": "code",
   "execution_count": 3,
   "metadata": {},
   "outputs": [],
   "source": [
    "def plot(self, metric=\"hydropathy\", window_size=1):\n",
    "    \"\"\"Create plotly fig object.\n",
    "\n",
    "    The title of the fig contains protein name, \n",
    "    the x axis is the amino acid position (int) and\n",
    "    y axis shows the metric at each given position. \n",
    "    A windows size can be specified to average the metrics using a sliding window \n",
    "\n",
    "    Args:\n",
    "        metric (str, optional): Is equal to the key of the metrics dictionary the class was initialized with. \n",
    "            Defaults to \"hydropathy\".\n",
    "        window_size (int, optional): Size of the sliding window. Defaults to 5.\n",
    "    \"\"\"\n",
    "    \n",
    "    return fig\n"
   ]
  },
  {
   "cell_type": "markdown",
   "id": "hollow-banks",
   "metadata": {},
   "source": [
    "## E) What do you observe?\n",
    "Describe the pattern you see. What could be the reason for the pattern?"
   ]
  },
  {
   "cell_type": "markdown",
   "id": "amazing-sweden",
   "metadata": {},
   "source": [
    "# Optional"
   ]
  },
  {
   "cell_type": "markdown",
   "id": "beautiful-sucking",
   "metadata": {},
   "source": [
    "### Retrieve sequence programmatically\n",
    "* Write a function that takes the uniprot identifier as kwarg and returns the sequence using\n",
    "    * the buffered sequence from e2\n",
    "    * using urllib\n",
    "    * using an alternative?\n",
    "\n",
    "### Plot annotations into the hydropathy plot\n",
    "* Plot protein topology features into the same plot \n"
   ]
  },
  {
   "cell_type": "code",
   "execution_count": null,
   "id": "distinguished-better",
   "metadata": {},
   "outputs": [],
   "source": []
  }
 ],
 "metadata": {
  "interpreter": {
   "hash": "1db61796eef522af4c3bfa7a1992d331ca5efcfc6f3218f7d019c02f1fab5e13"
  },
  "kernelspec": {
   "display_name": "Python 3.7.9 64-bit ('.venv': venv)",
   "name": "python3"
  },
  "language_info": {
   "codemirror_mode": {
    "name": "ipython",
    "version": 3
   },
   "file_extension": ".py",
   "mimetype": "text/x-python",
   "name": "python",
   "nbconvert_exporter": "python",
   "pygments_lexer": "ipython3",
   "version": "3.7.9"
  }
 },
 "nbformat": 4,
 "nbformat_minor": 5
}
