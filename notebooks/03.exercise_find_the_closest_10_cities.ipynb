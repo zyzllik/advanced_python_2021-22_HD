{
 "cells": [
  {
   "cell_type": "code",
   "execution_count": 1,
   "id": "million-advancement",
   "metadata": {},
   "outputs": [
    {
     "data": {
      "text/markdown": [
       "# Advanced Python Course \n",
       "## Mobi Heidelberg WS 2021/22\n",
       "### by Christian Fufezan \n",
       "\n",
       "christian@fufezan.net\n",
       "\n",
       "https://fufezan.net\n",
       "\n",
       "<img src=\"./images/cc.png\" alt=\"drawing\" width=\"200\" style=\"float: left;\"/>\n"
      ],
      "text/plain": [
       "<IPython.core.display.Markdown object>"
      ]
     },
     "metadata": {},
     "output_type": "display_data"
    }
   ],
   "source": [
    "import course;course.header()"
   ]
  },
  {
   "cell_type": "markdown",
   "id": "attractive-tension",
   "metadata": {},
   "source": [
    "# Find 10 closest cities to a given latidue and longitude point on earth"
   ]
  },
  {
   "cell_type": "markdown",
   "metadata": {},
   "source": [
    "Use any data structure that you can get your hands on and load the cities data. Write a function that creates the data structure withthe following function signature"
   ]
  },
  {
   "cell_type": "code",
   "execution_count": null,
   "metadata": {},
   "outputs": [],
   "source": [
    "def create_data_stucture(map_data_file):\n",
    "    \"\"\"Create a data structure from a data_file that allows rapid quering positions on the map\n",
    "\n",
    "    Args:\n",
    "        map_data_file (Path) csv file with the following columns:\n",
    "            city,lat,lng,country,iso3,local_name,population,continent\n",
    "\n",
    "    Returns\n",
    "        data_structure that can be used with find_closest_cities\n",
    "\n",
    "    HINT:\n",
    "        BSP buildup using recursive functions\n",
    "    \"\"\""
   ]
  },
  {
   "cell_type": "markdown",
   "metadata": {},
   "source": [
    "Write a query function with the following signature"
   ]
  },
  {
   "cell_type": "code",
   "execution_count": null,
   "metadata": {},
   "outputs": [],
   "source": [
    "def find_closest_cities(point, data_structure):\n",
    "    \"\"\"Find ten close cities to the given point on the world given the data structure\n",
    "    \n",
    "    Args:\n",
    "        point (tuple of floats) latitude and longitude\n",
    "    \n",
    "        data_structure (you choose) to be queries using the point\n",
    "\n",
    "    Returns:\n",
    "        list of 10 cities that are closest to the point \n",
    "    \"\"\"\n",
    "    return"
   ]
  }
 ],
 "metadata": {
  "interpreter": {
   "hash": "1db61796eef522af4c3bfa7a1992d331ca5efcfc6f3218f7d019c02f1fab5e13"
  },
  "kernelspec": {
   "display_name": "Python 3.7.9 64-bit ('.venv': venv)",
   "name": "python3"
  },
  "language_info": {
   "codemirror_mode": {
    "name": "ipython",
    "version": 3
   },
   "file_extension": ".py",
   "mimetype": "text/x-python",
   "name": "python",
   "nbconvert_exporter": "python",
   "pygments_lexer": "ipython3",
   "version": "3.7.9"
  }
 },
 "nbformat": 4,
 "nbformat_minor": 5
}
