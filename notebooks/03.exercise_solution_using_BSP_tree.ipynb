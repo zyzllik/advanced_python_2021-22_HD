{
 "cells": [
  {
   "cell_type": "markdown",
   "metadata": {},
   "source": [
    "# BSP Tree "
   ]
  },
  {
   "cell_type": "markdown",
   "metadata": {},
   "source": [
    "# Advanced Python Course \n",
    "## Mobi Heidelberg WS 2021/22\n",
    "### by Christian Fufezan \n",
    "\n",
    "christian@fufezan.net\n",
    "\n",
    "https://fufezan.net\n",
    "\n",
    "<img src=\"./images/cc.png\" alt=\"drawing\" width=\"200\" style=\"float: left;\"/>"
   ]
  },
  {
   "cell_type": "code",
   "execution_count": 1,
   "metadata": {},
   "outputs": [],
   "source": [
    "import csv"
   ]
  },
  {
   "cell_type": "code",
   "execution_count": 2,
   "metadata": {},
   "outputs": [],
   "source": [
    "import csv\n",
    "tree = {}\n",
    "cities = []\n",
    "lookup = []\n",
    "for ldict in csv.DictReader(open(\"../data/cities.csv\")):\n",
    "    cities.append((float(ldict['lat']), float(ldict['lng']), ldict['city'], len(lookup)))\n",
    "    lookup.append(ldict)"
   ]
  },
  {
   "cell_type": "code",
   "execution_count": 3,
   "metadata": {},
   "outputs": [
    {
     "data": {
      "text/plain": [
       "41001"
      ]
     },
     "execution_count": 3,
     "metadata": {},
     "output_type": "execute_result"
    }
   ],
   "source": [
    "len(cities)"
   ]
  },
  {
   "cell_type": "code",
   "execution_count": 4,
   "metadata": {},
   "outputs": [],
   "source": [
    "cities.sort(key=lambda x: x[0])"
   ]
  },
  {
   "cell_type": "code",
   "execution_count": 5,
   "metadata": {},
   "outputs": [
    {
     "data": {
      "text/plain": [
       "[(-54.9341, -67.6109, 'Puerto Williams', 40252),\n",
       " (-54.8072, -68.3044, 'Ushuaia', 5803),\n",
       " (-54.2806, -36.508, 'Grytviken', 40958),\n",
       " (-53.7914, -67.699, 'Río Grande', 16008),\n",
       " (-53.2956, -70.3687, 'Porvenir', 37422),\n",
       " (-53.1627, -70.9081, 'Punta Arenas', 4158),\n",
       " (-52.65, -71.4666, 'Balsadero Río Verde', 40921),\n",
       " (-51.7263, -72.5062, 'Puerto Natales', 20742),\n",
       " (-51.7, -57.85, 'Stanley', 854),\n",
       " (-51.6333, -69.2333, 'Río Gallegos', 5008)]"
      ]
     },
     "execution_count": 5,
     "metadata": {},
     "output_type": "execute_result"
    }
   ],
   "source": [
    "cities[:10]"
   ]
  },
  {
   "cell_type": "code",
   "execution_count": 6,
   "metadata": {},
   "outputs": [],
   "source": [
    "cities.sort(key=lambda x: x[1])"
   ]
  },
  {
   "cell_type": "code",
   "execution_count": 7,
   "metadata": {},
   "outputs": [
    {
     "data": {
      "text/plain": [
       "[(70.9566, -179.59, 'Zvëzdnyy', 40992),\n",
       " (66.3221, -179.1837, 'Egvekinot', 40847),\n",
       " (-14.2933, -178.1583, 'Leava', 10144),\n",
       " (-43.951, -176.561, 'Waitangi', 9837),\n",
       " (-13.2825, -176.1736, 'Mata-Utu', 865),\n",
       " (-21.1347, -175.2083, 'Nuku‘alofa', 834),\n",
       " (-18.6496, -173.9833, 'Neiafu', 40497),\n",
       " (64.4235, -173.2258, 'Provideniya', 40835),\n",
       " (-13.5196, -172.6378, 'Asau', 10183),\n",
       " (-13.4513, -172.4018, 'Safotu', 10187)]"
      ]
     },
     "execution_count": 7,
     "metadata": {},
     "output_type": "execute_result"
    }
   ],
   "source": [
    "cities[:10]"
   ]
  },
  {
   "cell_type": "code",
   "execution_count": 8,
   "metadata": {},
   "outputs": [
    {
     "data": {
      "text/plain": [
       "OrderedDict([('city', 'Zvëzdnyy'),\n",
       "             ('lat', '70.9566'),\n",
       "             ('lng', '-179.59'),\n",
       "             ('country', 'Russia'),\n",
       "             ('iso3', 'RUS'),\n",
       "             ('local_name', 'Chukotskiy Avtonomnyy Okrug'),\n",
       "             ('population', '10.0'),\n",
       "             ('continent', 'Europe')])"
      ]
     },
     "execution_count": 8,
     "metadata": {},
     "output_type": "execute_result"
    }
   ],
   "source": [
    "lookup[40992]"
   ]
  },
  {
   "cell_type": "code",
   "execution_count": 9,
   "metadata": {},
   "outputs": [],
   "source": [
    "import math\n",
    "\n",
    "def split_cities(cities=None, split_number = 0, root = None):\n",
    "    \"\"\"Splits list of cities depending on split_number by \n",
    "    either longitude or latidude array\n",
    "\n",
    "    Args:\n",
    "        cities (list of tuples): List of cities in the following format\n",
    "            [\n",
    "                (70.9566, -179.59, 'Zvëzdnyy', 40992),\n",
    "                (66.3221, -179.1837, 'Egvekinot', 40847),\n",
    "                (-14.2933, -178.1583, 'Leava', 10144),\n",
    "                ...\n",
    "            ]\n",
    "        split_number (int): Defines direction to split city array during recursion.\n",
    "        root (dict): Dictionary to be used for new split, on the leaf level, this is \n",
    "             only a list of cities \n",
    "\n",
    "    Returns:\n",
    "        dict: root\n",
    "    \"\"\"\n",
    "    direction = split_number % 2 # is index position\n",
    "    cities.sort(key=lambda x: x[direction])\n",
    "    split_pos = math.floor(len(cities) / 2)\n",
    "    city_block1 = cities[:split_pos]\n",
    "    city_block2 = cities[split_pos:]\n",
    "    if len(city_block1) > 10:\n",
    "        root_1 = split_cities(cities=city_block1.copy(), split_number=split_number + 1, root = {})\n",
    "    else:\n",
    "        root_1 = city_block1\n",
    "\n",
    "    if len(city_block2) > 10:\n",
    "        root_2 = split_cities(cities=city_block2.copy(), split_number=split_number + 1, root = {})\n",
    "    else:\n",
    "        root_2 = city_block2\n",
    "    return {\n",
    "        \"direction\": direction,\n",
    "        \"left\" : {\n",
    "            \"lower_boundary\" : city_block1[0],\n",
    "            \"upper_boundary\" : city_block1[-1],\n",
    "            \"root\" : root_1, \n",
    "        },\n",
    "        \"right\" : {\n",
    "            \"lower_boundary\": city_block2[0],\n",
    "            \"upper_boundary\": city_block2[-1],\n",
    "            \"root\": root_2\n",
    "        }\n",
    "    }\n",
    "\n",
    "\n",
    "root = split_cities(cities=cities, split_number=0, root = {})\n"
   ]
  },
  {
   "cell_type": "code",
   "execution_count": 10,
   "metadata": {},
   "outputs": [
    {
     "data": {
      "text/plain": [
       "dict_keys(['direction', 'left', 'right'])"
      ]
     },
     "metadata": {},
     "output_type": "display_data"
    },
    {
     "data": {
      "text/plain": [
       "0"
      ]
     },
     "execution_count": 10,
     "metadata": {},
     "output_type": "execute_result"
    }
   ],
   "source": [
    "\n",
    "display(root.keys())\n",
    "root['direction']"
   ]
  },
  {
   "cell_type": "code",
   "execution_count": 11,
   "metadata": {},
   "outputs": [],
   "source": [
    "\n",
    "def find_closest_cities(point=None):\n",
    "    if point is None:\n",
    "        point = (0,0)\n",
    "    current_root = root\n",
    "    while True:\n",
    "        direction = current_root['direction']\n",
    "        if current_root['left']['lower_boundary'][direction] <= point[direction] <= current_root['left']['upper_boundary'][direction]:\n",
    "            current_root = current_root['left']['root']\n",
    "        elif current_root['right']['lower_boundary'][direction] <= point[direction] <= current_root['right']['upper_boundary'][direction]:\n",
    "            current_root = current_root['right']['root']\n",
    "        if isinstance(current_root, list):\n",
    "            \n",
    "            break \n",
    "    return current_root\n"
   ]
  },
  {
   "cell_type": "code",
   "execution_count": null,
   "metadata": {},
   "outputs": [],
   "source": []
  },
  {
   "cell_type": "code",
   "execution_count": 12,
   "metadata": {},
   "outputs": [
    {
     "name": "stdout",
     "output_type": "stream",
     "text": [
      "7.31 µs ± 17.4 ns per loop (mean ± std. dev. of 7 runs, 100000 loops each)\n"
     ]
    }
   ],
   "source": [
    "%%timeit\n",
    "heidelberg = (49.416667, 8.716667)\n",
    "find_closest_cities(point=heidelberg)"
   ]
  },
  {
   "cell_type": "markdown",
   "metadata": {},
   "source": []
  }
 ],
 "metadata": {
  "interpreter": {
   "hash": "1db61796eef522af4c3bfa7a1992d331ca5efcfc6f3218f7d019c02f1fab5e13"
  },
  "kernelspec": {
   "display_name": "Python 3.7.9 64-bit ('.venv': venv)",
   "name": "python3"
  },
  "language_info": {
   "codemirror_mode": {
    "name": "ipython",
    "version": 3
   },
   "file_extension": ".py",
   "mimetype": "text/x-python",
   "name": "python",
   "nbconvert_exporter": "python",
   "pygments_lexer": "ipython3",
   "version": "3.7.9"
  },
  "orig_nbformat": 4
 },
 "nbformat": 4,
 "nbformat_minor": 2
}
