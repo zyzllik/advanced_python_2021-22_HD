{
 "cells": [
  {
   "cell_type": "code",
   "execution_count": 1,
   "metadata": {
    "slideshow": {
     "slide_type": "slide"
    }
   },
   "outputs": [
    {
     "data": {
      "text/markdown": [
       "# Advanced Python Course \n",
       "## Mobi Heidelberg WS 2021/22\n",
       "### by Christian Fufezan \n",
       "\n",
       "christian@fufezan.net\n",
       "\n",
       "https://fufezan.net\n",
       "\n",
       "<img src=\"./images/cc.png\" alt=\"drawing\" width=\"200\" style=\"float: left;\"/>\n"
      ],
      "text/plain": [
       "<IPython.core.display.Markdown object>"
      ]
     },
     "metadata": {},
     "output_type": "display_data"
    }
   ],
   "source": [
    "import course;course.header()"
   ]
  },
  {
   "cell_type": "code",
   "execution_count": 2,
   "metadata": {},
   "outputs": [
    {
     "data": {
      "text/html": [
       "<div>\n",
       "<style scoped>\n",
       "    .dataframe tbody tr th:only-of-type {\n",
       "        vertical-align: middle;\n",
       "    }\n",
       "\n",
       "    .dataframe tbody tr th {\n",
       "        vertical-align: top;\n",
       "    }\n",
       "\n",
       "    .dataframe thead th {\n",
       "        text-align: right;\n",
       "    }\n",
       "</style>\n",
       "<table border=\"1\" class=\"dataframe\">\n",
       "  <thead>\n",
       "    <tr style=\"text-align: right;\">\n",
       "      <th></th>\n",
       "      <th>day</th>\n",
       "      <th>Topic</th>\n",
       "    </tr>\n",
       "  </thead>\n",
       "  <tbody>\n",
       "    <tr>\n",
       "      <th>19</th>\n",
       "      <td>5</td>\n",
       "      <td>Test Driven development</td>\n",
       "    </tr>\n",
       "    <tr>\n",
       "      <th>20</th>\n",
       "      <td>5</td>\n",
       "      <td>Auto documentation with Sphinx</td>\n",
       "    </tr>\n",
       "  </tbody>\n",
       "</table>\n",
       "</div>"
      ],
      "text/plain": [
       "    day                           Topic\n",
       "19    5         Test Driven development\n",
       "20    5  Auto documentation with Sphinx"
      ]
     },
     "execution_count": 2,
     "metadata": {},
     "output_type": "execute_result"
    }
   ],
   "source": [
    "course.display_topics(day=5)"
   ]
  },
  {
   "cell_type": "markdown",
   "metadata": {
    "slideshow": {
     "slide_type": "slide"
    }
   },
   "source": [
    "# Test Driven Development"
   ]
  },
  {
   "cell_type": "markdown",
   "metadata": {},
   "source": [
    "\n",
    "## You all are already do some part of test driven development!\n",
    "\n",
    "<img style=\"right\" src=\"./images/tdd_already.jpg\">"
   ]
  },
  {
   "cell_type": "markdown",
   "metadata": {
    "slideshow": {
     "slide_type": "slide"
    }
   },
   "source": [
    "## TDD \n",
    "Test driven development comes in three blocks.\n",
    "\n",
    "<img style=\"right\" src=\"./images/tdd_explained.png\" width=700>\n",
    "\n",
    "a) you start thinking about what you want to code, write a test that will fail and then start writing the code to make the test pass. At this stage you have a working prototype and leave the first block (blue dotted line)\n",
    "\n",
    "b) you will write more tests covering foreseeable corner cases. If the test fail you adjust your code. After the tests pass you will leave the second block behind having a real product with test. \n",
    "\n",
    "c) Finally you start refactoring your code into the bigger picture. The tests will give you confidence that nothing breaks while you refactor. This step becomes essential when you tackle a similar problem or consolidate functionality in your core package. After that, you leave the third block and your code is maintainable, reusable and generalized in a bigger context. "
   ]
  },
  {
   "cell_type": "markdown",
   "metadata": {
    "slideshow": {
     "slide_type": "subslide"
    }
   },
   "source": [
    "Advantages are\n",
    "* think before coding. In a later stage you will think where the code will sit, how it wil work with the rest of your code base.\n",
    "* you will write tests before actually start coding on the solution (ie you will have tests at the end of the dev phase)\n",
    "* Forces you to write smaller functions that so TDD enforces the Zen of Python and general* coding philosophy\n",
    "    * Explicit is better than implicit.\n",
    "    * Simple is better than complex.\n",
    "    * Complex is better than complicated.\n",
    "    * a function should do one thing and one thing only\n",
    "\n"
   ]
  },
  {
   "cell_type": "markdown",
   "metadata": {
    "slideshow": {
     "slide_type": "slide"
    }
   },
   "source": [
    "In order to do so, we need to \n",
    "* fork the advanced_python_repo (so you can commit you code to your repo)\n",
    "* prepare some folders in your repo using this ...\n",
    "* if you can, switch to terminal and activate our virtualenv"
   ]
  },
  {
   "cell_type": "markdown",
   "metadata": {},
   "source": [
    "### Create folder structure"
   ]
  },
  {
   "cell_type": "code",
   "execution_count": 3,
   "metadata": {
    "slideshow": {
     "slide_type": "subslide"
    }
   },
   "outputs": [],
   "source": [
    "!mkdir ../peak_finder\n",
    "!mkdir ../tests\n",
    "!mkdir ../docs"
   ]
  },
  {
   "cell_type": "markdown",
   "metadata": {
    "slideshow": {
     "slide_type": "subslide"
    }
   },
   "source": [
    "You should have a dir structure like this:\n",
    "\n",
    "    ├── LICENSE\n",
    "    ├── README.md\n",
    "    ├── \u001bdata\n",
    "    │   ├── ...\n",
    "    ├── \u001bdocs\u001b\n",
    "    ├── \u001bnotebooks\u001b\n",
    "    │   ├── ...\n",
    "    ├── peak_finder\n",
    "    └── tests\n"
   ]
  },
  {
   "cell_type": "markdown",
   "metadata": {},
   "source": [
    "### Install pytest!"
   ]
  },
  {
   "cell_type": "code",
   "execution_count": 3,
   "metadata": {},
   "outputs": [
    {
     "name": "stdout",
     "output_type": "stream",
     "text": [
      "Collecting pip\n",
      "  Using cached pip-21.3.1-py3-none-any.whl (1.7 MB)\n",
      "Installing collected packages: pip\n",
      "  Attempting uninstall: pip\n",
      "    Found existing installation: pip 20.1.1\n",
      "    Uninstalling pip-20.1.1:\n",
      "      Successfully uninstalled pip-20.1.1\n",
      "Successfully installed pip-21.3.1\n",
      "Requirement already satisfied: pytest in /Users/fu/dev/_teaching/advanced_python_2021-22_HD/.venv/lib/python3.7/site-packages (6.2.5)\n",
      "Requirement already satisfied: toml in /Users/fu/dev/_teaching/advanced_python_2021-22_HD/.venv/lib/python3.7/site-packages (from pytest) (0.10.2)\n",
      "Requirement already satisfied: packaging in /Users/fu/dev/_teaching/advanced_python_2021-22_HD/.venv/lib/python3.7/site-packages (from pytest) (21.2)\n",
      "Requirement already satisfied: importlib-metadata>=0.12 in /Users/fu/dev/_teaching/advanced_python_2021-22_HD/.venv/lib/python3.7/site-packages (from pytest) (4.8.2)\n",
      "Requirement already satisfied: iniconfig in /Users/fu/dev/_teaching/advanced_python_2021-22_HD/.venv/lib/python3.7/site-packages (from pytest) (1.1.1)\n",
      "Requirement already satisfied: pluggy<2.0,>=0.12 in /Users/fu/dev/_teaching/advanced_python_2021-22_HD/.venv/lib/python3.7/site-packages (from pytest) (1.0.0)\n",
      "Requirement already satisfied: attrs>=19.2.0 in /Users/fu/dev/_teaching/advanced_python_2021-22_HD/.venv/lib/python3.7/site-packages (from pytest) (21.2.0)\n",
      "Requirement already satisfied: py>=1.8.2 in /Users/fu/dev/_teaching/advanced_python_2021-22_HD/.venv/lib/python3.7/site-packages (from pytest) (1.11.0)\n",
      "Requirement already satisfied: typing-extensions>=3.6.4 in /Users/fu/dev/_teaching/advanced_python_2021-22_HD/.venv/lib/python3.7/site-packages (from importlib-metadata>=0.12->pytest) (3.10.0.2)\n",
      "Requirement already satisfied: zipp>=0.5 in /Users/fu/dev/_teaching/advanced_python_2021-22_HD/.venv/lib/python3.7/site-packages (from importlib-metadata>=0.12->pytest) (3.6.0)\n",
      "Requirement already satisfied: pyparsing<3,>=2.0.2 in /Users/fu/dev/_teaching/advanced_python_2021-22_HD/.venv/lib/python3.7/site-packages (from packaging->pytest) (2.4.7)\n"
     ]
    }
   ],
   "source": [
    "!pip install --upgrade pip\n",
    "!pip install pytest\n",
    "# you need to restart VSCode :/"
   ]
  },
  {
   "cell_type": "markdown",
   "metadata": {},
   "source": [
    "### Create basic peak_finder place holders "
   ]
  },
  {
   "cell_type": "code",
   "execution_count": 2,
   "metadata": {
    "slideshow": {
     "slide_type": "slide"
    }
   },
   "outputs": [
    {
     "name": "stdout",
     "output_type": "stream",
     "text": [
      "Overwriting ../peak_finder/__init__.py\n"
     ]
    }
   ],
   "source": [
    "%%writefile ../peak_finder/__init__.py\n",
    "# __init__ py is required in a folder \n",
    "# to be recognized as a python module\n",
    "# otherwise the import statements won't work\n",
    "# the %%writefile magic allows the jupyter cell content to be stored as a file\n",
    "\n",
    "# lets load core into the name space as well\n",
    "from . import basic"
   ]
  },
  {
   "cell_type": "code",
   "execution_count": 5,
   "metadata": {},
   "outputs": [
    {
     "name": "stdout",
     "output_type": "stream",
     "text": [
      "Writing ../peak_finder/basic.py\n"
     ]
    }
   ],
   "source": [
    "%%writefile ../peak_finder/basic.py\n",
    "#\n",
    "# The first version of our function!\n",
    "# Write doc strings \n",
    "#\n",
    "def find_peaks(list_of_intensities):\n",
    "    \"\"\"Find peaks\n",
    "\n",
    "    Find local maxima for a given list of intensities or tuples\n",
    "    Intensities are defined as local maxima if the\n",
    "    intensities of the elements in the list before and after\n",
    "    are smaller than the peak we want to determine.\n",
    "\n",
    "    For example given a list:\n",
    "        1 5 [6] 4 1 2 [3] 2\n",
    "\n",
    "    We expect 6 and 3 to be returned.\n",
    "    \n",
    "\n",
    "    Args:\n",
    "        list_of_intensities (list of floats, ints or tuple of ints): a list of\n",
    "            numeric values\n",
    "\n",
    "    Returns:\n",
    "        list of floats or tuples: list of the identified local maxima\n",
    "\n",
    "    Note:\n",
    "        This is just a place holder for the TDD part :)\n",
    "\n",
    "    \"\"\"\n",
    "    return\n"
   ]
  },
  {
   "cell_type": "markdown",
   "metadata": {},
   "source": [
    "### Write first test!"
   ]
  },
  {
   "cell_type": "code",
   "execution_count": 3,
   "metadata": {},
   "outputs": [
    {
     "name": "stdout",
     "output_type": "stream",
     "text": [
      "Overwriting ../tests/test_basic.py\n"
     ]
    }
   ],
   "source": [
    "%%writefile ../tests/test_basic.py\n",
    "import sys\n",
    "from pathlib import Path\n",
    "# -------- START of inconvenient addon block --------\n",
    "# This block is not necessary if you have installed your package\n",
    "# using e.g. pip install -e (requires setup.py)\n",
    "# or have a symbolic link in your sitepackages (my preferend way)\n",
    "sys.path.append(\n",
    "    str(Path(__file__).parent.parent.resolve())\n",
    ")\n",
    "# It make import peak_finder possible\n",
    "# This is a demo hack for the course :)\n",
    "# --------  END of inconvenient addon block  --------\n",
    "\n",
    "import peak_finder\n",
    "\n",
    "def test_find_peaks():\n",
    "    peaks = peak_finder.basic.find_peaks([0, 2, 1])\n",
    "    assert peaks == [2] "
   ]
  },
  {
   "cell_type": "markdown",
   "metadata": {},
   "source": [
    "<image src=\"./images/VSCode/tdd_first_fail.png\">"
   ]
  },
  {
   "cell_type": "markdown",
   "metadata": {},
   "source": [
    "## Fix it!"
   ]
  },
  {
   "cell_type": "code",
   "execution_count": null,
   "metadata": {},
   "outputs": [],
   "source": []
  },
  {
   "cell_type": "code",
   "execution_count": null,
   "metadata": {},
   "outputs": [],
   "source": []
  },
  {
   "cell_type": "code",
   "execution_count": null,
   "metadata": {},
   "outputs": [],
   "source": []
  },
  {
   "cell_type": "markdown",
   "metadata": {
    "slideshow": {
     "slide_type": "slide"
    }
   },
   "source": [
    "## Now let's go into the first (second) iterations"
   ]
  },
  {
   "cell_type": "markdown",
   "metadata": {},
   "source": [
    "### on the path to our first product\n",
    "\n",
    "<img style=\"right\" src=\"images/tdd_explained.png\" width=800>"
   ]
  },
  {
   "cell_type": "markdown",
   "metadata": {
    "slideshow": {
     "slide_type": "slide"
    }
   },
   "source": [
    "## Now let's make it brilliant"
   ]
  },
  {
   "cell_type": "markdown",
   "metadata": {},
   "source": [
    "\n",
    "Let's say we are happy with our *product* and got \"rich\". \n",
    "\n",
    "Now why do we need to refactor?\n",
    "\n",
    "* Not to have our code exist in \"peak_finder\" but move it into our *work horse* package\n",
    "* The moment the definition of list_of_intensities is altered, we would \n",
    "    * restart the TDD process at the start  \n",
    "    * remember that both function do something similar so we could ultimately merge their code"
   ]
  },
  {
   "cell_type": "markdown",
   "metadata": {
    "slideshow": {
     "slide_type": "slide"
    }
   },
   "source": [
    "## Lets go into the third iteration"
   ]
  },
  {
   "cell_type": "markdown",
   "metadata": {},
   "source": [
    "\n",
    "### case find_peaks in a vector filled with colors\n",
    "\n",
    "Colors are defined as (e.g.) red-green-blue (RGB) tuples. So (0, 0, 0) is black and (255, 255, 255) is white.\n",
    "\n",
    "<img src=\"https://www.alanzucconi.com/wp-content/uploads/2015/09/colours.png\">\n",
    "\n",
    "And let's not go too deep into the beautiful world of [sorting colors by Alan Zucconi](https://www.alanzucconi.com/2015/09/30/colour-sorting/) and let's just say\n",
    "(20,0,0) > (0,19,0) so we sum-up the values in the tuples and feed it into our function, but this time we look for dark spots, that we want to identify as \"peaks\".\n",
    "\n",
    "### Write a second function!\n",
    "\n",
    "### What could refactoring look like ?"
   ]
  },
  {
   "cell_type": "markdown",
   "metadata": {},
   "source": [
    "# Automation is key!"
   ]
  },
  {
   "cell_type": "markdown",
   "metadata": {},
   "source": [
    "We want out test to run everytime a pull request is opened on github. "
   ]
  },
  {
   "cell_type": "markdown",
   "metadata": {},
   "source": [
    "Github actions enable automatic tasks upon different actions to be triggered. Read more about it [here](https://github.com/features/actions)\n",
    "\n",
    "github actions are defined as yaml files and are placed under .github/workflows\n"
   ]
  },
  {
   "cell_type": "code",
   "execution_count": 6,
   "metadata": {},
   "outputs": [],
   "source": [
    "!mkdir -p ../.github/workflows"
   ]
  },
  {
   "cell_type": "code",
   "execution_count": 7,
   "metadata": {},
   "outputs": [
    {
     "name": "stdout",
     "output_type": "stream",
     "text": [
      "Writing ../.github/workflows/pytest.yml\n"
     ]
    }
   ],
   "source": [
    "%%writefile ../.github/workflows/pytest.yml\n",
    "name: pytest with codecov\n",
    "on:\n",
    "  pull_request:\n",
    "    types: [opened, synchronize, reopened, edited]\n",
    "\n",
    "jobs:\n",
    "  build:\n",
    "    name: Run Python Tests\n",
    "    runs-on: ubuntu-latest\n",
    "\n",
    "    steps:\n",
    "\n",
    "    - uses: actions/checkout@v2\n",
    "      with:\n",
    "        fetch-depth: 2\n",
    "\n",
    "    - name: Set up Python 3.9\n",
    "      uses: actions/setup-python@v2\n",
    "      with:\n",
    "        python-version: 3.9\n",
    "\n",
    "    - name: Install Python dependencies\n",
    "      run: |\n",
    "        sudo apt install -y $(grep -o ^[^#][[:alnum:]-]* \"packages.list\")\n",
    "        python3 -m pip install --upgrade pip\n",
    "        pip3 install -r requirements.txt\n",
    "\n",
    "    - name: Test with pytest\n",
    "      run: |\n",
    "        pytest --exitfirst --verbose --failed-first \\\n",
    "        --cov=. --cov-report xml\n",
    "    \n",
    "    - name: Upload Coverage to Codecov\n",
    "      uses: codecov/codecov-action@v2\n",
    "      with:\n",
    "        token: ${{ secrets.CODECOV_TOKEN }} # not required for public repos"
   ]
  },
  {
   "cell_type": "markdown",
   "metadata": {},
   "source": [
    "If you have a private repo, you need to add a settings > secrets name CODECOV_TOKEN, which you can get from codecov.io - register with your github account."
   ]
  },
  {
   "cell_type": "markdown",
   "metadata": {},
   "source": [
    "After you pushed to you repo, you should have new action! "
   ]
  },
  {
   "cell_type": "markdown",
   "metadata": {
    "slideshow": {
     "slide_type": "slide"
    }
   },
   "source": [
    "# Documentation to our peak_finder is important"
   ]
  },
  {
   "cell_type": "markdown",
   "metadata": {},
   "source": [
    "## Auto documentation using Sphinx!\n",
    "\n",
    "\"Sphinx is a tool that makes it easy to create intelligent and beautiful documentation, written by Georg Brandl and licensed under the BSD license.\n",
    "\n",
    "It was originally created for the Python documentation, and it has excellent facilities for the documentation of software projects in a range of languages. Of course, this site is also created from reStructuredText sources using Sphinx! The following features should be highlighted:\"\n",
    "\n",
    "[Website](http://www.sphinx-doc.org/en/master/)"
   ]
  },
  {
   "cell_type": "code",
   "execution_count": 11,
   "metadata": {},
   "outputs": [],
   "source": [
    "!pip install sphinx"
   ]
  },
  {
   "cell_type": "markdown",
   "metadata": {
    "slideshow": {
     "slide_type": "subslide"
    }
   },
   "source": [
    "Quickstart, open terminal and\n",
    "``` bash\n",
    "$ cd docs\n",
    "```\n",
    "\n",
    "**NOTE:** Personally, I do not like the docs to clutter my project dir with different files but to have everything contained in the docs folder\n",
    "\n",
    "``` bash\n",
    " fu@mPro:~/dev/_teaching/advanced_python_2021-22_HD_pre/docs\n",
    "    5 main $ sphinx-quickstart                                                                                                                                                                                                                                                    .venv [13:32:11]\n",
    "Welcome to the Sphinx 4.2.0 quickstart utility.\n",
    "\n",
    "Please enter values for the following settings (just press Enter to\n",
    "accept a default value, if one is given in brackets).\n",
    "\n",
    "Selected root path: .\n",
    "\n",
    "You have two options for placing the build directory for Sphinx output.\n",
    "Either, you use a directory \"_build\" within the root path, or you separate\n",
    "\"source\" and \"build\" directories within the root path.\n",
    "> Separate source and build directories (y/n) [n]: y\n",
    "\n",
    "The project name will occur in several places in the built documentation.\n",
    "> Project name: peak_finder\n",
    "> Author name(s): Christian Fufezan\n",
    "> Project release []: alpha\n",
    "\n",
    "If the documents are to be written in a language other than English,\n",
    "you can select a language here by its language code. Sphinx will then\n",
    "translate text that it generates into that language.\n",
    "\n",
    "For a list of supported codes, see\n",
    "https://www.sphinx-doc.org/en/master/usage/configuration.html#confval-language.\n",
    "> Project language [en]: \n",
    "\n",
    "Creating file /Users/fu/dev/_teaching/advanced_python_2021-22_HD_pre/docs/source/conf.py.\n",
    "Creating file /Users/fu/dev/_teaching/advanced_python_2021-22_HD_pre/docs/source/index.rst.\n",
    "Creating file /Users/fu/dev/_teaching/advanced_python_2021-22_HD_pre/docs/Makefile.\n",
    "Creating file /Users/fu/dev/_teaching/advanced_python_2021-22_HD_pre/docs/make.bat.\n",
    "\n",
    "Finished: An initial directory structure has been created.\n",
    "\n",
    "You should now populate your master file /Users/fu/dev/_teaching/advanced_python_2021-22_HD_pre/docs/source/index.rst and create other documentation\n",
    "source files. Use the Makefile to build the docs, like so:\n",
    "   make builder\n",
    "where \"builder\" is one of the supported builders, e.g. html, latex or linkcheck.\n",
    "```"
   ]
  },
  {
   "cell_type": "markdown",
   "metadata": {
    "slideshow": {
     "slide_type": "subslide"
    }
   },
   "source": [
    "Now let's make the first documentation\n",
    "```bash\n",
    "make html\n",
    "open build/html/index.html\n",
    "```"
   ]
  },
  {
   "cell_type": "markdown",
   "metadata": {
    "slideshow": {
     "slide_type": "subslide"
    }
   },
   "source": [
    "Sphinx does not know anything about our project yet so we have to edit\n",
    "**docs/source/conf.py** you will find "
   ]
  },
  {
   "cell_type": "markdown",
   "metadata": {},
   "source": [
    "\n",
    "``` python\n",
    "# If extensions (or modules to document with autodoc) are in another directory,\n",
    "# add these directories to sys.path here. If the directory is relative to the\n",
    "# documentation root, use os.path.abspath to make it absolute, like shown here.\n",
    "#\n",
    "# import os\n",
    "# import sys\n",
    "# sys.path.insert(0, os.path.abspath('.'))\n",
    "``` \n",
    "that block in the beginning of the conf file, uncomment it and edit the sys.path so the module can be found\n",
    "``` python\n",
    "dir_path = os.path.join(\n",
    "    os.path.dirname(__file__),\n",
    "    os.pardir,\n",
    "    os.pardir,\n",
    ")\n",
    "sys.path.insert(0, os.path.abspath(dir_path))\n",
    "```"
   ]
  },
  {
   "cell_type": "markdown",
   "metadata": {
    "slideshow": {
     "slide_type": "subslide"
    }
   },
   "source": [
    "Additionally, let's make sphinx understand google and numpy docstring! Edit\n",
    "**docs/source/conf.py** again and add the napoleon extention to the extentions \n",
    "``` python\n",
    "extensions = [\n",
    "    'sphinx.ext.napoleon',\n",
    "]\n",
    "```"
   ]
  },
  {
   "cell_type": "markdown",
   "metadata": {
    "slideshow": {
     "slide_type": "subslide"
    }
   },
   "source": [
    "Wonder what so special about google's docstring ?\n",
    "\n",
    "*Regular*\n",
    "``` \n",
    ":param path: The path of the file to wrap\n",
    ":type path: str\n",
    ":param field_storage: The :class:`FileStorage` instance to wrap\n",
    ":type field_storage: FileStorage\n",
    ":param temporary: Whether or not to delete the file when the File\n",
    "   instance is destructed\n",
    ":type temporary: bool\n",
    ":returns: A buffered writable file descriptor\n",
    ":rtype: BufferedFileStorage\n",
    "```\n",
    "\n",
    "*Google python style*\n",
    "```\n",
    "Args:\n",
    "    path (str): The path of the file to wrap\n",
    "    field_storage (FileStorage): The :class:`FileStorage` instance to wrap\n",
    "    temporary (bool): Whether or not to delete the file when the File\n",
    "       instance is destructed\n",
    "\n",
    "Returns:\n",
    "    BufferedFileStorage: A buffered writable file descriptor\n",
    "```\n",
    "\n",
    "For more details, see [here](https://www.sphinx-doc.org/en/1.5/ext/example_google.html)"
   ]
  },
  {
   "cell_type": "markdown",
   "metadata": {
    "slideshow": {
     "slide_type": "subslide"
    }
   },
   "source": [
    "So now let's build again!\n",
    "```bash\n",
    "make html\n",
    "```\n",
    "\n"
   ]
  },
  {
   "cell_type": "code",
   "execution_count": null,
   "metadata": {},
   "outputs": [],
   "source": [
    "%pwd"
   ]
  },
  {
   "cell_type": "code",
   "execution_count": null,
   "metadata": {},
   "outputs": [],
   "source": [
    "%cd '/Users/fu/dev/teaching/advanced_python_2020-21_HD_pre/docs'"
   ]
  },
  {
   "cell_type": "code",
   "execution_count": null,
   "metadata": {
    "slideshow": {
     "slide_type": "subslide"
    }
   },
   "outputs": [],
   "source": [
    "!make html"
   ]
  },
  {
   "cell_type": "markdown",
   "metadata": {
    "slideshow": {
     "slide_type": "subslide"
    }
   },
   "source": [
    "### Nothing to see because we have not added our module yet!\n",
    "\n",
    "Let's edit docs/source/index.rst"
   ]
  },
  {
   "cell_type": "markdown",
   "metadata": {
    "slideshow": {
     "slide_type": "subslide"
    }
   },
   "source": [
    "```\n",
    ".. playground documentation master file, created by\n",
    "   sphinx-quickstart on Sun Oct 13 15:39:43 2019.\n",
    "   You can adapt this file completely to your liking, but it should at least\n",
    "   contain the root `toctree` directive.\n",
    "\n",
    "Welcome to playground's documentation!\n",
    "=========================================\n",
    "\n",
    ".. toctree::\n",
    "   :maxdepth: 2\n",
    "   :caption: Contents:\n",
    "\n",
    "   core\n",
    "\n",
    "\n",
    "Indices and tables\n",
    "==================\n",
    "\n",
    "* :ref:`genindex`\n",
    "* :ref:`modindex`\n",
    "* :ref:`search`\n",
    "```\n",
    "\n",
    "**I added core to the toctree!**\n",
    "\n"
   ]
  },
  {
   "cell_type": "markdown",
   "metadata": {
    "slideshow": {
     "slide_type": "subslide"
    }
   },
   "source": [
    "and **docs/source/basic.rst** looks like:\n",
    "```\n",
    ".. _basic.rst:\n",
    "\n",
    "Basic module\n",
    "============\n",
    "\n",
    ".. automodule:: peak_finder.basic\n",
    "    :members:\n",
    "    :undoc-members:\n",
    "```\n",
    "\n",
    "This is sufficient to have all functions in this module to be parsed and included in this documentation.\n",
    "\n",
    "The *:undoc-members:* helps to find all functions, even the ones that have no documentation.\n",
    "\n",
    "\n"
   ]
  },
  {
   "cell_type": "markdown",
   "metadata": {
    "slideshow": {
     "slide_type": "subslide"
    }
   },
   "source": [
    "Now rerun the documentation building procedure\n",
    "``` bash\n",
    "make html\n",
    "```"
   ]
  },
  {
   "cell_type": "code",
   "execution_count": null,
   "metadata": {},
   "outputs": [],
   "source": [
    "!make html;open build/html/index.html"
   ]
  },
  {
   "cell_type": "markdown",
   "metadata": {},
   "source": []
  },
  {
   "cell_type": "markdown",
   "metadata": {},
   "source": [
    "# Summary\n",
    "\n",
    "* Use test driven development! Because you do it already but you do not record it! \n",
    "* Write good doc strings! Use Google style for clarity!\n",
    "* Create a Sphinx documentation because it will help you not only to auto generate latest documentation but also create pdfs and have it hosted on readthedocs.org\n",
    "* Automation is key\n"
   ]
  },
  {
   "cell_type": "markdown",
   "metadata": {},
   "source": [
    "# Exercise\n",
    "\n",
    "* Write tests to you Protein class \n",
    "* Add actions to your github account that tests the Protein class \n",
    "* Try to auto generate sphinx documentation using github actions "
   ]
  },
  {
   "cell_type": "markdown",
   "metadata": {},
   "source": []
  }
 ],
 "metadata": {
  "celltoolbar": "Slideshow",
  "interpreter": {
   "hash": "1db61796eef522af4c3bfa7a1992d331ca5efcfc6f3218f7d019c02f1fab5e13"
  },
  "kernelspec": {
   "display_name": "Python 3.7.9 64-bit ('.venv': venv)",
   "name": "python3"
  },
  "language_info": {
   "codemirror_mode": {
    "name": "ipython",
    "version": 3
   },
   "file_extension": ".py",
   "mimetype": "text/x-python",
   "name": "python",
   "nbconvert_exporter": "python",
   "pygments_lexer": "ipython3",
   "version": "3.7.9"
  }
 },
 "nbformat": 4,
 "nbformat_minor": 2
}
