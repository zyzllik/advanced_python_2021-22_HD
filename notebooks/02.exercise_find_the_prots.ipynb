{
 "cells": [
  {
   "cell_type": "code",
   "execution_count": 1,
   "id": "assured-consolidation",
   "metadata": {},
   "outputs": [
    {
     "data": {
      "text/markdown": [
       "# Advanced Python Course \n",
       "## Mobi Heidelberg WS 2021/22\n",
       "### by Christian Fufezan \n",
       "\n",
       "christian@fufezan.net\n",
       "\n",
       "https://fufezan.net\n",
       "\n",
       "<img src=\"./images/cc.png\" alt=\"drawing\" width=\"200\" style=\"float: left;\"/>\n"
      ],
      "text/plain": [
       "<IPython.core.display.Markdown object>"
      ]
     },
     "metadata": {},
     "output_type": "display_data"
    }
   ],
   "source": [
    "import course;course.header()"
   ]
  },
  {
   "cell_type": "markdown",
   "id": "chronic-criticism",
   "metadata": {
    "slideshow": {
     "slide_type": "slide"
    }
   },
   "source": [
    "# Excersise No. 1\n",
    "\n",
    "## Count Amino acid propensity in human proteome\n",
    "\n",
    "Got to Uniprot and download the latests [here](https://www.uniprot.org/uniprot/?query=*&fil=organism%3A%22Homo+sapiens+%28Human%29+%5B9606%5D%22+AND+reviewed%3Ayes#)\n",
    "\n",
    "The file containes protein sequences in FASTA format, i.e.\n",
    "```txt\n",
    "> (( Identifier line ))\n",
    "(( Amino acid Sequence, can stretch over multiple lines ))\n",
    "> (( next identifier line ))\n",
    "```\n",
    "\n",
    "Write a function that takes two arguments, \n",
    " * a path to the a fasta database and  \n",
    " * an output file name.\n",
    "\n",
    "The function should do the following:\n",
    " * parses the input fasta file \n",
    " * counts the amino acid frequency and \n",
    " * write a csv output file that looks like \n",
    "\n",
    "```\n",
    "aa, count\n",
    "A, 123123123\n",
    "C, 3213\n",
    "D, ...\n",
    "```"
   ]
  },
  {
   "cell_type": "markdown",
   "id": "municipal-general",
   "metadata": {},
   "source": [
    "## Plot a histogram for human\n",
    "Use the dictionary created in a) to plot a histogram using your favorit lib\n",
    "\n",
    "Create a standalone script that will plot the histogram\n",
    "```bash\n",
    "$ ./plot_aa_histogram.py \"uniprot-filtered-proteome%3AUP000005640+AND+reviewed%3Ayes+AND+organism%3A%22Hom--.fasta\"\n",
    "```"
   ]
  },
  {
   "cell_type": "markdown",
   "id": "plastic-salem",
   "metadata": {},
   "source": [
    "## Rinse and repeat \n",
    "Repeat counting and plotting for at leat one organism of the following kingdoms of life:\n",
    "* Bacteria\n",
    "* Archea \n",
    "* Plantae\n",
    "* Animalia"
   ]
  },
  {
   "cell_type": "markdown",
   "id": "greek-strength",
   "metadata": {},
   "source": [
    "Are there difference? "
   ]
  },
  {
   "cell_type": "markdown",
   "id": "analyzed-partner",
   "metadata": {},
   "source": [
    "# Find special proteins"
   ]
  },
  {
   "cell_type": "markdown",
   "id": "comprehensive-coaching",
   "metadata": {},
   "source": [
    "Find the most extreme proteins\n",
    "* lowest / highest pI\n",
    "* longest / shortest proteins\n",
    "* highest density [mass / amino acid counts]\n",
    "* most hydrophobic, hydrophic \n"
   ]
  },
  {
   "cell_type": "code",
   "execution_count": null,
   "id": "prepared-finland",
   "metadata": {},
   "outputs": [],
   "source": []
  }
 ],
 "metadata": {
  "interpreter": {
   "hash": "2ade816e66443935280e5e219ac7556cd7d6953df572d910affd836bc1933d6b"
  },
  "kernelspec": {
   "display_name": "Python 3.9.1 64-bit ('.venv': venv)",
   "name": "python3"
  },
  "language_info": {
   "codemirror_mode": {
    "name": "ipython",
    "version": 3
   },
   "file_extension": ".py",
   "mimetype": "text/x-python",
   "name": "python",
   "nbconvert_exporter": "python",
   "pygments_lexer": "ipython3",
   "version": "3.9.1"
  }
 },
 "nbformat": 4,
 "nbformat_minor": 5
}
