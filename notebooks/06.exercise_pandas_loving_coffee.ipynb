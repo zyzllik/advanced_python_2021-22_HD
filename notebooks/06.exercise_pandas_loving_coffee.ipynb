{
 "cells": [
  {
   "cell_type": "code",
   "execution_count": 1,
   "id": "modern-eclipse",
   "metadata": {},
   "outputs": [
    {
     "data": {
      "text/markdown": [
       "# Advanced Python Course \n",
       "## Mobi Heidelberg WS 2021/22\n",
       "### by Christian Fufezan \n",
       "\n",
       "christian@fufezan.net\n",
       "\n",
       "https://fufezan.net\n",
       "\n",
       "<img src=\"./images/cc.png\" alt=\"drawing\" width=\"200\" style=\"float: left;\"/>\n"
      ],
      "text/plain": [
       "<IPython.core.display.Markdown object>"
      ]
     },
     "metadata": {},
     "output_type": "display_data"
    }
   ],
   "source": [
    "import course;course.header()\n",
    "import pandas as pd\n"
   ]
  },
  {
   "cell_type": "markdown",
   "id": "sealed-nothing",
   "metadata": {},
   "source": [
    "### Read the arabica data set into a dataframe\n",
    "You will notice an \"Unnamed: 0\" column. Where does it come from, how can one get \"rid\" of it?"
   ]
  },
  {
   "cell_type": "markdown",
   "id": "sexual-contribution",
   "metadata": {},
   "source": [
    "## Drop some categorical columns\n",
    "The dataset is rich in meta data, however we just want to keep \"Country.of.Origin\", \"Producer\", \"Processing.Method\". How to drop the rest?\n",
    "While you're at it rename the three columns we want to keep so they do not have dots but space in their name. "
   ]
  },
  {
   "cell_type": "markdown",
   "id": "recovered-manitoba",
   "metadata": {},
   "source": [
    "## Clean the data set\n",
    "The dataset does not seem to be as clean as the filename might suggest. How can you get a quick overview over the data and identify which columns have extreme outliers? If you cannot using pd commands, try to plot (see next question)!"
   ]
  },
  {
   "cell_type": "markdown",
   "id": "automated-complaint",
   "metadata": {},
   "source": [
    "## Plot \n",
    "Plot a plotly histogram for each of the remaining columns. Can you write a loop?"
   ]
  },
  {
   "cell_type": "markdown",
   "id": "becoming-journalism",
   "metadata": {},
   "source": [
    "## cleaning outliers\n",
    "* define heuristics that classify outliers for each column\n",
    "* set outliers to median  "
   ]
  },
  {
   "cell_type": "markdown",
   "id": "foreign-beginning",
   "metadata": {},
   "source": [
    "## Identify \n",
    " * Which countries have more than 10 and less than 30 entries?\n",
    " * Which is the producer with most entries?\n",
    " * What is the mosts common and least common \"Processing Method\""
   ]
  },
  {
   "cell_type": "code",
   "execution_count": null,
   "id": "sudden-crawford",
   "metadata": {},
   "outputs": [],
   "source": []
  }
 ],
 "metadata": {
  "kernelspec": {
   "display_name": "Python 3",
   "language": "python",
   "name": "python3"
  },
  "language_info": {
   "codemirror_mode": {
    "name": "ipython",
    "version": 3
   },
   "file_extension": ".py",
   "mimetype": "text/x-python",
   "name": "python",
   "nbconvert_exporter": "python",
   "pygments_lexer": "ipython3",
   "version": "3.7.9"
  }
 },
 "nbformat": 4,
 "nbformat_minor": 5
}
