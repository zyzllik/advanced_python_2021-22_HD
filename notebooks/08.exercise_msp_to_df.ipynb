{
 "cells": [
  {
   "cell_type": "markdown",
   "metadata": {},
   "source": [
    "# Mass spectrometry data\n",
    "\n",
    "The objective of this exercise is to read in raw peptide MSMS spectrum information and output a dataframe.\n",
    "The .msp file can be downloaded [here](https://chemdata.nist.gov/download/peptide_library/libraries/cptaclib/2015/cptac2_mouse_hcd_selected.msp.tar.gz).\n",
    "\n",
    "The information in this ASCII based text file is organized spectrum by spectrum.\n",
    "The first line per spectrum provides formatted like this:\n",
    "\n",
    "&emsp;<code>Name: sequence/charge_nmods_collisionenergy</code>\n",
    "\n",
    "followed by a comment section which can be disregarded and the actual spectrum data which is tab-separated:\n",
    "\n",
    "&emsp;<code>m/z&emsp;intensity&emsp;additional_info</code>\n",
    "\n",
    "Spectra are separated by an empty line.\n",
    "\n",
    "Code a function that returns two DataFrames or arrays containing the processed and filtered data. The first one should contain the spectrum information (n_spectra, n_m/z_features) and the second one the sequences per row (n_spectra).\n",
    "\n",
    "Here are some general guidelines:\n",
    "\n",
    "* The m/z values need to be binned to integer values (mathematically rounded), otherwise the dataframe size would get out of hand. This will allow for multiple values mapped to a single bin (e.g. if there are peaks at 145.1 and 145.2). Here, only the maximum of those peaks should be kept in the final dataframe.\n",
    "\n",
    "* Rows that are all-zero should be dropped.\n",
    "\n",
    "Your function should allow for selecting a range on the x-axis (m/z-range). All peaks outside this range can be disregarded. Furthermore, only spectra within a set collision energy range and a maximum sequence length should be contained in the output dataframe.\n",
    "\n",
    "The faster your function runs, the better. I will time them all in the end."
   ]
  },
  {
   "cell_type": "code",
   "execution_count": null,
   "metadata": {},
   "outputs": [],
   "source": [
    "import numpy as np\n",
    "import pandas as pd\n",
    "import timeit"
   ]
  },
  {
   "cell_type": "code",
   "execution_count": null,
   "metadata": {
    "pycharm": {
     "name": "#%%\n"
    }
   },
   "outputs": [],
   "source": [
    "def msp_to_df(\n",
    "    input_file,\n",
    "    max_seq_len=30,\n",
    "    min_ce=36,\n",
    "    max_ce=40,\n",
    "    mz_min=135,\n",
    "    mz_max=1400,\n",
    "):\n",
    "    \"\"\"\n",
    "    Function to read spectrum data from .msp file and convert to dataframe.\n",
    "    Args:\n",
    "        input_file (str): path to .msp file\n",
    "        max_seq_len (int): maximum acceptable sequence length\n",
    "        min_ce (int): minimum collision energy of spectra to be included in df\n",
    "        max_ce (int): maximum collision energy of spectra to be included in df\n",
    "        mz_min (int): lower boundary for m/z to be included in df\n",
    "        mz_max (int): lower boundary for m/z to be included in df\n",
    "\n",
    "    Returns:\n",
    "        df (pd.DataFrame or np.array): spectrum information within defined parameters [n_spectra, n_features]\n",
    "        seqs (pd.DataFrame or np.array): sequences\n",
    "    \"\"\"\n",
    "    df = None\n",
    "    seqs = None\n",
    "    \n",
    "    return df, seqs"
   ]
  }
 ],
 "metadata": {
  "kernelspec": {
   "display_name": "Python 3",
   "language": "python",
   "name": "python3"
  },
  "language_info": {
   "codemirror_mode": {
    "name": "ipython",
    "version": 3
   },
   "file_extension": ".py",
   "mimetype": "text/x-python",
   "name": "python",
   "nbconvert_exporter": "python",
   "pygments_lexer": "ipython3",
   "version": "3.8.2"
  }
 },
 "nbformat": 4,
 "nbformat_minor": 1
}