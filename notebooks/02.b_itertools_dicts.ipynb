{
 "cells": [
  {
   "cell_type": "code",
   "execution_count": 1,
   "metadata": {
    "slideshow": {
     "slide_type": "slide"
    }
   },
   "outputs": [
    {
     "data": {
      "text/markdown": [
       "# Advanced Python Course \n",
       "## Mobi Heidelberg WS 2021/22\n",
       "### by Christian Fufezan \n",
       "\n",
       "christian@fufezan.net\n",
       "\n",
       "https://fufezan.net\n",
       "\n",
       "<img src=\"./images/cc.png\" alt=\"drawing\" width=\"200\" style=\"float: left;\"/>\n"
      ],
      "text/plain": [
       "<IPython.core.display.Markdown object>"
      ]
     },
     "metadata": {},
     "output_type": "display_data"
    }
   ],
   "source": [
    "import course;course.header()"
   ]
  },
  {
   "cell_type": "markdown",
   "metadata": {
    "slideshow": {
     "slide_type": "slide"
    }
   },
   "source": [
    "# Days 2\n",
    "## Overview"
   ]
  },
  {
   "cell_type": "code",
   "execution_count": 2,
   "metadata": {},
   "outputs": [
    {
     "data": {
      "text/html": [
       "<div>\n",
       "<style scoped>\n",
       "    .dataframe tbody tr th:only-of-type {\n",
       "        vertical-align: middle;\n",
       "    }\n",
       "\n",
       "    .dataframe tbody tr th {\n",
       "        vertical-align: top;\n",
       "    }\n",
       "\n",
       "    .dataframe thead th {\n",
       "        text-align: right;\n",
       "    }\n",
       "</style>\n",
       "<table border=\"1\" class=\"dataframe\">\n",
       "  <thead>\n",
       "    <tr style=\"text-align: right;\">\n",
       "      <th></th>\n",
       "      <th>day</th>\n",
       "      <th>Topic</th>\n",
       "    </tr>\n",
       "  </thead>\n",
       "  <tbody>\n",
       "    <tr>\n",
       "      <th>6</th>\n",
       "      <td>2</td>\n",
       "      <td>Functions and dangrous mistakes</td>\n",
       "    </tr>\n",
       "    <tr>\n",
       "      <th>7</th>\n",
       "      <td>2</td>\n",
       "      <td>Zen of Python and general coding philosophy</td>\n",
       "    </tr>\n",
       "    <tr>\n",
       "      <th>8</th>\n",
       "      <td>2</td>\n",
       "      <td>csv module</td>\n",
       "    </tr>\n",
       "    <tr>\n",
       "      <th>9</th>\n",
       "      <td>2</td>\n",
       "      <td>Collections module</td>\n",
       "    </tr>\n",
       "    <tr>\n",
       "      <th>10</th>\n",
       "      <td>2</td>\n",
       "      <td>Exercise 2</td>\n",
       "    </tr>\n",
       "  </tbody>\n",
       "</table>\n",
       "</div>"
      ],
      "text/plain": [
       "    day                                        Topic\n",
       "6     2              Functions and dangrous mistakes\n",
       "7     2  Zen of Python and general coding philosophy\n",
       "8     2                                   csv module\n",
       "9     2                           Collections module\n",
       "10    2                                   Exercise 2"
      ]
     },
     "execution_count": 2,
     "metadata": {},
     "output_type": "execute_result"
    }
   ],
   "source": [
    "course.display_topics(day=2)"
   ]
  },
  {
   "cell_type": "markdown",
   "metadata": {
    "slideshow": {
     "slide_type": "slide"
    }
   },
   "source": [
    "# String format\n",
    "\n",
    "a powerful techniques to produce well formatted strings. Reference can be found [here](https://docs.python.org/3.4/library/string.html#format-specification-mini-language)"
   ]
  },
  {
   "cell_type": "code",
   "execution_count": 3,
   "metadata": {},
   "outputs": [
    {
     "data": {
      "text/plain": [
       "'42.0030937'"
      ]
     },
     "execution_count": 3,
     "metadata": {},
     "output_type": "execute_result"
    }
   ],
   "source": [
    "\"{0}\".format(42.0030937)    # cast float to string"
   ]
  },
  {
   "cell_type": "code",
   "execution_count": 4,
   "metadata": {},
   "outputs": [
    {
     "data": {
      "text/plain": [
       "'42.0031'"
      ]
     },
     "execution_count": 4,
     "metadata": {},
     "output_type": "execute_result"
    }
   ],
   "source": [
    "\"{0:7.4f}\".format(42.0030937)    # cast float to string and round it. Seven digits in total, 4 decimals"
   ]
  },
  {
   "cell_type": "code",
   "execution_count": 5,
   "metadata": {},
   "outputs": [
    {
     "name": "stdout",
     "output_type": "stream",
     "text": [
      "Centered           42.0031     \n",
      "Aligned left  42.0031          \n",
      "Aligned right           42.0031\n"
     ]
    }
   ],
   "source": [
    "# Align text in longer context\n",
    "print(\"Centered      {0:^17.4f}\".format(42.0030937))    # center text within longer area\n",
    "print(\"Aligned left  {0:<17.4f}\".format(42.0030937))    # align left\n",
    "print(\"Aligned right {0:>17.4f}\".format(42.0030937))    # align right"
   ]
  },
  {
   "cell_type": "code",
   "execution_count": 6,
   "metadata": {},
   "outputs": [
    {
     "name": "stdout",
     "output_type": "stream",
     "text": [
      "Centered      _____42.0031_____\n",
      "Aligned left  42.0031__________\n",
      "Aligned right __________42.0031\n"
     ]
    }
   ],
   "source": [
    "# Fill empty with placeholder, here _\n",
    "print(\"Centered      {0:_^17.4f}\".format(42.0030937))    # center text within longer area\n",
    "print(\"Aligned left  {0:_<17.4f}\".format(42.0030937))    # align left\n",
    "print(\"Aligned right {0:_>17.4f}\".format(42.0030937))    # align right"
   ]
  },
  {
   "cell_type": "code",
   "execution_count": 18,
   "metadata": {},
   "outputs": [
    {
     "data": {
      "text/plain": [
       "'4.20E+01 and not  2.0000'"
      ]
     },
     "execution_count": 18,
     "metadata": {},
     "output_type": "execute_result"
    }
   ],
   "source": [
    "\"{0:7.4f} and not {1:7.4f}\".format(42.0030937, 2)    # use an (unpacked) list of elements"
   ]
  },
  {
   "cell_type": "code",
   "execution_count": 8,
   "metadata": {},
   "outputs": [
    {
     "data": {
      "text/plain": [
       "'42.0031 and not  2.0000'"
      ]
     },
     "execution_count": 8,
     "metadata": {},
     "output_type": "execute_result"
    }
   ],
   "source": [
    "\"{first:7.4f} and not {second:7.4f}\".format(first=42.0030937, second=2)    # use a (unpacked) dict"
   ]
  },
  {
   "cell_type": "code",
   "execution_count": 9,
   "metadata": {},
   "outputs": [
    {
     "data": {
      "text/plain": [
       "'42.0031 and not  2.0000'"
      ]
     },
     "execution_count": 9,
     "metadata": {},
     "output_type": "execute_result"
    }
   ],
   "source": [
    "string_elements = [42.0030937, 2]\n",
    "\"{0:7.4f} and not {1:7.4f}\".format(*string_elements) # use an (unpacked) list of elements"
   ]
  },
  {
   "cell_type": "code",
   "execution_count": 10,
   "metadata": {},
   "outputs": [
    {
     "data": {
      "text/plain": [
       "'42.0031 and not  2.0000'"
      ]
     },
     "execution_count": 10,
     "metadata": {},
     "output_type": "execute_result"
    }
   ],
   "source": [
    "string_elements = {'first': 42.00309377849553, 'second': 2}\n",
    "\"{first:7.4f} and not {second:7.4f}\".format(**string_elements)  # use a (unpacked) dict"
   ]
  },
  {
   "cell_type": "code",
   "execution_count": 11,
   "metadata": {},
   "outputs": [],
   "source": [
    "counters = {\"warnings\": 12, \"critical_errors\": 0, \"passed evaluations\": 1002}\n",
    "\n",
    "# \"During run time we found {warnings:0>4d} warnings and {critical_errors:0>4d} critial errors\".format(**counters)\n",
    "# print(f\"During run time we found {counters['warnings']:0>4d}\")\n",
    "# Note counters dict can carry much more than we actually display in our formatted string"
   ]
  },
  {
   "cell_type": "code",
   "execution_count": 12,
   "metadata": {},
   "outputs": [
    {
     "data": {
      "text/plain": [
       "'During run time 1.002E+03 evaluations passed without any issue'"
      ]
     },
     "execution_count": 12,
     "metadata": {},
     "output_type": "execute_result"
    }
   ],
   "source": [
    "# use different format types ... and yes there are many .. here with an exponent\n",
    "\"During run time {passed evaluations:1.3E} evaluations passed without any issue\".format(**counters)"
   ]
  },
  {
   "cell_type": "code",
   "execution_count": 15,
   "metadata": {},
   "outputs": [
    {
     "data": {
      "text/plain": [
       "'During run time we found 0012 warnings and 0000 critial errors'"
      ]
     },
     "execution_count": 15,
     "metadata": {},
     "output_type": "execute_result"
    }
   ],
   "source": [
    "# Python 3.6 introduced another way to use format strings, ie addin an f in front of the string\n",
    "# allows local variables to be inserted directly\n",
    "\n",
    "warnings = 12\n",
    "critical_errors = 0\n",
    "\n",
    "f\"During run time we found {warnings:0>4d} warnings and {critical_errors:0>4d} critial errors\""
   ]
  },
  {
   "cell_type": "markdown",
   "metadata": {
    "slideshow": {
     "slide_type": "slide"
    }
   },
   "source": [
    "# Dicts"
   ]
  },
  {
   "cell_type": "markdown",
   "metadata": {},
   "source": [
    "\n",
    "Dictionaries, short dicts are lookup data structures in the form of key, value pairs. Keys have to be hashable (ie no dicts, sets, lists, yet e.g. tuples, floats, ints and strings work)and values can be of any type.\n",
    "\n",
    "**NOTE** dicts used to be unordered so best don't assume to be ordered or used ordered dict from colections directly (more to collections later)\n",
    "\n",
    "Lookup a value using its key in a dict is fast!\n",
    "\n",
    "one can iterate over a dicts\n",
    "* keys via d.keys()\n",
    "* values via d.values()\n",
    "* or pairs of key, values via d.items()"
   ]
  },
  {
   "cell_type": "code",
   "execution_count": null,
   "metadata": {},
   "outputs": [],
   "source": [
    "a = {\"King\": \"Arthur\", \"Uni\": \"Hd\"}\n"
   ]
  },
  {
   "cell_type": "code",
   "execution_count": null,
   "metadata": {},
   "outputs": [],
   "source": [
    "for key, value in a.items():\n",
    "    print('Key {0} points to value {1}'.format(key, value))"
   ]
  },
  {
   "cell_type": "markdown",
   "metadata": {
    "slideshow": {
     "slide_type": "slide"
    }
   },
   "source": [
    "Given d is an dictionary with unknown content. How to code\n",
    "* get value for key \"A\", and if not available return \"unknown amino acid\"\n",
    "* set value for key \"A\" to \"Alanine\" if not already in d\n",
    "\n",
    "How to merge two dicts ?"
   ]
  },
  {
   "cell_type": "code",
   "execution_count": null,
   "metadata": {},
   "outputs": [],
   "source": [
    "display(a)\n",
    "b = {\"Language\": \"English\", \"King\": \"Nobody!\"}\n",
    "a.update(b)\n",
    "a"
   ]
  },
  {
   "cell_type": "markdown",
   "metadata": {},
   "source": [
    "### Note: Prior to Python 3.6 dicts are not ordered! \n",
    "Don't *ASSUME* ie, either limit your module to Python3.6+ or use orderedDict to be on the safe side"
   ]
  },
  {
   "cell_type": "code",
   "execution_count": null,
   "metadata": {},
   "outputs": [],
   "source": [
    "from collections import OrderedDict as odict\n",
    "a = odict({\"King\": \"Arthur\", \"Uni\": \"Hd\"})\n",
    "b = odict({\"Language\": \"English\", \"King\": \"Nobody!\"})\n",
    "print(a, b)"
   ]
  },
  {
   "cell_type": "code",
   "execution_count": null,
   "metadata": {},
   "outputs": [],
   "source": [
    "a.update(b)\n",
    "a"
   ]
  },
  {
   "cell_type": "markdown",
   "metadata": {},
   "source": [
    "## Side note:"
   ]
  },
  {
   "cell_type": "code",
   "execution_count": null,
   "metadata": {},
   "outputs": [],
   "source": [
    "print(a.pop.__doc__)\n",
    "# alt \"? a.pop\""
   ]
  },
  {
   "cell_type": "code",
   "execution_count": null,
   "metadata": {},
   "outputs": [],
   "source": [
    "? a.pop\n"
   ]
  },
  {
   "cell_type": "code",
   "execution_count": null,
   "metadata": {},
   "outputs": [],
   "source": []
  },
  {
   "cell_type": "markdown",
   "metadata": {},
   "source": [
    "## How to rename a key within a dict?"
   ]
  },
  {
   "cell_type": "code",
   "execution_count": null,
   "metadata": {},
   "outputs": [],
   "source": [
    "# q: how to rename a key within a dict\n",
    "a['Old King'] = a.pop('King')\n",
    "a\n",
    "# Note: changes position :)"
   ]
  },
  {
   "cell_type": "code",
   "execution_count": null,
   "metadata": {},
   "outputs": [],
   "source": [
    "print(dir(a))"
   ]
  },
  {
   "cell_type": "markdown",
   "metadata": {},
   "source": [
    "## How to grab into a dict without being punished when key does not exist?"
   ]
  },
  {
   "cell_type": "code",
   "execution_count": 10,
   "metadata": {},
   "outputs": [
    {
     "data": {
      "text/plain": [
       "\"There isn't one! :/\""
      ]
     },
     "execution_count": 10,
     "metadata": {},
     "output_type": "execute_result"
    }
   ],
   "source": [
    "a.get(\"Queen\", \"There isn't one! :/\")"
   ]
  },
  {
   "cell_type": "markdown",
   "metadata": {
    "slideshow": {
     "slide_type": "slide"
    }
   },
   "source": [
    "# Iteration helpers"
   ]
  },
  {
   "cell_type": "markdown",
   "metadata": {},
   "source": [
    "How would you code a loop that generates out of an iterable \\['A', 'B', 'C' \\]"
   ]
  },
  {
   "cell_type": "code",
   "execution_count": null,
   "metadata": {},
   "outputs": [],
   "source": [
    "a = ['A', 'B', 'C']"
   ]
  },
  {
   "cell_type": "markdown",
   "metadata": {},
   "source": [
    "the following ...."
   ]
  },
  {
   "cell_type": "markdown",
   "metadata": {},
   "source": [
    "## AA, AB, AC, BA, BB, BC, CA, CB, CC"
   ]
  },
  {
   "cell_type": "code",
   "execution_count": null,
   "metadata": {},
   "outputs": [],
   "source": []
  },
  {
   "cell_type": "markdown",
   "metadata": {},
   "source": [
    "### Do it!"
   ]
  },
  {
   "cell_type": "code",
   "execution_count": null,
   "metadata": {},
   "outputs": [],
   "source": [
    "b = []\n",
    "for pos_1, first in enumerate(a):\n",
    "    for pos_2, second in enumerate(a):\n",
    "        if first == second:\n",
    "            continue\n",
    "        if pos_2 < pos_1:\n",
    "            continue\n",
    "        b.append(f\"{first}{second}\")"
   ]
  },
  {
   "cell_type": "markdown",
   "metadata": {},
   "source": [
    "## AB, AC, BC\n",
    "        "
   ]
  },
  {
   "cell_type": "code",
   "execution_count": null,
   "metadata": {},
   "outputs": [],
   "source": []
  },
  {
   "cell_type": "markdown",
   "metadata": {},
   "source": [
    "### Do it!"
   ]
  },
  {
   "cell_type": "code",
   "execution_count": null,
   "metadata": {
    "slideshow": {
     "slide_type": "slide"
    }
   },
   "outputs": [],
   "source": [
    "\n",
    "already_seen = set()\n",
    "for e1 in a:\n",
    "    for e2 in a:\n",
    "        if e1 == e2:\n",
    "            continue\n",
    "        \n",
    "        sorted_tuple = tuple(sorted([e1, e2]))\n",
    "        \n",
    "        if sorted_tuple in already_seen:\n",
    "            continue\n",
    "        \n",
    "        print(e1, e2)\n",
    "        already_seen.add(sorted_tuple)"
   ]
  },
  {
   "cell_type": "code",
   "execution_count": null,
   "metadata": {},
   "outputs": [],
   "source": []
  },
  {
   "cell_type": "markdown",
   "metadata": {
    "slideshow": {
     "slide_type": "subslide"
    }
   },
   "source": [
    "# [itertools](https://docs.python.org/3.7/library/itertools.html)\n",
    "\n",
    "Python iterator helpers for efficient and **readable** looping."
   ]
  },
  {
   "cell_type": "code",
   "execution_count": null,
   "metadata": {},
   "outputs": [],
   "source": [
    "import itertools"
   ]
  },
  {
   "cell_type": "code",
   "execution_count": null,
   "metadata": {},
   "outputs": [],
   "source": [
    "list(itertools.product(a, repeat=2))"
   ]
  },
  {
   "cell_type": "code",
   "execution_count": null,
   "metadata": {},
   "outputs": [],
   "source": [
    "list(itertools.combinations(a, 2))"
   ]
  },
  {
   "cell_type": "code",
   "execution_count": null,
   "metadata": {},
   "outputs": [],
   "source": [
    "# Chain"
   ]
  },
  {
   "cell_type": "code",
   "execution_count": null,
   "metadata": {},
   "outputs": [],
   "source": [
    "iterable_1 = \"ABCDEFGHIJKLMNOPQRSTUVWXYZ\"\n",
    "iterable_2 = [1, 2, 3, 4, 5, 6]\n",
    "iterable_3 = \"ACDEFGHIKLMNPQRSTVWY\""
   ]
  },
  {
   "cell_type": "code",
   "execution_count": null,
   "metadata": {},
   "outputs": [],
   "source": [
    "for x in itertools.chain(iterable_1, iterable_2, iterable_3):\n",
    "    print(x)"
   ]
  },
  {
   "cell_type": "markdown",
   "metadata": {},
   "source": [
    "Advantage: Lists do not need to be duplicated as new concatenated object but iteration is just continued into next iterable! Memory efficient!"
   ]
  },
  {
   "cell_type": "code",
   "execution_count": null,
   "metadata": {},
   "outputs": [],
   "source": [
    "# groupby\n",
    "coffee = [\n",
    "    {\n",
    "        'Species': 'Arabica',\n",
    "        'Country.of.Origin': 'Haiti',\n",
    "        'Color': 'Green',\n",
    "        'Aroma': 7.58\n",
    "    },\n",
    "    {\n",
    "        'Species': 'Arabica',\n",
    "        'Country.of.Origin': 'Colombia',\n",
    "        'Color': 'Bluish-Green',\n",
    "        'Aroma': 7.67\n",
    "    },\n",
    "    {\n",
    "        'Species': 'Arabica',\n",
    "        'Country.of.Origin': 'Brazil',\n",
    "        'Color': 'Green',\n",
    "        'Aroma': 7.25\n",
    "    },\n",
    "    {\n",
    "        'Species': 'Arabica',\n",
    "        'Country.of.Origin': 'Guatemala',\n",
    "        'Color': 'Green',\n",
    "        'Aroma': 7.83\n",
    "    },\n",
    "    {\n",
    "        'Species': 'Arabica',\n",
    "        'Country.of.Origin': 'Brazil',\n",
    "        'Color': 'Green',\n",
    "        'Aroma': 7.58\n",
    "    },\n",
    "    {\n",
    "        'Species': 'Arabica',\n",
    "        'Country.of.Origin': 'Guatemala',\n",
    "        'Color': 'Green',\n",
    "        'Aroma': 7.67\n",
    "    },\n",
    "    {\n",
    "        'Species': 'Arabica',\n",
    "        'Country.of.Origin': 'Guatemala',\n",
    "        'Color': 'Green',\n",
    "        'Aroma': 7.17\n",
    "     }\n",
    " ]\n"
   ]
  },
  {
   "cell_type": "code",
   "execution_count": null,
   "metadata": {},
   "outputs": [],
   "source": [
    "from operator import itemgetter\n",
    "sorted_coffee = sorted(coffee, key=itemgetter(\"Aroma\"))\n",
    "sorted_coffee"
   ]
  },
  {
   "cell_type": "code",
   "execution_count": null,
   "metadata": {},
   "outputs": [],
   "source": [
    "import itertools\n",
    "coffee_key = \"Country.of.Origin\"\n",
    "print(f\"Grouping by {coffee_key}!\")\n",
    "for name, grp in itertools.groupby(sorted(coffee, key=itemgetter(coffee_key)), key=itemgetter(coffee_key)):\n",
    "    print(name)\n",
    "    for _ in grp:\n",
    "        print(_)\n",
    "    print()\n",
    "                                   "
   ]
  },
  {
   "cell_type": "markdown",
   "metadata": {},
   "source": [
    "Note: groupby requires list to be sorted by same key :( For more data wrangling we will use pandas in week 2! :)"
   ]
  },
  {
   "cell_type": "code",
   "execution_count": null,
   "metadata": {},
   "outputs": [],
   "source": []
  }
 ],
 "metadata": {
  "celltoolbar": "Slideshow",
  "interpreter": {
   "hash": "2ade816e66443935280e5e219ac7556cd7d6953df572d910affd836bc1933d6b"
  },
  "kernelspec": {
   "display_name": "Python 3.9.1 64-bit ('.venv': venv)",
   "name": "python3"
  },
  "language_info": {
   "codemirror_mode": {
    "name": "ipython",
    "version": 3
   },
   "file_extension": ".py",
   "mimetype": "text/x-python",
   "name": "python",
   "nbconvert_exporter": "python",
   "pygments_lexer": "ipython3",
   "version": "3.9.1"
  }
 },
 "nbformat": 4,
 "nbformat_minor": 2
}
