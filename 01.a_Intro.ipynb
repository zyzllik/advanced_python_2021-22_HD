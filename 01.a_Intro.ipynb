{
 "cells": [
  {
   "cell_type": "code",
   "execution_count": 6,
   "metadata": {
    "slideshow": {
     "slide_type": "slide"
    }
   },
   "outputs": [
    {
     "data": {
      "text/markdown": [
       "# Advanced Python Course \n",
       "## Mobi Heidelberg WS 2021/22\n",
       "### by Christian Fufezan \n",
       "\n",
       "christian@fufezan.net\n",
       "\n",
       "https://fufezan.net\n",
       "\n",
       "<img src=\"./images/cc.png\" alt=\"drawing\" width=\"200\" style=\"float: left;\"/>\n"
      ],
      "text/plain": [
       "<IPython.core.display.Markdown object>"
      ]
     },
     "metadata": {},
     "output_type": "display_data"
    }
   ],
   "source": [
    "import course;course.header()"
   ]
  },
  {
   "cell_type": "markdown",
   "metadata": {},
   "source": [
    "# About me"
   ]
  },
  {
   "cell_type": "markdown",
   "metadata": {
    "slideshow": {
     "slide_type": "subslide"
    }
   },
   "source": [
    "<img style=\"right\" width=400 src=\"./images/christian_fufezan.jpg\">\n",
    "\n",
    "christian@fufezan.net\n",
    "\n",
    "https://fufezan.net\n",
    "\n",
    "History:\n",
    "* Studied Math & Chemistry to become a teacher - stopped after Zwischenprüfung\n",
    "* Studied Biology with focus on Biochemistry - Diplom\n",
    "* PhD in Biophysics in Paris with strong elements of molecular biology and Biochemistry\n",
    "* PostDoc in New York diving into Structural Bioinformatics - first contacts with Python  \n",
    "* Habilitation in Münster around Reactive oxygen species in Photosynthesis and Computational Mass Spectrometry\n",
    "\n",
    "Current:\n",
    "* Head of Computational Mass Spectrometry Unit @ Cellzome - a GSK Company - Heidelberg\n",
    "* Associate to the Biology Faculty University Heidelberg "
   ]
  },
  {
   "cell_type": "markdown",
   "metadata": {},
   "source": [
    "# Requirements"
   ]
  },
  {
   "cell_type": "markdown",
   "metadata": {
    "slideshow": {
     "slide_type": "slide"
    }
   },
   "source": [
    "* Virtual Studio Code -> [get it here](https://code.visualstudio.com/download)\n",
    "* Github account\n",
    "* Discord"
   ]
  },
  {
   "cell_type": "markdown",
   "metadata": {},
   "source": [
    "# Procedual stuff"
   ]
  },
  {
   "cell_type": "markdown",
   "metadata": {
    "slideshow": {
     "slide_type": "subslide"
    }
   },
   "source": [
    "## Proceedings\n",
    "\n",
    "* Third time I teach this course - first time using VSCode, so don't worry :)\n",
    "* It doesn't matter if we do not manage to get through the material, as long everyone is getting something out of this class\n",
    "* We are going through exercises in the beginning of each day, if needed\n",
    "* <span style=\"color: white;background: #900;\">Part of you grade will be based on your active participation in this course, ie there is an oral grade.</span>\n",
    "* Participation counts not only during the lecture, but also during the exercises - help people, explain solutions to the group.\n",
    "\n",
    "## Exams\n",
    "\n",
    "Basic Python course and Advanced Python course will write their own exams, yet together and both exams should give same opportunities for students to achieve good grades.  \n",
    "\n",
    "I cannot tell you what the material of the exam will be but we will have a Tutorium defining what the exam relevant things are. I will try to teach you as much as I can while not making it for you impossible to memorize everything needed for the exam.\n",
    "\n",
    "<span style=\"color: white;background: red;\">Exam will be on Mi, 9. Febr 2022, 13:30 - 17:00, INF 306, 1.OG, SR 20</span>\n"
   ]
  },
  {
   "cell_type": "markdown",
   "metadata": {},
   "source": [
    "# Set-up"
   ]
  },
  {
   "cell_type": "markdown",
   "metadata": {},
   "source": [
    "Start Visual Studio"
   ]
  },
  {
   "cell_type": "markdown",
   "metadata": {},
   "source": [
    "<img width=\"500\" src=\"./images/VSCode/start_and_clone.png\">"
   ]
  },
  {
   "cell_type": "markdown",
   "metadata": {},
   "source": [
    "You might need to install Python and git!"
   ]
  },
  {
   "cell_type": "markdown",
   "metadata": {},
   "source": [
    "<image width=\"600\" src=\"./images/VSCode/git_install.PNG\">\n",
    "<image width=\"600\" src=\"./images/VSCode/download_git.png\">"
   ]
  },
  {
   "cell_type": "markdown",
   "metadata": {},
   "source": [
    "* go to github and fork my repo \\\n",
    "<span style=\"color: white;background: #33C;\">https://github.com/fufezan-lab/advanced_python_2021-22_HD</span>\n",
    "* Clone your forked Git repository \n",
    "* Select a folder you want to store the repository in\n",
    "* trust the author "
   ]
  },
  {
   "cell_type": "markdown",
   "metadata": {},
   "source": [
    "<img width=\"500\" src=\"./images/VSCode/cloned_empty.png\">"
   ]
  },
  {
   "cell_type": "markdown",
   "metadata": {
    "slideshow": {
     "slide_type": "slide"
    }
   },
   "source": [
    "# Check-in"
   ]
  },
  {
   "cell_type": "markdown",
   "metadata": {
    "slideshow": {
     "slide_type": "-"
    }
   },
   "source": [
    "## Simple Scripts"
   ]
  },
  {
   "cell_type": "markdown",
   "metadata": {},
   "source": [
    "Open VSCode edirot, create a file named *hello_world.py* and paste the following text into it"
   ]
  },
  {
   "cell_type": "code",
   "execution_count": null,
   "metadata": {},
   "outputs": [],
   "source": [
    "#!/usr/bin/env python3\n",
    "print(\"Hellö world!\")"
   ]
  },
  {
   "cell_type": "markdown",
   "metadata": {},
   "source": [
    "<img width=\"700\" src=\"./images/VSCode/first_script.png\">"
   ]
  },
  {
   "cell_type": "markdown",
   "metadata": {},
   "source": [
    "On windows you might need to install Python"
   ]
  },
  {
   "cell_type": "markdown",
   "metadata": {},
   "source": [
    "<image width=\"600\" src=\"./images/VSCode/install_python.png\">\n",
    "<image width=\"600\" src=\"./images/VSCode/install_python2.png\">\n",
    "<image width=\"600\" src=\"./images/VSCode/install_python3.png\">"
   ]
  },
  {
   "cell_type": "markdown",
   "metadata": {},
   "source": [
    "\n",
    "This script can be executed by typing the following your terminal\n",
    "``` bash\n",
    "$ python3 hello_world.py\n",
    "```\n",
    "\n",
    "or by making the script executable and running it as standalone. This requires a Shebang line (line 1) in order to work, so the system knows how to interpret the text file. So\n",
    "``` bash\n",
    "$ chmod +x hello_world.py\n",
    "$ ./hello_world.py\n",
    "```\n",
    "gives the same result :) \n",
    "\n",
    "(ok might be different under windows, but make yourself a favour and dont develop code under windows)"
   ]
  },
  {
   "cell_type": "markdown",
   "metadata": {
    "slideshow": {
     "slide_type": "subslide"
    }
   },
   "source": [
    "## Interpreter"
   ]
  },
  {
   "cell_type": "markdown",
   "metadata": {},
   "source": [
    "One can get into the basic Python interpreter by typing python3 on the command line. There are ways to pimp the regular interpreter, if you use more frequently I would suggest to use ipython. I use the regular interpreter for quick tests, e.g.\n",
    "\n",
    "```bash\n",
    "$ python3 -c \"import math;print(13.37 * math.pi)\"\n",
    "42.00309377849553\n",
    "```"
   ]
  },
  {
   "cell_type": "markdown",
   "metadata": {},
   "source": [
    "# Using virtual envs"
   ]
  },
  {
   "cell_type": "markdown",
   "metadata": {},
   "source": [
    "\n",
    "By default, one uses the \"global\" python interpreter and depending on \\\n",
    "how big your projects are and how many you have, it will be cluttered. \\\n",
    "Additionally, some projects might have conflicting requirements, hence use virutal environments!\n",
    "\n",
    "## Virtual envs inside the project folder\n",
    "\n",
    "### macOS/Linux\n",
    "You may need to run sudo apt-get install python3-venv first\n",
    "\n",
    "` bash\n",
    "python3 -m venv .venv\n",
    "`\n",
    "### Windows\n",
    "You can also use py -3 -m venv .venv\n",
    "\n",
    "` bash\n",
    "python -m venv .venv\n",
    "`"
   ]
  },
  {
   "cell_type": "markdown",
   "metadata": {},
   "source": [
    "You can do that straight in VSCode\\\n",
    "<img width=\"700\" src=\"./images/VSCode/venv.png\">"
   ]
  },
  {
   "cell_type": "markdown",
   "metadata": {},
   "source": [
    "On windows:"
   ]
  },
  {
   "cell_type": "markdown",
   "metadata": {},
   "source": [
    "<image width=\"700\" src=\"./images/VSCode/venv_windows.png\">"
   ]
  },
  {
   "cell_type": "markdown",
   "metadata": {},
   "source": [
    "Don't worry if you didn't click on on yes, restarting VSCode will give you another chance or directly source the activation script.\\\n",
    "\n",
    "``` bash\n",
    "source /Users/fu/dev/_teaching/advanced_python_2021-22_HD/.venv/bin/activate\n",
    "```"
   ]
  },
  {
   "cell_type": "markdown",
   "metadata": {
    "slideshow": {
     "slide_type": "subslide"
    }
   },
   "source": [
    "## Better for servers etc -> virtualenvwrapper\n",
    "\n",
    "as the name suggests, virtualenvwrapper is a wrapper around Ian Bicking’s virtualenv! The wrapper helps to setup new or remove old environments.  \n",
    "\n",
    "A virtual environment is really convientient way of controlling not only the packages that are installed \\\n",
    "and thus are used in a given environment but also allows to have different python version attached to them. \\\n",
    "Additionally, package installation does not require root access but the installation lives in the user space.\n",
    "\n",
    "Please go to the [virtual env wrapper site](https://virtualenvwrapper.readthedocs.io/en/latest/) and follow the installation instruction. \n",
    "\n",
    "Then, cd into a directory you want to use for this course and build a new virtualenv with \n",
    "```bash\n",
    "$ mkvirtualenv -a . advanced_python \n",
    "```\n",
    "\n",
    "optionally add **-p python3.7** if you have multiple version of python installed and python3.7 is not default.\n",
    "\n",
    "to choose your virtualenv and activate it type\n",
    "```bash\n",
    "$ workon advanced_python\n",
    "```\n",
    "and to deactive it type \n",
    "```bash\n",
    "$ deactivate\n",
    "```\n",
    "you can quickly go to the site-packages (where python packages are installed) by typing\n",
    "```bash\n",
    "$ cdsitepackages\n",
    "```"
   ]
  },
  {
   "cell_type": "markdown",
   "metadata": {
    "slideshow": {
     "slide_type": "subslide"
    }
   },
   "source": [
    "# Working with Jupyter"
   ]
  },
  {
   "cell_type": "markdown",
   "metadata": {},
   "source": [
    "\n",
    "## Jupyter\n",
    "Jupyter notebooks (or ipython) offer a good possibility to prototype and test snippets of code. \n",
    "\n",
    "**Con** is however, that depending on the order execution of the jupyter cells confusion and complication can arise. Thus, choose your variable names wiseliy.\n",
    "\n",
    "To install and use Jupyter (best practise to have your project in a virtualenv!):\n",
    "```bash\n",
    "$ pip3 install jupyter\n",
    "$ jupyter notebook\n",
    "```\n",
    "\n",
    "<span style=\"color: red;\">&#8252;</span> Note: one can access the jupyter server also remotely, ie if you run the notebook on a powerful server, \\\n",
    "you can access it from your laptop, if you know the ip address of the server, the token and if the servers \\\n",
    "firewall allows access to the given jupyter port. Token and port are displayed upon jupyter startup. \\\n",
    "Port number might vary depending on the number of jupyter instances running on the machine."
   ]
  },
  {
   "cell_type": "markdown",
   "metadata": {},
   "source": [
    "\n",
    "## Jupyter labs\n",
    "Jupyter labs is the newest product from the jupyter folks and it reached version 1.0 last June so it is a vaiable alternative.\n",
    "\n",
    "To install and use Jupyter labs:\n",
    "``` bash\n",
    "$ pip3 install jupyterlab\n",
    "$ jupyter lab\n",
    "```"
   ]
  },
  {
   "cell_type": "markdown",
   "metadata": {},
   "source": [
    "## VSCode\n",
    "\n",
    "Visual Studio Code has jupyter functionality build in!\n",
    "\n",
    "### Create first jupyter file\n",
    "\n",
    "Create a new file in your repo and call it *playground.ipynb*\n",
    "\n",
    "### Selecting the right venv\n",
    "\n",
    "top right show Python 3.8.5 64bit ('blabla') or similar. CLick on it to select all available venvs"
   ]
  },
  {
   "cell_type": "code",
   "execution_count": null,
   "metadata": {
    "slideshow": {
     "slide_type": "subslide"
    }
   },
   "outputs": [],
   "source": [
    "# some useful magic commands for ipython, jupyter, jupyter labs\n",
    "%ls"
   ]
  },
  {
   "cell_type": "markdown",
   "metadata": {},
   "source": [
    "<img width=\"700\" src=\"./images/VSCode/first_jupyter.png\">"
   ]
  },
  {
   "cell_type": "markdown",
   "metadata": {},
   "source": [
    "Directly install new packages using pip inside Jupyter, alternatively you can use the terminal."
   ]
  },
  {
   "cell_type": "code",
   "execution_count": null,
   "metadata": {
    "slideshow": {
     "slide_type": "subslide"
    }
   },
   "outputs": [],
   "source": [
    "!pip install pandas"
   ]
  },
  {
   "cell_type": "code",
   "execution_count": null,
   "metadata": {
    "slideshow": {
     "slide_type": "subslide"
    }
   },
   "outputs": [],
   "source": [
    "%timeit range(10)"
   ]
  },
  {
   "cell_type": "markdown",
   "metadata": {
    "slideshow": {
     "slide_type": "subslide"
    }
   },
   "source": [
    "more can be found [here](https://ipython.readthedocs.io/en/stable/interactive/magics.html)"
   ]
  }
 ],
 "metadata": {
  "celltoolbar": "Slideshow",
  "interpreter": {
   "hash": "1db61796eef522af4c3bfa7a1992d331ca5efcfc6f3218f7d019c02f1fab5e13"
  },
  "kernelspec": {
   "display_name": "Python 3.7.9 64-bit ('.venv': venv)",
   "name": "python3"
  },
  "language_info": {
   "codemirror_mode": {
    "name": "ipython",
    "version": 3
   },
   "file_extension": ".py",
   "mimetype": "text/x-python",
   "name": "python",
   "nbconvert_exporter": "python",
   "pygments_lexer": "ipython3",
   "version": "3.7.9"
  }
 },
 "nbformat": 4,
 "nbformat_minor": 2
}
