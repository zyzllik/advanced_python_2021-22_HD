{
 "cells": [
  {
   "cell_type": "code",
   "execution_count": null,
   "id": "fatty-phone",
   "metadata": {},
   "outputs": [],
   "source": [
    "import course;course.header()\n",
    "import pandas as pd\n"
   ]
  },
  {
   "cell_type": "markdown",
   "id": "smoking-rebecca",
   "metadata": {},
   "source": [
    "# Retrieve COVID data from ECDC "
   ]
  },
  {
   "cell_type": "code",
   "execution_count": null,
   "id": "oriented-shadow",
   "metadata": {},
   "outputs": [],
   "source": [
    "covid_url = \"https://opendata.ecdc.europa.eu/covid19/casedistribution/json/\"\n",
    "import ssl\n",
    "ssl._create_default_https_context = ssl._create_unverified_context\n",
    "import json\n",
    "import urllib"
   ]
  },
  {
   "cell_type": "code",
   "execution_count": null,
   "id": "informative-average",
   "metadata": {},
   "outputs": [],
   "source": [
    "covid_json_unformated = urllib.request.urlopen(covid_url).read().decode(\"utf-8\")\n",
    "covid_json = json.loads(covid_json_unformated)\n",
    "cdf = pd.DataFrame(covid_json['records'])"
   ]
  },
  {
   "cell_type": "code",
   "execution_count": null,
   "id": "known-martial",
   "metadata": {},
   "outputs": [],
   "source": [
    "cdf.sample(10)"
   ]
  },
  {
   "cell_type": "markdown",
   "id": "angry-labor",
   "metadata": {},
   "source": [
    "Rename columns to something more Pythonian. If you think they look already great, then at least rename `notification_rate_per_100000_population_14-days` to `14d-incidence`"
   ]
  },
  {
   "cell_type": "markdown",
   "id": "intense-prince",
   "metadata": {},
   "source": [
    "Identify which columns have not been casted to an appropriate type during loading!"
   ]
  },
  {
   "cell_type": "markdown",
   "id": "listed-underground",
   "metadata": {},
   "source": [
    "We did not cover datetime objects in pandas, however they are quite powerful!\n",
    "\n",
    "Try:"
   ]
  },
  {
   "cell_type": "code",
   "execution_count": null,
   "id": "corresponding-spread",
   "metadata": {},
   "outputs": [],
   "source": [
    "cdf['date_reported'] = pd.to_datetime(cdf['dateRep'])"
   ]
  },
  {
   "cell_type": "markdown",
   "id": "powerful-filter",
   "metadata": {},
   "source": [
    "Now you can treat the column as a datetime objects using `df[col].dt` , e.g. https://docs.python.org/3/library/datetime.html#datetime.date.year"
   ]
  },
  {
   "cell_type": "code",
   "execution_count": null,
   "id": "scheduled-majority",
   "metadata": {},
   "outputs": [],
   "source": [
    "cdf['date_reported'].dt.day.head()"
   ]
  },
  {
   "cell_type": "markdown",
   "id": "southeast-collection",
   "metadata": {},
   "source": [
    "Create a new column `deltaTime_since_start_of_recording`"
   ]
  },
  {
   "cell_type": "markdown",
   "id": "proprietary-silver",
   "metadata": {},
   "source": [
    "Create histograms for different columns or describe the df. Can you spot the inconsistency in the data? Fix it! :)"
   ]
  },
  {
   "cell_type": "markdown",
   "id": "regulated-harmony",
   "metadata": {},
   "source": [
    "Identify those countries (grouped by continent) which showed the most drastic increase most drastic and decrease of the `14d-incidence` within the different years since recording. Visualize intuitively!"
   ]
  },
  {
   "cell_type": "markdown",
   "id": "injured-asset",
   "metadata": {},
   "source": [
    "Which country showed the highest/lowest fluctuation in `14d-incidence` within a year?"
   ]
  },
  {
   "cell_type": "markdown",
   "id": "nervous-seeker",
   "metadata": {},
   "source": [
    "Create a line plot showing the `14-incidence` for all European countries. Use `groupby` operation to generate the data list for the plotly plot. "
   ]
  },
  {
   "cell_type": "markdown",
   "id": "changing-gasoline",
   "metadata": {},
   "source": [
    "Create a smoothed version of the `14d-incidence` by averaging 3 months."
   ]
  },
  {
   "cell_type": "markdown",
   "id": "neural-olive",
   "metadata": {},
   "source": [
    "Create a radial plot of death rate / 100000 people (see popData2019), where one year completes a circle, i.e. 360˚. Visualize the recored years for Italy, Germany, Sweden and Greece. Hint you might need to turn the dateTime into `day within the year` (%j) and adjust 365 to 360 degrees. "
   ]
  },
  {
   "cell_type": "markdown",
   "id": "technical-vaccine",
   "metadata": {},
   "source": [
    "Optional: Find \"regular\" mortality rates for those countries and visualize it in the plot as well."
   ]
  },
  {
   "cell_type": "code",
   "execution_count": null,
   "id": "significant-marks",
   "metadata": {},
   "outputs": [],
   "source": []
  }
 ],
 "metadata": {
  "kernelspec": {
   "display_name": "Python 3",
   "language": "python",
   "name": "python3"
  },
  "language_info": {
   "codemirror_mode": {
    "name": "ipython",
    "version": 3
   },
   "file_extension": ".py",
   "mimetype": "text/x-python",
   "name": "python",
   "nbconvert_exporter": "python",
   "pygments_lexer": "ipython3",
   "version": "3.8.5"
  }
 },
 "nbformat": 4,
 "nbformat_minor": 5
}
