{
 "cells": [
  {
   "cell_type": "code",
   "execution_count": 25,
   "metadata": {},
   "outputs": [
    {
     "data": {
      "text/plain": [
       "'MDIQMANNFTPPSATPQGNDCDLYAHHSTARIVMPLHYSLVFIIGLVGNLLALVVIVQNRKKINSTTLYSTNLVISDILFTTALPTRIAYYAMGFDWRIGDALCRITALVFYINTYAGVNFMTCLSIDRFIAVVHPLRYNKIKRIEHAKGVCIFVWILVFAQTLPLLINPMSKQEAERITCMEYPNFEETKSLPWILLGACFIGYVLPLIIILICYSQICCKLFRTAKQNPLTEKSGVNKKALNTIILIIVVFVLCFTPYHVAIIQHMIKKLRFSNFLECSQRHSFQISLHFTVCLMNFNCCMDPFIYFFACKGYKRKVMRMLKRQVSVSISSAVKSAPEENSREMTETQMMIHSKSSNGK'"
      ]
     },
     "execution_count": 25,
     "metadata": {},
     "output_type": "execute_result"
    }
   ],
   "source": [
    "protein_s = ''\n",
    "with open ('gprot.fasta', 'r') as f:\n",
    "    next(f)\n",
    "    for line in f:\n",
    "            line = line.strip()\n",
    "            protein_s += line\n",
    "protein_s\n",
    "            \n"
   ]
  },
  {
   "cell_type": "code",
   "execution_count": 2,
   "metadata": {},
   "outputs": [
    {
     "data": {
      "text/html": [
       "<div>\n",
       "<style scoped>\n",
       "    .dataframe tbody tr th:only-of-type {\n",
       "        vertical-align: middle;\n",
       "    }\n",
       "\n",
       "    .dataframe tbody tr th {\n",
       "        vertical-align: top;\n",
       "    }\n",
       "\n",
       "    .dataframe thead th {\n",
       "        text-align: right;\n",
       "    }\n",
       "</style>\n",
       "<table border=\"1\" class=\"dataframe\">\n",
       "  <thead>\n",
       "    <tr style=\"text-align: right;\">\n",
       "      <th></th>\n",
       "      <th>Name</th>\n",
       "      <th>3-letter code</th>\n",
       "      <th>Molecular Weight</th>\n",
       "      <th>Molecular Formula</th>\n",
       "      <th>Residue Formula</th>\n",
       "      <th>Residue Weight</th>\n",
       "      <th>pka1</th>\n",
       "      <th>pka2</th>\n",
       "      <th>pkaX</th>\n",
       "      <th>pI</th>\n",
       "      <th>hydropathy</th>\n",
       "      <th>Accessible surface</th>\n",
       "      <th>hp_type</th>\n",
       "      <th>hp_color</th>\n",
       "      <th>pk-state</th>\n",
       "    </tr>\n",
       "    <tr>\n",
       "      <th>1-letter code</th>\n",
       "      <th></th>\n",
       "      <th></th>\n",
       "      <th></th>\n",
       "      <th></th>\n",
       "      <th></th>\n",
       "      <th></th>\n",
       "      <th></th>\n",
       "      <th></th>\n",
       "      <th></th>\n",
       "      <th></th>\n",
       "      <th></th>\n",
       "      <th></th>\n",
       "      <th></th>\n",
       "      <th></th>\n",
       "      <th></th>\n",
       "    </tr>\n",
       "  </thead>\n",
       "  <tbody>\n",
       "    <tr>\n",
       "      <th>A</th>\n",
       "      <td>Alanine</td>\n",
       "      <td>Ala</td>\n",
       "      <td>89.10</td>\n",
       "      <td>C3H7NO2</td>\n",
       "      <td>C3H5NO</td>\n",
       "      <td>71.08</td>\n",
       "      <td>2.34</td>\n",
       "      <td>9.69</td>\n",
       "      <td>NaN</td>\n",
       "      <td>6.00</td>\n",
       "      <td>1.8</td>\n",
       "      <td>44.1</td>\n",
       "      <td>neutral</td>\n",
       "      <td>green</td>\n",
       "      <td>neutral</td>\n",
       "    </tr>\n",
       "    <tr>\n",
       "      <th>R</th>\n",
       "      <td>Arginine</td>\n",
       "      <td>Arg</td>\n",
       "      <td>174.20</td>\n",
       "      <td>C6H14N4O2</td>\n",
       "      <td>C6H12N4O</td>\n",
       "      <td>156.19</td>\n",
       "      <td>2.17</td>\n",
       "      <td>9.04</td>\n",
       "      <td>12.48</td>\n",
       "      <td>10.76</td>\n",
       "      <td>-4.5</td>\n",
       "      <td>159.2</td>\n",
       "      <td>hydrophilic</td>\n",
       "      <td>blue</td>\n",
       "      <td>alkine</td>\n",
       "    </tr>\n",
       "    <tr>\n",
       "      <th>N</th>\n",
       "      <td>Asparagine</td>\n",
       "      <td>Asn</td>\n",
       "      <td>132.12</td>\n",
       "      <td>C4H8N2O3</td>\n",
       "      <td>C4H6N2O2</td>\n",
       "      <td>114.11</td>\n",
       "      <td>2.02</td>\n",
       "      <td>8.80</td>\n",
       "      <td>NaN</td>\n",
       "      <td>5.41</td>\n",
       "      <td>-3.5</td>\n",
       "      <td>80.8</td>\n",
       "      <td>hydrophilic</td>\n",
       "      <td>blue</td>\n",
       "      <td>neutral</td>\n",
       "    </tr>\n",
       "    <tr>\n",
       "      <th>D</th>\n",
       "      <td>Aspartic acid</td>\n",
       "      <td>Asp</td>\n",
       "      <td>133.11</td>\n",
       "      <td>C4H7NO4</td>\n",
       "      <td>C4H5NO3</td>\n",
       "      <td>115.09</td>\n",
       "      <td>1.88</td>\n",
       "      <td>9.60</td>\n",
       "      <td>3.65</td>\n",
       "      <td>2.77</td>\n",
       "      <td>-3.5</td>\n",
       "      <td>76.3</td>\n",
       "      <td>hydrophilic</td>\n",
       "      <td>blue</td>\n",
       "      <td>acidic</td>\n",
       "    </tr>\n",
       "    <tr>\n",
       "      <th>C</th>\n",
       "      <td>Cysteine</td>\n",
       "      <td>Cys</td>\n",
       "      <td>121.16</td>\n",
       "      <td>C3H7NO2S</td>\n",
       "      <td>C3H5NOS</td>\n",
       "      <td>103.15</td>\n",
       "      <td>1.96</td>\n",
       "      <td>10.28</td>\n",
       "      <td>8.18</td>\n",
       "      <td>5.07</td>\n",
       "      <td>2.5</td>\n",
       "      <td>56.4</td>\n",
       "      <td>hydrophobic</td>\n",
       "      <td>grey</td>\n",
       "      <td>alkine</td>\n",
       "    </tr>\n",
       "    <tr>\n",
       "      <th>E</th>\n",
       "      <td>Glutamic acid</td>\n",
       "      <td>Glu</td>\n",
       "      <td>147.13</td>\n",
       "      <td>C5H9NO4</td>\n",
       "      <td>C5H7NO3</td>\n",
       "      <td>129.12</td>\n",
       "      <td>2.19</td>\n",
       "      <td>9.67</td>\n",
       "      <td>4.25</td>\n",
       "      <td>3.22</td>\n",
       "      <td>-3.5</td>\n",
       "      <td>99.2</td>\n",
       "      <td>hydrophilic</td>\n",
       "      <td>blue</td>\n",
       "      <td>acidic</td>\n",
       "    </tr>\n",
       "    <tr>\n",
       "      <th>Q</th>\n",
       "      <td>Glutamine</td>\n",
       "      <td>Gln</td>\n",
       "      <td>146.15</td>\n",
       "      <td>C5H10N2O3</td>\n",
       "      <td>C5H8N2O2</td>\n",
       "      <td>128.13</td>\n",
       "      <td>2.17</td>\n",
       "      <td>9.13</td>\n",
       "      <td>NaN</td>\n",
       "      <td>5.65</td>\n",
       "      <td>-3.5</td>\n",
       "      <td>100.6</td>\n",
       "      <td>hydrophilic</td>\n",
       "      <td>blue</td>\n",
       "      <td>neutral</td>\n",
       "    </tr>\n",
       "    <tr>\n",
       "      <th>G</th>\n",
       "      <td>Glycine</td>\n",
       "      <td>Gly</td>\n",
       "      <td>75.07</td>\n",
       "      <td>C2H5NO2</td>\n",
       "      <td>C2H3NO</td>\n",
       "      <td>57.05</td>\n",
       "      <td>2.34</td>\n",
       "      <td>9.60</td>\n",
       "      <td>NaN</td>\n",
       "      <td>5.97</td>\n",
       "      <td>-0.4</td>\n",
       "      <td>0.0</td>\n",
       "      <td>neutral</td>\n",
       "      <td>green</td>\n",
       "      <td>neutral</td>\n",
       "    </tr>\n",
       "    <tr>\n",
       "      <th>H</th>\n",
       "      <td>Histidine</td>\n",
       "      <td>His</td>\n",
       "      <td>155.16</td>\n",
       "      <td>C6H9N3O2</td>\n",
       "      <td>C6H7N3O</td>\n",
       "      <td>137.14</td>\n",
       "      <td>1.82</td>\n",
       "      <td>9.17</td>\n",
       "      <td>6.00</td>\n",
       "      <td>7.59</td>\n",
       "      <td>-3.2</td>\n",
       "      <td>98.2</td>\n",
       "      <td>hydrophilic</td>\n",
       "      <td>blue</td>\n",
       "      <td>neutral</td>\n",
       "    </tr>\n",
       "    <tr>\n",
       "      <th>I</th>\n",
       "      <td>Isoleucine</td>\n",
       "      <td>Ile</td>\n",
       "      <td>131.18</td>\n",
       "      <td>C6H13NO2</td>\n",
       "      <td>C6H11NO</td>\n",
       "      <td>113.16</td>\n",
       "      <td>2.36</td>\n",
       "      <td>9.60</td>\n",
       "      <td>NaN</td>\n",
       "      <td>6.02</td>\n",
       "      <td>4.5</td>\n",
       "      <td>90.9</td>\n",
       "      <td>hydrophobic</td>\n",
       "      <td>grey</td>\n",
       "      <td>neutral</td>\n",
       "    </tr>\n",
       "    <tr>\n",
       "      <th>L</th>\n",
       "      <td>Leucine</td>\n",
       "      <td>Leu</td>\n",
       "      <td>131.18</td>\n",
       "      <td>C6H13NO2</td>\n",
       "      <td>C6H11NO</td>\n",
       "      <td>113.16</td>\n",
       "      <td>2.36</td>\n",
       "      <td>9.60</td>\n",
       "      <td>NaN</td>\n",
       "      <td>5.98</td>\n",
       "      <td>3.8</td>\n",
       "      <td>92.8</td>\n",
       "      <td>hydrophobic</td>\n",
       "      <td>grey</td>\n",
       "      <td>neutral</td>\n",
       "    </tr>\n",
       "    <tr>\n",
       "      <th>K</th>\n",
       "      <td>Lysine</td>\n",
       "      <td>Lys</td>\n",
       "      <td>146.19</td>\n",
       "      <td>C6H14N2O2</td>\n",
       "      <td>C6H12N2O</td>\n",
       "      <td>128.18</td>\n",
       "      <td>2.18</td>\n",
       "      <td>8.95</td>\n",
       "      <td>10.53</td>\n",
       "      <td>9.74</td>\n",
       "      <td>-3.9</td>\n",
       "      <td>139.1</td>\n",
       "      <td>hydrophilic</td>\n",
       "      <td>blue</td>\n",
       "      <td>alkine</td>\n",
       "    </tr>\n",
       "    <tr>\n",
       "      <th>M</th>\n",
       "      <td>Methionine</td>\n",
       "      <td>Met</td>\n",
       "      <td>149.21</td>\n",
       "      <td>C5H11NO2S</td>\n",
       "      <td>C5H9NOS</td>\n",
       "      <td>131.20</td>\n",
       "      <td>2.28</td>\n",
       "      <td>9.21</td>\n",
       "      <td>NaN</td>\n",
       "      <td>5.74</td>\n",
       "      <td>1.9</td>\n",
       "      <td>95.3</td>\n",
       "      <td>neutral</td>\n",
       "      <td>green</td>\n",
       "      <td>neutral</td>\n",
       "    </tr>\n",
       "    <tr>\n",
       "      <th>F</th>\n",
       "      <td>Phenylalanine</td>\n",
       "      <td>Phe</td>\n",
       "      <td>165.19</td>\n",
       "      <td>C9H11NO2</td>\n",
       "      <td>C9H9NO</td>\n",
       "      <td>147.18</td>\n",
       "      <td>1.83</td>\n",
       "      <td>9.13</td>\n",
       "      <td>NaN</td>\n",
       "      <td>5.48</td>\n",
       "      <td>2.8</td>\n",
       "      <td>107.4</td>\n",
       "      <td>hydrophobic</td>\n",
       "      <td>grey</td>\n",
       "      <td>neutral</td>\n",
       "    </tr>\n",
       "    <tr>\n",
       "      <th>P</th>\n",
       "      <td>Proline</td>\n",
       "      <td>Pro</td>\n",
       "      <td>115.13</td>\n",
       "      <td>C5H9NO2</td>\n",
       "      <td>C5H7NO</td>\n",
       "      <td>97.12</td>\n",
       "      <td>1.99</td>\n",
       "      <td>10.60</td>\n",
       "      <td>NaN</td>\n",
       "      <td>6.30</td>\n",
       "      <td>-1.6</td>\n",
       "      <td>79.5</td>\n",
       "      <td>neutral</td>\n",
       "      <td>green</td>\n",
       "      <td>neutral</td>\n",
       "    </tr>\n",
       "    <tr>\n",
       "      <th>S</th>\n",
       "      <td>Serine</td>\n",
       "      <td>Ser</td>\n",
       "      <td>105.09</td>\n",
       "      <td>C3H7NO3</td>\n",
       "      <td>C3H5NO2</td>\n",
       "      <td>87.08</td>\n",
       "      <td>2.21</td>\n",
       "      <td>9.15</td>\n",
       "      <td>NaN</td>\n",
       "      <td>5.68</td>\n",
       "      <td>-0.8</td>\n",
       "      <td>57.5</td>\n",
       "      <td>neutral</td>\n",
       "      <td>green</td>\n",
       "      <td>neutral</td>\n",
       "    </tr>\n",
       "    <tr>\n",
       "      <th>T</th>\n",
       "      <td>Threonine</td>\n",
       "      <td>Thr</td>\n",
       "      <td>119.12</td>\n",
       "      <td>C4H9NO3</td>\n",
       "      <td>C4H7NO2</td>\n",
       "      <td>101.11</td>\n",
       "      <td>2.09</td>\n",
       "      <td>9.10</td>\n",
       "      <td>NaN</td>\n",
       "      <td>5.60</td>\n",
       "      <td>-0.7</td>\n",
       "      <td>73.4</td>\n",
       "      <td>neutral</td>\n",
       "      <td>green</td>\n",
       "      <td>neutral</td>\n",
       "    </tr>\n",
       "    <tr>\n",
       "      <th>W</th>\n",
       "      <td>Tryptophan</td>\n",
       "      <td>Trp</td>\n",
       "      <td>204.23</td>\n",
       "      <td>C11H12N2O2</td>\n",
       "      <td>C11H10N2O</td>\n",
       "      <td>186.22</td>\n",
       "      <td>2.83</td>\n",
       "      <td>9.39</td>\n",
       "      <td>NaN</td>\n",
       "      <td>5.89</td>\n",
       "      <td>-0.9</td>\n",
       "      <td>143.4</td>\n",
       "      <td>neutral</td>\n",
       "      <td>green</td>\n",
       "      <td>neutral</td>\n",
       "    </tr>\n",
       "    <tr>\n",
       "      <th>Y</th>\n",
       "      <td>Tyrosine</td>\n",
       "      <td>Tyr</td>\n",
       "      <td>181.19</td>\n",
       "      <td>C9H11NO3</td>\n",
       "      <td>C9H9NO2</td>\n",
       "      <td>163.18</td>\n",
       "      <td>2.20</td>\n",
       "      <td>9.11</td>\n",
       "      <td>10.07</td>\n",
       "      <td>5.66</td>\n",
       "      <td>-1.3</td>\n",
       "      <td>119.1</td>\n",
       "      <td>neutral</td>\n",
       "      <td>green</td>\n",
       "      <td>alkine</td>\n",
       "    </tr>\n",
       "    <tr>\n",
       "      <th>V</th>\n",
       "      <td>Valine</td>\n",
       "      <td>Val</td>\n",
       "      <td>117.15</td>\n",
       "      <td>C5H11NO2</td>\n",
       "      <td>C5H9NO</td>\n",
       "      <td>99.13</td>\n",
       "      <td>2.32</td>\n",
       "      <td>9.62</td>\n",
       "      <td>NaN</td>\n",
       "      <td>5.96</td>\n",
       "      <td>4.2</td>\n",
       "      <td>73.0</td>\n",
       "      <td>hydrophobic</td>\n",
       "      <td>grey</td>\n",
       "      <td>neutral</td>\n",
       "    </tr>\n",
       "  </tbody>\n",
       "</table>\n",
       "</div>"
      ],
      "text/plain": [
       "                        Name 3-letter code  Molecular Weight  \\\n",
       "1-letter code                                                  \n",
       "A                    Alanine           Ala             89.10   \n",
       "R                   Arginine           Arg            174.20   \n",
       "N                 Asparagine           Asn            132.12   \n",
       "D              Aspartic acid           Asp            133.11   \n",
       "C                   Cysteine           Cys            121.16   \n",
       "E              Glutamic acid           Glu            147.13   \n",
       "Q                  Glutamine           Gln            146.15   \n",
       "G                    Glycine           Gly             75.07   \n",
       "H                  Histidine           His            155.16   \n",
       "I                 Isoleucine           Ile            131.18   \n",
       "L                    Leucine           Leu            131.18   \n",
       "K                     Lysine           Lys            146.19   \n",
       "M                 Methionine           Met            149.21   \n",
       "F              Phenylalanine           Phe            165.19   \n",
       "P                    Proline           Pro            115.13   \n",
       "S                     Serine           Ser            105.09   \n",
       "T                  Threonine           Thr            119.12   \n",
       "W                 Tryptophan           Trp            204.23   \n",
       "Y                   Tyrosine           Tyr            181.19   \n",
       "V                     Valine           Val            117.15   \n",
       "\n",
       "              Molecular Formula Residue Formula  Residue Weight  pka1   pka2  \\\n",
       "1-letter code                                                                  \n",
       "A                       C3H7NO2          C3H5NO           71.08  2.34   9.69   \n",
       "R                     C6H14N4O2        C6H12N4O          156.19  2.17   9.04   \n",
       "N                      C4H8N2O3        C4H6N2O2          114.11  2.02   8.80   \n",
       "D                       C4H7NO4         C4H5NO3          115.09  1.88   9.60   \n",
       "C                      C3H7NO2S         C3H5NOS          103.15  1.96  10.28   \n",
       "E                       C5H9NO4         C5H7NO3          129.12  2.19   9.67   \n",
       "Q                     C5H10N2O3        C5H8N2O2          128.13  2.17   9.13   \n",
       "G                       C2H5NO2          C2H3NO           57.05  2.34   9.60   \n",
       "H                      C6H9N3O2         C6H7N3O          137.14  1.82   9.17   \n",
       "I                      C6H13NO2         C6H11NO          113.16  2.36   9.60   \n",
       "L                      C6H13NO2         C6H11NO          113.16  2.36   9.60   \n",
       "K                     C6H14N2O2        C6H12N2O          128.18  2.18   8.95   \n",
       "M                     C5H11NO2S         C5H9NOS          131.20  2.28   9.21   \n",
       "F                      C9H11NO2          C9H9NO          147.18  1.83   9.13   \n",
       "P                       C5H9NO2          C5H7NO           97.12  1.99  10.60   \n",
       "S                       C3H7NO3         C3H5NO2           87.08  2.21   9.15   \n",
       "T                       C4H9NO3         C4H7NO2          101.11  2.09   9.10   \n",
       "W                    C11H12N2O2       C11H10N2O          186.22  2.83   9.39   \n",
       "Y                      C9H11NO3         C9H9NO2          163.18  2.20   9.11   \n",
       "V                      C5H11NO2          C5H9NO           99.13  2.32   9.62   \n",
       "\n",
       "                pkaX     pI  hydropathy  Accessible surface      hp_type  \\\n",
       "1-letter code                                                              \n",
       "A                NaN   6.00         1.8                44.1      neutral   \n",
       "R              12.48  10.76        -4.5               159.2  hydrophilic   \n",
       "N                NaN   5.41        -3.5                80.8  hydrophilic   \n",
       "D               3.65   2.77        -3.5                76.3  hydrophilic   \n",
       "C               8.18   5.07         2.5                56.4  hydrophobic   \n",
       "E               4.25   3.22        -3.5                99.2  hydrophilic   \n",
       "Q                NaN   5.65        -3.5               100.6  hydrophilic   \n",
       "G                NaN   5.97        -0.4                 0.0      neutral   \n",
       "H               6.00   7.59        -3.2                98.2  hydrophilic   \n",
       "I                NaN   6.02         4.5                90.9  hydrophobic   \n",
       "L                NaN   5.98         3.8                92.8  hydrophobic   \n",
       "K              10.53   9.74        -3.9               139.1  hydrophilic   \n",
       "M                NaN   5.74         1.9                95.3      neutral   \n",
       "F                NaN   5.48         2.8               107.4  hydrophobic   \n",
       "P                NaN   6.30        -1.6                79.5      neutral   \n",
       "S                NaN   5.68        -0.8                57.5      neutral   \n",
       "T                NaN   5.60        -0.7                73.4      neutral   \n",
       "W                NaN   5.89        -0.9               143.4      neutral   \n",
       "Y              10.07   5.66        -1.3               119.1      neutral   \n",
       "V                NaN   5.96         4.2                73.0  hydrophobic   \n",
       "\n",
       "              hp_color pk-state  \n",
       "1-letter code                    \n",
       "A                green  neutral  \n",
       "R                 blue   alkine  \n",
       "N                 blue  neutral  \n",
       "D                 blue   acidic  \n",
       "C                 grey   alkine  \n",
       "E                 blue   acidic  \n",
       "Q                 blue  neutral  \n",
       "G                green  neutral  \n",
       "H                 blue  neutral  \n",
       "I                 grey  neutral  \n",
       "L                 grey  neutral  \n",
       "K                 blue   alkine  \n",
       "M                green  neutral  \n",
       "F                 grey  neutral  \n",
       "P                green  neutral  \n",
       "S                green  neutral  \n",
       "T                green  neutral  \n",
       "W                green  neutral  \n",
       "Y                green   alkine  \n",
       "V                 grey  neutral  "
      ]
     },
     "execution_count": 2,
     "metadata": {},
     "output_type": "execute_result"
    }
   ],
   "source": [
    "import pandas as pd\n",
    "aa_properties = pd.read_csv(\"../../data/amino_acid_properties.csv\")\n",
    "aa_properties = aa_properties.rename(columns ={'hydropathy index (Kyte-Doolittle method)': 'hydropathy'})\n",
    "aa_properties = aa_properties.set_index('1-letter code')\n",
    "metrics = aa_properties.to_dict('dict')\n",
    "aa_properties\n"
   ]
  },
  {
   "cell_type": "code",
   "execution_count": 3,
   "metadata": {},
   "outputs": [],
   "source": [
    "test = [1,2,3,4]\n",
    "test2 = [3,4,1,2]"
   ]
  },
  {
   "cell_type": "code",
   "execution_count": 4,
   "metadata": {},
   "outputs": [
    {
     "data": {
      "text/plain": [
       "{'Name': {'A': 'Alanine',\n",
       "  'R': 'Arginine',\n",
       "  'N': 'Asparagine',\n",
       "  'D': 'Aspartic acid',\n",
       "  'C': 'Cysteine',\n",
       "  'E': 'Glutamic acid',\n",
       "  'Q': 'Glutamine',\n",
       "  'G': 'Glycine',\n",
       "  'H': 'Histidine',\n",
       "  'I': 'Isoleucine',\n",
       "  'L': 'Leucine',\n",
       "  'K': 'Lysine',\n",
       "  'M': 'Methionine',\n",
       "  'F': 'Phenylalanine',\n",
       "  'P': 'Proline',\n",
       "  'S': 'Serine',\n",
       "  'T': 'Threonine',\n",
       "  'W': 'Tryptophan',\n",
       "  'Y': 'Tyrosine',\n",
       "  'V': 'Valine'},\n",
       " '3-letter code': {'A': 'Ala',\n",
       "  'R': 'Arg',\n",
       "  'N': 'Asn',\n",
       "  'D': 'Asp',\n",
       "  'C': 'Cys',\n",
       "  'E': 'Glu',\n",
       "  'Q': 'Gln',\n",
       "  'G': 'Gly',\n",
       "  'H': 'His',\n",
       "  'I': 'Ile',\n",
       "  'L': 'Leu',\n",
       "  'K': 'Lys',\n",
       "  'M': 'Met',\n",
       "  'F': 'Phe',\n",
       "  'P': 'Pro',\n",
       "  'S': 'Ser',\n",
       "  'T': 'Thr',\n",
       "  'W': 'Trp',\n",
       "  'Y': 'Tyr',\n",
       "  'V': 'Val'},\n",
       " 'Molecular Weight': {'A': 89.1,\n",
       "  'R': 174.2,\n",
       "  'N': 132.12,\n",
       "  'D': 133.11,\n",
       "  'C': 121.16,\n",
       "  'E': 147.13,\n",
       "  'Q': 146.15,\n",
       "  'G': 75.07,\n",
       "  'H': 155.16,\n",
       "  'I': 131.18,\n",
       "  'L': 131.18,\n",
       "  'K': 146.19,\n",
       "  'M': 149.21,\n",
       "  'F': 165.19,\n",
       "  'P': 115.13,\n",
       "  'S': 105.09,\n",
       "  'T': 119.12,\n",
       "  'W': 204.23,\n",
       "  'Y': 181.19,\n",
       "  'V': 117.15},\n",
       " 'Molecular Formula': {'A': 'C3H7NO2',\n",
       "  'R': 'C6H14N4O2',\n",
       "  'N': 'C4H8N2O3',\n",
       "  'D': 'C4H7NO4',\n",
       "  'C': 'C3H7NO2S',\n",
       "  'E': 'C5H9NO4',\n",
       "  'Q': 'C5H10N2O3',\n",
       "  'G': 'C2H5NO2',\n",
       "  'H': 'C6H9N3O2',\n",
       "  'I': 'C6H13NO2',\n",
       "  'L': 'C6H13NO2',\n",
       "  'K': 'C6H14N2O2',\n",
       "  'M': 'C5H11NO2S',\n",
       "  'F': 'C9H11NO2',\n",
       "  'P': 'C5H9NO2',\n",
       "  'S': 'C3H7NO3',\n",
       "  'T': 'C4H9NO3',\n",
       "  'W': 'C11H12N2O2',\n",
       "  'Y': 'C9H11NO3',\n",
       "  'V': 'C5H11NO2'},\n",
       " 'Residue Formula': {'A': 'C3H5NO',\n",
       "  'R': 'C6H12N4O',\n",
       "  'N': 'C4H6N2O2',\n",
       "  'D': 'C4H5NO3',\n",
       "  'C': 'C3H5NOS',\n",
       "  'E': 'C5H7NO3',\n",
       "  'Q': 'C5H8N2O2',\n",
       "  'G': 'C2H3NO',\n",
       "  'H': 'C6H7N3O',\n",
       "  'I': 'C6H11NO',\n",
       "  'L': 'C6H11NO',\n",
       "  'K': 'C6H12N2O',\n",
       "  'M': 'C5H9NOS',\n",
       "  'F': 'C9H9NO',\n",
       "  'P': 'C5H7NO',\n",
       "  'S': 'C3H5NO2',\n",
       "  'T': 'C4H7NO2',\n",
       "  'W': 'C11H10N2O',\n",
       "  'Y': 'C9H9NO2',\n",
       "  'V': 'C5H9NO'},\n",
       " 'Residue Weight': {'A': 71.08,\n",
       "  'R': 156.19,\n",
       "  'N': 114.11,\n",
       "  'D': 115.09,\n",
       "  'C': 103.15,\n",
       "  'E': 129.12,\n",
       "  'Q': 128.13,\n",
       "  'G': 57.05,\n",
       "  'H': 137.14,\n",
       "  'I': 113.16,\n",
       "  'L': 113.16,\n",
       "  'K': 128.18,\n",
       "  'M': 131.2,\n",
       "  'F': 147.18,\n",
       "  'P': 97.12,\n",
       "  'S': 87.08,\n",
       "  'T': 101.11,\n",
       "  'W': 186.22,\n",
       "  'Y': 163.18,\n",
       "  'V': 99.13},\n",
       " 'pka1': {'A': 2.34,\n",
       "  'R': 2.17,\n",
       "  'N': 2.02,\n",
       "  'D': 1.88,\n",
       "  'C': 1.96,\n",
       "  'E': 2.19,\n",
       "  'Q': 2.17,\n",
       "  'G': 2.34,\n",
       "  'H': 1.82,\n",
       "  'I': 2.36,\n",
       "  'L': 2.36,\n",
       "  'K': 2.18,\n",
       "  'M': 2.28,\n",
       "  'F': 1.83,\n",
       "  'P': 1.99,\n",
       "  'S': 2.21,\n",
       "  'T': 2.09,\n",
       "  'W': 2.83,\n",
       "  'Y': 2.2,\n",
       "  'V': 2.32},\n",
       " 'pka2': {'A': 9.69,\n",
       "  'R': 9.04,\n",
       "  'N': 8.8,\n",
       "  'D': 9.6,\n",
       "  'C': 10.28,\n",
       "  'E': 9.67,\n",
       "  'Q': 9.13,\n",
       "  'G': 9.6,\n",
       "  'H': 9.17,\n",
       "  'I': 9.6,\n",
       "  'L': 9.6,\n",
       "  'K': 8.95,\n",
       "  'M': 9.21,\n",
       "  'F': 9.13,\n",
       "  'P': 10.6,\n",
       "  'S': 9.15,\n",
       "  'T': 9.1,\n",
       "  'W': 9.39,\n",
       "  'Y': 9.11,\n",
       "  'V': 9.62},\n",
       " 'pkaX': {'A': nan,\n",
       "  'R': 12.48,\n",
       "  'N': nan,\n",
       "  'D': 3.65,\n",
       "  'C': 8.18,\n",
       "  'E': 4.25,\n",
       "  'Q': nan,\n",
       "  'G': nan,\n",
       "  'H': 6.0,\n",
       "  'I': nan,\n",
       "  'L': nan,\n",
       "  'K': 10.53,\n",
       "  'M': nan,\n",
       "  'F': nan,\n",
       "  'P': nan,\n",
       "  'S': nan,\n",
       "  'T': nan,\n",
       "  'W': nan,\n",
       "  'Y': 10.07,\n",
       "  'V': nan},\n",
       " 'pI': {'A': 6.0,\n",
       "  'R': 10.76,\n",
       "  'N': 5.41,\n",
       "  'D': 2.77,\n",
       "  'C': 5.07,\n",
       "  'E': 3.22,\n",
       "  'Q': 5.65,\n",
       "  'G': 5.97,\n",
       "  'H': 7.59,\n",
       "  'I': 6.02,\n",
       "  'L': 5.98,\n",
       "  'K': 9.74,\n",
       "  'M': 5.74,\n",
       "  'F': 5.48,\n",
       "  'P': 6.3,\n",
       "  'S': 5.68,\n",
       "  'T': 5.6,\n",
       "  'W': 5.89,\n",
       "  'Y': 5.66,\n",
       "  'V': 5.96},\n",
       " 'hydropathy': {'A': 1.8,\n",
       "  'R': -4.5,\n",
       "  'N': -3.5,\n",
       "  'D': -3.5,\n",
       "  'C': 2.5,\n",
       "  'E': -3.5,\n",
       "  'Q': -3.5,\n",
       "  'G': -0.4,\n",
       "  'H': -3.2,\n",
       "  'I': 4.5,\n",
       "  'L': 3.8,\n",
       "  'K': -3.9,\n",
       "  'M': 1.9,\n",
       "  'F': 2.8,\n",
       "  'P': -1.6,\n",
       "  'S': -0.8,\n",
       "  'T': -0.7,\n",
       "  'W': -0.9,\n",
       "  'Y': -1.3,\n",
       "  'V': 4.2},\n",
       " 'Accessible surface': {'A': 44.1,\n",
       "  'R': 159.2,\n",
       "  'N': 80.8,\n",
       "  'D': 76.3,\n",
       "  'C': 56.4,\n",
       "  'E': 99.2,\n",
       "  'Q': 100.6,\n",
       "  'G': 0.0,\n",
       "  'H': 98.2,\n",
       "  'I': 90.9,\n",
       "  'L': 92.8,\n",
       "  'K': 139.1,\n",
       "  'M': 95.3,\n",
       "  'F': 107.4,\n",
       "  'P': 79.5,\n",
       "  'S': 57.5,\n",
       "  'T': 73.4,\n",
       "  'W': 143.4,\n",
       "  'Y': 119.1,\n",
       "  'V': 73.0},\n",
       " 'hp_type': {'A': 'neutral',\n",
       "  'R': 'hydrophilic',\n",
       "  'N': 'hydrophilic',\n",
       "  'D': 'hydrophilic',\n",
       "  'C': 'hydrophobic',\n",
       "  'E': 'hydrophilic',\n",
       "  'Q': 'hydrophilic',\n",
       "  'G': 'neutral',\n",
       "  'H': 'hydrophilic',\n",
       "  'I': 'hydrophobic',\n",
       "  'L': 'hydrophobic',\n",
       "  'K': 'hydrophilic',\n",
       "  'M': 'neutral',\n",
       "  'F': 'hydrophobic',\n",
       "  'P': 'neutral',\n",
       "  'S': 'neutral',\n",
       "  'T': 'neutral',\n",
       "  'W': 'neutral',\n",
       "  'Y': 'neutral',\n",
       "  'V': 'hydrophobic'},\n",
       " 'hp_color': {'A': 'green',\n",
       "  'R': 'blue',\n",
       "  'N': 'blue',\n",
       "  'D': 'blue',\n",
       "  'C': 'grey',\n",
       "  'E': 'blue',\n",
       "  'Q': 'blue',\n",
       "  'G': 'green',\n",
       "  'H': 'blue',\n",
       "  'I': 'grey',\n",
       "  'L': 'grey',\n",
       "  'K': 'blue',\n",
       "  'M': 'green',\n",
       "  'F': 'grey',\n",
       "  'P': 'green',\n",
       "  'S': 'green',\n",
       "  'T': 'green',\n",
       "  'W': 'green',\n",
       "  'Y': 'green',\n",
       "  'V': 'grey'},\n",
       " 'pk-state': {'A': 'neutral',\n",
       "  'R': 'alkine',\n",
       "  'N': 'neutral',\n",
       "  'D': 'acidic',\n",
       "  'C': 'alkine',\n",
       "  'E': 'acidic',\n",
       "  'Q': 'neutral',\n",
       "  'G': 'neutral',\n",
       "  'H': 'neutral',\n",
       "  'I': 'neutral',\n",
       "  'L': 'neutral',\n",
       "  'K': 'alkine',\n",
       "  'M': 'neutral',\n",
       "  'F': 'neutral',\n",
       "  'P': 'neutral',\n",
       "  'S': 'neutral',\n",
       "  'T': 'neutral',\n",
       "  'W': 'neutral',\n",
       "  'Y': 'alkine',\n",
       "  'V': 'neutral'}}"
      ]
     },
     "execution_count": 4,
     "metadata": {},
     "output_type": "execute_result"
    }
   ],
   "source": [
    "metrics"
   ]
  },
  {
   "cell_type": "code",
   "execution_count": 31,
   "metadata": {},
   "outputs": [],
   "source": [
    "import numpy as np\n",
    "import pandas as pd\n",
    "import numpy as np\n",
    "import plotly.graph_objects as go\n",
    "from collections import deque\n",
    "\n",
    "class Protein:\n",
    "\n",
    "    aa_properties = pd.read_csv(\"../../data/amino_acid_properties.csv\")\n",
    "    aa_properties = aa_properties.rename(columns ={'hydropathy index (Kyte-Doolittle method)': 'hydropathy'})\n",
    "    aa_properties = aa_properties[['1-letter code', 'pI','hydropathy']]\n",
    "    aa_properties = aa_properties.set_index('1-letter code')\n",
    "    metrics = aa_properties.to_dict('dict')\n",
    "    \n",
    "    def __init__(self, name, sequence):\n",
    "        self.sequence = sequence\n",
    "        self.name = name\n",
    "    \n",
    "    def plot(self, metric =\"hydropathy\", window_size = 1):\n",
    "        sequence_l = list(self.sequence)\n",
    "        metric_values = []\n",
    "        values_to_plot = []\n",
    "        \n",
    "        for aa in list(sequence_l):\n",
    "            metric_values.append(metrics[metric][aa])\n",
    "\n",
    "        sliding_window = deque([], maxlen=window_size)\n",
    "\n",
    "        for value in metric_values:\n",
    "            sliding_window.append(value)\n",
    "            values_to_plot.append(np.mean(sliding_window))\n",
    "            \n",
    "        pos = list(np.arange(len(sequence_l)))\n",
    "\n",
    "        data = [\n",
    "            go.Bar(\n",
    "                x=pos,\n",
    "                y=values_to_plot,\n",
    "            )\n",
    "        ]\n",
    "\n",
    "        fig = go.Figure(data=data)\n",
    "        fig.update_layout(title=self.name, template = 'plotly_white')\n",
    "        \n",
    "        return fig\n",
    "        #fig.show()\n",
    "        \n",
    "\n",
    "        \n"
   ]
  },
  {
   "cell_type": "code",
   "execution_count": 33,
   "metadata": {},
   "outputs": [
    {
     "data": {
      "application/vnd.plotly.v1+json": {
       "config": {
        "plotlyServerURL": "https://plot.ly"
       },
       "data": [
        {
         "type": "bar",
         "x": [
          0,
          1,
          2,
          3,
          4,
          5,
          6,
          7,
          8,
          9,
          10,
          11,
          12,
          13,
          14,
          15,
          16,
          17,
          18,
          19,
          20,
          21,
          22,
          23,
          24,
          25,
          26,
          27,
          28,
          29,
          30,
          31,
          32,
          33,
          34,
          35,
          36,
          37,
          38,
          39,
          40,
          41,
          42,
          43,
          44,
          45,
          46,
          47,
          48,
          49,
          50,
          51,
          52,
          53,
          54,
          55,
          56,
          57,
          58,
          59,
          60,
          61,
          62,
          63,
          64,
          65,
          66,
          67,
          68,
          69,
          70,
          71,
          72,
          73,
          74,
          75,
          76,
          77,
          78,
          79,
          80,
          81,
          82,
          83,
          84,
          85,
          86,
          87,
          88,
          89,
          90,
          91,
          92,
          93,
          94,
          95,
          96,
          97,
          98,
          99,
          100,
          101,
          102,
          103,
          104,
          105,
          106,
          107,
          108,
          109,
          110,
          111,
          112,
          113,
          114,
          115,
          116,
          117,
          118,
          119,
          120,
          121,
          122,
          123,
          124,
          125,
          126,
          127,
          128,
          129,
          130,
          131,
          132,
          133,
          134,
          135,
          136,
          137,
          138,
          139,
          140,
          141,
          142,
          143,
          144,
          145,
          146,
          147,
          148,
          149,
          150,
          151,
          152,
          153,
          154,
          155,
          156,
          157,
          158,
          159,
          160,
          161,
          162,
          163,
          164,
          165,
          166,
          167,
          168,
          169,
          170,
          171,
          172,
          173,
          174,
          175,
          176,
          177,
          178,
          179,
          180,
          181,
          182,
          183,
          184,
          185,
          186,
          187,
          188,
          189,
          190,
          191,
          192,
          193,
          194,
          195,
          196,
          197,
          198,
          199,
          200,
          201,
          202,
          203,
          204,
          205,
          206,
          207,
          208,
          209,
          210,
          211,
          212,
          213,
          214,
          215,
          216,
          217,
          218,
          219,
          220,
          221,
          222,
          223,
          224,
          225,
          226,
          227,
          228,
          229,
          230,
          231,
          232,
          233,
          234,
          235,
          236,
          237,
          238,
          239,
          240,
          241,
          242,
          243,
          244,
          245,
          246,
          247,
          248,
          249,
          250,
          251,
          252,
          253,
          254,
          255,
          256,
          257,
          258,
          259,
          260,
          261,
          262,
          263,
          264,
          265,
          266,
          267,
          268,
          269,
          270,
          271,
          272,
          273,
          274,
          275,
          276,
          277,
          278,
          279,
          280,
          281,
          282,
          283,
          284,
          285,
          286,
          287,
          288,
          289,
          290,
          291,
          292,
          293,
          294,
          295,
          296,
          297,
          298,
          299,
          300,
          301,
          302,
          303,
          304,
          305,
          306,
          307,
          308,
          309,
          310,
          311,
          312,
          313,
          314,
          315,
          316,
          317,
          318,
          319,
          320,
          321,
          322,
          323,
          324,
          325,
          326,
          327,
          328,
          329,
          330,
          331,
          332,
          333,
          334,
          335,
          336,
          337,
          338,
          339,
          340,
          341,
          342,
          343,
          344,
          345,
          346,
          347,
          348,
          349,
          350,
          351,
          352,
          353,
          354,
          355,
          356,
          357,
          358,
          359,
          360
         ],
         "y": [
          1.9,
          -0.8,
          0.9666666666666667,
          -0.15000000000000002,
          0.25999999999999995,
          0.5166666666666666,
          -0.0571428571428572,
          -0.4875,
          -0.12222222222222223,
          -0.18,
          -0.30909090909090914,
          -0.4166666666666667,
          -0.4461538461538461,
          -0.2857142857142857,
          -0.31333333333333335,
          -0.39375000000000004,
          -0.5764705882352942,
          -0.5666666666666668,
          -0.7210526315789474,
          -0.8600000000000001,
          -0.7000000000000002,
          -0.8272727272727274,
          -0.6260869565217392,
          -0.6541666666666667,
          -0.556,
          -0.6576923076923078,
          -0.7518518518518519,
          -0.7535714285714287,
          -0.7517241379310345,
          -0.6666666666666666,
          -0.7903225806451613,
          -0.6250000000000001,
          -0.47878787878787893,
          -0.4088235294117648,
          -0.44285714285714295,
          -0.32500000000000007,
          -0.40270270270270275,
          -0.42631578947368426,
          -0.435897435897436,
          -0.33,
          -0.21951219512195122,
          -0.14761904761904762,
          -0.03953488372093024,
          0.06363636363636363,
          0.05333333333333333,
          0.13478260869565215,
          0.2212765957446808,
          0.20833333333333326,
          0.13265306122448972,
          0.20599999999999993,
          0.244,
          0.35,
          0.33599999999999997,
          0.49,
          0.5359999999999999,
          0.59,
          0.7440000000000001,
          0.7440000000000001,
          0.618,
          0.542,
          0.49599999999999994,
          0.45,
          0.5559999999999999,
          0.45,
          0.4479999999999999,
          0.46599999999999997,
          0.5219999999999999,
          0.606,
          0.6499999999999999,
          0.7040000000000001,
          0.6399999999999999,
          0.6399999999999999,
          0.6399999999999999,
          0.75,
          0.804,
          0.8520000000000002,
          0.8460000000000001,
          0.9520000000000001,
          1.0419999999999998,
          1.062,
          1.138,
          1.034,
          0.986,
          1.024,
          1.024,
          0.9339999999999999,
          0.9079999999999999,
          1.024,
          1.0759999999999998,
          0.9740000000000001,
          0.8640000000000001,
          0.8440000000000001,
          0.7919999999999999,
          0.6940000000000001,
          0.758,
          0.612,
          0.5099999999999999,
          0.42800000000000005,
          0.5879999999999999,
          0.504,
          0.358,
          0.35800000000000004,
          0.358,
          0.324,
          0.15,
          0.15000000000000002,
          0.05200000000000001,
          0.158,
          0.30400000000000005,
          0.47800000000000004,
          0.612,
          0.664,
          0.664,
          0.664,
          0.6659999999999999,
          0.654,
          0.7040000000000001,
          0.62,
          0.7300000000000001,
          0.6759999999999999,
          0.746,
          0.8539999999999999,
          0.7639999999999999,
          0.7299999999999999,
          0.716,
          0.716,
          0.8759999999999999,
          0.716,
          0.55,
          0.5499999999999999,
          0.654,
          0.704,
          0.752,
          0.7600000000000001,
          0.728,
          0.71,
          0.8759999999999999,
          0.696,
          0.634,
          0.5900000000000002,
          0.5379999999999999,
          0.5920000000000001,
          0.4759999999999999,
          0.39399999999999996,
          0.428,
          0.428,
          0.382,
          0.508,
          0.3400000000000001,
          0.34,
          0.494,
          0.5079999999999999,
          0.5219999999999999,
          0.5279999999999999,
          0.7019999999999998,
          0.5939999999999999,
          0.698,
          0.7379999999999999,
          0.746,
          0.718,
          0.6979999999999998,
          0.6539999999999998,
          0.55,
          0.696,
          0.6779999999999998,
          0.7799999999999998,
          0.8199999999999998,
          0.9179999999999998,
          0.764,
          0.802,
          0.784,
          0.7300000000000001,
          0.6660000000000003,
          0.546,
          0.4000000000000001,
          0.452,
          0.2920000000000001,
          0.272,
          0.452,
          0.382,
          0.3420000000000001,
          0.344,
          0.19000000000000003,
          0.08000000000000002,
          0.11200000000000003,
          0.07400000000000002,
          0.053999999999999965,
          0.07399999999999998,
          0.029999999999999964,
          0.08599999999999997,
          0.08599999999999998,
          -0.019999999999999997,
          0.13399999999999998,
          0.19199999999999992,
          0.08399999999999999,
          0.24399999999999994,
          0.384,
          0.42399999999999993,
          0.494,
          0.5379999999999999,
          0.504,
          0.5099999999999999,
          0.51,
          0.446,
          0.336,
          0.43799999999999994,
          0.42400000000000004,
          0.31600000000000006,
          0.30800000000000005,
          0.342,
          0.396,
          0.556,
          0.6459999999999999,
          0.66,
          0.7419999999999999,
          0.6399999999999999,
          0.5479999999999999,
          0.3879999999999999,
          0.5479999999999999,
          0.63,
          0.6419999999999999,
          0.5799999999999998,
          0.7339999999999999,
          0.8599999999999998,
          0.8399999999999999,
          0.7899999999999997,
          0.8959999999999998,
          0.9079999999999998,
          0.748,
          0.6919999999999998,
          0.6099999999999999,
          0.6479999999999998,
          0.704,
          0.6599999999999998,
          0.6139999999999999,
          0.6679999999999999,
          0.604,
          0.758,
          0.7580000000000001,
          0.694,
          0.6940000000000001,
          0.7459999999999998,
          0.746,
          0.708,
          0.7119999999999999,
          0.7119999999999999,
          0.726,
          0.726,
          0.824,
          0.878,
          0.912,
          0.9400000000000002,
          0.9059999999999999,
          0.998,
          1.1,
          1.0659999999999998,
          1.046,
          1.0639999999999998,
          0.9559999999999998,
          0.84,
          0.6859999999999999,
          0.68,
          0.6399999999999999,
          0.6399999999999999,
          0.68,
          0.6359999999999999,
          0.5880000000000001,
          0.6959999999999998,
          0.696,
          0.568,
          0.44000000000000017,
          0.5940000000000001,
          0.42800000000000005,
          0.42800000000000005,
          0.502,
          0.446,
          0.466,
          0.62,
          0.6199999999999999,
          0.74,
          0.7559999999999999,
          0.61,
          0.5339999999999999,
          0.5399999999999999,
          0.6019999999999999,
          0.6739999999999999,
          0.6119999999999999,
          0.6179999999999999,
          0.672,
          0.826,
          0.8399999999999999,
          0.86,
          0.7699999999999999,
          0.9239999999999999,
          0.9880000000000001,
          0.9740000000000001,
          0.922,
          0.7759999999999999,
          0.7419999999999999,
          0.5819999999999999,
          0.548,
          0.514,
          0.49599999999999994,
          0.34199999999999997,
          0.234,
          0.24,
          0.27399999999999997,
          0.262,
          0.35,
          0.43200000000000005,
          0.5320000000000001,
          0.49800000000000005,
          0.38400000000000006,
          0.28600000000000003,
          0.17000000000000004,
          0.16200000000000006,
          0.13600000000000004,
          0.020000000000000046,
          0.014000000000000012,
          0.13000000000000003,
          0.11800000000000005,
          0.08000000000000003,
          0.24600000000000002,
          0.11199999999999999,
          0.038000000000000006,
          0.03800000000000004,
          0.06600000000000003,
          -0.025999999999999947,
          0.12800000000000003,
          0.06199999999999999,
          0.16799999999999998,
          0.22200000000000003,
          0.29599999999999993,
          0.39599999999999996,
          0.49599999999999994,
          0.36199999999999993,
          0.4159999999999999,
          0.36199999999999993,
          0.3459999999999999,
          0.2,
          0.19399999999999998,
          0.06800000000000005,
          0.06600000000000003,
          -0.10799999999999992,
          -0.22799999999999998,
          -0.26599999999999996,
          -0.31799999999999995,
          -0.31799999999999995,
          -0.38799999999999996,
          -0.38799999999999996,
          -0.4,
          -0.41200000000000003,
          -0.36,
          -0.354,
          -0.338,
          -0.47199999999999986,
          -0.5779999999999998,
          -0.568,
          -0.6940000000000001,
          -0.758,
          -0.8719999999999999
         ]
        }
       ],
       "layout": {
        "template": {
         "data": {
          "bar": [
           {
            "error_x": {
             "color": "#2a3f5f"
            },
            "error_y": {
             "color": "#2a3f5f"
            },
            "marker": {
             "line": {
              "color": "white",
              "width": 0.5
             },
             "pattern": {
              "fillmode": "overlay",
              "size": 10,
              "solidity": 0.2
             }
            },
            "type": "bar"
           }
          ],
          "barpolar": [
           {
            "marker": {
             "line": {
              "color": "white",
              "width": 0.5
             },
             "pattern": {
              "fillmode": "overlay",
              "size": 10,
              "solidity": 0.2
             }
            },
            "type": "barpolar"
           }
          ],
          "carpet": [
           {
            "aaxis": {
             "endlinecolor": "#2a3f5f",
             "gridcolor": "#C8D4E3",
             "linecolor": "#C8D4E3",
             "minorgridcolor": "#C8D4E3",
             "startlinecolor": "#2a3f5f"
            },
            "baxis": {
             "endlinecolor": "#2a3f5f",
             "gridcolor": "#C8D4E3",
             "linecolor": "#C8D4E3",
             "minorgridcolor": "#C8D4E3",
             "startlinecolor": "#2a3f5f"
            },
            "type": "carpet"
           }
          ],
          "choropleth": [
           {
            "colorbar": {
             "outlinewidth": 0,
             "ticks": ""
            },
            "type": "choropleth"
           }
          ],
          "contour": [
           {
            "colorbar": {
             "outlinewidth": 0,
             "ticks": ""
            },
            "colorscale": [
             [
              0,
              "#0d0887"
             ],
             [
              0.1111111111111111,
              "#46039f"
             ],
             [
              0.2222222222222222,
              "#7201a8"
             ],
             [
              0.3333333333333333,
              "#9c179e"
             ],
             [
              0.4444444444444444,
              "#bd3786"
             ],
             [
              0.5555555555555556,
              "#d8576b"
             ],
             [
              0.6666666666666666,
              "#ed7953"
             ],
             [
              0.7777777777777778,
              "#fb9f3a"
             ],
             [
              0.8888888888888888,
              "#fdca26"
             ],
             [
              1,
              "#f0f921"
             ]
            ],
            "type": "contour"
           }
          ],
          "contourcarpet": [
           {
            "colorbar": {
             "outlinewidth": 0,
             "ticks": ""
            },
            "type": "contourcarpet"
           }
          ],
          "heatmap": [
           {
            "colorbar": {
             "outlinewidth": 0,
             "ticks": ""
            },
            "colorscale": [
             [
              0,
              "#0d0887"
             ],
             [
              0.1111111111111111,
              "#46039f"
             ],
             [
              0.2222222222222222,
              "#7201a8"
             ],
             [
              0.3333333333333333,
              "#9c179e"
             ],
             [
              0.4444444444444444,
              "#bd3786"
             ],
             [
              0.5555555555555556,
              "#d8576b"
             ],
             [
              0.6666666666666666,
              "#ed7953"
             ],
             [
              0.7777777777777778,
              "#fb9f3a"
             ],
             [
              0.8888888888888888,
              "#fdca26"
             ],
             [
              1,
              "#f0f921"
             ]
            ],
            "type": "heatmap"
           }
          ],
          "heatmapgl": [
           {
            "colorbar": {
             "outlinewidth": 0,
             "ticks": ""
            },
            "colorscale": [
             [
              0,
              "#0d0887"
             ],
             [
              0.1111111111111111,
              "#46039f"
             ],
             [
              0.2222222222222222,
              "#7201a8"
             ],
             [
              0.3333333333333333,
              "#9c179e"
             ],
             [
              0.4444444444444444,
              "#bd3786"
             ],
             [
              0.5555555555555556,
              "#d8576b"
             ],
             [
              0.6666666666666666,
              "#ed7953"
             ],
             [
              0.7777777777777778,
              "#fb9f3a"
             ],
             [
              0.8888888888888888,
              "#fdca26"
             ],
             [
              1,
              "#f0f921"
             ]
            ],
            "type": "heatmapgl"
           }
          ],
          "histogram": [
           {
            "marker": {
             "pattern": {
              "fillmode": "overlay",
              "size": 10,
              "solidity": 0.2
             }
            },
            "type": "histogram"
           }
          ],
          "histogram2d": [
           {
            "colorbar": {
             "outlinewidth": 0,
             "ticks": ""
            },
            "colorscale": [
             [
              0,
              "#0d0887"
             ],
             [
              0.1111111111111111,
              "#46039f"
             ],
             [
              0.2222222222222222,
              "#7201a8"
             ],
             [
              0.3333333333333333,
              "#9c179e"
             ],
             [
              0.4444444444444444,
              "#bd3786"
             ],
             [
              0.5555555555555556,
              "#d8576b"
             ],
             [
              0.6666666666666666,
              "#ed7953"
             ],
             [
              0.7777777777777778,
              "#fb9f3a"
             ],
             [
              0.8888888888888888,
              "#fdca26"
             ],
             [
              1,
              "#f0f921"
             ]
            ],
            "type": "histogram2d"
           }
          ],
          "histogram2dcontour": [
           {
            "colorbar": {
             "outlinewidth": 0,
             "ticks": ""
            },
            "colorscale": [
             [
              0,
              "#0d0887"
             ],
             [
              0.1111111111111111,
              "#46039f"
             ],
             [
              0.2222222222222222,
              "#7201a8"
             ],
             [
              0.3333333333333333,
              "#9c179e"
             ],
             [
              0.4444444444444444,
              "#bd3786"
             ],
             [
              0.5555555555555556,
              "#d8576b"
             ],
             [
              0.6666666666666666,
              "#ed7953"
             ],
             [
              0.7777777777777778,
              "#fb9f3a"
             ],
             [
              0.8888888888888888,
              "#fdca26"
             ],
             [
              1,
              "#f0f921"
             ]
            ],
            "type": "histogram2dcontour"
           }
          ],
          "mesh3d": [
           {
            "colorbar": {
             "outlinewidth": 0,
             "ticks": ""
            },
            "type": "mesh3d"
           }
          ],
          "parcoords": [
           {
            "line": {
             "colorbar": {
              "outlinewidth": 0,
              "ticks": ""
             }
            },
            "type": "parcoords"
           }
          ],
          "pie": [
           {
            "automargin": true,
            "type": "pie"
           }
          ],
          "scatter": [
           {
            "marker": {
             "colorbar": {
              "outlinewidth": 0,
              "ticks": ""
             }
            },
            "type": "scatter"
           }
          ],
          "scatter3d": [
           {
            "line": {
             "colorbar": {
              "outlinewidth": 0,
              "ticks": ""
             }
            },
            "marker": {
             "colorbar": {
              "outlinewidth": 0,
              "ticks": ""
             }
            },
            "type": "scatter3d"
           }
          ],
          "scattercarpet": [
           {
            "marker": {
             "colorbar": {
              "outlinewidth": 0,
              "ticks": ""
             }
            },
            "type": "scattercarpet"
           }
          ],
          "scattergeo": [
           {
            "marker": {
             "colorbar": {
              "outlinewidth": 0,
              "ticks": ""
             }
            },
            "type": "scattergeo"
           }
          ],
          "scattergl": [
           {
            "marker": {
             "colorbar": {
              "outlinewidth": 0,
              "ticks": ""
             }
            },
            "type": "scattergl"
           }
          ],
          "scattermapbox": [
           {
            "marker": {
             "colorbar": {
              "outlinewidth": 0,
              "ticks": ""
             }
            },
            "type": "scattermapbox"
           }
          ],
          "scatterpolar": [
           {
            "marker": {
             "colorbar": {
              "outlinewidth": 0,
              "ticks": ""
             }
            },
            "type": "scatterpolar"
           }
          ],
          "scatterpolargl": [
           {
            "marker": {
             "colorbar": {
              "outlinewidth": 0,
              "ticks": ""
             }
            },
            "type": "scatterpolargl"
           }
          ],
          "scatterternary": [
           {
            "marker": {
             "colorbar": {
              "outlinewidth": 0,
              "ticks": ""
             }
            },
            "type": "scatterternary"
           }
          ],
          "surface": [
           {
            "colorbar": {
             "outlinewidth": 0,
             "ticks": ""
            },
            "colorscale": [
             [
              0,
              "#0d0887"
             ],
             [
              0.1111111111111111,
              "#46039f"
             ],
             [
              0.2222222222222222,
              "#7201a8"
             ],
             [
              0.3333333333333333,
              "#9c179e"
             ],
             [
              0.4444444444444444,
              "#bd3786"
             ],
             [
              0.5555555555555556,
              "#d8576b"
             ],
             [
              0.6666666666666666,
              "#ed7953"
             ],
             [
              0.7777777777777778,
              "#fb9f3a"
             ],
             [
              0.8888888888888888,
              "#fdca26"
             ],
             [
              1,
              "#f0f921"
             ]
            ],
            "type": "surface"
           }
          ],
          "table": [
           {
            "cells": {
             "fill": {
              "color": "#EBF0F8"
             },
             "line": {
              "color": "white"
             }
            },
            "header": {
             "fill": {
              "color": "#C8D4E3"
             },
             "line": {
              "color": "white"
             }
            },
            "type": "table"
           }
          ]
         },
         "layout": {
          "annotationdefaults": {
           "arrowcolor": "#2a3f5f",
           "arrowhead": 0,
           "arrowwidth": 1
          },
          "autotypenumbers": "strict",
          "coloraxis": {
           "colorbar": {
            "outlinewidth": 0,
            "ticks": ""
           }
          },
          "colorscale": {
           "diverging": [
            [
             0,
             "#8e0152"
            ],
            [
             0.1,
             "#c51b7d"
            ],
            [
             0.2,
             "#de77ae"
            ],
            [
             0.3,
             "#f1b6da"
            ],
            [
             0.4,
             "#fde0ef"
            ],
            [
             0.5,
             "#f7f7f7"
            ],
            [
             0.6,
             "#e6f5d0"
            ],
            [
             0.7,
             "#b8e186"
            ],
            [
             0.8,
             "#7fbc41"
            ],
            [
             0.9,
             "#4d9221"
            ],
            [
             1,
             "#276419"
            ]
           ],
           "sequential": [
            [
             0,
             "#0d0887"
            ],
            [
             0.1111111111111111,
             "#46039f"
            ],
            [
             0.2222222222222222,
             "#7201a8"
            ],
            [
             0.3333333333333333,
             "#9c179e"
            ],
            [
             0.4444444444444444,
             "#bd3786"
            ],
            [
             0.5555555555555556,
             "#d8576b"
            ],
            [
             0.6666666666666666,
             "#ed7953"
            ],
            [
             0.7777777777777778,
             "#fb9f3a"
            ],
            [
             0.8888888888888888,
             "#fdca26"
            ],
            [
             1,
             "#f0f921"
            ]
           ],
           "sequentialminus": [
            [
             0,
             "#0d0887"
            ],
            [
             0.1111111111111111,
             "#46039f"
            ],
            [
             0.2222222222222222,
             "#7201a8"
            ],
            [
             0.3333333333333333,
             "#9c179e"
            ],
            [
             0.4444444444444444,
             "#bd3786"
            ],
            [
             0.5555555555555556,
             "#d8576b"
            ],
            [
             0.6666666666666666,
             "#ed7953"
            ],
            [
             0.7777777777777778,
             "#fb9f3a"
            ],
            [
             0.8888888888888888,
             "#fdca26"
            ],
            [
             1,
             "#f0f921"
            ]
           ]
          },
          "colorway": [
           "#636efa",
           "#EF553B",
           "#00cc96",
           "#ab63fa",
           "#FFA15A",
           "#19d3f3",
           "#FF6692",
           "#B6E880",
           "#FF97FF",
           "#FECB52"
          ],
          "font": {
           "color": "#2a3f5f"
          },
          "geo": {
           "bgcolor": "white",
           "lakecolor": "white",
           "landcolor": "white",
           "showlakes": true,
           "showland": true,
           "subunitcolor": "#C8D4E3"
          },
          "hoverlabel": {
           "align": "left"
          },
          "hovermode": "closest",
          "mapbox": {
           "style": "light"
          },
          "paper_bgcolor": "white",
          "plot_bgcolor": "white",
          "polar": {
           "angularaxis": {
            "gridcolor": "#EBF0F8",
            "linecolor": "#EBF0F8",
            "ticks": ""
           },
           "bgcolor": "white",
           "radialaxis": {
            "gridcolor": "#EBF0F8",
            "linecolor": "#EBF0F8",
            "ticks": ""
           }
          },
          "scene": {
           "xaxis": {
            "backgroundcolor": "white",
            "gridcolor": "#DFE8F3",
            "gridwidth": 2,
            "linecolor": "#EBF0F8",
            "showbackground": true,
            "ticks": "",
            "zerolinecolor": "#EBF0F8"
           },
           "yaxis": {
            "backgroundcolor": "white",
            "gridcolor": "#DFE8F3",
            "gridwidth": 2,
            "linecolor": "#EBF0F8",
            "showbackground": true,
            "ticks": "",
            "zerolinecolor": "#EBF0F8"
           },
           "zaxis": {
            "backgroundcolor": "white",
            "gridcolor": "#DFE8F3",
            "gridwidth": 2,
            "linecolor": "#EBF0F8",
            "showbackground": true,
            "ticks": "",
            "zerolinecolor": "#EBF0F8"
           }
          },
          "shapedefaults": {
           "line": {
            "color": "#2a3f5f"
           }
          },
          "ternary": {
           "aaxis": {
            "gridcolor": "#DFE8F3",
            "linecolor": "#A2B1C6",
            "ticks": ""
           },
           "baxis": {
            "gridcolor": "#DFE8F3",
            "linecolor": "#A2B1C6",
            "ticks": ""
           },
           "bgcolor": "white",
           "caxis": {
            "gridcolor": "#DFE8F3",
            "linecolor": "#A2B1C6",
            "ticks": ""
           }
          },
          "title": {
           "x": 0.05
          },
          "xaxis": {
           "automargin": true,
           "gridcolor": "#EBF0F8",
           "linecolor": "#EBF0F8",
           "ticks": "",
           "title": {
            "standoff": 15
           },
           "zerolinecolor": "#EBF0F8",
           "zerolinewidth": 2
          },
          "yaxis": {
           "automargin": true,
           "gridcolor": "#EBF0F8",
           "linecolor": "#EBF0F8",
           "ticks": "",
           "title": {
            "standoff": 15
           },
           "zerolinecolor": "#EBF0F8",
           "zerolinewidth": 2
          }
         }
        },
        "title": {
         "text": "G-protein coupled receptor 183"
        }
       }
      }
     },
     "metadata": {},
     "output_type": "display_data"
    }
   ],
   "source": [
    "s1 = Protein(\"G-protein coupled receptor 183\", protein_s)\n",
    "figure = s1.plot(window_size=50)\n",
    "figure.show()"
   ]
  }
 ],
 "metadata": {
  "interpreter": {
   "hash": "6dd9bcb9fcb308fb3da563654ab13a605d97a2c3c9f12caa4b8e45b9393babba"
  },
  "kernelspec": {
   "display_name": "Python 3.9.7 64-bit ('.venv': venv)",
   "language": "python",
   "name": "python3"
  },
  "language_info": {
   "codemirror_mode": {
    "name": "ipython",
    "version": 3
   },
   "file_extension": ".py",
   "mimetype": "text/x-python",
   "name": "python",
   "nbconvert_exporter": "python",
   "pygments_lexer": "ipython3",
   "version": "3.9.7"
  },
  "orig_nbformat": 4
 },
 "nbformat": 4,
 "nbformat_minor": 2
}
