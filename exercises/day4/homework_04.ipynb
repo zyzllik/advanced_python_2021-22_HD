{
 "cells": [
  {
   "cell_type": "code",
   "execution_count": 12,
   "metadata": {},
   "outputs": [],
   "source": [
    "import numpy as np\n",
    "import pandas as pd\n",
    "import numpy as np\n",
    "import plotly.graph_objects as go\n",
    "from collections import deque\n",
    "import matplotlib.pyplot as plt\n",
    "\n",
    "class Protein:\n",
    "\n",
    "    aa_properties = pd.read_csv(\"../../data/amino_acid_properties.csv\")\n",
    "    aa_properties = aa_properties.rename(columns ={'hydropathy index (Kyte-Doolittle method)': 'hydropathy'})\n",
    "    aa_properties = aa_properties[['1-letter code', 'pI','hydropathy']]\n",
    "    aa_properties = aa_properties.set_index('1-letter code')\n",
    "    metrics = aa_properties.to_dict('dict')\n",
    "    \n",
    "    def __init__(self, name, sequence):\n",
    "        self.sequence = sequence\n",
    "        self.name = name\n",
    "    \n",
    "    def plot(self, metric =\"hydropathy\", window_size = 1):\n",
    "        sequence_l = list(self.sequence)\n",
    "        metric_values = []\n",
    "        values_to_plot = []\n",
    "        \n",
    "        for aa in list(sequence_l):\n",
    "            metric_values.append(Protein.metrics[metric][aa])\n",
    "\n",
    "        sliding_window = deque([], maxlen=window_size)\n",
    "\n",
    "        for value in metric_values:\n",
    "            sliding_window.append(value)\n",
    "            values_to_plot.append(np.mean(sliding_window))\n",
    "            \n",
    "        pos = list(np.arange(len(sequence_l)))\n",
    "\n",
    "        data = [\n",
    "            go.Bar(\n",
    "                x=pos,\n",
    "                y=values_to_plot,\n",
    "            )\n",
    "        ]\n",
    "\n",
    "        fig = go.Figure(data=data)\n",
    "        fig.update_layout(title=self.name, template = 'plotly_white')\n",
    "        \n",
    "        return fig\n",
    "        #fig.show()\n",
    "        \n",
    "\n",
    "        \n"
   ]
  },
  {
   "cell_type": "code",
   "execution_count": 11,
   "metadata": {},
   "outputs": [
    {
     "data": {
      "text/plain": [
       "'MDIQMANNFTPPSATPQGNDCDLYAHHSTARIVMPLHYSLVFIIGLVGNLLALVVIVQNRKKINSTTLYSTNLVISDILFTTALPTRIAYYAMGFDWRIGDALCRITALVFYINTYAGVNFMTCLSIDRFIAVVHPLRYNKIKRIEHAKGVCIFVWILVFAQTLPLLINPMSKQEAERITCMEYPNFEETKSLPWILLGACFIGYVLPLIIILICYSQICCKLFRTAKQNPLTEKSGVNKKALNTIILIIVVFVLCFTPYHVAIIQHMIKKLRFSNFLECSQRHSFQISLHFTVCLMNFNCCMDPFIYFFACKGYKRKVMRMLKRQVSVSISSAVKSAPEENSREMTETQMMIHSKSSNGK'"
      ]
     },
     "execution_count": 11,
     "metadata": {},
     "output_type": "execute_result"
    }
   ],
   "source": [
    "protein_s = ''\n",
    "with open ('gprot.fasta', 'r') as f:\n",
    "    next(f)\n",
    "    for line in f:\n",
    "            line = line.strip()\n",
    "            protein_s += line\n",
    "protein_s\n",
    "            \n"
   ]
  },
  {
   "cell_type": "code",
   "execution_count": 13,
   "metadata": {},
   "outputs": [
    {
     "data": {
      "application/vnd.plotly.v1+json": {
       "config": {
        "plotlyServerURL": "https://plot.ly"
       },
       "data": [
        {
         "type": "bar",
         "x": [
          0,
          1,
          2,
          3,
          4,
          5,
          6,
          7,
          8,
          9,
          10,
          11,
          12,
          13,
          14,
          15,
          16,
          17,
          18,
          19,
          20,
          21,
          22,
          23,
          24,
          25,
          26,
          27,
          28,
          29,
          30,
          31,
          32,
          33,
          34,
          35,
          36,
          37,
          38,
          39,
          40,
          41,
          42,
          43,
          44,
          45,
          46,
          47,
          48,
          49,
          50,
          51,
          52,
          53,
          54,
          55,
          56,
          57,
          58,
          59,
          60,
          61,
          62,
          63,
          64,
          65,
          66,
          67,
          68,
          69,
          70,
          71,
          72,
          73,
          74,
          75,
          76,
          77,
          78,
          79,
          80,
          81,
          82,
          83,
          84,
          85,
          86,
          87,
          88,
          89,
          90,
          91,
          92,
          93,
          94,
          95,
          96,
          97,
          98,
          99,
          100,
          101,
          102,
          103,
          104,
          105,
          106,
          107,
          108,
          109,
          110,
          111,
          112,
          113,
          114,
          115,
          116,
          117,
          118,
          119,
          120,
          121,
          122,
          123,
          124,
          125,
          126,
          127,
          128,
          129,
          130,
          131,
          132,
          133,
          134,
          135,
          136,
          137,
          138,
          139,
          140,
          141,
          142,
          143,
          144,
          145,
          146,
          147,
          148,
          149,
          150,
          151,
          152,
          153,
          154,
          155,
          156,
          157,
          158,
          159,
          160,
          161,
          162,
          163,
          164,
          165,
          166,
          167,
          168,
          169,
          170,
          171,
          172,
          173,
          174,
          175,
          176,
          177,
          178,
          179,
          180,
          181,
          182,
          183,
          184,
          185,
          186,
          187,
          188,
          189,
          190,
          191,
          192,
          193,
          194,
          195,
          196,
          197,
          198,
          199,
          200,
          201,
          202,
          203,
          204,
          205,
          206,
          207,
          208,
          209,
          210,
          211,
          212,
          213,
          214,
          215,
          216,
          217,
          218,
          219,
          220,
          221,
          222,
          223,
          224,
          225,
          226,
          227,
          228,
          229,
          230,
          231,
          232,
          233,
          234,
          235,
          236,
          237,
          238,
          239,
          240,
          241,
          242,
          243,
          244,
          245,
          246,
          247,
          248,
          249,
          250,
          251,
          252,
          253,
          254,
          255,
          256,
          257,
          258,
          259,
          260,
          261,
          262,
          263,
          264,
          265,
          266,
          267,
          268,
          269,
          270,
          271,
          272,
          273,
          274,
          275,
          276,
          277,
          278,
          279,
          280,
          281,
          282,
          283,
          284,
          285,
          286,
          287,
          288,
          289,
          290,
          291,
          292,
          293,
          294,
          295,
          296,
          297,
          298,
          299,
          300,
          301,
          302,
          303,
          304,
          305,
          306,
          307,
          308,
          309,
          310,
          311,
          312,
          313,
          314,
          315,
          316,
          317,
          318,
          319,
          320,
          321,
          322,
          323,
          324,
          325,
          326,
          327,
          328,
          329,
          330,
          331,
          332,
          333,
          334,
          335,
          336,
          337,
          338,
          339,
          340,
          341,
          342,
          343,
          344,
          345,
          346,
          347,
          348,
          349,
          350,
          351,
          352,
          353,
          354,
          355,
          356,
          357,
          358,
          359,
          360
         ],
         "y": [
          1.9,
          -0.8,
          0.9666666666666667,
          -0.15000000000000002,
          0.25999999999999995,
          0.5166666666666666,
          -0.0571428571428572,
          -0.4875,
          -0.12222222222222223,
          -0.18,
          -0.30909090909090914,
          -0.4166666666666667,
          -0.4461538461538461,
          -0.2857142857142857,
          -0.31333333333333335,
          -0.39375000000000004,
          -0.5764705882352942,
          -0.5666666666666668,
          -0.7210526315789474,
          -0.8600000000000001,
          -0.7000000000000002,
          -0.8272727272727274,
          -0.6260869565217392,
          -0.6541666666666667,
          -0.556,
          -0.6576923076923078,
          -0.7518518518518519,
          -0.7535714285714287,
          -0.7517241379310345,
          -0.6666666666666666,
          -0.7903225806451613,
          -0.6250000000000001,
          -0.47878787878787893,
          -0.4088235294117648,
          -0.44285714285714295,
          -0.32500000000000007,
          -0.40270270270270275,
          -0.42631578947368426,
          -0.435897435897436,
          -0.33,
          -0.21951219512195122,
          -0.14761904761904762,
          -0.03953488372093024,
          0.06363636363636363,
          0.05333333333333333,
          0.13478260869565215,
          0.2212765957446808,
          0.20833333333333326,
          0.13265306122448972,
          0.20599999999999993,
          0.244,
          0.35,
          0.33599999999999997,
          0.49,
          0.5359999999999999,
          0.59,
          0.7440000000000001,
          0.7440000000000001,
          0.618,
          0.542,
          0.49599999999999994,
          0.45,
          0.5559999999999999,
          0.45,
          0.4479999999999999,
          0.46599999999999997,
          0.5219999999999999,
          0.606,
          0.6499999999999999,
          0.7040000000000001,
          0.6399999999999999,
          0.6399999999999999,
          0.6399999999999999,
          0.75,
          0.804,
          0.8520000000000002,
          0.8460000000000001,
          0.9520000000000001,
          1.0419999999999998,
          1.062,
          1.138,
          1.034,
          0.986,
          1.024,
          1.024,
          0.9339999999999999,
          0.9079999999999999,
          1.024,
          1.0759999999999998,
          0.9740000000000001,
          0.8640000000000001,
          0.8440000000000001,
          0.7919999999999999,
          0.6940000000000001,
          0.758,
          0.612,
          0.5099999999999999,
          0.42800000000000005,
          0.5879999999999999,
          0.504,
          0.358,
          0.35800000000000004,
          0.358,
          0.324,
          0.15,
          0.15000000000000002,
          0.05200000000000001,
          0.158,
          0.30400000000000005,
          0.47800000000000004,
          0.612,
          0.664,
          0.664,
          0.664,
          0.6659999999999999,
          0.654,
          0.7040000000000001,
          0.62,
          0.7300000000000001,
          0.6759999999999999,
          0.746,
          0.8539999999999999,
          0.7639999999999999,
          0.7299999999999999,
          0.716,
          0.716,
          0.8759999999999999,
          0.716,
          0.55,
          0.5499999999999999,
          0.654,
          0.704,
          0.752,
          0.7600000000000001,
          0.728,
          0.71,
          0.8759999999999999,
          0.696,
          0.634,
          0.5900000000000002,
          0.5379999999999999,
          0.5920000000000001,
          0.4759999999999999,
          0.39399999999999996,
          0.428,
          0.428,
          0.382,
          0.508,
          0.3400000000000001,
          0.34,
          0.494,
          0.5079999999999999,
          0.5219999999999999,
          0.5279999999999999,
          0.7019999999999998,
          0.5939999999999999,
          0.698,
          0.7379999999999999,
          0.746,
          0.718,
          0.6979999999999998,
          0.6539999999999998,
          0.55,
          0.696,
          0.6779999999999998,
          0.7799999999999998,
          0.8199999999999998,
          0.9179999999999998,
          0.764,
          0.802,
          0.784,
          0.7300000000000001,
          0.6660000000000003,
          0.546,
          0.4000000000000001,
          0.452,
          0.2920000000000001,
          0.272,
          0.452,
          0.382,
          0.3420000000000001,
          0.344,
          0.19000000000000003,
          0.08000000000000002,
          0.11200000000000003,
          0.07400000000000002,
          0.053999999999999965,
          0.07399999999999998,
          0.029999999999999964,
          0.08599999999999997,
          0.08599999999999998,
          -0.019999999999999997,
          0.13399999999999998,
          0.19199999999999992,
          0.08399999999999999,
          0.24399999999999994,
          0.384,
          0.42399999999999993,
          0.494,
          0.5379999999999999,
          0.504,
          0.5099999999999999,
          0.51,
          0.446,
          0.336,
          0.43799999999999994,
          0.42400000000000004,
          0.31600000000000006,
          0.30800000000000005,
          0.342,
          0.396,
          0.556,
          0.6459999999999999,
          0.66,
          0.7419999999999999,
          0.6399999999999999,
          0.5479999999999999,
          0.3879999999999999,
          0.5479999999999999,
          0.63,
          0.6419999999999999,
          0.5799999999999998,
          0.7339999999999999,
          0.8599999999999998,
          0.8399999999999999,
          0.7899999999999997,
          0.8959999999999998,
          0.9079999999999998,
          0.748,
          0.6919999999999998,
          0.6099999999999999,
          0.6479999999999998,
          0.704,
          0.6599999999999998,
          0.6139999999999999,
          0.6679999999999999,
          0.604,
          0.758,
          0.7580000000000001,
          0.694,
          0.6940000000000001,
          0.7459999999999998,
          0.746,
          0.708,
          0.7119999999999999,
          0.7119999999999999,
          0.726,
          0.726,
          0.824,
          0.878,
          0.912,
          0.9400000000000002,
          0.9059999999999999,
          0.998,
          1.1,
          1.0659999999999998,
          1.046,
          1.0639999999999998,
          0.9559999999999998,
          0.84,
          0.6859999999999999,
          0.68,
          0.6399999999999999,
          0.6399999999999999,
          0.68,
          0.6359999999999999,
          0.5880000000000001,
          0.6959999999999998,
          0.696,
          0.568,
          0.44000000000000017,
          0.5940000000000001,
          0.42800000000000005,
          0.42800000000000005,
          0.502,
          0.446,
          0.466,
          0.62,
          0.6199999999999999,
          0.74,
          0.7559999999999999,
          0.61,
          0.5339999999999999,
          0.5399999999999999,
          0.6019999999999999,
          0.6739999999999999,
          0.6119999999999999,
          0.6179999999999999,
          0.672,
          0.826,
          0.8399999999999999,
          0.86,
          0.7699999999999999,
          0.9239999999999999,
          0.9880000000000001,
          0.9740000000000001,
          0.922,
          0.7759999999999999,
          0.7419999999999999,
          0.5819999999999999,
          0.548,
          0.514,
          0.49599999999999994,
          0.34199999999999997,
          0.234,
          0.24,
          0.27399999999999997,
          0.262,
          0.35,
          0.43200000000000005,
          0.5320000000000001,
          0.49800000000000005,
          0.38400000000000006,
          0.28600000000000003,
          0.17000000000000004,
          0.16200000000000006,
          0.13600000000000004,
          0.020000000000000046,
          0.014000000000000012,
          0.13000000000000003,
          0.11800000000000005,
          0.08000000000000003,
          0.24600000000000002,
          0.11199999999999999,
          0.038000000000000006,
          0.03800000000000004,
          0.06600000000000003,
          -0.025999999999999947,
          0.12800000000000003,
          0.06199999999999999,
          0.16799999999999998,
          0.22200000000000003,
          0.29599999999999993,
          0.39599999999999996,
          0.49599999999999994,
          0.36199999999999993,
          0.4159999999999999,
          0.36199999999999993,
          0.3459999999999999,
          0.2,
          0.19399999999999998,
          0.06800000000000005,
          0.06600000000000003,
          -0.10799999999999992,
          -0.22799999999999998,
          -0.26599999999999996,
          -0.31799999999999995,
          -0.31799999999999995,
          -0.38799999999999996,
          -0.38799999999999996,
          -0.4,
          -0.41200000000000003,
          -0.36,
          -0.354,
          -0.338,
          -0.47199999999999986,
          -0.5779999999999998,
          -0.568,
          -0.6940000000000001,
          -0.758,
          -0.8719999999999999
         ]
        }
       ],
       "layout": {
        "template": {
         "data": {
          "bar": [
           {
            "error_x": {
             "color": "#2a3f5f"
            },
            "error_y": {
             "color": "#2a3f5f"
            },
            "marker": {
             "line": {
              "color": "white",
              "width": 0.5
             },
             "pattern": {
              "fillmode": "overlay",
              "size": 10,
              "solidity": 0.2
             }
            },
            "type": "bar"
           }
          ],
          "barpolar": [
           {
            "marker": {
             "line": {
              "color": "white",
              "width": 0.5
             },
             "pattern": {
              "fillmode": "overlay",
              "size": 10,
              "solidity": 0.2
             }
            },
            "type": "barpolar"
           }
          ],
          "carpet": [
           {
            "aaxis": {
             "endlinecolor": "#2a3f5f",
             "gridcolor": "#C8D4E3",
             "linecolor": "#C8D4E3",
             "minorgridcolor": "#C8D4E3",
             "startlinecolor": "#2a3f5f"
            },
            "baxis": {
             "endlinecolor": "#2a3f5f",
             "gridcolor": "#C8D4E3",
             "linecolor": "#C8D4E3",
             "minorgridcolor": "#C8D4E3",
             "startlinecolor": "#2a3f5f"
            },
            "type": "carpet"
           }
          ],
          "choropleth": [
           {
            "colorbar": {
             "outlinewidth": 0,
             "ticks": ""
            },
            "type": "choropleth"
           }
          ],
          "contour": [
           {
            "colorbar": {
             "outlinewidth": 0,
             "ticks": ""
            },
            "colorscale": [
             [
              0,
              "#0d0887"
             ],
             [
              0.1111111111111111,
              "#46039f"
             ],
             [
              0.2222222222222222,
              "#7201a8"
             ],
             [
              0.3333333333333333,
              "#9c179e"
             ],
             [
              0.4444444444444444,
              "#bd3786"
             ],
             [
              0.5555555555555556,
              "#d8576b"
             ],
             [
              0.6666666666666666,
              "#ed7953"
             ],
             [
              0.7777777777777778,
              "#fb9f3a"
             ],
             [
              0.8888888888888888,
              "#fdca26"
             ],
             [
              1,
              "#f0f921"
             ]
            ],
            "type": "contour"
           }
          ],
          "contourcarpet": [
           {
            "colorbar": {
             "outlinewidth": 0,
             "ticks": ""
            },
            "type": "contourcarpet"
           }
          ],
          "heatmap": [
           {
            "colorbar": {
             "outlinewidth": 0,
             "ticks": ""
            },
            "colorscale": [
             [
              0,
              "#0d0887"
             ],
             [
              0.1111111111111111,
              "#46039f"
             ],
             [
              0.2222222222222222,
              "#7201a8"
             ],
             [
              0.3333333333333333,
              "#9c179e"
             ],
             [
              0.4444444444444444,
              "#bd3786"
             ],
             [
              0.5555555555555556,
              "#d8576b"
             ],
             [
              0.6666666666666666,
              "#ed7953"
             ],
             [
              0.7777777777777778,
              "#fb9f3a"
             ],
             [
              0.8888888888888888,
              "#fdca26"
             ],
             [
              1,
              "#f0f921"
             ]
            ],
            "type": "heatmap"
           }
          ],
          "heatmapgl": [
           {
            "colorbar": {
             "outlinewidth": 0,
             "ticks": ""
            },
            "colorscale": [
             [
              0,
              "#0d0887"
             ],
             [
              0.1111111111111111,
              "#46039f"
             ],
             [
              0.2222222222222222,
              "#7201a8"
             ],
             [
              0.3333333333333333,
              "#9c179e"
             ],
             [
              0.4444444444444444,
              "#bd3786"
             ],
             [
              0.5555555555555556,
              "#d8576b"
             ],
             [
              0.6666666666666666,
              "#ed7953"
             ],
             [
              0.7777777777777778,
              "#fb9f3a"
             ],
             [
              0.8888888888888888,
              "#fdca26"
             ],
             [
              1,
              "#f0f921"
             ]
            ],
            "type": "heatmapgl"
           }
          ],
          "histogram": [
           {
            "marker": {
             "pattern": {
              "fillmode": "overlay",
              "size": 10,
              "solidity": 0.2
             }
            },
            "type": "histogram"
           }
          ],
          "histogram2d": [
           {
            "colorbar": {
             "outlinewidth": 0,
             "ticks": ""
            },
            "colorscale": [
             [
              0,
              "#0d0887"
             ],
             [
              0.1111111111111111,
              "#46039f"
             ],
             [
              0.2222222222222222,
              "#7201a8"
             ],
             [
              0.3333333333333333,
              "#9c179e"
             ],
             [
              0.4444444444444444,
              "#bd3786"
             ],
             [
              0.5555555555555556,
              "#d8576b"
             ],
             [
              0.6666666666666666,
              "#ed7953"
             ],
             [
              0.7777777777777778,
              "#fb9f3a"
             ],
             [
              0.8888888888888888,
              "#fdca26"
             ],
             [
              1,
              "#f0f921"
             ]
            ],
            "type": "histogram2d"
           }
          ],
          "histogram2dcontour": [
           {
            "colorbar": {
             "outlinewidth": 0,
             "ticks": ""
            },
            "colorscale": [
             [
              0,
              "#0d0887"
             ],
             [
              0.1111111111111111,
              "#46039f"
             ],
             [
              0.2222222222222222,
              "#7201a8"
             ],
             [
              0.3333333333333333,
              "#9c179e"
             ],
             [
              0.4444444444444444,
              "#bd3786"
             ],
             [
              0.5555555555555556,
              "#d8576b"
             ],
             [
              0.6666666666666666,
              "#ed7953"
             ],
             [
              0.7777777777777778,
              "#fb9f3a"
             ],
             [
              0.8888888888888888,
              "#fdca26"
             ],
             [
              1,
              "#f0f921"
             ]
            ],
            "type": "histogram2dcontour"
           }
          ],
          "mesh3d": [
           {
            "colorbar": {
             "outlinewidth": 0,
             "ticks": ""
            },
            "type": "mesh3d"
           }
          ],
          "parcoords": [
           {
            "line": {
             "colorbar": {
              "outlinewidth": 0,
              "ticks": ""
             }
            },
            "type": "parcoords"
           }
          ],
          "pie": [
           {
            "automargin": true,
            "type": "pie"
           }
          ],
          "scatter": [
           {
            "marker": {
             "colorbar": {
              "outlinewidth": 0,
              "ticks": ""
             }
            },
            "type": "scatter"
           }
          ],
          "scatter3d": [
           {
            "line": {
             "colorbar": {
              "outlinewidth": 0,
              "ticks": ""
             }
            },
            "marker": {
             "colorbar": {
              "outlinewidth": 0,
              "ticks": ""
             }
            },
            "type": "scatter3d"
           }
          ],
          "scattercarpet": [
           {
            "marker": {
             "colorbar": {
              "outlinewidth": 0,
              "ticks": ""
             }
            },
            "type": "scattercarpet"
           }
          ],
          "scattergeo": [
           {
            "marker": {
             "colorbar": {
              "outlinewidth": 0,
              "ticks": ""
             }
            },
            "type": "scattergeo"
           }
          ],
          "scattergl": [
           {
            "marker": {
             "colorbar": {
              "outlinewidth": 0,
              "ticks": ""
             }
            },
            "type": "scattergl"
           }
          ],
          "scattermapbox": [
           {
            "marker": {
             "colorbar": {
              "outlinewidth": 0,
              "ticks": ""
             }
            },
            "type": "scattermapbox"
           }
          ],
          "scatterpolar": [
           {
            "marker": {
             "colorbar": {
              "outlinewidth": 0,
              "ticks": ""
             }
            },
            "type": "scatterpolar"
           }
          ],
          "scatterpolargl": [
           {
            "marker": {
             "colorbar": {
              "outlinewidth": 0,
              "ticks": ""
             }
            },
            "type": "scatterpolargl"
           }
          ],
          "scatterternary": [
           {
            "marker": {
             "colorbar": {
              "outlinewidth": 0,
              "ticks": ""
             }
            },
            "type": "scatterternary"
           }
          ],
          "surface": [
           {
            "colorbar": {
             "outlinewidth": 0,
             "ticks": ""
            },
            "colorscale": [
             [
              0,
              "#0d0887"
             ],
             [
              0.1111111111111111,
              "#46039f"
             ],
             [
              0.2222222222222222,
              "#7201a8"
             ],
             [
              0.3333333333333333,
              "#9c179e"
             ],
             [
              0.4444444444444444,
              "#bd3786"
             ],
             [
              0.5555555555555556,
              "#d8576b"
             ],
             [
              0.6666666666666666,
              "#ed7953"
             ],
             [
              0.7777777777777778,
              "#fb9f3a"
             ],
             [
              0.8888888888888888,
              "#fdca26"
             ],
             [
              1,
              "#f0f921"
             ]
            ],
            "type": "surface"
           }
          ],
          "table": [
           {
            "cells": {
             "fill": {
              "color": "#EBF0F8"
             },
             "line": {
              "color": "white"
             }
            },
            "header": {
             "fill": {
              "color": "#C8D4E3"
             },
             "line": {
              "color": "white"
             }
            },
            "type": "table"
           }
          ]
         },
         "layout": {
          "annotationdefaults": {
           "arrowcolor": "#2a3f5f",
           "arrowhead": 0,
           "arrowwidth": 1
          },
          "autotypenumbers": "strict",
          "coloraxis": {
           "colorbar": {
            "outlinewidth": 0,
            "ticks": ""
           }
          },
          "colorscale": {
           "diverging": [
            [
             0,
             "#8e0152"
            ],
            [
             0.1,
             "#c51b7d"
            ],
            [
             0.2,
             "#de77ae"
            ],
            [
             0.3,
             "#f1b6da"
            ],
            [
             0.4,
             "#fde0ef"
            ],
            [
             0.5,
             "#f7f7f7"
            ],
            [
             0.6,
             "#e6f5d0"
            ],
            [
             0.7,
             "#b8e186"
            ],
            [
             0.8,
             "#7fbc41"
            ],
            [
             0.9,
             "#4d9221"
            ],
            [
             1,
             "#276419"
            ]
           ],
           "sequential": [
            [
             0,
             "#0d0887"
            ],
            [
             0.1111111111111111,
             "#46039f"
            ],
            [
             0.2222222222222222,
             "#7201a8"
            ],
            [
             0.3333333333333333,
             "#9c179e"
            ],
            [
             0.4444444444444444,
             "#bd3786"
            ],
            [
             0.5555555555555556,
             "#d8576b"
            ],
            [
             0.6666666666666666,
             "#ed7953"
            ],
            [
             0.7777777777777778,
             "#fb9f3a"
            ],
            [
             0.8888888888888888,
             "#fdca26"
            ],
            [
             1,
             "#f0f921"
            ]
           ],
           "sequentialminus": [
            [
             0,
             "#0d0887"
            ],
            [
             0.1111111111111111,
             "#46039f"
            ],
            [
             0.2222222222222222,
             "#7201a8"
            ],
            [
             0.3333333333333333,
             "#9c179e"
            ],
            [
             0.4444444444444444,
             "#bd3786"
            ],
            [
             0.5555555555555556,
             "#d8576b"
            ],
            [
             0.6666666666666666,
             "#ed7953"
            ],
            [
             0.7777777777777778,
             "#fb9f3a"
            ],
            [
             0.8888888888888888,
             "#fdca26"
            ],
            [
             1,
             "#f0f921"
            ]
           ]
          },
          "colorway": [
           "#636efa",
           "#EF553B",
           "#00cc96",
           "#ab63fa",
           "#FFA15A",
           "#19d3f3",
           "#FF6692",
           "#B6E880",
           "#FF97FF",
           "#FECB52"
          ],
          "font": {
           "color": "#2a3f5f"
          },
          "geo": {
           "bgcolor": "white",
           "lakecolor": "white",
           "landcolor": "white",
           "showlakes": true,
           "showland": true,
           "subunitcolor": "#C8D4E3"
          },
          "hoverlabel": {
           "align": "left"
          },
          "hovermode": "closest",
          "mapbox": {
           "style": "light"
          },
          "paper_bgcolor": "white",
          "plot_bgcolor": "white",
          "polar": {
           "angularaxis": {
            "gridcolor": "#EBF0F8",
            "linecolor": "#EBF0F8",
            "ticks": ""
           },
           "bgcolor": "white",
           "radialaxis": {
            "gridcolor": "#EBF0F8",
            "linecolor": "#EBF0F8",
            "ticks": ""
           }
          },
          "scene": {
           "xaxis": {
            "backgroundcolor": "white",
            "gridcolor": "#DFE8F3",
            "gridwidth": 2,
            "linecolor": "#EBF0F8",
            "showbackground": true,
            "ticks": "",
            "zerolinecolor": "#EBF0F8"
           },
           "yaxis": {
            "backgroundcolor": "white",
            "gridcolor": "#DFE8F3",
            "gridwidth": 2,
            "linecolor": "#EBF0F8",
            "showbackground": true,
            "ticks": "",
            "zerolinecolor": "#EBF0F8"
           },
           "zaxis": {
            "backgroundcolor": "white",
            "gridcolor": "#DFE8F3",
            "gridwidth": 2,
            "linecolor": "#EBF0F8",
            "showbackground": true,
            "ticks": "",
            "zerolinecolor": "#EBF0F8"
           }
          },
          "shapedefaults": {
           "line": {
            "color": "#2a3f5f"
           }
          },
          "ternary": {
           "aaxis": {
            "gridcolor": "#DFE8F3",
            "linecolor": "#A2B1C6",
            "ticks": ""
           },
           "baxis": {
            "gridcolor": "#DFE8F3",
            "linecolor": "#A2B1C6",
            "ticks": ""
           },
           "bgcolor": "white",
           "caxis": {
            "gridcolor": "#DFE8F3",
            "linecolor": "#A2B1C6",
            "ticks": ""
           }
          },
          "title": {
           "x": 0.05
          },
          "xaxis": {
           "automargin": true,
           "gridcolor": "#EBF0F8",
           "linecolor": "#EBF0F8",
           "ticks": "",
           "title": {
            "standoff": 15
           },
           "zerolinecolor": "#EBF0F8",
           "zerolinewidth": 2
          },
          "yaxis": {
           "automargin": true,
           "gridcolor": "#EBF0F8",
           "linecolor": "#EBF0F8",
           "ticks": "",
           "title": {
            "standoff": 15
           },
           "zerolinecolor": "#EBF0F8",
           "zerolinewidth": 2
          }
         }
        },
        "title": {
         "text": "G-protein coupled receptor 183"
        }
       }
      }
     },
     "metadata": {},
     "output_type": "display_data"
    }
   ],
   "source": [
    "s1 = Protein(\"G-protein coupled receptor 183\", protein_s)\n",
    "figure = s1.plot(window_size=50)\n",
    "figure.show()\n",
    "figure.write_image('Protein_hydropathy_dist.pdf')"
   ]
  }
 ],
 "metadata": {
  "interpreter": {
   "hash": "6dd9bcb9fcb308fb3da563654ab13a605d97a2c3c9f12caa4b8e45b9393babba"
  },
  "kernelspec": {
   "display_name": "Python 3.9.7 64-bit ('.venv': venv)",
   "language": "python",
   "name": "python3"
  },
  "language_info": {
   "codemirror_mode": {
    "name": "ipython",
    "version": 3
   },
   "file_extension": ".py",
   "mimetype": "text/x-python",
   "name": "python",
   "nbconvert_exporter": "python",
   "pygments_lexer": "ipython3",
   "version": "3.9.7"
  },
  "orig_nbformat": 4
 },
 "nbformat": 4,
 "nbformat_minor": 2
}
