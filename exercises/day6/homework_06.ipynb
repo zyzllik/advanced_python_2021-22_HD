{
 "cells": [
  {
   "cell_type": "code",
   "execution_count": 1,
   "id": "modern-eclipse",
   "metadata": {},
   "outputs": [
    {
     "data": {
      "text/markdown": [
       "# Advanced Python Course \n",
       "## Mobi Heidelberg WS 2021/22\n",
       "### by Christian Fufezan \n",
       "\n",
       "christian@fufezan.net\n",
       "\n",
       "https://fufezan.net\n",
       "\n",
       "<img src=\"./images/cc.png\" alt=\"drawing\" width=\"200\" style=\"float: left;\"/>\n"
      ],
      "text/plain": [
       "<IPython.core.display.Markdown object>"
      ]
     },
     "metadata": {},
     "output_type": "display_data"
    }
   ],
   "source": [
    "import course;course.header()\n",
    "import pandas as pd\n",
    "from pathlib import Path\n",
    "import plotly\n",
    "import plotly.express as px"
   ]
  },
  {
   "cell_type": "markdown",
   "id": "sealed-nothing",
   "metadata": {},
   "source": [
    "### Read the arabica data set into a dataframe\n",
    "You will notice an \"Unnamed: 0\" column. Where does it come from, how can one get \"rid\" of it?"
   ]
  },
  {
   "cell_type": "code",
   "execution_count": 2,
   "id": "fb594517",
   "metadata": {},
   "outputs": [
    {
     "data": {
      "text/html": [
       "<div>\n",
       "<style scoped>\n",
       "    .dataframe tbody tr th:only-of-type {\n",
       "        vertical-align: middle;\n",
       "    }\n",
       "\n",
       "    .dataframe tbody tr th {\n",
       "        vertical-align: top;\n",
       "    }\n",
       "\n",
       "    .dataframe thead th {\n",
       "        text-align: right;\n",
       "    }\n",
       "</style>\n",
       "<table border=\"1\" class=\"dataframe\">\n",
       "  <thead>\n",
       "    <tr style=\"text-align: right;\">\n",
       "      <th></th>\n",
       "      <th>Unnamed: 0</th>\n",
       "      <th>Species</th>\n",
       "      <th>Owner</th>\n",
       "      <th>Country.of.Origin</th>\n",
       "      <th>Farm.Name</th>\n",
       "      <th>Lot.Number</th>\n",
       "      <th>Mill</th>\n",
       "      <th>ICO.Number</th>\n",
       "      <th>Company</th>\n",
       "      <th>Altitude</th>\n",
       "      <th>Region</th>\n",
       "      <th>Producer</th>\n",
       "      <th>Number.of.Bags</th>\n",
       "      <th>Bag.Weight</th>\n",
       "      <th>In.Country.Partner</th>\n",
       "      <th>Harvest.Year</th>\n",
       "      <th>Grading.Date</th>\n",
       "      <th>Owner.1</th>\n",
       "      <th>Variety</th>\n",
       "      <th>Processing.Method</th>\n",
       "      <th>Aroma</th>\n",
       "      <th>Flavor</th>\n",
       "      <th>Aftertaste</th>\n",
       "      <th>Acidity</th>\n",
       "      <th>Body</th>\n",
       "      <th>Balance</th>\n",
       "      <th>Uniformity</th>\n",
       "      <th>Clean.Cup</th>\n",
       "      <th>Sweetness</th>\n",
       "      <th>Cupper.Points</th>\n",
       "      <th>Total.Cup.Points</th>\n",
       "      <th>Moisture</th>\n",
       "      <th>Category.One.Defects</th>\n",
       "      <th>Quakers</th>\n",
       "      <th>Color</th>\n",
       "      <th>Category.Two.Defects</th>\n",
       "      <th>Expiration</th>\n",
       "      <th>Certification.Body</th>\n",
       "      <th>Certification.Address</th>\n",
       "      <th>Certification.Contact</th>\n",
       "      <th>unit_of_measurement</th>\n",
       "      <th>altitude_low_meters</th>\n",
       "      <th>altitude_high_meters</th>\n",
       "      <th>altitude_mean_meters</th>\n",
       "    </tr>\n",
       "  </thead>\n",
       "  <tbody>\n",
       "    <tr>\n",
       "      <th>0</th>\n",
       "      <td>1</td>\n",
       "      <td>Arabica</td>\n",
       "      <td>metad plc</td>\n",
       "      <td>Ethiopia</td>\n",
       "      <td>metad plc</td>\n",
       "      <td>NaN</td>\n",
       "      <td>metad plc</td>\n",
       "      <td>2014/2015</td>\n",
       "      <td>metad agricultural developmet plc</td>\n",
       "      <td>1950-2200</td>\n",
       "      <td>guji-hambela</td>\n",
       "      <td>METAD PLC</td>\n",
       "      <td>300</td>\n",
       "      <td>60 kg</td>\n",
       "      <td>METAD Agricultural Development plc</td>\n",
       "      <td>2014</td>\n",
       "      <td>April 4th, 2015</td>\n",
       "      <td>metad plc</td>\n",
       "      <td>NaN</td>\n",
       "      <td>Washed / Wet</td>\n",
       "      <td>8.67</td>\n",
       "      <td>8.83</td>\n",
       "      <td>8.67</td>\n",
       "      <td>8.75</td>\n",
       "      <td>8.50</td>\n",
       "      <td>8.42</td>\n",
       "      <td>10.0</td>\n",
       "      <td>10.0</td>\n",
       "      <td>10.0</td>\n",
       "      <td>8.75</td>\n",
       "      <td>90.58</td>\n",
       "      <td>0.12</td>\n",
       "      <td>0</td>\n",
       "      <td>0.0</td>\n",
       "      <td>Green</td>\n",
       "      <td>0</td>\n",
       "      <td>April 3rd, 2016</td>\n",
       "      <td>METAD Agricultural Development plc</td>\n",
       "      <td>309fcf77415a3661ae83e027f7e5f05dad786e44</td>\n",
       "      <td>19fef5a731de2db57d16da10287413f5f99bc2dd</td>\n",
       "      <td>m</td>\n",
       "      <td>1950.0</td>\n",
       "      <td>2200.0</td>\n",
       "      <td>2075.0</td>\n",
       "    </tr>\n",
       "    <tr>\n",
       "      <th>1</th>\n",
       "      <td>2</td>\n",
       "      <td>Arabica</td>\n",
       "      <td>metad plc</td>\n",
       "      <td>Ethiopia</td>\n",
       "      <td>metad plc</td>\n",
       "      <td>NaN</td>\n",
       "      <td>metad plc</td>\n",
       "      <td>2014/2015</td>\n",
       "      <td>metad agricultural developmet plc</td>\n",
       "      <td>1950-2200</td>\n",
       "      <td>guji-hambela</td>\n",
       "      <td>METAD PLC</td>\n",
       "      <td>300</td>\n",
       "      <td>60 kg</td>\n",
       "      <td>METAD Agricultural Development plc</td>\n",
       "      <td>2014</td>\n",
       "      <td>April 4th, 2015</td>\n",
       "      <td>metad plc</td>\n",
       "      <td>Other</td>\n",
       "      <td>Washed / Wet</td>\n",
       "      <td>8.75</td>\n",
       "      <td>8.67</td>\n",
       "      <td>8.50</td>\n",
       "      <td>8.58</td>\n",
       "      <td>8.42</td>\n",
       "      <td>8.42</td>\n",
       "      <td>10.0</td>\n",
       "      <td>10.0</td>\n",
       "      <td>10.0</td>\n",
       "      <td>8.58</td>\n",
       "      <td>89.92</td>\n",
       "      <td>0.12</td>\n",
       "      <td>0</td>\n",
       "      <td>0.0</td>\n",
       "      <td>Green</td>\n",
       "      <td>1</td>\n",
       "      <td>April 3rd, 2016</td>\n",
       "      <td>METAD Agricultural Development plc</td>\n",
       "      <td>309fcf77415a3661ae83e027f7e5f05dad786e44</td>\n",
       "      <td>19fef5a731de2db57d16da10287413f5f99bc2dd</td>\n",
       "      <td>m</td>\n",
       "      <td>1950.0</td>\n",
       "      <td>2200.0</td>\n",
       "      <td>2075.0</td>\n",
       "    </tr>\n",
       "    <tr>\n",
       "      <th>2</th>\n",
       "      <td>3</td>\n",
       "      <td>Arabica</td>\n",
       "      <td>grounds for health admin</td>\n",
       "      <td>Guatemala</td>\n",
       "      <td>san marcos barrancas \"san cristobal cuch</td>\n",
       "      <td>NaN</td>\n",
       "      <td>NaN</td>\n",
       "      <td>NaN</td>\n",
       "      <td>NaN</td>\n",
       "      <td>1600 - 1800 m</td>\n",
       "      <td>NaN</td>\n",
       "      <td>NaN</td>\n",
       "      <td>5</td>\n",
       "      <td>1</td>\n",
       "      <td>Specialty Coffee Association</td>\n",
       "      <td>NaN</td>\n",
       "      <td>May 31st, 2010</td>\n",
       "      <td>Grounds for Health Admin</td>\n",
       "      <td>Bourbon</td>\n",
       "      <td>NaN</td>\n",
       "      <td>8.42</td>\n",
       "      <td>8.50</td>\n",
       "      <td>8.42</td>\n",
       "      <td>8.42</td>\n",
       "      <td>8.33</td>\n",
       "      <td>8.42</td>\n",
       "      <td>10.0</td>\n",
       "      <td>10.0</td>\n",
       "      <td>10.0</td>\n",
       "      <td>9.25</td>\n",
       "      <td>89.75</td>\n",
       "      <td>0.00</td>\n",
       "      <td>0</td>\n",
       "      <td>0.0</td>\n",
       "      <td>NaN</td>\n",
       "      <td>0</td>\n",
       "      <td>May 31st, 2011</td>\n",
       "      <td>Specialty Coffee Association</td>\n",
       "      <td>36d0d00a3724338ba7937c52a378d085f2172daa</td>\n",
       "      <td>0878a7d4b9d35ddbf0fe2ce69a2062cceb45a660</td>\n",
       "      <td>m</td>\n",
       "      <td>1600.0</td>\n",
       "      <td>1800.0</td>\n",
       "      <td>1700.0</td>\n",
       "    </tr>\n",
       "    <tr>\n",
       "      <th>3</th>\n",
       "      <td>4</td>\n",
       "      <td>Arabica</td>\n",
       "      <td>yidnekachew dabessa</td>\n",
       "      <td>Ethiopia</td>\n",
       "      <td>yidnekachew dabessa coffee plantation</td>\n",
       "      <td>NaN</td>\n",
       "      <td>wolensu</td>\n",
       "      <td>NaN</td>\n",
       "      <td>yidnekachew debessa coffee plantation</td>\n",
       "      <td>1800-2200</td>\n",
       "      <td>oromia</td>\n",
       "      <td>Yidnekachew Dabessa Coffee Plantation</td>\n",
       "      <td>320</td>\n",
       "      <td>60 kg</td>\n",
       "      <td>METAD Agricultural Development plc</td>\n",
       "      <td>2014</td>\n",
       "      <td>March 26th, 2015</td>\n",
       "      <td>Yidnekachew Dabessa</td>\n",
       "      <td>NaN</td>\n",
       "      <td>Natural / Dry</td>\n",
       "      <td>8.17</td>\n",
       "      <td>8.58</td>\n",
       "      <td>8.42</td>\n",
       "      <td>8.42</td>\n",
       "      <td>8.50</td>\n",
       "      <td>8.25</td>\n",
       "      <td>10.0</td>\n",
       "      <td>10.0</td>\n",
       "      <td>10.0</td>\n",
       "      <td>8.67</td>\n",
       "      <td>89.00</td>\n",
       "      <td>0.11</td>\n",
       "      <td>0</td>\n",
       "      <td>0.0</td>\n",
       "      <td>Green</td>\n",
       "      <td>2</td>\n",
       "      <td>March 25th, 2016</td>\n",
       "      <td>METAD Agricultural Development plc</td>\n",
       "      <td>309fcf77415a3661ae83e027f7e5f05dad786e44</td>\n",
       "      <td>19fef5a731de2db57d16da10287413f5f99bc2dd</td>\n",
       "      <td>m</td>\n",
       "      <td>1800.0</td>\n",
       "      <td>2200.0</td>\n",
       "      <td>2000.0</td>\n",
       "    </tr>\n",
       "    <tr>\n",
       "      <th>4</th>\n",
       "      <td>5</td>\n",
       "      <td>Arabica</td>\n",
       "      <td>metad plc</td>\n",
       "      <td>Ethiopia</td>\n",
       "      <td>metad plc</td>\n",
       "      <td>NaN</td>\n",
       "      <td>metad plc</td>\n",
       "      <td>2014/2015</td>\n",
       "      <td>metad agricultural developmet plc</td>\n",
       "      <td>1950-2200</td>\n",
       "      <td>guji-hambela</td>\n",
       "      <td>METAD PLC</td>\n",
       "      <td>300</td>\n",
       "      <td>60 kg</td>\n",
       "      <td>METAD Agricultural Development plc</td>\n",
       "      <td>2014</td>\n",
       "      <td>April 4th, 2015</td>\n",
       "      <td>metad plc</td>\n",
       "      <td>Other</td>\n",
       "      <td>Washed / Wet</td>\n",
       "      <td>8.25</td>\n",
       "      <td>8.50</td>\n",
       "      <td>8.25</td>\n",
       "      <td>8.50</td>\n",
       "      <td>8.42</td>\n",
       "      <td>8.33</td>\n",
       "      <td>10.0</td>\n",
       "      <td>10.0</td>\n",
       "      <td>10.0</td>\n",
       "      <td>8.58</td>\n",
       "      <td>88.83</td>\n",
       "      <td>0.12</td>\n",
       "      <td>0</td>\n",
       "      <td>0.0</td>\n",
       "      <td>Green</td>\n",
       "      <td>2</td>\n",
       "      <td>April 3rd, 2016</td>\n",
       "      <td>METAD Agricultural Development plc</td>\n",
       "      <td>309fcf77415a3661ae83e027f7e5f05dad786e44</td>\n",
       "      <td>19fef5a731de2db57d16da10287413f5f99bc2dd</td>\n",
       "      <td>m</td>\n",
       "      <td>1950.0</td>\n",
       "      <td>2200.0</td>\n",
       "      <td>2075.0</td>\n",
       "    </tr>\n",
       "  </tbody>\n",
       "</table>\n",
       "</div>"
      ],
      "text/plain": [
       "   Unnamed: 0  Species                     Owner Country.of.Origin  \\\n",
       "0           1  Arabica                 metad plc          Ethiopia   \n",
       "1           2  Arabica                 metad plc          Ethiopia   \n",
       "2           3  Arabica  grounds for health admin         Guatemala   \n",
       "3           4  Arabica       yidnekachew dabessa          Ethiopia   \n",
       "4           5  Arabica                 metad plc          Ethiopia   \n",
       "\n",
       "                                  Farm.Name Lot.Number       Mill ICO.Number  \\\n",
       "0                                 metad plc        NaN  metad plc  2014/2015   \n",
       "1                                 metad plc        NaN  metad plc  2014/2015   \n",
       "2  san marcos barrancas \"san cristobal cuch        NaN        NaN        NaN   \n",
       "3     yidnekachew dabessa coffee plantation        NaN    wolensu        NaN   \n",
       "4                                 metad plc        NaN  metad plc  2014/2015   \n",
       "\n",
       "                                 Company       Altitude        Region  \\\n",
       "0      metad agricultural developmet plc      1950-2200  guji-hambela   \n",
       "1      metad agricultural developmet plc      1950-2200  guji-hambela   \n",
       "2                                    NaN  1600 - 1800 m           NaN   \n",
       "3  yidnekachew debessa coffee plantation      1800-2200        oromia   \n",
       "4      metad agricultural developmet plc      1950-2200  guji-hambela   \n",
       "\n",
       "                                Producer  Number.of.Bags Bag.Weight  \\\n",
       "0                              METAD PLC             300      60 kg   \n",
       "1                              METAD PLC             300      60 kg   \n",
       "2                                    NaN               5          1   \n",
       "3  Yidnekachew Dabessa Coffee Plantation             320      60 kg   \n",
       "4                              METAD PLC             300      60 kg   \n",
       "\n",
       "                   In.Country.Partner Harvest.Year      Grading.Date  \\\n",
       "0  METAD Agricultural Development plc         2014   April 4th, 2015   \n",
       "1  METAD Agricultural Development plc         2014   April 4th, 2015   \n",
       "2        Specialty Coffee Association          NaN    May 31st, 2010   \n",
       "3  METAD Agricultural Development plc         2014  March 26th, 2015   \n",
       "4  METAD Agricultural Development plc         2014   April 4th, 2015   \n",
       "\n",
       "                    Owner.1  Variety Processing.Method  Aroma  Flavor  \\\n",
       "0                 metad plc      NaN      Washed / Wet   8.67    8.83   \n",
       "1                 metad plc    Other      Washed / Wet   8.75    8.67   \n",
       "2  Grounds for Health Admin  Bourbon               NaN   8.42    8.50   \n",
       "3       Yidnekachew Dabessa      NaN     Natural / Dry   8.17    8.58   \n",
       "4                 metad plc    Other      Washed / Wet   8.25    8.50   \n",
       "\n",
       "   Aftertaste  Acidity  Body  Balance  Uniformity  Clean.Cup  Sweetness  \\\n",
       "0        8.67     8.75  8.50     8.42        10.0       10.0       10.0   \n",
       "1        8.50     8.58  8.42     8.42        10.0       10.0       10.0   \n",
       "2        8.42     8.42  8.33     8.42        10.0       10.0       10.0   \n",
       "3        8.42     8.42  8.50     8.25        10.0       10.0       10.0   \n",
       "4        8.25     8.50  8.42     8.33        10.0       10.0       10.0   \n",
       "\n",
       "   Cupper.Points  Total.Cup.Points  Moisture  Category.One.Defects  Quakers  \\\n",
       "0           8.75             90.58      0.12                     0      0.0   \n",
       "1           8.58             89.92      0.12                     0      0.0   \n",
       "2           9.25             89.75      0.00                     0      0.0   \n",
       "3           8.67             89.00      0.11                     0      0.0   \n",
       "4           8.58             88.83      0.12                     0      0.0   \n",
       "\n",
       "   Color  Category.Two.Defects        Expiration  \\\n",
       "0  Green                     0   April 3rd, 2016   \n",
       "1  Green                     1   April 3rd, 2016   \n",
       "2    NaN                     0    May 31st, 2011   \n",
       "3  Green                     2  March 25th, 2016   \n",
       "4  Green                     2   April 3rd, 2016   \n",
       "\n",
       "                   Certification.Body  \\\n",
       "0  METAD Agricultural Development plc   \n",
       "1  METAD Agricultural Development plc   \n",
       "2        Specialty Coffee Association   \n",
       "3  METAD Agricultural Development plc   \n",
       "4  METAD Agricultural Development plc   \n",
       "\n",
       "                      Certification.Address  \\\n",
       "0  309fcf77415a3661ae83e027f7e5f05dad786e44   \n",
       "1  309fcf77415a3661ae83e027f7e5f05dad786e44   \n",
       "2  36d0d00a3724338ba7937c52a378d085f2172daa   \n",
       "3  309fcf77415a3661ae83e027f7e5f05dad786e44   \n",
       "4  309fcf77415a3661ae83e027f7e5f05dad786e44   \n",
       "\n",
       "                      Certification.Contact unit_of_measurement  \\\n",
       "0  19fef5a731de2db57d16da10287413f5f99bc2dd                   m   \n",
       "1  19fef5a731de2db57d16da10287413f5f99bc2dd                   m   \n",
       "2  0878a7d4b9d35ddbf0fe2ce69a2062cceb45a660                   m   \n",
       "3  19fef5a731de2db57d16da10287413f5f99bc2dd                   m   \n",
       "4  19fef5a731de2db57d16da10287413f5f99bc2dd                   m   \n",
       "\n",
       "   altitude_low_meters  altitude_high_meters  altitude_mean_meters  \n",
       "0               1950.0                2200.0                2075.0  \n",
       "1               1950.0                2200.0                2075.0  \n",
       "2               1600.0                1800.0                1700.0  \n",
       "3               1800.0                2200.0                2000.0  \n",
       "4               1950.0                2200.0                2075.0  "
      ]
     },
     "execution_count": 2,
     "metadata": {},
     "output_type": "execute_result"
    }
   ],
   "source": [
    "arabica = pd.read_csv(Path(\"../data/arabica_data_cleaned.csv\"))\n",
    "arabica.head()"
   ]
  },
  {
   "cell_type": "code",
   "execution_count": 3,
   "id": "f32cb46f",
   "metadata": {},
   "outputs": [
    {
     "data": {
      "text/plain": [
       "'Unnamed: 0'"
      ]
     },
     "execution_count": 3,
     "metadata": {},
     "output_type": "execute_result"
    }
   ],
   "source": [
    "arabica.keys()[0]"
   ]
  },
  {
   "cell_type": "code",
   "execution_count": 4,
   "id": "36d5d141",
   "metadata": {},
   "outputs": [],
   "source": [
    "arabica = arabica.set_index('Unnamed: 0')"
   ]
  },
  {
   "cell_type": "code",
   "execution_count": 5,
   "id": "febadf46",
   "metadata": {},
   "outputs": [
    {
     "data": {
      "text/html": [
       "<div>\n",
       "<style scoped>\n",
       "    .dataframe tbody tr th:only-of-type {\n",
       "        vertical-align: middle;\n",
       "    }\n",
       "\n",
       "    .dataframe tbody tr th {\n",
       "        vertical-align: top;\n",
       "    }\n",
       "\n",
       "    .dataframe thead th {\n",
       "        text-align: right;\n",
       "    }\n",
       "</style>\n",
       "<table border=\"1\" class=\"dataframe\">\n",
       "  <thead>\n",
       "    <tr style=\"text-align: right;\">\n",
       "      <th></th>\n",
       "      <th>Species</th>\n",
       "      <th>Owner</th>\n",
       "      <th>Country.of.Origin</th>\n",
       "      <th>Farm.Name</th>\n",
       "      <th>Lot.Number</th>\n",
       "      <th>Mill</th>\n",
       "      <th>ICO.Number</th>\n",
       "      <th>Company</th>\n",
       "      <th>Altitude</th>\n",
       "      <th>Region</th>\n",
       "      <th>Producer</th>\n",
       "      <th>Number.of.Bags</th>\n",
       "      <th>Bag.Weight</th>\n",
       "      <th>In.Country.Partner</th>\n",
       "      <th>Harvest.Year</th>\n",
       "      <th>Grading.Date</th>\n",
       "      <th>Owner.1</th>\n",
       "      <th>Variety</th>\n",
       "      <th>Processing.Method</th>\n",
       "      <th>Aroma</th>\n",
       "      <th>Flavor</th>\n",
       "      <th>Aftertaste</th>\n",
       "      <th>Acidity</th>\n",
       "      <th>Body</th>\n",
       "      <th>Balance</th>\n",
       "      <th>Uniformity</th>\n",
       "      <th>Clean.Cup</th>\n",
       "      <th>Sweetness</th>\n",
       "      <th>Cupper.Points</th>\n",
       "      <th>Total.Cup.Points</th>\n",
       "      <th>Moisture</th>\n",
       "      <th>Category.One.Defects</th>\n",
       "      <th>Quakers</th>\n",
       "      <th>Color</th>\n",
       "      <th>Category.Two.Defects</th>\n",
       "      <th>Expiration</th>\n",
       "      <th>Certification.Body</th>\n",
       "      <th>Certification.Address</th>\n",
       "      <th>Certification.Contact</th>\n",
       "      <th>unit_of_measurement</th>\n",
       "      <th>altitude_low_meters</th>\n",
       "      <th>altitude_high_meters</th>\n",
       "      <th>altitude_mean_meters</th>\n",
       "    </tr>\n",
       "  </thead>\n",
       "  <tbody>\n",
       "    <tr>\n",
       "      <th>1</th>\n",
       "      <td>Arabica</td>\n",
       "      <td>metad plc</td>\n",
       "      <td>Ethiopia</td>\n",
       "      <td>metad plc</td>\n",
       "      <td>NaN</td>\n",
       "      <td>metad plc</td>\n",
       "      <td>2014/2015</td>\n",
       "      <td>metad agricultural developmet plc</td>\n",
       "      <td>1950-2200</td>\n",
       "      <td>guji-hambela</td>\n",
       "      <td>METAD PLC</td>\n",
       "      <td>300</td>\n",
       "      <td>60 kg</td>\n",
       "      <td>METAD Agricultural Development plc</td>\n",
       "      <td>2014</td>\n",
       "      <td>April 4th, 2015</td>\n",
       "      <td>metad plc</td>\n",
       "      <td>NaN</td>\n",
       "      <td>Washed / Wet</td>\n",
       "      <td>8.67</td>\n",
       "      <td>8.83</td>\n",
       "      <td>8.67</td>\n",
       "      <td>8.75</td>\n",
       "      <td>8.50</td>\n",
       "      <td>8.42</td>\n",
       "      <td>10.0</td>\n",
       "      <td>10.0</td>\n",
       "      <td>10.0</td>\n",
       "      <td>8.75</td>\n",
       "      <td>90.58</td>\n",
       "      <td>0.12</td>\n",
       "      <td>0</td>\n",
       "      <td>0.0</td>\n",
       "      <td>Green</td>\n",
       "      <td>0</td>\n",
       "      <td>April 3rd, 2016</td>\n",
       "      <td>METAD Agricultural Development plc</td>\n",
       "      <td>309fcf77415a3661ae83e027f7e5f05dad786e44</td>\n",
       "      <td>19fef5a731de2db57d16da10287413f5f99bc2dd</td>\n",
       "      <td>m</td>\n",
       "      <td>1950.0</td>\n",
       "      <td>2200.0</td>\n",
       "      <td>2075.0</td>\n",
       "    </tr>\n",
       "    <tr>\n",
       "      <th>2</th>\n",
       "      <td>Arabica</td>\n",
       "      <td>metad plc</td>\n",
       "      <td>Ethiopia</td>\n",
       "      <td>metad plc</td>\n",
       "      <td>NaN</td>\n",
       "      <td>metad plc</td>\n",
       "      <td>2014/2015</td>\n",
       "      <td>metad agricultural developmet plc</td>\n",
       "      <td>1950-2200</td>\n",
       "      <td>guji-hambela</td>\n",
       "      <td>METAD PLC</td>\n",
       "      <td>300</td>\n",
       "      <td>60 kg</td>\n",
       "      <td>METAD Agricultural Development plc</td>\n",
       "      <td>2014</td>\n",
       "      <td>April 4th, 2015</td>\n",
       "      <td>metad plc</td>\n",
       "      <td>Other</td>\n",
       "      <td>Washed / Wet</td>\n",
       "      <td>8.75</td>\n",
       "      <td>8.67</td>\n",
       "      <td>8.50</td>\n",
       "      <td>8.58</td>\n",
       "      <td>8.42</td>\n",
       "      <td>8.42</td>\n",
       "      <td>10.0</td>\n",
       "      <td>10.0</td>\n",
       "      <td>10.0</td>\n",
       "      <td>8.58</td>\n",
       "      <td>89.92</td>\n",
       "      <td>0.12</td>\n",
       "      <td>0</td>\n",
       "      <td>0.0</td>\n",
       "      <td>Green</td>\n",
       "      <td>1</td>\n",
       "      <td>April 3rd, 2016</td>\n",
       "      <td>METAD Agricultural Development plc</td>\n",
       "      <td>309fcf77415a3661ae83e027f7e5f05dad786e44</td>\n",
       "      <td>19fef5a731de2db57d16da10287413f5f99bc2dd</td>\n",
       "      <td>m</td>\n",
       "      <td>1950.0</td>\n",
       "      <td>2200.0</td>\n",
       "      <td>2075.0</td>\n",
       "    </tr>\n",
       "    <tr>\n",
       "      <th>3</th>\n",
       "      <td>Arabica</td>\n",
       "      <td>grounds for health admin</td>\n",
       "      <td>Guatemala</td>\n",
       "      <td>san marcos barrancas \"san cristobal cuch</td>\n",
       "      <td>NaN</td>\n",
       "      <td>NaN</td>\n",
       "      <td>NaN</td>\n",
       "      <td>NaN</td>\n",
       "      <td>1600 - 1800 m</td>\n",
       "      <td>NaN</td>\n",
       "      <td>NaN</td>\n",
       "      <td>5</td>\n",
       "      <td>1</td>\n",
       "      <td>Specialty Coffee Association</td>\n",
       "      <td>NaN</td>\n",
       "      <td>May 31st, 2010</td>\n",
       "      <td>Grounds for Health Admin</td>\n",
       "      <td>Bourbon</td>\n",
       "      <td>NaN</td>\n",
       "      <td>8.42</td>\n",
       "      <td>8.50</td>\n",
       "      <td>8.42</td>\n",
       "      <td>8.42</td>\n",
       "      <td>8.33</td>\n",
       "      <td>8.42</td>\n",
       "      <td>10.0</td>\n",
       "      <td>10.0</td>\n",
       "      <td>10.0</td>\n",
       "      <td>9.25</td>\n",
       "      <td>89.75</td>\n",
       "      <td>0.00</td>\n",
       "      <td>0</td>\n",
       "      <td>0.0</td>\n",
       "      <td>NaN</td>\n",
       "      <td>0</td>\n",
       "      <td>May 31st, 2011</td>\n",
       "      <td>Specialty Coffee Association</td>\n",
       "      <td>36d0d00a3724338ba7937c52a378d085f2172daa</td>\n",
       "      <td>0878a7d4b9d35ddbf0fe2ce69a2062cceb45a660</td>\n",
       "      <td>m</td>\n",
       "      <td>1600.0</td>\n",
       "      <td>1800.0</td>\n",
       "      <td>1700.0</td>\n",
       "    </tr>\n",
       "    <tr>\n",
       "      <th>4</th>\n",
       "      <td>Arabica</td>\n",
       "      <td>yidnekachew dabessa</td>\n",
       "      <td>Ethiopia</td>\n",
       "      <td>yidnekachew dabessa coffee plantation</td>\n",
       "      <td>NaN</td>\n",
       "      <td>wolensu</td>\n",
       "      <td>NaN</td>\n",
       "      <td>yidnekachew debessa coffee plantation</td>\n",
       "      <td>1800-2200</td>\n",
       "      <td>oromia</td>\n",
       "      <td>Yidnekachew Dabessa Coffee Plantation</td>\n",
       "      <td>320</td>\n",
       "      <td>60 kg</td>\n",
       "      <td>METAD Agricultural Development plc</td>\n",
       "      <td>2014</td>\n",
       "      <td>March 26th, 2015</td>\n",
       "      <td>Yidnekachew Dabessa</td>\n",
       "      <td>NaN</td>\n",
       "      <td>Natural / Dry</td>\n",
       "      <td>8.17</td>\n",
       "      <td>8.58</td>\n",
       "      <td>8.42</td>\n",
       "      <td>8.42</td>\n",
       "      <td>8.50</td>\n",
       "      <td>8.25</td>\n",
       "      <td>10.0</td>\n",
       "      <td>10.0</td>\n",
       "      <td>10.0</td>\n",
       "      <td>8.67</td>\n",
       "      <td>89.00</td>\n",
       "      <td>0.11</td>\n",
       "      <td>0</td>\n",
       "      <td>0.0</td>\n",
       "      <td>Green</td>\n",
       "      <td>2</td>\n",
       "      <td>March 25th, 2016</td>\n",
       "      <td>METAD Agricultural Development plc</td>\n",
       "      <td>309fcf77415a3661ae83e027f7e5f05dad786e44</td>\n",
       "      <td>19fef5a731de2db57d16da10287413f5f99bc2dd</td>\n",
       "      <td>m</td>\n",
       "      <td>1800.0</td>\n",
       "      <td>2200.0</td>\n",
       "      <td>2000.0</td>\n",
       "    </tr>\n",
       "    <tr>\n",
       "      <th>5</th>\n",
       "      <td>Arabica</td>\n",
       "      <td>metad plc</td>\n",
       "      <td>Ethiopia</td>\n",
       "      <td>metad plc</td>\n",
       "      <td>NaN</td>\n",
       "      <td>metad plc</td>\n",
       "      <td>2014/2015</td>\n",
       "      <td>metad agricultural developmet plc</td>\n",
       "      <td>1950-2200</td>\n",
       "      <td>guji-hambela</td>\n",
       "      <td>METAD PLC</td>\n",
       "      <td>300</td>\n",
       "      <td>60 kg</td>\n",
       "      <td>METAD Agricultural Development plc</td>\n",
       "      <td>2014</td>\n",
       "      <td>April 4th, 2015</td>\n",
       "      <td>metad plc</td>\n",
       "      <td>Other</td>\n",
       "      <td>Washed / Wet</td>\n",
       "      <td>8.25</td>\n",
       "      <td>8.50</td>\n",
       "      <td>8.25</td>\n",
       "      <td>8.50</td>\n",
       "      <td>8.42</td>\n",
       "      <td>8.33</td>\n",
       "      <td>10.0</td>\n",
       "      <td>10.0</td>\n",
       "      <td>10.0</td>\n",
       "      <td>8.58</td>\n",
       "      <td>88.83</td>\n",
       "      <td>0.12</td>\n",
       "      <td>0</td>\n",
       "      <td>0.0</td>\n",
       "      <td>Green</td>\n",
       "      <td>2</td>\n",
       "      <td>April 3rd, 2016</td>\n",
       "      <td>METAD Agricultural Development plc</td>\n",
       "      <td>309fcf77415a3661ae83e027f7e5f05dad786e44</td>\n",
       "      <td>19fef5a731de2db57d16da10287413f5f99bc2dd</td>\n",
       "      <td>m</td>\n",
       "      <td>1950.0</td>\n",
       "      <td>2200.0</td>\n",
       "      <td>2075.0</td>\n",
       "    </tr>\n",
       "  </tbody>\n",
       "</table>\n",
       "</div>"
      ],
      "text/plain": [
       "   Species                     Owner Country.of.Origin  \\\n",
       "1  Arabica                 metad plc          Ethiopia   \n",
       "2  Arabica                 metad plc          Ethiopia   \n",
       "3  Arabica  grounds for health admin         Guatemala   \n",
       "4  Arabica       yidnekachew dabessa          Ethiopia   \n",
       "5  Arabica                 metad plc          Ethiopia   \n",
       "\n",
       "                                  Farm.Name Lot.Number       Mill ICO.Number  \\\n",
       "1                                 metad plc        NaN  metad plc  2014/2015   \n",
       "2                                 metad plc        NaN  metad plc  2014/2015   \n",
       "3  san marcos barrancas \"san cristobal cuch        NaN        NaN        NaN   \n",
       "4     yidnekachew dabessa coffee plantation        NaN    wolensu        NaN   \n",
       "5                                 metad plc        NaN  metad plc  2014/2015   \n",
       "\n",
       "                                 Company       Altitude        Region  \\\n",
       "1      metad agricultural developmet plc      1950-2200  guji-hambela   \n",
       "2      metad agricultural developmet plc      1950-2200  guji-hambela   \n",
       "3                                    NaN  1600 - 1800 m           NaN   \n",
       "4  yidnekachew debessa coffee plantation      1800-2200        oromia   \n",
       "5      metad agricultural developmet plc      1950-2200  guji-hambela   \n",
       "\n",
       "                                Producer  Number.of.Bags Bag.Weight  \\\n",
       "1                              METAD PLC             300      60 kg   \n",
       "2                              METAD PLC             300      60 kg   \n",
       "3                                    NaN               5          1   \n",
       "4  Yidnekachew Dabessa Coffee Plantation             320      60 kg   \n",
       "5                              METAD PLC             300      60 kg   \n",
       "\n",
       "                   In.Country.Partner Harvest.Year      Grading.Date  \\\n",
       "1  METAD Agricultural Development plc         2014   April 4th, 2015   \n",
       "2  METAD Agricultural Development plc         2014   April 4th, 2015   \n",
       "3        Specialty Coffee Association          NaN    May 31st, 2010   \n",
       "4  METAD Agricultural Development plc         2014  March 26th, 2015   \n",
       "5  METAD Agricultural Development plc         2014   April 4th, 2015   \n",
       "\n",
       "                    Owner.1  Variety Processing.Method  Aroma  Flavor  \\\n",
       "1                 metad plc      NaN      Washed / Wet   8.67    8.83   \n",
       "2                 metad plc    Other      Washed / Wet   8.75    8.67   \n",
       "3  Grounds for Health Admin  Bourbon               NaN   8.42    8.50   \n",
       "4       Yidnekachew Dabessa      NaN     Natural / Dry   8.17    8.58   \n",
       "5                 metad plc    Other      Washed / Wet   8.25    8.50   \n",
       "\n",
       "   Aftertaste  Acidity  Body  Balance  Uniformity  Clean.Cup  Sweetness  \\\n",
       "1        8.67     8.75  8.50     8.42        10.0       10.0       10.0   \n",
       "2        8.50     8.58  8.42     8.42        10.0       10.0       10.0   \n",
       "3        8.42     8.42  8.33     8.42        10.0       10.0       10.0   \n",
       "4        8.42     8.42  8.50     8.25        10.0       10.0       10.0   \n",
       "5        8.25     8.50  8.42     8.33        10.0       10.0       10.0   \n",
       "\n",
       "   Cupper.Points  Total.Cup.Points  Moisture  Category.One.Defects  Quakers  \\\n",
       "1           8.75             90.58      0.12                     0      0.0   \n",
       "2           8.58             89.92      0.12                     0      0.0   \n",
       "3           9.25             89.75      0.00                     0      0.0   \n",
       "4           8.67             89.00      0.11                     0      0.0   \n",
       "5           8.58             88.83      0.12                     0      0.0   \n",
       "\n",
       "   Color  Category.Two.Defects        Expiration  \\\n",
       "1  Green                     0   April 3rd, 2016   \n",
       "2  Green                     1   April 3rd, 2016   \n",
       "3    NaN                     0    May 31st, 2011   \n",
       "4  Green                     2  March 25th, 2016   \n",
       "5  Green                     2   April 3rd, 2016   \n",
       "\n",
       "                   Certification.Body  \\\n",
       "1  METAD Agricultural Development plc   \n",
       "2  METAD Agricultural Development plc   \n",
       "3        Specialty Coffee Association   \n",
       "4  METAD Agricultural Development plc   \n",
       "5  METAD Agricultural Development plc   \n",
       "\n",
       "                      Certification.Address  \\\n",
       "1  309fcf77415a3661ae83e027f7e5f05dad786e44   \n",
       "2  309fcf77415a3661ae83e027f7e5f05dad786e44   \n",
       "3  36d0d00a3724338ba7937c52a378d085f2172daa   \n",
       "4  309fcf77415a3661ae83e027f7e5f05dad786e44   \n",
       "5  309fcf77415a3661ae83e027f7e5f05dad786e44   \n",
       "\n",
       "                      Certification.Contact unit_of_measurement  \\\n",
       "1  19fef5a731de2db57d16da10287413f5f99bc2dd                   m   \n",
       "2  19fef5a731de2db57d16da10287413f5f99bc2dd                   m   \n",
       "3  0878a7d4b9d35ddbf0fe2ce69a2062cceb45a660                   m   \n",
       "4  19fef5a731de2db57d16da10287413f5f99bc2dd                   m   \n",
       "5  19fef5a731de2db57d16da10287413f5f99bc2dd                   m   \n",
       "\n",
       "   altitude_low_meters  altitude_high_meters  altitude_mean_meters  \n",
       "1               1950.0                2200.0                2075.0  \n",
       "2               1950.0                2200.0                2075.0  \n",
       "3               1600.0                1800.0                1700.0  \n",
       "4               1800.0                2200.0                2000.0  \n",
       "5               1950.0                2200.0                2075.0  "
      ]
     },
     "execution_count": 5,
     "metadata": {},
     "output_type": "execute_result"
    }
   ],
   "source": [
    "arabica.index.name = None\n",
    "arabica.head()"
   ]
  },
  {
   "cell_type": "markdown",
   "id": "sexual-contribution",
   "metadata": {},
   "source": [
    "## Drop some categorical columns\n",
    "The dataset is rich in meta data, however we just want to keep \"Country.of.Origin\", \"Producer\", \"Processing.Method\". How to drop the rest?\n",
    "While you're at it rename the three columns we want to keep so they do not have dots but space in their name. "
   ]
  },
  {
   "cell_type": "code",
   "execution_count": 6,
   "id": "4d316f9a",
   "metadata": {},
   "outputs": [
    {
     "name": "stdout",
     "output_type": "stream",
     "text": [
      "<class 'pandas.core.frame.DataFrame'>\n",
      "Int64Index: 1311 entries, 1 to 1312\n",
      "Data columns (total 43 columns):\n",
      " #   Column                 Non-Null Count  Dtype  \n",
      "---  ------                 --------------  -----  \n",
      " 0   Species                1311 non-null   string \n",
      " 1   Owner                  1304 non-null   string \n",
      " 2   Country.of.Origin      1310 non-null   string \n",
      " 3   Farm.Name              955 non-null    string \n",
      " 4   Lot.Number             270 non-null    string \n",
      " 5   Mill                   1001 non-null   string \n",
      " 6   ICO.Number             1165 non-null   string \n",
      " 7   Company                1102 non-null   string \n",
      " 8   Altitude               1088 non-null   string \n",
      " 9   Region                 1254 non-null   string \n",
      " 10  Producer               1081 non-null   string \n",
      " 11  Number.of.Bags         1311 non-null   Int64  \n",
      " 12  Bag.Weight             1311 non-null   string \n",
      " 13  In.Country.Partner     1311 non-null   string \n",
      " 14  Harvest.Year           1264 non-null   string \n",
      " 15  Grading.Date           1311 non-null   string \n",
      " 16  Owner.1                1304 non-null   string \n",
      " 17  Variety                1110 non-null   string \n",
      " 18  Processing.Method      1159 non-null   string \n",
      " 19  Aroma                  1311 non-null   Float64\n",
      " 20  Flavor                 1311 non-null   Float64\n",
      " 21  Aftertaste             1311 non-null   Float64\n",
      " 22  Acidity                1311 non-null   Float64\n",
      " 23  Body                   1311 non-null   Float64\n",
      " 24  Balance                1311 non-null   Float64\n",
      " 25  Uniformity             1311 non-null   Float64\n",
      " 26  Clean.Cup              1311 non-null   Float64\n",
      " 27  Sweetness              1311 non-null   Float64\n",
      " 28  Cupper.Points          1311 non-null   Float64\n",
      " 29  Total.Cup.Points       1311 non-null   Float64\n",
      " 30  Moisture               1311 non-null   Float64\n",
      " 31  Category.One.Defects   1311 non-null   Int64  \n",
      " 32  Quakers                1310 non-null   Int64  \n",
      " 33  Color                  1095 non-null   string \n",
      " 34  Category.Two.Defects   1311 non-null   Int64  \n",
      " 35  Expiration             1311 non-null   string \n",
      " 36  Certification.Body     1311 non-null   string \n",
      " 37  Certification.Address  1311 non-null   string \n",
      " 38  Certification.Contact  1311 non-null   string \n",
      " 39  unit_of_measurement    1311 non-null   string \n",
      " 40  altitude_low_meters    1084 non-null   Float64\n",
      " 41  altitude_high_meters   1084 non-null   Float64\n",
      " 42  altitude_mean_meters   1084 non-null   Float64\n",
      "dtypes: Float64(15), Int64(4), string(24)\n",
      "memory usage: 475.0 KB\n"
     ]
    }
   ],
   "source": [
    "arabica = arabica.convert_dtypes()\n",
    "arabica.\n"
   ]
  },
  {
   "cell_type": "code",
   "execution_count": 89,
   "id": "b227a9a2",
   "metadata": {},
   "outputs": [],
   "source": [
    "columns_to_drop = arabica.columns.difference([\"Country.of.Origin\", \n",
    "\"Producer\", \n",
    "\"Processing.Method\", \"Number.of.Bags\"])\n",
    "arabica.drop(columns=columns_to_drop, inplace=True)\n",
    "arabica.rename(columns={\"Country.of.Origin\":\"Country of Origin\", \n",
    "\"Processing.Method\": \"Processing Method\", \n",
    "\"Number.of.Bags\":\"Number of Bags\"},\n",
    "inplace=True)"
   ]
  },
  {
   "cell_type": "markdown",
   "id": "recovered-manitoba",
   "metadata": {},
   "source": [
    "## Clean the data set\n",
    "The dataset does not seem to be as clean as the filename might suggest. How can you get a quick overview over the data and identify which columns have extreme outliers? If you cannot using pd commands, try to plot (see next question)!"
   ]
  },
  {
   "cell_type": "code",
   "execution_count": 90,
   "id": "5bc015b8",
   "metadata": {},
   "outputs": [
    {
     "data": {
      "text/html": [
       "<div>\n",
       "<style scoped>\n",
       "    .dataframe tbody tr th:only-of-type {\n",
       "        vertical-align: middle;\n",
       "    }\n",
       "\n",
       "    .dataframe tbody tr th {\n",
       "        vertical-align: top;\n",
       "    }\n",
       "\n",
       "    .dataframe thead th {\n",
       "        text-align: right;\n",
       "    }\n",
       "</style>\n",
       "<table border=\"1\" class=\"dataframe\">\n",
       "  <thead>\n",
       "    <tr style=\"text-align: right;\">\n",
       "      <th></th>\n",
       "      <th>Number of Bags</th>\n",
       "    </tr>\n",
       "  </thead>\n",
       "  <tbody>\n",
       "    <tr>\n",
       "      <th>count</th>\n",
       "      <td>1311.000000</td>\n",
       "    </tr>\n",
       "    <tr>\n",
       "      <th>mean</th>\n",
       "      <td>153.887872</td>\n",
       "    </tr>\n",
       "    <tr>\n",
       "      <th>std</th>\n",
       "      <td>129.733734</td>\n",
       "    </tr>\n",
       "    <tr>\n",
       "      <th>min</th>\n",
       "      <td>0.000000</td>\n",
       "    </tr>\n",
       "    <tr>\n",
       "      <th>25%</th>\n",
       "      <td>14.500000</td>\n",
       "    </tr>\n",
       "    <tr>\n",
       "      <th>50%</th>\n",
       "      <td>175.000000</td>\n",
       "    </tr>\n",
       "    <tr>\n",
       "      <th>75%</th>\n",
       "      <td>275.000000</td>\n",
       "    </tr>\n",
       "    <tr>\n",
       "      <th>max</th>\n",
       "      <td>1062.000000</td>\n",
       "    </tr>\n",
       "  </tbody>\n",
       "</table>\n",
       "</div>"
      ],
      "text/plain": [
       "       Number of Bags\n",
       "count     1311.000000\n",
       "mean       153.887872\n",
       "std        129.733734\n",
       "min          0.000000\n",
       "25%         14.500000\n",
       "50%        175.000000\n",
       "75%        275.000000\n",
       "max       1062.000000"
      ]
     },
     "execution_count": 90,
     "metadata": {},
     "output_type": "execute_result"
    }
   ],
   "source": [
    "arabica.describe()"
   ]
  },
  {
   "cell_type": "code",
   "execution_count": 91,
   "id": "465e3595",
   "metadata": {},
   "outputs": [
    {
     "name": "stdout",
     "output_type": "stream",
     "text": [
      "<class 'pandas.core.frame.DataFrame'>\n",
      "Int64Index: 1311 entries, 1 to 1312\n",
      "Data columns (total 4 columns):\n",
      " #   Column             Non-Null Count  Dtype \n",
      "---  ------             --------------  ----- \n",
      " 0   Country of Origin  1310 non-null   object\n",
      " 1   Producer           1081 non-null   object\n",
      " 2   Number of Bags     1311 non-null   int64 \n",
      " 3   Processing Method  1159 non-null   object\n",
      "dtypes: int64(1), object(3)\n",
      "memory usage: 51.2+ KB\n"
     ]
    }
   ],
   "source": [
    "arabica.info()"
   ]
  },
  {
   "cell_type": "code",
   "execution_count": 92,
   "id": "2c044944",
   "metadata": {},
   "outputs": [],
   "source": [
    "arabica.dropna(axis=0, inplace=True)"
   ]
  },
  {
   "cell_type": "code",
   "execution_count": 93,
   "id": "593f8d37",
   "metadata": {},
   "outputs": [
    {
     "data": {
      "text/html": [
       "<div>\n",
       "<style scoped>\n",
       "    .dataframe tbody tr th:only-of-type {\n",
       "        vertical-align: middle;\n",
       "    }\n",
       "\n",
       "    .dataframe tbody tr th {\n",
       "        vertical-align: top;\n",
       "    }\n",
       "\n",
       "    .dataframe thead th {\n",
       "        text-align: right;\n",
       "    }\n",
       "</style>\n",
       "<table border=\"1\" class=\"dataframe\">\n",
       "  <thead>\n",
       "    <tr style=\"text-align: right;\">\n",
       "      <th></th>\n",
       "      <th>Country of Origin</th>\n",
       "      <th>Producer</th>\n",
       "      <th>Number of Bags</th>\n",
       "      <th>Processing Method</th>\n",
       "    </tr>\n",
       "  </thead>\n",
       "  <tbody>\n",
       "    <tr>\n",
       "      <th>1</th>\n",
       "      <td>Ethiopia</td>\n",
       "      <td>METAD PLC</td>\n",
       "      <td>300</td>\n",
       "      <td>Washed / Wet</td>\n",
       "    </tr>\n",
       "    <tr>\n",
       "      <th>2</th>\n",
       "      <td>Ethiopia</td>\n",
       "      <td>METAD PLC</td>\n",
       "      <td>300</td>\n",
       "      <td>Washed / Wet</td>\n",
       "    </tr>\n",
       "    <tr>\n",
       "      <th>4</th>\n",
       "      <td>Ethiopia</td>\n",
       "      <td>Yidnekachew Dabessa Coffee Plantation</td>\n",
       "      <td>320</td>\n",
       "      <td>Natural / Dry</td>\n",
       "    </tr>\n",
       "    <tr>\n",
       "      <th>5</th>\n",
       "      <td>Ethiopia</td>\n",
       "      <td>METAD PLC</td>\n",
       "      <td>300</td>\n",
       "      <td>Washed / Wet</td>\n",
       "    </tr>\n",
       "    <tr>\n",
       "      <th>7</th>\n",
       "      <td>Peru</td>\n",
       "      <td>HVC</td>\n",
       "      <td>100</td>\n",
       "      <td>Washed / Wet</td>\n",
       "    </tr>\n",
       "    <tr>\n",
       "      <th>...</th>\n",
       "      <td>...</td>\n",
       "      <td>...</td>\n",
       "      <td>...</td>\n",
       "      <td>...</td>\n",
       "    </tr>\n",
       "    <tr>\n",
       "      <th>1306</th>\n",
       "      <td>Honduras</td>\n",
       "      <td>Omar Acosta</td>\n",
       "      <td>275</td>\n",
       "      <td>Washed / Wet</td>\n",
       "    </tr>\n",
       "    <tr>\n",
       "      <th>1307</th>\n",
       "      <td>Mexico</td>\n",
       "      <td>JUAN CARLOS GARCÍA LOPEZ</td>\n",
       "      <td>12</td>\n",
       "      <td>Washed / Wet</td>\n",
       "    </tr>\n",
       "    <tr>\n",
       "      <th>1308</th>\n",
       "      <td>Haiti</td>\n",
       "      <td>COEB Koperativ Ekselsyo Basen</td>\n",
       "      <td>1</td>\n",
       "      <td>Natural / Dry</td>\n",
       "    </tr>\n",
       "    <tr>\n",
       "      <th>1309</th>\n",
       "      <td>Nicaragua</td>\n",
       "      <td>Teófilo Narváez</td>\n",
       "      <td>550</td>\n",
       "      <td>Other</td>\n",
       "    </tr>\n",
       "    <tr>\n",
       "      <th>1310</th>\n",
       "      <td>Guatemala</td>\n",
       "      <td>WILLIAM ESTUARDO MARTINEZ PACHECO</td>\n",
       "      <td>275</td>\n",
       "      <td>Washed / Wet</td>\n",
       "    </tr>\n",
       "  </tbody>\n",
       "</table>\n",
       "<p>987 rows × 4 columns</p>\n",
       "</div>"
      ],
      "text/plain": [
       "     Country of Origin                               Producer  Number of Bags  \\\n",
       "1             Ethiopia                              METAD PLC             300   \n",
       "2             Ethiopia                              METAD PLC             300   \n",
       "4             Ethiopia  Yidnekachew Dabessa Coffee Plantation             320   \n",
       "5             Ethiopia                              METAD PLC             300   \n",
       "7                 Peru                                    HVC             100   \n",
       "...                ...                                    ...             ...   \n",
       "1306          Honduras                            Omar Acosta             275   \n",
       "1307            Mexico               JUAN CARLOS GARCÍA LOPEZ              12   \n",
       "1308             Haiti          COEB Koperativ Ekselsyo Basen               1   \n",
       "1309         Nicaragua                        Teófilo Narváez             550   \n",
       "1310         Guatemala      WILLIAM ESTUARDO MARTINEZ PACHECO             275   \n",
       "\n",
       "     Processing Method  \n",
       "1         Washed / Wet  \n",
       "2         Washed / Wet  \n",
       "4        Natural / Dry  \n",
       "5         Washed / Wet  \n",
       "7         Washed / Wet  \n",
       "...                ...  \n",
       "1306      Washed / Wet  \n",
       "1307      Washed / Wet  \n",
       "1308     Natural / Dry  \n",
       "1309             Other  \n",
       "1310      Washed / Wet  \n",
       "\n",
       "[987 rows x 4 columns]"
      ]
     },
     "execution_count": 93,
     "metadata": {},
     "output_type": "execute_result"
    }
   ],
   "source": [
    "arabica"
   ]
  },
  {
   "cell_type": "markdown",
   "id": "automated-complaint",
   "metadata": {},
   "source": [
    "## Plot \n",
    "Plot a plotly histogram for each of the remaining columns. Can you write a loop?"
   ]
  },
  {
   "cell_type": "code",
   "execution_count": 94,
   "id": "7fdf0739",
   "metadata": {},
   "outputs": [
    {
     "data": {
      "application/vnd.plotly.v1+json": {
       "config": {
        "plotlyServerURL": "https://plot.ly"
       },
       "data": [
        {
         "alignmentgroup": "True",
         "bingroup": "x",
         "hovertemplate": "Country of Origin=%{x}<br>count=%{y}<extra></extra>",
         "legendgroup": "",
         "marker": {
          "color": "#636efa",
          "pattern": {
           "shape": ""
          }
         },
         "name": "",
         "offsetgroup": "",
         "orientation": "v",
         "showlegend": false,
         "type": "histogram",
         "x": [
          "Ethiopia",
          "Ethiopia",
          "Ethiopia",
          "Ethiopia",
          "Peru",
          "Ethiopia",
          "Ethiopia",
          "United States",
          "United States",
          "United States",
          "China",
          "Ethiopia",
          "United States",
          "Costa Rica",
          "Mexico",
          "United States",
          "Brazil",
          "Uganda",
          "Taiwan",
          "Brazil",
          "Costa Rica",
          "Ethiopia",
          "Kenya",
          "United States",
          "Thailand",
          "Taiwan",
          "Kenya",
          "Brazil",
          "Uganda",
          "Uganda",
          "Guatemala",
          "Uganda",
          "Panama",
          "Ethiopia",
          "Guatemala",
          "Guatemala",
          "Ethiopia",
          "Papua New Guinea",
          "El Salvador",
          "El Salvador",
          "Panama",
          "Ethiopia",
          "Uganda",
          "Guatemala",
          "Ethiopia",
          "Uganda",
          "Brazil",
          "China",
          "Guatemala",
          "Costa Rica",
          "Costa Rica",
          "Kenya",
          "Kenya",
          "Colombia",
          "Guatemala",
          "Ethiopia",
          "Colombia",
          "Ethiopia",
          "Colombia",
          "Uganda",
          "Colombia",
          "Costa Rica",
          "Mexico",
          "Brazil",
          "Colombia",
          "Colombia",
          "Taiwan",
          "Tanzania, United Republic Of",
          "Colombia",
          "Mexico",
          "Brazil",
          "Brazil",
          "Taiwan",
          "Uganda",
          "Thailand",
          "Kenya",
          "Honduras",
          "El Salvador",
          "Indonesia",
          "Japan",
          "Costa Rica",
          "Guatemala",
          "Costa Rica",
          "Ethiopia",
          "Costa Rica",
          "Costa Rica",
          "Taiwan",
          "Kenya",
          "Guatemala",
          "Guatemala",
          "Mexico",
          "Kenya",
          "Colombia",
          "Kenya",
          "Guatemala",
          "Guatemala",
          "Colombia",
          "Kenya",
          "Colombia",
          "Brazil",
          "Brazil",
          "Costa Rica",
          "Uganda",
          "China",
          "Costa Rica",
          "China",
          "Guatemala",
          "Mexico",
          "Mexico",
          "Guatemala",
          "Costa Rica",
          "Indonesia",
          "Colombia",
          "Colombia",
          "Taiwan",
          "Mexico",
          "Kenya",
          "Honduras",
          "Colombia",
          "Mexico",
          "Taiwan",
          "Thailand",
          "Colombia",
          "Guatemala",
          "Guatemala",
          "China",
          "Colombia",
          "Colombia",
          "Colombia",
          "Tanzania, United Republic Of",
          "Tanzania, United Republic Of",
          "Guatemala",
          "Mexico",
          "Mexico",
          "Mexico",
          "Guatemala",
          "Colombia",
          "Costa Rica",
          "Guatemala",
          "Guatemala",
          "Guatemala",
          "Colombia",
          "Nicaragua",
          "Brazil",
          "Costa Rica",
          "Ethiopia",
          "Tanzania, United Republic Of",
          "Brazil",
          "Guatemala",
          "El Salvador",
          "Guatemala",
          "Indonesia",
          "Colombia",
          "Taiwan",
          "Guatemala",
          "Colombia",
          "Guatemala",
          "Mexico",
          "Ethiopia",
          "Honduras",
          "Guatemala",
          "Guatemala",
          "Guatemala",
          "Colombia",
          "Brazil",
          "Kenya",
          "Thailand",
          "Kenya",
          "Brazil",
          "Mexico",
          "Thailand",
          "Brazil",
          "Taiwan",
          "Taiwan",
          "Colombia",
          "Taiwan",
          "Mexico",
          "Mexico",
          "Mexico",
          "Colombia",
          "Costa Rica",
          "Guatemala",
          "Brazil",
          "Taiwan",
          "Ethiopia",
          "Brazil",
          "Costa Rica",
          "Guatemala",
          "Brazil",
          "Guatemala",
          "Mexico",
          "Mexico",
          "Brazil",
          "Kenya",
          "Brazil",
          "Colombia",
          "Taiwan",
          "Colombia",
          "China",
          "Colombia",
          "Uganda",
          "United States (Puerto Rico)",
          "Colombia",
          "Mexico",
          "Guatemala",
          "Brazil",
          "Kenya",
          "Honduras",
          "Nicaragua",
          "Brazil",
          "Taiwan",
          "Thailand",
          "Colombia",
          "Guatemala",
          "Colombia",
          "Guatemala",
          "Guatemala",
          "Guatemala",
          "Guatemala",
          "Mexico",
          "Indonesia",
          "Guatemala",
          "Brazil",
          "Guatemala",
          "Colombia",
          "China",
          "Colombia",
          "Mexico",
          "Ethiopia",
          "Uganda",
          "Taiwan",
          "Colombia",
          "Mexico",
          "Colombia",
          "Brazil",
          "Colombia",
          "Costa Rica",
          "Colombia",
          "Guatemala",
          "Colombia",
          "Tanzania, United Republic Of",
          "Indonesia",
          "Ethiopia",
          "Guatemala",
          "Honduras",
          "Mexico",
          "Mexico",
          "Mexico",
          "Guatemala",
          "Colombia",
          "Guatemala",
          "Colombia",
          "Guatemala",
          "Colombia",
          "Costa Rica",
          "Uganda",
          "Thailand",
          "El Salvador",
          "Colombia",
          "Brazil",
          "Tanzania, United Republic Of",
          "Guatemala",
          "Guatemala",
          "Guatemala",
          "Colombia",
          "Colombia",
          "Colombia",
          "Brazil",
          "Mexico",
          "Colombia",
          "Tanzania, United Republic Of",
          "Mexico",
          "Costa Rica",
          "Costa Rica",
          "Haiti",
          "Colombia",
          "Guatemala",
          "Colombia",
          "Mexico",
          "Costa Rica",
          "Costa Rica",
          "Guatemala",
          "Uganda",
          "Colombia",
          "Mexico",
          "Taiwan",
          "Taiwan",
          "Guatemala",
          "Mexico",
          "Mexico",
          "Mexico",
          "Guatemala",
          "Brazil",
          "Colombia",
          "Brazil",
          "Guatemala",
          "Tanzania, United Republic Of",
          "Vietnam",
          "Guatemala",
          "Honduras",
          "China",
          "China",
          "El Salvador",
          "Guatemala",
          "Guatemala",
          "Thailand",
          "Tanzania, United Republic Of",
          "Colombia",
          "Uganda",
          "Colombia",
          "Honduras",
          "Honduras",
          "Guatemala",
          "Guatemala",
          "Mexico",
          "Mexico",
          "Mexico",
          "Colombia",
          "Mexico",
          "Mexico",
          "Brazil",
          "Brazil",
          "Guatemala",
          "Brazil",
          "Colombia",
          "Colombia",
          "Brazil",
          "Brazil",
          "Taiwan",
          "Brazil",
          "Costa Rica",
          "Taiwan",
          "Mexico",
          "Brazil",
          "Brazil",
          "Brazil",
          "Uganda",
          "Uganda",
          "Vietnam",
          "Guatemala",
          "Guatemala",
          "Guatemala",
          "Brazil",
          "Taiwan",
          "Uganda",
          "United States (Puerto Rico)",
          "Guatemala",
          "Costa Rica",
          "Brazil",
          "Colombia",
          "Colombia",
          "Colombia",
          "Colombia",
          "Mexico",
          "Mexico",
          "Mexico",
          "Colombia",
          "Colombia",
          "Guatemala",
          "Colombia",
          "Brazil",
          "El Salvador",
          "Taiwan",
          "Ethiopia",
          "Taiwan",
          "Philippines",
          "Philippines",
          "Mexico",
          "Mexico",
          "Brazil",
          "Uganda",
          "Uganda",
          "Guatemala",
          "Guatemala",
          "Guatemala",
          "Mexico",
          "Vietnam",
          "Mexico",
          "Kenya",
          "Guatemala",
          "Brazil",
          "El Salvador",
          "Rwanda",
          "Vietnam",
          "Guatemala",
          "Brazil",
          "Colombia",
          "United States",
          "Guatemala",
          "Colombia",
          "Colombia",
          "Tanzania, United Republic Of",
          "Mexico",
          "Mexico",
          "Guatemala",
          "Mexico",
          "Guatemala",
          "Guatemala",
          "Guatemala",
          "Guatemala",
          "Guatemala",
          "Indonesia",
          "Guatemala",
          "Taiwan",
          "El Salvador",
          "Costa Rica",
          "Honduras",
          "Brazil",
          "China",
          "China",
          "Colombia",
          "Malawi",
          "Guatemala",
          "Colombia",
          "Mexico",
          "Mexico",
          "Mexico",
          "Colombia",
          "Colombia",
          "Panama",
          "Brazil",
          "Brazil",
          "Laos",
          "El Salvador",
          "Brazil",
          "Brazil",
          "Tanzania, United Republic Of",
          "Tanzania, United Republic Of",
          "Taiwan",
          "Mexico",
          "Uganda",
          "Taiwan",
          "Thailand",
          "Guatemala",
          "Thailand",
          "Mexico",
          "Mexico",
          "Guatemala",
          "Taiwan",
          "Indonesia",
          "Thailand",
          "Thailand",
          "Tanzania, United Republic Of",
          "Uganda",
          "Costa Rica",
          "Mexico",
          "Colombia",
          "Colombia",
          "Mexico",
          "Mexico",
          "Colombia",
          "Brazil",
          "Indonesia",
          "Honduras",
          "Guatemala",
          "Thailand",
          "Thailand",
          "Tanzania, United Republic Of",
          "Tanzania, United Republic Of",
          "Mexico",
          "Brazil",
          "Guatemala",
          "Guatemala",
          "Mexico",
          "Mexico",
          "Mexico",
          "Guatemala",
          "Brazil",
          "Colombia",
          "Honduras",
          "Guatemala",
          "Guatemala",
          "Guatemala",
          "Guatemala",
          "China",
          "Tanzania, United Republic Of",
          "Brazil",
          "Guatemala",
          "Mexico",
          "Brazil",
          "Brazil",
          "Mexico",
          "Mexico",
          "Mexico",
          "Mexico",
          "Mexico",
          "Mexico",
          "Mexico",
          "Mexico",
          "Mexico",
          "Mexico",
          "Colombia",
          "Brazil",
          "Honduras",
          "Brazil",
          "Brazil",
          "Costa Rica",
          "Costa Rica",
          "China",
          "Brazil",
          "Guatemala",
          "Malawi",
          "Brazil",
          "Guatemala",
          "Mexico",
          "Colombia",
          "Taiwan",
          "Taiwan",
          "Guatemala",
          "Mexico",
          "Guatemala",
          "Mexico",
          "Mexico",
          "Guatemala",
          "Brazil",
          "Mexico",
          "Brazil",
          "Colombia",
          "Brazil",
          "Guatemala",
          "Brazil",
          "El Salvador",
          "Honduras",
          "Malawi",
          "Brazil",
          "Taiwan",
          "Mexico",
          "Mexico",
          "Guatemala",
          "Mexico",
          "Mexico",
          "Mexico",
          "Mexico",
          "Colombia",
          "Brazil",
          "Brazil",
          "Honduras",
          "Tanzania, United Republic Of",
          "Brazil",
          "Thailand",
          "Honduras",
          "Tanzania, United Republic Of",
          "Mexico",
          "Mexico",
          "Taiwan",
          "Taiwan",
          "Mexico",
          "Guatemala",
          "Mexico",
          "Mexico",
          "Indonesia",
          "Brazil",
          "Brazil",
          "Costa Rica",
          "Tanzania, United Republic Of",
          "Tanzania, United Republic Of",
          "Costa Rica",
          "Mexico",
          "Mexico",
          "Mexico",
          "Vietnam",
          "Mexico",
          "Honduras",
          "Honduras",
          "Brazil",
          "Tanzania, United Republic Of",
          "Laos",
          "Tanzania, United Republic Of",
          "Malawi",
          "Taiwan",
          "Thailand",
          "Costa Rica",
          "Honduras",
          "Taiwan",
          "Brazil",
          "Mexico",
          "Brazil",
          "Brazil",
          "Guatemala",
          "Brazil",
          "Guatemala",
          "Guatemala",
          "Guatemala",
          "Honduras",
          "Brazil",
          "El Salvador",
          "Guatemala",
          "Tanzania, United Republic Of",
          "Taiwan",
          "Mexico",
          "Mexico",
          "Mexico",
          "Mexico",
          "Mexico",
          "Brazil",
          "Guatemala",
          "Costa Rica",
          "Brazil",
          "Indonesia",
          "Guatemala",
          "Brazil",
          "Brazil",
          "Myanmar",
          "Mexico",
          "Honduras",
          "Costa Rica",
          "Taiwan",
          "Malawi",
          "Brazil",
          "Honduras",
          "Mexico",
          "Colombia",
          "Brazil",
          "Guatemala",
          "Mexico",
          "Mexico",
          "Guatemala",
          "Vietnam",
          "Tanzania, United Republic Of",
          "Mexico",
          "Mexico",
          "Mexico",
          "Mexico",
          "Mexico",
          "Brazil",
          "Guatemala",
          "Guatemala",
          "Honduras",
          "Brazil",
          "Tanzania, United Republic Of",
          "Tanzania, United Republic Of",
          "Brazil",
          "Honduras",
          "Costa Rica",
          "Mexico",
          "Taiwan",
          "Taiwan",
          "Mexico",
          "Guatemala",
          "Mexico",
          "Mexico",
          "Mexico",
          "Mexico",
          "Mexico",
          "Honduras",
          "Guatemala",
          "Taiwan",
          "Costa Rica",
          "Tanzania, United Republic Of",
          "Malawi",
          "Taiwan",
          "Brazil",
          "Guatemala",
          "Mexico",
          "Mexico",
          "Mexico",
          "Guatemala",
          "Nicaragua",
          "Honduras",
          "Taiwan",
          "Myanmar",
          "Costa Rica",
          "Malawi",
          "Guatemala",
          "Taiwan",
          "Brazil",
          "Haiti",
          "Taiwan",
          "Mexico",
          "Mexico",
          "Mexico",
          "Mexico",
          "Mexico",
          "Mexico",
          "Indonesia",
          "Brazil",
          "Guatemala",
          "Mexico",
          "Guatemala",
          "Brazil",
          "Honduras",
          "Taiwan",
          "Malawi",
          "Brazil",
          "Guatemala",
          "Mexico",
          "Guatemala",
          "Mexico",
          "Mexico",
          "Colombia",
          "Colombia",
          "Honduras",
          "Brazil",
          "Honduras",
          "Brazil",
          "Philippines",
          "Malawi",
          "Honduras",
          "Mexico",
          "Mexico",
          "Brazil",
          "Taiwan",
          "Brazil",
          "Nicaragua",
          "Honduras",
          "Guatemala",
          "Tanzania, United Republic Of",
          "Taiwan",
          "Guatemala",
          "Mexico",
          "Nicaragua",
          "Tanzania, United Republic Of",
          "Mexico",
          "Costa Rica",
          "Honduras",
          "Thailand",
          "Philippines",
          "Tanzania, United Republic Of",
          "Malawi",
          "Costa Rica",
          "Brazil",
          "Mexico",
          "Guatemala",
          "Brazil",
          "Ethiopia",
          "Brazil",
          "Nicaragua",
          "United States",
          "Tanzania, United Republic Of",
          "Costa Rica",
          "United States (Puerto Rico)",
          "Mexico",
          "Mexico",
          "Mexico",
          "Mexico",
          "Brazil",
          "El Salvador",
          "Brazil",
          "Guatemala",
          "Guatemala",
          "Taiwan",
          "Honduras",
          "Tanzania, United Republic Of",
          "Uganda",
          "Taiwan",
          "Thailand",
          "Mexico",
          "Mexico",
          "Taiwan",
          "Guatemala",
          "Kenya",
          "Mexico",
          "Myanmar",
          "Tanzania, United Republic Of",
          "Brazil",
          "Taiwan",
          "Brazil",
          "Guatemala",
          "Taiwan",
          "Taiwan",
          "Taiwan",
          "Mexico",
          "Laos",
          "Guatemala",
          "Mexico",
          "Mexico",
          "Mexico",
          "Brazil",
          "Myanmar",
          "Guatemala",
          "Nicaragua",
          "Honduras",
          "Panama",
          "Honduras",
          "Honduras",
          "Costa Rica",
          "Mexico",
          "Haiti",
          "Taiwan",
          "Indonesia",
          "Guatemala",
          "Costa Rica",
          "Malawi",
          "Mexico",
          "Guatemala",
          "Guatemala",
          "Guatemala",
          "Tanzania, United Republic Of",
          "Brazil",
          "Honduras",
          "Guatemala",
          "Taiwan",
          "Guatemala",
          "Honduras",
          "Brazil",
          "Myanmar",
          "Guatemala",
          "Brazil",
          "Guatemala",
          "Mexico",
          "Taiwan",
          "El Salvador",
          "China",
          "Taiwan",
          "Mexico",
          "Mexico",
          "Tanzania, United Republic Of",
          "Tanzania, United Republic Of",
          "Taiwan",
          "Guatemala",
          "Mexico",
          "Brazil",
          "Honduras",
          "Mexico",
          "Myanmar",
          "Myanmar",
          "Nicaragua",
          "Taiwan",
          "Guatemala",
          "Mexico",
          "Vietnam",
          "Nicaragua",
          "Honduras",
          "Guatemala",
          "Mexico",
          "Mexico",
          "Mexico",
          "Guatemala",
          "Taiwan",
          "Taiwan",
          "Taiwan",
          "Taiwan",
          "Mexico",
          "Mexico",
          "Nicaragua",
          "Myanmar",
          "Mexico",
          "Taiwan",
          "Thailand",
          "Mexico",
          "Mexico",
          "Mexico",
          "Mexico",
          "Mexico",
          "Mexico",
          "Mexico",
          "Mexico",
          "Kenya",
          "Guatemala",
          "Nicaragua",
          "Mexico",
          "Guatemala",
          "Taiwan",
          "Taiwan",
          "Thailand",
          "Costa Rica",
          "Mexico",
          "Mexico",
          "Mexico",
          "Mexico",
          "Mexico",
          "Guatemala",
          "Mexico",
          "Guatemala",
          "El Salvador",
          "Thailand",
          "Guatemala",
          "Mexico",
          "Mexico",
          "Mexico",
          "Mexico",
          "Mexico",
          "Nicaragua",
          "Taiwan",
          "Mexico",
          "Mexico",
          "Guatemala",
          "Guatemala",
          "Mexico",
          "Cote d?Ivoire",
          "Colombia",
          "Mexico",
          "Mexico",
          "Guatemala",
          "Taiwan",
          "Mexico",
          "Guatemala",
          "Honduras",
          "Guatemala",
          "Guatemala",
          "Mexico",
          "Mexico",
          "Guatemala",
          "United States (Puerto Rico)",
          "Mexico",
          "Mexico",
          "Mexico",
          "Guatemala",
          "Honduras",
          "Peru",
          "Mexico",
          "Mexico",
          "Mexico",
          "Mexico",
          "Mexico",
          "Nicaragua",
          "Guatemala",
          "Mexico",
          "Mexico",
          "Mexico",
          "China",
          "Mexico",
          "Guatemala",
          "Taiwan",
          "Mexico",
          "Mexico",
          "Mexico",
          "Mexico",
          "Mexico",
          "Brazil",
          "Mexico",
          "Guatemala",
          "Guatemala",
          "Mexico",
          "Guatemala",
          "Indonesia",
          "Mexico",
          "Taiwan",
          "Honduras",
          "Guatemala",
          "China",
          "Guatemala",
          "Mexico",
          "Costa Rica",
          "Mexico",
          "Guatemala",
          "Guatemala",
          "Taiwan",
          "Mexico",
          "Guatemala",
          "Brazil",
          "Guatemala",
          "Mexico",
          "Haiti",
          "United States (Hawaii)",
          "Mexico",
          "Peru",
          "India",
          "Guatemala",
          "Mexico",
          "Guatemala",
          "Guatemala",
          "United States (Hawaii)",
          "Mexico",
          "Indonesia",
          "Mexico",
          "Honduras",
          "Philippines",
          "Guatemala",
          "Guatemala",
          "Mexico",
          "Mexico",
          "Mexico",
          "Mexico",
          "Mexico",
          "Mexico",
          "Mexico",
          "Guatemala",
          "Guatemala",
          "Mexico",
          "Guatemala",
          "Mexico",
          "Mexico",
          "Mexico",
          "Honduras",
          "Mexico",
          "Costa Rica",
          "Mexico",
          "Mexico",
          "Mexico",
          "Honduras",
          "Honduras",
          "Honduras",
          "Mexico",
          "Haiti",
          "Nicaragua",
          "Guatemala"
         ],
         "xaxis": "x",
         "yaxis": "y"
        }
       ],
       "layout": {
        "barmode": "relative",
        "legend": {
         "tracegroupgap": 0
        },
        "template": {
         "data": {
          "bar": [
           {
            "error_x": {
             "color": "#2a3f5f"
            },
            "error_y": {
             "color": "#2a3f5f"
            },
            "marker": {
             "line": {
              "color": "#E5ECF6",
              "width": 0.5
             },
             "pattern": {
              "fillmode": "overlay",
              "size": 10,
              "solidity": 0.2
             }
            },
            "type": "bar"
           }
          ],
          "barpolar": [
           {
            "marker": {
             "line": {
              "color": "#E5ECF6",
              "width": 0.5
             },
             "pattern": {
              "fillmode": "overlay",
              "size": 10,
              "solidity": 0.2
             }
            },
            "type": "barpolar"
           }
          ],
          "carpet": [
           {
            "aaxis": {
             "endlinecolor": "#2a3f5f",
             "gridcolor": "white",
             "linecolor": "white",
             "minorgridcolor": "white",
             "startlinecolor": "#2a3f5f"
            },
            "baxis": {
             "endlinecolor": "#2a3f5f",
             "gridcolor": "white",
             "linecolor": "white",
             "minorgridcolor": "white",
             "startlinecolor": "#2a3f5f"
            },
            "type": "carpet"
           }
          ],
          "choropleth": [
           {
            "colorbar": {
             "outlinewidth": 0,
             "ticks": ""
            },
            "type": "choropleth"
           }
          ],
          "contour": [
           {
            "colorbar": {
             "outlinewidth": 0,
             "ticks": ""
            },
            "colorscale": [
             [
              0,
              "#0d0887"
             ],
             [
              0.1111111111111111,
              "#46039f"
             ],
             [
              0.2222222222222222,
              "#7201a8"
             ],
             [
              0.3333333333333333,
              "#9c179e"
             ],
             [
              0.4444444444444444,
              "#bd3786"
             ],
             [
              0.5555555555555556,
              "#d8576b"
             ],
             [
              0.6666666666666666,
              "#ed7953"
             ],
             [
              0.7777777777777778,
              "#fb9f3a"
             ],
             [
              0.8888888888888888,
              "#fdca26"
             ],
             [
              1,
              "#f0f921"
             ]
            ],
            "type": "contour"
           }
          ],
          "contourcarpet": [
           {
            "colorbar": {
             "outlinewidth": 0,
             "ticks": ""
            },
            "type": "contourcarpet"
           }
          ],
          "heatmap": [
           {
            "colorbar": {
             "outlinewidth": 0,
             "ticks": ""
            },
            "colorscale": [
             [
              0,
              "#0d0887"
             ],
             [
              0.1111111111111111,
              "#46039f"
             ],
             [
              0.2222222222222222,
              "#7201a8"
             ],
             [
              0.3333333333333333,
              "#9c179e"
             ],
             [
              0.4444444444444444,
              "#bd3786"
             ],
             [
              0.5555555555555556,
              "#d8576b"
             ],
             [
              0.6666666666666666,
              "#ed7953"
             ],
             [
              0.7777777777777778,
              "#fb9f3a"
             ],
             [
              0.8888888888888888,
              "#fdca26"
             ],
             [
              1,
              "#f0f921"
             ]
            ],
            "type": "heatmap"
           }
          ],
          "heatmapgl": [
           {
            "colorbar": {
             "outlinewidth": 0,
             "ticks": ""
            },
            "colorscale": [
             [
              0,
              "#0d0887"
             ],
             [
              0.1111111111111111,
              "#46039f"
             ],
             [
              0.2222222222222222,
              "#7201a8"
             ],
             [
              0.3333333333333333,
              "#9c179e"
             ],
             [
              0.4444444444444444,
              "#bd3786"
             ],
             [
              0.5555555555555556,
              "#d8576b"
             ],
             [
              0.6666666666666666,
              "#ed7953"
             ],
             [
              0.7777777777777778,
              "#fb9f3a"
             ],
             [
              0.8888888888888888,
              "#fdca26"
             ],
             [
              1,
              "#f0f921"
             ]
            ],
            "type": "heatmapgl"
           }
          ],
          "histogram": [
           {
            "marker": {
             "pattern": {
              "fillmode": "overlay",
              "size": 10,
              "solidity": 0.2
             }
            },
            "type": "histogram"
           }
          ],
          "histogram2d": [
           {
            "colorbar": {
             "outlinewidth": 0,
             "ticks": ""
            },
            "colorscale": [
             [
              0,
              "#0d0887"
             ],
             [
              0.1111111111111111,
              "#46039f"
             ],
             [
              0.2222222222222222,
              "#7201a8"
             ],
             [
              0.3333333333333333,
              "#9c179e"
             ],
             [
              0.4444444444444444,
              "#bd3786"
             ],
             [
              0.5555555555555556,
              "#d8576b"
             ],
             [
              0.6666666666666666,
              "#ed7953"
             ],
             [
              0.7777777777777778,
              "#fb9f3a"
             ],
             [
              0.8888888888888888,
              "#fdca26"
             ],
             [
              1,
              "#f0f921"
             ]
            ],
            "type": "histogram2d"
           }
          ],
          "histogram2dcontour": [
           {
            "colorbar": {
             "outlinewidth": 0,
             "ticks": ""
            },
            "colorscale": [
             [
              0,
              "#0d0887"
             ],
             [
              0.1111111111111111,
              "#46039f"
             ],
             [
              0.2222222222222222,
              "#7201a8"
             ],
             [
              0.3333333333333333,
              "#9c179e"
             ],
             [
              0.4444444444444444,
              "#bd3786"
             ],
             [
              0.5555555555555556,
              "#d8576b"
             ],
             [
              0.6666666666666666,
              "#ed7953"
             ],
             [
              0.7777777777777778,
              "#fb9f3a"
             ],
             [
              0.8888888888888888,
              "#fdca26"
             ],
             [
              1,
              "#f0f921"
             ]
            ],
            "type": "histogram2dcontour"
           }
          ],
          "mesh3d": [
           {
            "colorbar": {
             "outlinewidth": 0,
             "ticks": ""
            },
            "type": "mesh3d"
           }
          ],
          "parcoords": [
           {
            "line": {
             "colorbar": {
              "outlinewidth": 0,
              "ticks": ""
             }
            },
            "type": "parcoords"
           }
          ],
          "pie": [
           {
            "automargin": true,
            "type": "pie"
           }
          ],
          "scatter": [
           {
            "marker": {
             "colorbar": {
              "outlinewidth": 0,
              "ticks": ""
             }
            },
            "type": "scatter"
           }
          ],
          "scatter3d": [
           {
            "line": {
             "colorbar": {
              "outlinewidth": 0,
              "ticks": ""
             }
            },
            "marker": {
             "colorbar": {
              "outlinewidth": 0,
              "ticks": ""
             }
            },
            "type": "scatter3d"
           }
          ],
          "scattercarpet": [
           {
            "marker": {
             "colorbar": {
              "outlinewidth": 0,
              "ticks": ""
             }
            },
            "type": "scattercarpet"
           }
          ],
          "scattergeo": [
           {
            "marker": {
             "colorbar": {
              "outlinewidth": 0,
              "ticks": ""
             }
            },
            "type": "scattergeo"
           }
          ],
          "scattergl": [
           {
            "marker": {
             "colorbar": {
              "outlinewidth": 0,
              "ticks": ""
             }
            },
            "type": "scattergl"
           }
          ],
          "scattermapbox": [
           {
            "marker": {
             "colorbar": {
              "outlinewidth": 0,
              "ticks": ""
             }
            },
            "type": "scattermapbox"
           }
          ],
          "scatterpolar": [
           {
            "marker": {
             "colorbar": {
              "outlinewidth": 0,
              "ticks": ""
             }
            },
            "type": "scatterpolar"
           }
          ],
          "scatterpolargl": [
           {
            "marker": {
             "colorbar": {
              "outlinewidth": 0,
              "ticks": ""
             }
            },
            "type": "scatterpolargl"
           }
          ],
          "scatterternary": [
           {
            "marker": {
             "colorbar": {
              "outlinewidth": 0,
              "ticks": ""
             }
            },
            "type": "scatterternary"
           }
          ],
          "surface": [
           {
            "colorbar": {
             "outlinewidth": 0,
             "ticks": ""
            },
            "colorscale": [
             [
              0,
              "#0d0887"
             ],
             [
              0.1111111111111111,
              "#46039f"
             ],
             [
              0.2222222222222222,
              "#7201a8"
             ],
             [
              0.3333333333333333,
              "#9c179e"
             ],
             [
              0.4444444444444444,
              "#bd3786"
             ],
             [
              0.5555555555555556,
              "#d8576b"
             ],
             [
              0.6666666666666666,
              "#ed7953"
             ],
             [
              0.7777777777777778,
              "#fb9f3a"
             ],
             [
              0.8888888888888888,
              "#fdca26"
             ],
             [
              1,
              "#f0f921"
             ]
            ],
            "type": "surface"
           }
          ],
          "table": [
           {
            "cells": {
             "fill": {
              "color": "#EBF0F8"
             },
             "line": {
              "color": "white"
             }
            },
            "header": {
             "fill": {
              "color": "#C8D4E3"
             },
             "line": {
              "color": "white"
             }
            },
            "type": "table"
           }
          ]
         },
         "layout": {
          "annotationdefaults": {
           "arrowcolor": "#2a3f5f",
           "arrowhead": 0,
           "arrowwidth": 1
          },
          "autotypenumbers": "strict",
          "coloraxis": {
           "colorbar": {
            "outlinewidth": 0,
            "ticks": ""
           }
          },
          "colorscale": {
           "diverging": [
            [
             0,
             "#8e0152"
            ],
            [
             0.1,
             "#c51b7d"
            ],
            [
             0.2,
             "#de77ae"
            ],
            [
             0.3,
             "#f1b6da"
            ],
            [
             0.4,
             "#fde0ef"
            ],
            [
             0.5,
             "#f7f7f7"
            ],
            [
             0.6,
             "#e6f5d0"
            ],
            [
             0.7,
             "#b8e186"
            ],
            [
             0.8,
             "#7fbc41"
            ],
            [
             0.9,
             "#4d9221"
            ],
            [
             1,
             "#276419"
            ]
           ],
           "sequential": [
            [
             0,
             "#0d0887"
            ],
            [
             0.1111111111111111,
             "#46039f"
            ],
            [
             0.2222222222222222,
             "#7201a8"
            ],
            [
             0.3333333333333333,
             "#9c179e"
            ],
            [
             0.4444444444444444,
             "#bd3786"
            ],
            [
             0.5555555555555556,
             "#d8576b"
            ],
            [
             0.6666666666666666,
             "#ed7953"
            ],
            [
             0.7777777777777778,
             "#fb9f3a"
            ],
            [
             0.8888888888888888,
             "#fdca26"
            ],
            [
             1,
             "#f0f921"
            ]
           ],
           "sequentialminus": [
            [
             0,
             "#0d0887"
            ],
            [
             0.1111111111111111,
             "#46039f"
            ],
            [
             0.2222222222222222,
             "#7201a8"
            ],
            [
             0.3333333333333333,
             "#9c179e"
            ],
            [
             0.4444444444444444,
             "#bd3786"
            ],
            [
             0.5555555555555556,
             "#d8576b"
            ],
            [
             0.6666666666666666,
             "#ed7953"
            ],
            [
             0.7777777777777778,
             "#fb9f3a"
            ],
            [
             0.8888888888888888,
             "#fdca26"
            ],
            [
             1,
             "#f0f921"
            ]
           ]
          },
          "colorway": [
           "#636efa",
           "#EF553B",
           "#00cc96",
           "#ab63fa",
           "#FFA15A",
           "#19d3f3",
           "#FF6692",
           "#B6E880",
           "#FF97FF",
           "#FECB52"
          ],
          "font": {
           "color": "#2a3f5f"
          },
          "geo": {
           "bgcolor": "white",
           "lakecolor": "white",
           "landcolor": "#E5ECF6",
           "showlakes": true,
           "showland": true,
           "subunitcolor": "white"
          },
          "hoverlabel": {
           "align": "left"
          },
          "hovermode": "closest",
          "mapbox": {
           "style": "light"
          },
          "paper_bgcolor": "white",
          "plot_bgcolor": "#E5ECF6",
          "polar": {
           "angularaxis": {
            "gridcolor": "white",
            "linecolor": "white",
            "ticks": ""
           },
           "bgcolor": "#E5ECF6",
           "radialaxis": {
            "gridcolor": "white",
            "linecolor": "white",
            "ticks": ""
           }
          },
          "scene": {
           "xaxis": {
            "backgroundcolor": "#E5ECF6",
            "gridcolor": "white",
            "gridwidth": 2,
            "linecolor": "white",
            "showbackground": true,
            "ticks": "",
            "zerolinecolor": "white"
           },
           "yaxis": {
            "backgroundcolor": "#E5ECF6",
            "gridcolor": "white",
            "gridwidth": 2,
            "linecolor": "white",
            "showbackground": true,
            "ticks": "",
            "zerolinecolor": "white"
           },
           "zaxis": {
            "backgroundcolor": "#E5ECF6",
            "gridcolor": "white",
            "gridwidth": 2,
            "linecolor": "white",
            "showbackground": true,
            "ticks": "",
            "zerolinecolor": "white"
           }
          },
          "shapedefaults": {
           "line": {
            "color": "#2a3f5f"
           }
          },
          "ternary": {
           "aaxis": {
            "gridcolor": "white",
            "linecolor": "white",
            "ticks": ""
           },
           "baxis": {
            "gridcolor": "white",
            "linecolor": "white",
            "ticks": ""
           },
           "bgcolor": "#E5ECF6",
           "caxis": {
            "gridcolor": "white",
            "linecolor": "white",
            "ticks": ""
           }
          },
          "title": {
           "x": 0.05
          },
          "xaxis": {
           "automargin": true,
           "gridcolor": "white",
           "linecolor": "white",
           "ticks": "",
           "title": {
            "standoff": 15
           },
           "zerolinecolor": "white",
           "zerolinewidth": 2
          },
          "yaxis": {
           "automargin": true,
           "gridcolor": "white",
           "linecolor": "white",
           "ticks": "",
           "title": {
            "standoff": 15
           },
           "zerolinecolor": "white",
           "zerolinewidth": 2
          }
         }
        },
        "title": {
         "text": "Arabica: Country of Origin"
        },
        "xaxis": {
         "anchor": "y",
         "domain": [
          0,
          1
         ],
         "title": {
          "text": "Country of Origin"
         }
        },
        "yaxis": {
         "anchor": "x",
         "domain": [
          0,
          1
         ],
         "title": {
          "text": "count"
         }
        }
       }
      }
     },
     "metadata": {},
     "output_type": "display_data"
    },
    {
     "data": {
      "application/vnd.plotly.v1+json": {
       "config": {
        "plotlyServerURL": "https://plot.ly"
       },
       "data": [
        {
         "alignmentgroup": "True",
         "bingroup": "x",
         "hovertemplate": "Producer=%{x}<br>count=%{y}<extra></extra>",
         "legendgroup": "",
         "marker": {
          "color": "#636efa",
          "pattern": {
           "shape": ""
          }
         },
         "name": "",
         "offsetgroup": "",
         "orientation": "v",
         "showlegend": false,
         "type": "histogram",
         "x": [
          "METAD PLC",
          "METAD PLC",
          "Yidnekachew Dabessa Coffee Plantation",
          "METAD PLC",
          "HVC",
          "Diamond Enterprise Plc",
          "Fahem Coffee Plantation",
          "Alfredo De Jesús López Pérez",
          "Jorge Walter Restrepo",
          "María Leticia Diosa",
          "Echo Coffee",
          "LevelUp",
          "Nicolás Rueda Urrego",
          "SEVERAL",
          "ROBERTO LICONA FRANCO",
          "Silvia Elena Higuita",
          "Ralph Junqueira",
          "Kabum trading company",
          "FANG,ZHENG-LUN 方政倫",
          "Homero Texeira de Macedo Junior",
          "Exclusive Coffees S.A.",
          "Haider Abamecha Abadiko",
          "Kangunu",
          "Hugo Sepúlveda Montoya",
          "ITDP",
          "LIN YEN CHIEN 林言謙",
          "JUNGLE ESTATE",
          "Ralph Junqueira",
          "Kaasay Farmer Group",
          "Kawacom",
          "MARGARITA AVILA DE NUYENS",
          "Kawacom (U)Ltd",
          "Plinio Ruiz",
          "Ibrahim Hussien Specialty Coffee Producer and Exporter",
          "SERTRASA",
          "WILLIAM ESTUARDO MARTINEZ PACHECO",
          "seid damtew coffee export and plantation",
          "Colbran CoffeeLands, Ltd.",
          "Aida Batlle",
          "Oscar Roberto Murgas Linares",
          "Lamastus",
          "Assefa Belay Coffee Producer",
          "Kyagalanyi coffee Ltd",
          "ASOCIACION DE PERMACULTORES DE CUILCO (SANTOS LOPEZ MEJIA)",
          "Assefa Belay Coffee Producer",
          "Chesiyo Farmer group",
          "José Vagner Ribeiro Junqueira",
          "Pu'er City Longke Coffee Co.Ltd",
          "Arturo Aguirre",
          "Cafe Altura de San Ramon",
          "SEVERAL",
          "Kianjogu - Rutuma F.C.S. Ltd.",
          "Blend from various Producers",
          "varios",
          "Coop. Hoja Blanca - Fedecocagua",
          "SEID DAMTEW COFFEE PLANATION",
          "JOSE ALBEIRO GOMEZ / LUIS JABER REALPE",
          "BNT",
          "ORLANDO ORTIZ /WILSON ORTIZ/GILBERTO ACOSTA",
          "Kyagalanyi Coffee Ltd",
          "La Plata",
          "Manuel Montero",
          "Varios productores minifundistas",
          "Idalina M. De Andrade Ferreira",
          "La Plata",
          "La Plata",
          "SU CHUEN SHIAN 蘇春賢",
          "Hasambo AMCOS",
          "LA PLATA",
          "ARTEMIO ZAPATA TEJEDA",
          "Glaucio Carneiro Pinto",
          "Ricardo Luiz Ferreira",
          "Wang Chao Yung 王超永",
          "Sipi organic coffee project",
          "Matsuzawa Coffee",
          "KARATINA",
          "Omar Acosta",
          "J.J. Borja Nathan",
          "PT. Shriya Artha Nusantara",
          "Taijiro TOKUDA",
          "Johanna",
          "JUAN BOCK",
          "Coopetarrazú",
          "Moplaco",
          "Maria Elena Castro",
          "CORICAFE BLEND",
          "Gu yong long 古永龍",
          "Sasini",
          "AGROPECUARIA QUIAGRAL",
          "SERTRASA",
          "JORGE TORRES BELTRAN, VICENTE HERNANDEZ OCHOA, IGNACIO TORRES",
          "JUNGLE ESTATE",
          "La Plata",
          "BLEND",
          "ROBERTO MONTERROSO",
          "AMILCAR LAPOLA",
          "La Plata",
          "changeru wet mill",
          "varios",
          "Homero Texeira de Macedo Junior",
          "Geraldo Paixão",
          "Various",
          "Kawacom Uganda Ltd",
          "Menglian Ban’an Coffee Processing Factory",
          "Coopetarrazú",
          "PUER JIANGCHENG FUWANG COFFEE BIOTECHNOLOGY CO., LTD",
          "LUIS RODRIGUEZ",
          "MARIA IMELDA USCANGA MARTINEZ",
          "SANTIAGO JOSE ARGUELLO CAMPOS",
          "AGRICOLA NUEVA GRANADA, S.A",
          "Beneficio San Diego",
          "Surbakti",
          "FRANKLIN DUSSAN",
          "La Plata",
          "Kao Ming Lee",
          "MARIA AMALIA GUADALUPE TORIELLO ELORZA",
          "mutheka",
          "Reinerio Zepeda",
          "FRANKLIN DUSSAN / ANDRES RODRIGUEZ/HIPOLITO TORRES",
          "VICTOR HUGO MELCHOR CORDOVA",
          "黃美桃 Huang Mei Tao",
          "Matsuzawa Coffee",
          "JOSE ALBEIRO GOMEZ",
          "FINCA MEDINA",
          "HORACIO CIFUENTES MARTINEZ",
          "Menglian County Nayun Town Mangzhang Coffee Farm",
          "La Plata",
          "La Plata",
          "FRANKLIN DUSSAN/ANDRES RODRIGUEZ/HIPOLITO TORRES",
          "Tembo Coffee Company Ltd",
          "Taylor Winch (T) ltd",
          "AMILCAR LAPOLA",
          "JESUS SALAZAR VELASCO",
          "MANUEL HERRERA JUAREZ",
          "ERNST POHLENZ AGUILAR",
          "JORGE LEAL",
          "La Plata",
          "Los Angeles Micro-Mill (Ricardo Calderón)",
          "DARY COLMAN ALVARADO VILLATORO",
          "FERNANDO FAHSEN",
          "CHAPULTEPEC",
          "La Plata",
          "COOPERATIVA EL GORRION RL",
          "MAURO GALHERI",
          "Martin Gutierrez",
          "Tariku Oljira",
          "Selian Coffee Estate",
          "Café do Paraíso",
          "AGRICOLA MONTE VERDE, S.A.",
          "Aida Batlle",
          "WILLIAM ESTUARDO MARTINEZ PACHECO",
          "ANTON GAYO",
          "FRANKLIN DUSSAN / HIPOLITO TORRES",
          "CHANG YU LIANG 張玉良",
          "MARGARITA AVILA DE NUYENS",
          "La Plata",
          "Asociacion de Productores de Cafe de la Region Ixil",
          "ANDRES MARTINEZ LEON",
          "Kerchanshe Trading P.L.C",
          "Nahun Maldonado",
          "OTONIEL VILLATORO LOPEZ",
          "AMILCAR LAPOLA",
          "AMILCAR LAPOLA",
          "La Plata",
          "Ipanema Coffees",
          "Blend of various producers",
          "Doi Tung Development Project",
          "-",
          "Ipanema Agricola S.A",
          "CAFES TOMARI SA DE CV",
          "Phatang, Saveg",
          "Ipanema Agricola",
          "FANG,ZHENG-LUN 方政倫",
          "YANG TENG KO楊登嵙",
          "La Plata",
          "張瑞宏",
          "OSCAR ORTEGA CARBALLO",
          "ARTURO LIEVANO MORENO",
          "coop",
          "Jose Albeiro gomez",
          "Martin Gutierrez",
          "FINCA MEDINA",
          "Ipanema Agrícola SA",
          "ZENG JIAN NAN 曾建男",
          "Sumeya Yasin",
          "Ipanema Agrícola SA",
          "VARIOS",
          "AMILCAR LAPOLA",
          "Ipanema Coffees",
          "ROBERTO MONTERROSO",
          "FILEMON MENDOZA CAMPOS",
          "ERNST POHLENZ AGUILAR",
          "Nazareth Dias Pereira",
          "KAROGOTO",
          "Ipanema Agricola S.A",
          "FRANKLIN DUSSAN / HIPOLITO TORRES",
          "曾如楓 & 郭俊宏 (Tseng Ju Feng & Kuo Jun Hong)",
          "La Plata",
          "Pu’er Specialty Coffee Cupping Center",
          "FRANKLIN DUSSAN",
          "Nile Highland Arabica Coffee Farmers",
          "Hacienda Alto Grande",
          "La Plata",
          "MARTINEZ MAGDALENA, AGAPITA",
          "Several producres",
          "Ipanema Agricola S.A",
          "NCHOROIBORO / KIRIANI FACTORY",
          "Reinerio Zepeda",
          "RONALDO LACAYO CARDENAL",
          "Ipanema Agricola",
          "FANG,ZHENG-LUN 方政倫",
          "Doi Tung Development Project",
          "Agrotello Coop",
          "FRANCISCO LUIS MARTINEZ LOPEZ",
          "Huila",
          "AGRICOLA MONTE VERDE, S.A.",
          "LUIS RODRIGUEZ",
          "Finca Quequesquez",
          "AGROPECUARIA QUIAGRAL",
          "JUAN LUIS ORTEGA CARBALLO",
          "PT. Perkebunan Nusantara XII",
          "SIEMBRAS VISION, S.A",
          "Ipanema Agricola S.A",
          "JUAN RAMIREZ MORALES",
          "La Plata",
          "Menglian Mang Pan Professional Cooperative",
          "La Plata",
          "Exportadora Café California",
          "LevelUp",
          "Bulamburi coffee farmers association",
          "Gu zhi min 古智閔",
          "LA PLATA",
          "JULIAN ALBERTO URRUTIA MOYA",
          "ORLANDO ORTIZ/WILSON SANCHEZ/GILBERTO ACOSTA",
          "Alvaro Resende Aguiar",
          "Orlando Moreno / Willson Sanchez",
          "Martin Gutierrez",
          "Mecias Urbano / Yaniver Alvarez",
          "MARGARITA AVILA DE NUYENS",
          "La Plata",
          "Mr & Mrs Damari Absalome",
          "Yusrin",
          "Debesa",
          "UNEX",
          "Reynerio Zepeda",
          "MANUEL HERRERA JUAREZ",
          "ARMANDO GUTIERREZ GUZMAN",
          "GABRIEL BERNARD RIVAS ROSS",
          "RNP SANTO TOMAS PACHUJ / KANEMATSU CORPORATION",
          "La Plata",
          "ConquistaMorito",
          "FRANKLIN DUSSAN / HIPOLITO TORRES",
          "JORGE LEAL",
          "FRANKLIN DUSSAN / HIPOLOTO TORRES",
          "Martin Gutierrez",
          "Bulago & Buginyanya",
          "Matsuzawa Coffee",
          "Ibero El Salvador, S.A. de C.V.",
          "FRANKLIN DUSSAN/ANDRES RODRIGUEZ/HIPOLITO TORRES",
          "GABRIEL CARVALHO DIAS",
          "Ngila Estate Ltd",
          "AMILCAR LAPOLA",
          "SIEMBRAS VISIÓN, S.A.",
          "ROBERTO MONTERROSO",
          "Exportadora de cafe condor",
          "various",
          "La Plata",
          "Ipanema Agrícola SA",
          "ECC",
          "varios",
          "Mondul Coffee Estate",
          "JOSÉ LUIS ANDRADE SANDARA",
          "SEVERAL",
          "CORICAFE BLEND",
          "COOPCAB",
          "ORLANDO ORTIZ / HIPOLITO TORRES",
          "LUIS RODRIGUEZ",
          "condor",
          "BALBINO RAMIREZ FLORES",
          "Manuel Montero",
          "Coopellanobonito",
          "PABLO CHUY",
          "Kawacom Uganda LTD",
          "FRANKLIN DUSSAN",
          "Rafael Arroyo Zoto",
          "LIN YEN CHIEN 林言謙",
          "蘇詠晴",
          "SIEMBRAS VISIÓN, S.A.",
          "VRIOS PRODUCTORES",
          "ERNESTO RODRIGUEZ LUNA",
          "MODESTO LANDEROS FLORES",
          "AGROPECUARIA QUIAGRAL",
          "Eliane de Andrade Cyrino Noqueira",
          "La Plata",
          "Ipanema Agricola S.A",
          "AGROINDUSTRIAS CAFETALERAS",
          "Mamsera",
          "Yeh, Li Chuan",
          "FINCA MEDINA",
          "JOSE OMAR ACOSTA",
          "Mojiang Jinggong Estate Speciality Development Co.Ltd",
          "Yunnan Success Trade Co.Ltd",
          "Ecom Agroindustrial Corp. Ltd.",
          "FINCA MEDINA",
          "PAPATURRO",
          "Doi Tung Development Project",
          "Tutunze Kahawa Ltd",
          "La Plata",
          "Kabum Trading Company",
          "unkown",
          "Nelson Melgar Melgar",
          "Reynerio Zepeda",
          "AGRICOLA NUEVA GRANADA, S.A.",
          "ROBERTO MONTERROSO",
          "MARGARITO ROBLERO VAZQUEZ",
          "AMADOR HERNANDEZ DIONICIO",
          "TREJO VELASCO, ROMAN",
          "LA PLATA",
          "FERNANDO MENDOZA APARICIO",
          "OCTAVIO MOGUEL FARRERA",
          "Giovane Senna Bonacorssi",
          "Maria Aparecida Ferreira Azevedo",
          "Conquista / Morito",
          "Andrea Galvão Noqueira",
          "Orlando Moreno / Willson Sanchez",
          "La Plata",
          "Ipanema Agricola",
          "Ipanema Agrícola SA",
          "Tseng ju feng / Kuo jun hong 曾如楓 / 郭俊宏",
          "Ipanema Agrícola SA",
          "VARIOS",
          "Fang zheng lun 方政倫",
          "MARIA LUISA DEL CARMEN ROJAS NARVAEZ",
          "Ipanema Agricola S.A",
          "Ipanema Agricola",
          "Ipanema Agricola",
          "Xavier Baluku",
          "Emmanuel Munaaba",
          "Yeh, Li Chuan.",
          "OVIDIO CARDONA",
          "Agricola Nueva Granada, S. A.",
          "FINCA MEDINA",
          "João Alves Toledo",
          "雅慕伊",
          "Kucofa farmers group",
          "Hacienda Alto Grande",
          "GRUPO MEDINA",
          "CORICAFE BLEND",
          "NAZARETH DIAS PEREIRA",
          "La Plata",
          "COFFEE COMPANY / CAFECOL",
          "ORLANDO ORTOZ / HIPOLITO TORRES",
          "LA PLATA",
          "GONZALO RIVERO PUERTO",
          "SANTIAGO SOLIS AYERDI",
          "FRANCO COLORADO DOMINGUEZ",
          "Exportadora Condor",
          "varios",
          "NUEVOS MERCADOS, S.A.",
          "LA PLATA",
          "Ipanema Agricola S.A",
          "Balcanes Coffee Estates, S.A. de C.V.",
          "Wang Chao Yung 王超永",
          "-",
          "許文郎",
          "Hineleban Foundation",
          "Ephemera Traders",
          "Catalina Rodriguez Mayorga",
          "FIECH",
          "GERSON NAIMEG",
          "Sipi organic coffee project",
          "Nyapea coffee farmers association",
          "SIEMBRAS VISION, S.A.",
          "SIEMBRAS VISIÓN, S.A.",
          "OTTONIEL VILLATORO LOPEZ",
          "MARIA GUADALUPE GOMEZ ANZO",
          "Apollo Co., Ltd.",
          "WERCLEIN HERNANDEZ SERRANO ID.-1506728641",
          "KEREMARA LIMITED",
          "JORGE LEAL",
          "Ipanema Agricola",
          "El Barbaro, S.A. de C.V.",
          "Bufcoffee_Gicumbi",
          "Yeh, Li Chuan",
          "AMILCAR LAPOLA",
          "Antonio Batista Francisquine",
          "Mercedes Narvaez",
          "PT. Olam Indonesia",
          "SIEMBRAS VISIÓN, S.A.",
          "Mrs. Galeano",
          "La Plata",
          "BURKA COFFEE ESTATE",
          "ARMANDO LUIS POHLENZ MARTINEZ",
          "OLIVIA HERNANDEZ VIRUES",
          "AGROPECUARIA QUIAGRAL",
          "OCTAVIO MOGUEL FARRERA",
          "PLANTACIONES AGROPECUARIAS S.A",
          "PABLO ARTURO CHUY FLORES",
          "ANGEL DE LEON",
          "OTTO BECKER",
          "JESUS RAMIREZ",
          "vary farm",
          "JESUS RAMIREZ",
          "林俊吉( Lin, Chun-Chi)",
          "Soc. Coop. de Caf. de Ciudad Barrios de R.L.",
          "Martin Gutierrez",
          "Reinerio Zepeda",
          "Ipanema Agricola",
          "Puwen Lvyou Coffee Co.,Ltd",
          "Pu'er Lingdu Yunlin Coffee Co.LTD",
          "La Plata",
          "Mzuzu Coffee Planters Coop Union",
          "ROBERTO MONTERROSO",
          "several",
          "CARLOS O. VELAZCO LOPEZ",
          "FRANCISCO R. DE LA VEQUIA BERNARDI",
          "ROMULO BELLO FLORES",
          "Supply Chain ECOM CCA S.A.",
          "LA PLATA",
          "Price Peterson",
          "Ipanema Agricola S.A",
          "Ipanema Agricola",
          "Paksong,Laos",
          "El Barbaro, S.A. de C.V.",
          "Ipanema Agrícola SA",
          "MANOEL CARDOSO AND GALILEO CARDOSO",
          "Nitin Coffee Estate",
          "Taylor Winch (T) ltd",
          "林道明",
          "AVELINO CHAVEZ REYNA",
          "Kawacom Uganda Ltd",
          "Xu ding ye 許定燁",
          "Koju Matsuzawa",
          "-",
          "Doi Tung Development Project",
          "AMIN JAVIER MOISES CEJA",
          "MARIA DE LOURDES ANCIRA ELIZONDO",
          "JESUS RAMIREZ",
          "林文弘 Lin Wen Hong",
          "SMALL HOLDERS FARMER",
          "Doi Tung Development Project",
          "Coffeas Co., Ltd.",
          "Tembo Coffee Company Ltd",
          "Sipi organic coffee project",
          "VARIOS",
          "Huatusco",
          "varios",
          "varios",
          "GUILLERMO ROJAS SALDAÑA",
          "FEDERICO ENCISO MICHEL; LEODAN ENCISO FIGUEROA; JAIME LOPEZ LOPEZ",
          "LA PLATA",
          "Ipanema Agricola S.A",
          "vary",
          "Nahun Maldonado",
          "MARGARITA AVILA DE NUYENS",
          "Doi Tung Development Project",
          "Coffeas Co., Ltd.",
          "Shah Plantations",
          "Amkeni Gourmet Coffee Group",
          "Santiago & Rosaura Arguello Campos",
          "Ipanema Coffees",
          "AGRICOLA MONTE VERDE, S.A.",
          "MARGARITA DE NUYENS",
          "VELASCO SAN AGUSTIN, NAZARIO",
          "ENRIQUE MITRE LOPEZ",
          "SUSANA LETICIA LOPEZ AGUILAR",
          "VARIOUS",
          "Nazareth Dias Pereira",
          "LA PLATA",
          "Danilo Carrillo",
          "JORGE LEAL",
          "ANGEL DE LEON",
          "JESUS RAMIREZ",
          "PLANTACIONES AGROPECUARIAS, S.A.",
          "Menglian Gao Sanlin Coffee Factory",
          "GLADNESS OBED PALLANGYO",
          "Ipanema Agrícola SA",
          "UNEX",
          "AVELINO CHAVEZ REYNA",
          "Betina Vilela Reis",
          "Ipanema Coffees",
          "MANUEL HERRERA JUAREZ",
          "EMPERATRIZ GARCIA MUÑOZ",
          "VICTOR MANUEL LOPEZ VAZQUEZ",
          "GIBRAN LEONARDO CERVANTES COVARRUBIAS",
          "MANUEL HERRERA JUAREZ",
          "DARIO FRANCISCO GALEANA SOLIS",
          "JOSE DANIEL COBILT CASTRO",
          "ALVARO QUIROS PEREZ, MIGUEL QUIROZ PEREZ",
          "OLIVIA HERNANDEZ VIRVES",
          "ROBIN CLEAVER",
          "JAIME PULIDO / ALBINO MAHECHA / FREDDY MENDEZ",
          "Glycia Maria",
          "Reinerio Zepeda",
          "Tulio Taft Bovaretto",
          "Ipanema Agricola",
          "Martin Gutierrez",
          "Johanna",
          "Yun Lan Coffee Co. Ltd",
          "Ipanema Agrícola SA",
          "AMANCIO DEL VALLE CARRILLO",
          "Mzuzu Coffee Planters Coop Union",
          "Ipanema Agrícola SA",
          "ROBERTO MONTERROSO",
          "Huatusco",
          "SEVERAL",
          "Zhang shui sheng 張水勝",
          "Lin yu ding 林玉定",
          "ROBERTO MONTERROSO",
          "AGROINDUSTRIAS UNIDAS DE MEXICO SA DE CV",
          "CAFE MOLINO MONTERROSO P,J. ROBERTO",
          "SALAZAR HERNANDEZ, ROBERTO",
          "MANUEL HERRERA JUAREZ",
          "AGROPECUARIA QUIAGRAL",
          "José Malagutti",
          "MARIA LUISA DELCARMEN ROJAS NARVAEZ",
          "José Alberto dos Santos",
          "JAIME PULIDO / ERMILSON RAMOS",
          "NAGIPE VIANA KLEM",
          "PABLO CHUY",
          "Ipanema Agrícola SA",
          "Tropical Farm Management El Salvador, S.A. de C.V.",
          "Omar Acosta",
          "Mzuzu Coffee Coop Union",
          "Ipanema Agrícola SA",
          "Lin yu tang 林玉堂",
          "MARIA DEL ROSARIO IRAIS VALDIVIA ORTIZ",
          "FELIX DE LA CRUZ CASIMIRO",
          "SIEMBRAS VISION, S.A.",
          "MANUEL HERRERA JUAREZ",
          "GUILLERMO ROJAS SALDAÑA",
          "SERGIO DE LA VEQUIA BERNARDI",
          "COOP",
          "La Plata",
          "Carmem Lucia Chaves de Brito",
          "Ipanema Agricola",
          "Nahun Maldonado",
          "Langiro farm group",
          "Ipanema Agrícola SA",
          "Doi Tung Development Project",
          "Omar Acosta",
          "Tembo Coffee Company Ltd",
          "JOSÉ LUIS ANDRADE SANDARA",
          "Union Ramal Santa Cruz",
          "Guo Zhang Sheng 郭章盛",
          "Jufeng-Tseng 曾如楓",
          "AVILA MARTINEZ ADOLFO",
          "Several producers",
          "SALVADOR CARO CARRION",
          "OSCAR TORRES OCHOCA, GENARO MATA CAMBEROS, MANUEL DUARTE MUNGUIA",
          "Various Farms",
          "Ipanema Agricola",
          "Ipanema Agrícola SA",
          "JOSE FRANCISCO GONZALEZ",
          "AMPCG",
          "Ngorogoro Convenant Estate",
          "Cafetalera Aquiares",
          "GIBRAN LEONARDO CERVANTES COVARRUBIAS",
          "ISMAM SAN ISIDRO LABRADOR S. DE S.S.",
          "ROSA AURORA FALCON FERNANDEZ",
          "Apollo Co., LTd.",
          "RAMIRO DE LA VEQUIA BERNARDI",
          "Santos Fonseca",
          "Santos Fonseca",
          "Ipanema Agricola",
          "Mr & Mrs Didas Mallya",
          "HanYong Choi",
          "Finca Estate",
          "Mzuzu Coffee Coop Union",
          "Chen Jin Lin 陳金璘",
          "Doi Tung Development Project",
          "VARIOS",
          "BSR",
          "Lin Huang, A-Mien 黃阿綿",
          "Café do Paraíso",
          "JORGE OCTAVIO ESCAMILLA PRADO",
          "Vander Bonaccorsi",
          "José Hiroiti",
          "PAUL STAUDER",
          "Maria da Gloria Junqueira",
          "Conquista/Morito",
          "AGRICOLA EL PILAR, S.A.",
          "OTTO BECKER",
          "Reinerio Zepeda",
          "Múcio Cardoso",
          "Comercial Exportadora, S.A. de C.V.",
          "OVIDIO CARDONA",
          "Mcomafa",
          "Chen gui jiao 陳桂嬌",
          "VARIOS PRODUCTORES",
          "PONCE RUBIO, VENANCIO",
          "FRANCISCO SAENZ, FERNANDO",
          "JUAN HERMILIO SAMPIERI CARCAMO",
          "MODESTO LANDEROS FLORES",
          "Fioravante Malagutti",
          "JESUS RAMIREZ",
          "Manuel Montero",
          "Helena Pingnatti Ricci",
          "MUDAR",
          "CHAPULTEPEC",
          "Ipanema Agrícola SA",
          "Ipanema Agrícola SA",
          "U Mg Mg",
          "MARTINIANO A. MORENO ALVARADO",
          "JOSE OMAR ACOSTA",
          "JOSE FRANCISCO GONZALEZ",
          "LIN SIN JI 林信吉",
          "Mzuzu Coffee Coop Union",
          "Ipanema Agrícola SA",
          "Tomás Sosa, Juan Damaso",
          "various small producers",
          "LA PLATA",
          "NAZARETH DIAS PEREIRA",
          "LUIS RODRIGUEZ",
          "MARIA MAGDALENA LUETHJE Y GRIS",
          "JORGE FRANCISCO MARTINEZ HACHITY",
          "ANGEL DE LEON",
          "Richard Yeh",
          "Ngorogoro Convenant Estate",
          "PEREZ LEMUS, FELIX",
          "SERGIO LANDA ALARCON",
          "CENEN TORRES CORTES, AVELINO TORES CORTES, JUAN VENTURA GUZMAN",
          "ARMANDO LUIS POHLENZ MARTINEZ",
          "GRACIELA AGUILAR PERALTA",
          "Ipanema Agricola S.A",
          "ANGEL DE LEON",
          "JESUS RAMIREZ",
          "JOSE OMAR ACOSTA",
          "Ipanema Agrícola SA",
          "DAE Ltd",
          "Tembo Coffee Company Ltd",
          "Ipanema Agrícola SA",
          "Tomás Sosa, Juan Damaso",
          "Martin Gutierrez",
          "Huatusco",
          "Zhang ming fu 張明福",
          "Wu cai jin 吳蔡錦",
          "UNION RAMAL SANTA CRUZ",
          "CAFE MOLINO MONTERROSO P,J. ROBERTO",
          "PRODUCTORA AGRICOLA Y GANADERA FINCA LA SUIZA",
          "MAYA BINIK",
          "CESAR SANTIZ LOPEZ",
          "OCTAVIO MOGUEL FARRERA",
          "ARMANDO GUTIEREZ GUZMÁN",
          "Cafes Finos de Corquin",
          "AGRICOLA EL PILAR, SA.",
          "蘇晉寬 Su Jin Kuan",
          "Cafetalera Aquiares",
          "Acacia Hills Ltd",
          "Mzuzu Coffee Coop Union",
          "CHIU WEI LUN 邱偉倫",
          "Ipanema Coffees",
          "ROBERTO MONTERROSO",
          "UNION RAMAL SANTA CRUZ",
          "LUIS ANTONIO LOPEZ AGUILAR",
          "ENRIQUE EDUARDO LOPEZ AGUILAR",
          "OTTO BECKER",
          "Teófilo Narváez :",
          "NAHUN MALDONADO",
          "劉易騰",
          "Genius Coffee Estate",
          "Beneficio la Eva S.A.",
          "Mzuzu Coffee Coop Union        ",
          "VARIOS",
          "HUANG MEI TAO 黃美桃        ",
          "MARIA ROGERIA COSTA PEREIRA",
          "Mixed",
          "Xu yuan zhang 徐源漳",
          "AGROINDUSTRIAS UNIDAS DE MEXICO SA DE CV",
          "JORGE HERNANDEZ MONTEJO",
          "ZENOBIO MARTINEZ CANO",
          "MANUEL DUARTE MUNGUIA",
          "TOMAS EDELMANN BLASS",
          "MARIA DE LA PAZ AGUILAR GUILLEN",
          "PT. Perkebunan Nusantara XII",
          "Nazareth Dias Pereira",
          "CHIQUIMULJA / ALPHA CAFE / SENFRO",
          "Cafes tomari sa de cv",
          "AGRICOLA NUEVA GRANADA, S.A.",
          "INACIO URBAN",
          "Jose Omar Acosta",
          "謝文品",
          "Mzuzu Coffee Coop Union",
          "Ipanema Agrícola SA",
          "PACHUJ, S. A.",
          "various small producers",
          "OTTO BECKER",
          "MARTINEZ BAUTISTA, NICOLAS",
          "MARIA DE LOUDES ANCIRA ELIZONDO",
          "Exportadora de cafe condor s.a",
          "La Plata",
          "Nahun Maldonado",
          "NELSON AZEVEDO FRANÇA",
          "Jose Omar Acosta",
          "NAZARETH DIAS PEREIRA",
          "COFFEE FOR PEACE,INC.",
          "Mzuzu Coffee Coop Union",
          "Nelson Melgar Melgar",
          "ISMAM SAN ISIDRO LABRADOR S. DE S.S.",
          "HECTOR GABRIEL BARREDA NADER",
          "NAGIPE VIANA KLEM       ",
          "Hu Guei Jing 胡桂青",
          "Ipanema Agrícola SA",
          "Rolando Lacayo",
          "JOSE OMAR ACOSTA",
          "El Injerto S.A.",
          "Shangrilla Estate",
          "Liu ying wu 劉穎悟",
          "SIEMBRAS VISION, S.A.",
          "FRANCISCO J. CONTRERAS MARTINEZ DE ESCOBAR",
          "GONZALO CASTILLO",
          "Immaculata John",
          "Exportadora Café California",
          "JOSE FRANCISCO GONZALEZ",
          "Reinerio Zepeda",
          "Coffeas Co., Ltd.",
          "COFFEE FOR PEACE,INC.",
          "Taylor Winch (T) ltd",
          "R.W.J. Wallace Ltd",
          "VARIOS",
          "JOSE RENATO BAIARDI",
          "ISMAM SAN ISIDRO LABRADOR S. DE S.S.",
          "Finca Quequesquez",
          "Bruno de Andrade Frota",
          "Kerchanshe trading plc",
          "José Olavo Boechat",
          "ROLANDO LACAYO",
          "JuanAna Coffee Association",
          "Taylor Winch (T) ltd",
          "Several",
          "Hacienda Alto Grande",
          "MEDINA PEDRERO PRODUCTOS AGRÍCOLAS SA DE CV",
          "DIEGO MANUEL WOOLRICH RAMIREZ, ALFREDO FERNANDO WOOLRICH RAMIREZ",
          "ETMAR DIDIER ROBLERO LOPEZ",
          "BALBINO RAMIREZ FLORES",
          "GABRIEL CARVALHO DIAS",
          "Balcanes Coffee Estates, S.A. de C.V.",
          "GABRIEL DE CARVALHO DIAS",
          "CHAPULTEPEC",
          "AMILCAR LAPOLA",
          "HU KUEI CHING 胡桂青",
          "NELSON MELGAR & REGINO MELGAL",
          "Mlimani Ngarashi",
          "Kyagalanyi coffee Ltd",
          "Zhou hong xiu 周紅秀",
          "Doi Tung Development Project",
          "MARTHA PALACIOS",
          "COOP",
          "蕭閔家",
          "AGRICOLA EL PILAR, S.A.",
          "thiririka/Thima",
          "Jose Oscar Garza Sardaneta",
          "Min Hlaing",
          "Karatu Estate",
          "NAZARETH DIAS PEREIRA",
          "張文進",
          "Ipanema Agrícola SA",
          "ROBERTO MONTERROSO",
          "Lu bi yun呂碧云",
          "Ding jin cai 丁金財",
          "Lu xing hui 呂星輝",
          "EDUARDO LUIS AUGUSTO VELAZQUEZ SOLIS",
          "Paksong,Laos",
          "several",
          "DOMINGO MUGUIRA REVUELTA",
          "JUAN JOSE CASAS BLANCO",
          "MOISES GUILLERMO CARRERA MONTES",
          "DIOGO TUDELA NETO",
          "U Soe",
          "OTTONIEL VILLATORO LOPEZ",
          "ROLANDO LACAYO",
          "La Gran Manzana",
          "Lamastus",
          "Jose Omar Acosta",
          "Reinerio Zepeda",
          "SEVERAL",
          "JOSE RIOS LARA, APOLONIA FRANCO TORRES, JENARO GONZALES MENDOZA",
          "COOPAIMAR Copperative Agro Industriel de Marmelade",
          "唐權盛",
          "Surbakti",
          "FINCA MEDINA",
          "Martin Gutierrez",
          "R.W.J. Wallace Ltd",
          "BALBINO RAMIREZ FLORES",
          "PACHUJ, S.A",
          "CHIQUIMULJA / ALPHA CAFE / SENFRO",
          "CHIQUIMULJA / ALPHA CAFE / SENFRO",
          "Burka Coffee Estates",
          "Ipanema Agrícola SA",
          "BSR",
          "BYRON ALONZO SOLIS",
          "王秋金",
          "EDWIN MUÑOZ",
          "Jorge Alfredo Pinto",
          "Lindolpho de Carvalho Dias",
          "Shwe Yin Mar",
          "VARIOS",
          "MARIA ROGERIA COSTA PEREIRA",
          "IDMAR DE JESUS VELASQUEZ CALDERON",
          "HERAS HERNANDEZ GAUDENCIO",
          "曾林春英",
          "Luis, Rafael and Carmen Silva Hoff",
          "Alicia's Farm",
          "Huang san lang 黃三郎        ",
          "CARLOS ALBERTO GOMEZ",
          "ARMANDO LUIS POHLENZ MARTINEZ",
          "Delfina Leon Shine",
          "Kongoni Estate",
          "Wu yi ting 吳伊婷",
          "AGRIPEC DE LA VEGA Y CIA.",
          "ARMANDO GUTIERREZ GUZMAN",
          "Luiz Augusto Pereira Moguilod",
          "Yamilet Lope",
          "Balbino Ramirez Flores",
          "Waylead Co, Ltd",
          "U Htun Htun",
          "GLORIA ANTONIETA ESCOBAR URRUTIA",
          "Weng hui ling 翁惠鈴",
          "UNEX",
          "HERNANDEZ PACHECO, TIMOTEO",
          "Yeh, Li Chuan",
          "Sheldom La rue",
          "Jose Omar Acosta",
          "ROBERTO MONTERROSO",
          "PABLO ENRIQUE MARTINEZ GAMA",
          "CIRILO JOSE JOSE",
          "MARCO VIRGILIO RAMIREZ TELIZ",
          "AGROPECUARIA QUIAGRAL",
          "簡義榮",
          "Du zheng ru 杜政儒",
          "Zheng zhao ming 鄭昭明",
          "Wu kun shan 吳焜山",
          "ALBERTA TEODORO ANALCO",
          "FEDERICO PACHECO PEREZ",
          "RONALDO LACAYO CARDENAL",
          "Ngu Shwe Li Coffee Estate",
          "various small producers",
          "Zhang xian tong 張献銅",
          "Doi Tung Development Project",
          "PABLO ENRIQUE MARTINEZ GAMA",
          "SEMIRAMIS CASAS VELAZQUEZ",
          "VARIOS PRODUCTORES",
          "MARTHA PALACIOS",
          "DELMAR MORENO GUILLEN",
          "MARIA ELENA TERESA FERNANDEZ CEJA",
          "PABLO ENRIQUE MARTINEZ GAMA",
          "MARIA DEL ROSARIO IRAIS VALDIVIA ORTIZ",
          "YARA / BENVAR",
          "JORGE LEAL",
          "Asociación Aldea Global Jinotega",
          "CIRO DE LA VEQUIA CESSA",
          "AGRICOLA EL PILAR, S.A.",
          "Wei-Chieh ( Jack ) Hua",
          "LIN REN FU 林人富",
          "Doi Tung Development Project",
          "Coopeagri",
          "UNION RAMAL SANTA CRUZ",
          "COMONYAJ NOPTIC S DE SS",
          "VARIOS PRODUCTORES",
          "MINERVA ZUÑIGA GARCIA",
          "ANGEL GONZALES",
          "Jorge Bolanos",
          "ALFREDO MOISES CEJA",
          "JESUS RAMIREZ",
          "Sociedad Cooperativa de Cafetaleros de Ciudad Barrios de R.L.",
          "Doi Tung Development Project",
          "AGRIPEC DE LA VEGA Y CIA.",
          "UNION RAMAL SANTA CRUZ",
          "GOMEZ GRANILLO, VERONICO",
          "CECILIA AVILA CAMBEROS",
          "ROGELIO JACOME MORALES",
          "ARMANDO LUIS POHLENZ MARTINEZ",
          "Cooperativa de Servicio Múltiples el Gorrión R.L",
          "張素真",
          "ARMANDO LUIS POHLENZ MARTINEZ",
          "MARIA DE LA LUZ SANCHEZ TODD",
          "AMILCAR LAPOLA",
          "VARIOS",
          "ADRIANA TORRES RICO QUEVEDO",
          "CNRA",
          "Spot",
          "ERIC JESUS CORDOBA ARROYO",
          "ANTONIO CORDOBA MURILLO",
          "Conquista/ Morito",
          "WU SHU YI 巫叔憶",
          "MARCO VIRGILIO RAMIREZ TELIZ",
          "OTTO BECKER",
          "Jorge Alfredo Pinto",
          "CHAPULTEPEC",
          "OVIDIO CARDONA",
          "HILARIO GARCÍA SANDOVAL",
          "SOCIEADAD COOPERATIVA INDUSTRIAL CAFES YAJALON S. C. L.",
          "ANGEL DE LEON",
          "Hacienda Alto Grande",
          "GUADALUPE HERAS HERNANDEZ",
          "JUANA RODRIGUEZ GUTIERREZ",
          "BALBINO RAMIREZ FLORES",
          "Varios",
          "Cooperativa Coaquil",
          "Frontera",
          "GONZALO DE AQUINO FLORES",
          "JUAN CRUZ RIAÑO",
          "JUAN AVENAMAR RODRIGUEZ FUNEZ",
          "AGROINDUSTRIAS UNIDAS DE MEXICO SA DE CV",
          "LUISA ZUÑIGA GARCÍA",
          "Teófilo Narváez",
          "AGRIPEC DE LA VEGA Y CIA.",
          "JOSE VAZQUEZ CANTON, JOSE ANTONIO JIMENEZ GONZALEZ, IRENEO GARCIA VALDIVIA",
          "DAMASO MARTINEZ PEREZ",
          "PEDRO HERRERA GUZMAN, AURELIO GABRIEL HERNANDEZ ,MARIA DE LOURDES DERISTAIN TRESS",
          "Yunnan Louis Herbs R&D Center",
          "JUAN GARCIA HERNANDEZ",
          "VARIOS",
          "GUO JIUN HUNG 郭俊宏 & TSENG RU FENG 曾如楓",
          "EPIFANIO GARCIA DE MIGUEL",
          "J. CARMEN GUZMAN CONCEPCION, IGNACIO RAMIREZ BARAJAS, DIONICIO GARCIA RAMIREZ",
          "Various small producers",
          "REYNALDO OLIVERA RIOS",
          "FRANCISCO RUIZ NUÑEZ",
          "Manoel Cardoso and Galileo Cardoso",
          "LAMBERTO JOSÉ GARCÍA",
          "VARIOS",
          "LUIS RODRIGUEZ",
          "PABLO CERVANTES MORELOS        ",
          "Conquista/ Morito",
          "vary farms",
          "CONSUELO GONZALEZ GOMEZ",
          "林俊吉( Lin, Chun-Chi)",
          "Cooperativa Coaquil",
          "VARIOS",
          "GreenHouse Coffee",
          "AGRICOLA MONTE VERDE, S.A.",
          "MARIO GARCÍA",
          "Beneficio la Eva S.A.",
          "GUSTAVO ABARCA SOLIS",
          "Conquista/ Morito",
          "LUIS RODRIGUEZ",
          "Chen Shuei Lian 陳水連",
          "RUBRIA OCHOA BELLO",
          "MARGARITA DE NUYENS Y/O CARLOS NUYENS",
          "Ipanema Agricola S.A",
          "VARIOS",
          "AQUILINO GARCÍA RIAÑO",
          "Mixed",
          "Kona Pacific Farmers Cooperative",
          "ALEJANDRO GARCÍA PALACIOS",
          "Sol y Cafe",
          "Aspinwall & CO. LTD",
          "Conquista/Morito",
          "CASTULO GUTIERREZ",
          "AGROPECUARIA QUIAGRAL",
          "Conquista/Morito",
          "Kona Pacific Farmers Cooperative",
          "ISIDORA HERAS HERNANDEZ",
          "1",
          "GUILLERMO EDUARDO BOBADILLA MUGUIRA",
          "Cooperativa Coaquil",
          "various smallholders",
          "AGROPECUARIA QUIAGRAL",
          "Conquista / Morito",
          "JUANA RODRIGUEZ GUTIERREZ",
          "SPOSEL S. DE S.S.",
          "SURAYA MAGDALENA LOTFE CALDERON",
          "MARTÍN JIMENEZ CASIANO, PAULINA CERQUEDA ALVAREZ, JULIO MARTINEZ TERAN",
          "MIGUEL LOPEZ TIRZO",
          "GEREMIAS RIAÑO LOPEZ",
          "PABLO ENRIQUE MARTINEZ GAMA",
          "Conquista / Morito",
          "Conquista/Morito",
          "CESMACH (VARIOS)",
          "AGRIPEC DE LA VEGA Y CIA.",
          "JORGE OCTAVIO ESCAMILLA PRADO",
          "MYRNA ROXANA GÁLVEZ GONZÁLEZ",
          "EUGENE HOLMAN PEW",
          "Cooperativa Coaquil",
          "various small producers",
          "Beneficio la Eva S.A.",
          "JOSÉ ARMANDO NORBERTO BORZANI LEMINI",
          "RICARDO AARON SAMPIERI MARINI",
          "various small producers",
          "Omar Acosta",
          "Omar Acosta",
          "Omar Acosta",
          "JUAN CARLOS GARCÍA LOPEZ",
          "COEB Koperativ Ekselsyo Basen",
          "Teófilo Narváez",
          "WILLIAM ESTUARDO MARTINEZ PACHECO"
         ],
         "xaxis": "x",
         "yaxis": "y"
        }
       ],
       "layout": {
        "barmode": "relative",
        "legend": {
         "tracegroupgap": 0
        },
        "template": {
         "data": {
          "bar": [
           {
            "error_x": {
             "color": "#2a3f5f"
            },
            "error_y": {
             "color": "#2a3f5f"
            },
            "marker": {
             "line": {
              "color": "#E5ECF6",
              "width": 0.5
             },
             "pattern": {
              "fillmode": "overlay",
              "size": 10,
              "solidity": 0.2
             }
            },
            "type": "bar"
           }
          ],
          "barpolar": [
           {
            "marker": {
             "line": {
              "color": "#E5ECF6",
              "width": 0.5
             },
             "pattern": {
              "fillmode": "overlay",
              "size": 10,
              "solidity": 0.2
             }
            },
            "type": "barpolar"
           }
          ],
          "carpet": [
           {
            "aaxis": {
             "endlinecolor": "#2a3f5f",
             "gridcolor": "white",
             "linecolor": "white",
             "minorgridcolor": "white",
             "startlinecolor": "#2a3f5f"
            },
            "baxis": {
             "endlinecolor": "#2a3f5f",
             "gridcolor": "white",
             "linecolor": "white",
             "minorgridcolor": "white",
             "startlinecolor": "#2a3f5f"
            },
            "type": "carpet"
           }
          ],
          "choropleth": [
           {
            "colorbar": {
             "outlinewidth": 0,
             "ticks": ""
            },
            "type": "choropleth"
           }
          ],
          "contour": [
           {
            "colorbar": {
             "outlinewidth": 0,
             "ticks": ""
            },
            "colorscale": [
             [
              0,
              "#0d0887"
             ],
             [
              0.1111111111111111,
              "#46039f"
             ],
             [
              0.2222222222222222,
              "#7201a8"
             ],
             [
              0.3333333333333333,
              "#9c179e"
             ],
             [
              0.4444444444444444,
              "#bd3786"
             ],
             [
              0.5555555555555556,
              "#d8576b"
             ],
             [
              0.6666666666666666,
              "#ed7953"
             ],
             [
              0.7777777777777778,
              "#fb9f3a"
             ],
             [
              0.8888888888888888,
              "#fdca26"
             ],
             [
              1,
              "#f0f921"
             ]
            ],
            "type": "contour"
           }
          ],
          "contourcarpet": [
           {
            "colorbar": {
             "outlinewidth": 0,
             "ticks": ""
            },
            "type": "contourcarpet"
           }
          ],
          "heatmap": [
           {
            "colorbar": {
             "outlinewidth": 0,
             "ticks": ""
            },
            "colorscale": [
             [
              0,
              "#0d0887"
             ],
             [
              0.1111111111111111,
              "#46039f"
             ],
             [
              0.2222222222222222,
              "#7201a8"
             ],
             [
              0.3333333333333333,
              "#9c179e"
             ],
             [
              0.4444444444444444,
              "#bd3786"
             ],
             [
              0.5555555555555556,
              "#d8576b"
             ],
             [
              0.6666666666666666,
              "#ed7953"
             ],
             [
              0.7777777777777778,
              "#fb9f3a"
             ],
             [
              0.8888888888888888,
              "#fdca26"
             ],
             [
              1,
              "#f0f921"
             ]
            ],
            "type": "heatmap"
           }
          ],
          "heatmapgl": [
           {
            "colorbar": {
             "outlinewidth": 0,
             "ticks": ""
            },
            "colorscale": [
             [
              0,
              "#0d0887"
             ],
             [
              0.1111111111111111,
              "#46039f"
             ],
             [
              0.2222222222222222,
              "#7201a8"
             ],
             [
              0.3333333333333333,
              "#9c179e"
             ],
             [
              0.4444444444444444,
              "#bd3786"
             ],
             [
              0.5555555555555556,
              "#d8576b"
             ],
             [
              0.6666666666666666,
              "#ed7953"
             ],
             [
              0.7777777777777778,
              "#fb9f3a"
             ],
             [
              0.8888888888888888,
              "#fdca26"
             ],
             [
              1,
              "#f0f921"
             ]
            ],
            "type": "heatmapgl"
           }
          ],
          "histogram": [
           {
            "marker": {
             "pattern": {
              "fillmode": "overlay",
              "size": 10,
              "solidity": 0.2
             }
            },
            "type": "histogram"
           }
          ],
          "histogram2d": [
           {
            "colorbar": {
             "outlinewidth": 0,
             "ticks": ""
            },
            "colorscale": [
             [
              0,
              "#0d0887"
             ],
             [
              0.1111111111111111,
              "#46039f"
             ],
             [
              0.2222222222222222,
              "#7201a8"
             ],
             [
              0.3333333333333333,
              "#9c179e"
             ],
             [
              0.4444444444444444,
              "#bd3786"
             ],
             [
              0.5555555555555556,
              "#d8576b"
             ],
             [
              0.6666666666666666,
              "#ed7953"
             ],
             [
              0.7777777777777778,
              "#fb9f3a"
             ],
             [
              0.8888888888888888,
              "#fdca26"
             ],
             [
              1,
              "#f0f921"
             ]
            ],
            "type": "histogram2d"
           }
          ],
          "histogram2dcontour": [
           {
            "colorbar": {
             "outlinewidth": 0,
             "ticks": ""
            },
            "colorscale": [
             [
              0,
              "#0d0887"
             ],
             [
              0.1111111111111111,
              "#46039f"
             ],
             [
              0.2222222222222222,
              "#7201a8"
             ],
             [
              0.3333333333333333,
              "#9c179e"
             ],
             [
              0.4444444444444444,
              "#bd3786"
             ],
             [
              0.5555555555555556,
              "#d8576b"
             ],
             [
              0.6666666666666666,
              "#ed7953"
             ],
             [
              0.7777777777777778,
              "#fb9f3a"
             ],
             [
              0.8888888888888888,
              "#fdca26"
             ],
             [
              1,
              "#f0f921"
             ]
            ],
            "type": "histogram2dcontour"
           }
          ],
          "mesh3d": [
           {
            "colorbar": {
             "outlinewidth": 0,
             "ticks": ""
            },
            "type": "mesh3d"
           }
          ],
          "parcoords": [
           {
            "line": {
             "colorbar": {
              "outlinewidth": 0,
              "ticks": ""
             }
            },
            "type": "parcoords"
           }
          ],
          "pie": [
           {
            "automargin": true,
            "type": "pie"
           }
          ],
          "scatter": [
           {
            "marker": {
             "colorbar": {
              "outlinewidth": 0,
              "ticks": ""
             }
            },
            "type": "scatter"
           }
          ],
          "scatter3d": [
           {
            "line": {
             "colorbar": {
              "outlinewidth": 0,
              "ticks": ""
             }
            },
            "marker": {
             "colorbar": {
              "outlinewidth": 0,
              "ticks": ""
             }
            },
            "type": "scatter3d"
           }
          ],
          "scattercarpet": [
           {
            "marker": {
             "colorbar": {
              "outlinewidth": 0,
              "ticks": ""
             }
            },
            "type": "scattercarpet"
           }
          ],
          "scattergeo": [
           {
            "marker": {
             "colorbar": {
              "outlinewidth": 0,
              "ticks": ""
             }
            },
            "type": "scattergeo"
           }
          ],
          "scattergl": [
           {
            "marker": {
             "colorbar": {
              "outlinewidth": 0,
              "ticks": ""
             }
            },
            "type": "scattergl"
           }
          ],
          "scattermapbox": [
           {
            "marker": {
             "colorbar": {
              "outlinewidth": 0,
              "ticks": ""
             }
            },
            "type": "scattermapbox"
           }
          ],
          "scatterpolar": [
           {
            "marker": {
             "colorbar": {
              "outlinewidth": 0,
              "ticks": ""
             }
            },
            "type": "scatterpolar"
           }
          ],
          "scatterpolargl": [
           {
            "marker": {
             "colorbar": {
              "outlinewidth": 0,
              "ticks": ""
             }
            },
            "type": "scatterpolargl"
           }
          ],
          "scatterternary": [
           {
            "marker": {
             "colorbar": {
              "outlinewidth": 0,
              "ticks": ""
             }
            },
            "type": "scatterternary"
           }
          ],
          "surface": [
           {
            "colorbar": {
             "outlinewidth": 0,
             "ticks": ""
            },
            "colorscale": [
             [
              0,
              "#0d0887"
             ],
             [
              0.1111111111111111,
              "#46039f"
             ],
             [
              0.2222222222222222,
              "#7201a8"
             ],
             [
              0.3333333333333333,
              "#9c179e"
             ],
             [
              0.4444444444444444,
              "#bd3786"
             ],
             [
              0.5555555555555556,
              "#d8576b"
             ],
             [
              0.6666666666666666,
              "#ed7953"
             ],
             [
              0.7777777777777778,
              "#fb9f3a"
             ],
             [
              0.8888888888888888,
              "#fdca26"
             ],
             [
              1,
              "#f0f921"
             ]
            ],
            "type": "surface"
           }
          ],
          "table": [
           {
            "cells": {
             "fill": {
              "color": "#EBF0F8"
             },
             "line": {
              "color": "white"
             }
            },
            "header": {
             "fill": {
              "color": "#C8D4E3"
             },
             "line": {
              "color": "white"
             }
            },
            "type": "table"
           }
          ]
         },
         "layout": {
          "annotationdefaults": {
           "arrowcolor": "#2a3f5f",
           "arrowhead": 0,
           "arrowwidth": 1
          },
          "autotypenumbers": "strict",
          "coloraxis": {
           "colorbar": {
            "outlinewidth": 0,
            "ticks": ""
           }
          },
          "colorscale": {
           "diverging": [
            [
             0,
             "#8e0152"
            ],
            [
             0.1,
             "#c51b7d"
            ],
            [
             0.2,
             "#de77ae"
            ],
            [
             0.3,
             "#f1b6da"
            ],
            [
             0.4,
             "#fde0ef"
            ],
            [
             0.5,
             "#f7f7f7"
            ],
            [
             0.6,
             "#e6f5d0"
            ],
            [
             0.7,
             "#b8e186"
            ],
            [
             0.8,
             "#7fbc41"
            ],
            [
             0.9,
             "#4d9221"
            ],
            [
             1,
             "#276419"
            ]
           ],
           "sequential": [
            [
             0,
             "#0d0887"
            ],
            [
             0.1111111111111111,
             "#46039f"
            ],
            [
             0.2222222222222222,
             "#7201a8"
            ],
            [
             0.3333333333333333,
             "#9c179e"
            ],
            [
             0.4444444444444444,
             "#bd3786"
            ],
            [
             0.5555555555555556,
             "#d8576b"
            ],
            [
             0.6666666666666666,
             "#ed7953"
            ],
            [
             0.7777777777777778,
             "#fb9f3a"
            ],
            [
             0.8888888888888888,
             "#fdca26"
            ],
            [
             1,
             "#f0f921"
            ]
           ],
           "sequentialminus": [
            [
             0,
             "#0d0887"
            ],
            [
             0.1111111111111111,
             "#46039f"
            ],
            [
             0.2222222222222222,
             "#7201a8"
            ],
            [
             0.3333333333333333,
             "#9c179e"
            ],
            [
             0.4444444444444444,
             "#bd3786"
            ],
            [
             0.5555555555555556,
             "#d8576b"
            ],
            [
             0.6666666666666666,
             "#ed7953"
            ],
            [
             0.7777777777777778,
             "#fb9f3a"
            ],
            [
             0.8888888888888888,
             "#fdca26"
            ],
            [
             1,
             "#f0f921"
            ]
           ]
          },
          "colorway": [
           "#636efa",
           "#EF553B",
           "#00cc96",
           "#ab63fa",
           "#FFA15A",
           "#19d3f3",
           "#FF6692",
           "#B6E880",
           "#FF97FF",
           "#FECB52"
          ],
          "font": {
           "color": "#2a3f5f"
          },
          "geo": {
           "bgcolor": "white",
           "lakecolor": "white",
           "landcolor": "#E5ECF6",
           "showlakes": true,
           "showland": true,
           "subunitcolor": "white"
          },
          "hoverlabel": {
           "align": "left"
          },
          "hovermode": "closest",
          "mapbox": {
           "style": "light"
          },
          "paper_bgcolor": "white",
          "plot_bgcolor": "#E5ECF6",
          "polar": {
           "angularaxis": {
            "gridcolor": "white",
            "linecolor": "white",
            "ticks": ""
           },
           "bgcolor": "#E5ECF6",
           "radialaxis": {
            "gridcolor": "white",
            "linecolor": "white",
            "ticks": ""
           }
          },
          "scene": {
           "xaxis": {
            "backgroundcolor": "#E5ECF6",
            "gridcolor": "white",
            "gridwidth": 2,
            "linecolor": "white",
            "showbackground": true,
            "ticks": "",
            "zerolinecolor": "white"
           },
           "yaxis": {
            "backgroundcolor": "#E5ECF6",
            "gridcolor": "white",
            "gridwidth": 2,
            "linecolor": "white",
            "showbackground": true,
            "ticks": "",
            "zerolinecolor": "white"
           },
           "zaxis": {
            "backgroundcolor": "#E5ECF6",
            "gridcolor": "white",
            "gridwidth": 2,
            "linecolor": "white",
            "showbackground": true,
            "ticks": "",
            "zerolinecolor": "white"
           }
          },
          "shapedefaults": {
           "line": {
            "color": "#2a3f5f"
           }
          },
          "ternary": {
           "aaxis": {
            "gridcolor": "white",
            "linecolor": "white",
            "ticks": ""
           },
           "baxis": {
            "gridcolor": "white",
            "linecolor": "white",
            "ticks": ""
           },
           "bgcolor": "#E5ECF6",
           "caxis": {
            "gridcolor": "white",
            "linecolor": "white",
            "ticks": ""
           }
          },
          "title": {
           "x": 0.05
          },
          "xaxis": {
           "automargin": true,
           "gridcolor": "white",
           "linecolor": "white",
           "ticks": "",
           "title": {
            "standoff": 15
           },
           "zerolinecolor": "white",
           "zerolinewidth": 2
          },
          "yaxis": {
           "automargin": true,
           "gridcolor": "white",
           "linecolor": "white",
           "ticks": "",
           "title": {
            "standoff": 15
           },
           "zerolinecolor": "white",
           "zerolinewidth": 2
          }
         }
        },
        "title": {
         "text": "Arabica: Producer"
        },
        "xaxis": {
         "anchor": "y",
         "domain": [
          0,
          1
         ],
         "title": {
          "text": "Producer"
         }
        },
        "yaxis": {
         "anchor": "x",
         "domain": [
          0,
          1
         ],
         "title": {
          "text": "count"
         }
        }
       }
      }
     },
     "metadata": {},
     "output_type": "display_data"
    },
    {
     "data": {
      "application/vnd.plotly.v1+json": {
       "config": {
        "plotlyServerURL": "https://plot.ly"
       },
       "data": [
        {
         "alignmentgroup": "True",
         "bingroup": "x",
         "hovertemplate": "Number of Bags=%{x}<br>count=%{y}<extra></extra>",
         "legendgroup": "",
         "marker": {
          "color": "#636efa",
          "pattern": {
           "shape": ""
          }
         },
         "name": "",
         "offsetgroup": "",
         "orientation": "v",
         "showlegend": false,
         "type": "histogram",
         "x": [
          300,
          300,
          320,
          300,
          100,
          50,
          300,
          10,
          10,
          10,
          3,
          250,
          10,
          250,
          14,
          10,
          3,
          100,
          20,
          29,
          250,
          320,
          320,
          10,
          53,
          10,
          12,
          7,
          1,
          1,
          80,
          1,
          37,
          320,
          150,
          275,
          320,
          7,
          275,
          19,
          100,
          320,
          320,
          250,
          320,
          150,
          5,
          3,
          36,
          250,
          250,
          20,
          300,
          275,
          250,
          320,
          250,
          100,
          250,
          200,
          135,
          36,
          1,
          31,
          243,
          252,
          20,
          134,
          50,
          25,
          4,
          10,
          10,
          1,
          50,
          150,
          275,
          150,
          2,
          20,
          15,
          120,
          50,
          250,
          20,
          275,
          10,
          235,
          250,
          125,
          80,
          66,
          125,
          100,
          250,
          250,
          75,
          11,
          250,
          37,
          35,
          275,
          200,
          3,
          250,
          1,
          250,
          56,
          250,
          250,
          275,
          200,
          304,
          275,
          2,
          69,
          150,
          275,
          250,
          100,
          10,
          20,
          275,
          230,
          275,
          3,
          275,
          248,
          250,
          10,
          65,
          250,
          10,
          20,
          250,
          50,
          250,
          150,
          275,
          377,
          130,
          275,
          275,
          305,
          320,
          320,
          10,
          1,
          250,
          275,
          275,
          2,
          275,
          10,
          50,
          200,
          1,
          300,
          320,
          275,
          275,
          250,
          250,
          138,
          320,
          300,
          2,
          150,
          320,
          200,
          45,
          320,
          20,
          1,
          275,
          10,
          48,
          250,
          20,
          275,
          275,
          100,
          320,
          8,
          320,
          300,
          250,
          250,
          320,
          250,
          20,
          250,
          300,
          200,
          320,
          275,
          10,
          275,
          3,
          250,
          320,
          18,
          100,
          10,
          250,
          320,
          200,
          285,
          275,
          320,
          20,
          1,
          100,
          275,
          250,
          250,
          250,
          250,
          250,
          48,
          10,
          250,
          320,
          275,
          275,
          3,
          275,
          275,
          250,
          100,
          10,
          275,
          250,
          250,
          33,
          50,
          245,
          250,
          250,
          180,
          5,
          200,
          320,
          250,
          275,
          10,
          10,
          15,
          275,
          175,
          250,
          300,
          50,
          600,
          275,
          20,
          500,
          275,
          275,
          300,
          39,
          250,
          250,
          250,
          250,
          275,
          275,
          10,
          275,
          275,
          10,
          200,
          250,
          250,
          2,
          250,
          250,
          250,
          50,
          29,
          275,
          275,
          150,
          304,
          11,
          10,
          10,
          26,
          200,
          10,
          54,
          250,
          30,
          175,
          320,
          275,
          320,
          1,
          250,
          275,
          3,
          3,
          275,
          150,
          100,
          1,
          180,
          232,
          84,
          1,
          275,
          275,
          200,
          250,
          45,
          10,
          10,
          275,
          15,
          250,
          50,
          100,
          250,
          25,
          275,
          275,
          320,
          320,
          20,
          300,
          250,
          50,
          10,
          320,
          320,
          320,
          310,
          325,
          2,
          275,
          200,
          250,
          305,
          10,
          300,
          17,
          26,
          250,
          250,
          120,
          250,
          250,
          275,
          15,
          20,
          250,
          250,
          250,
          275,
          121,
          320,
          100,
          10,
          250,
          11,
          250,
          4,
          11,
          275,
          300,
          1,
          1,
          250,
          26,
          250,
          15,
          1,
          100,
          27,
          50,
          320,
          275,
          150,
          3,
          80,
          300,
          100,
          300,
          250,
          40,
          125,
          300,
          250,
          250,
          250,
          250,
          275,
          275,
          50,
          50,
          25,
          2,
          25,
          8,
          275,
          250,
          275,
          320,
          3,
          3,
          250,
          29,
          250,
          250,
          32,
          250,
          21,
          250,
          100,
          300,
          320,
          320,
          60,
          275,
          320,
          300,
          93,
          77,
          10,
          11,
          1,
          10,
          300,
          275,
          2,
          36,
          23,
          25,
          6,
          150,
          1,
          50,
          10,
          1,
          250,
          320,
          250,
          250,
          50,
          70,
          275,
          320,
          2,
          275,
          50,
          1,
          50,
          37,
          5,
          2,
          69,
          250,
          250,
          10,
          10,
          28,
          275,
          300,
          275,
          1,
          50,
          50,
          20,
          275,
          3,
          10,
          320,
          250,
          10,
          39,
          220,
          10,
          49,
          20,
          35,
          10,
          74,
          26,
          10,
          1,
          10,
          250,
          51,
          275,
          320,
          320,
          100,
          130,
          3,
          12,
          275,
          10,
          10,
          250,
          320,
          250,
          10,
          10,
          250,
          250,
          275,
          10,
          10,
          250,
          16,
          10,
          44,
          250,
          1062,
          275,
          180,
          275,
          275,
          10,
          320,
          35,
          150,
          10,
          275,
          10,
          40,
          250,
          250,
          100,
          84,
          320,
          200,
          30,
          320,
          1,
          275,
          10,
          200,
          2,
          60,
          80,
          10,
          250,
          200,
          60,
          2,
          320,
          320,
          275,
          300,
          1,
          150,
          35,
          250,
          15,
          1,
          250,
          275,
          275,
          230,
          2,
          1,
          1,
          16,
          50,
          1,
          250,
          275,
          30,
          1,
          15,
          50,
          75,
          250,
          53,
          250,
          25,
          50,
          274,
          305,
          275,
          275,
          114,
          35,
          450,
          10,
          10,
          30,
          62,
          8,
          25,
          15,
          200,
          166,
          130,
          320,
          300,
          1,
          250,
          275,
          275,
          8,
          24,
          320,
          275,
          280,
          50,
          300,
          250,
          302,
          15,
          50,
          1,
          1,
          10,
          100,
          42,
          250,
          28,
          320,
          50,
          80,
          275,
          320,
          20,
          10,
          300,
          275,
          275,
          320,
          10,
          10,
          310,
          275,
          100,
          15,
          275,
          250,
          12,
          275,
          25,
          20,
          250,
          100,
          10,
          50,
          300,
          250,
          310,
          28,
          28,
          50,
          550,
          275,
          123,
          1,
          250,
          15,
          250,
          50,
          300,
          300,
          5,
          250,
          250,
          30,
          20,
          50,
          15,
          10,
          300,
          250,
          200,
          450,
          300,
          275,
          10,
          12,
          320,
          250,
          280,
          250,
          10,
          20,
          250,
          230,
          275,
          300,
          275,
          300,
          2,
          31,
          275,
          250,
          70,
          42,
          20,
          320,
          275,
          275,
          36,
          100,
          10,
          250,
          250,
          275,
          100,
          275,
          275,
          275,
          20,
          2,
          320,
          300,
          250,
          300,
          250,
          250,
          17,
          300,
          500,
          275,
          1,
          54,
          250,
          18,
          100,
          30,
          40,
          15,
          300,
          100,
          300,
          120,
          250,
          10,
          275,
          1,
          320,
          10,
          2,
          10,
          200,
          150,
          25,
          150,
          240,
          2,
          250,
          300,
          10,
          320,
          250,
          35,
          5,
          10,
          60,
          20,
          250,
          15,
          30,
          100,
          320,
          1,
          275,
          275,
          275,
          100,
          275,
          275,
          250,
          30,
          1,
          160,
          200,
          150,
          240,
          100,
          20,
          250,
          250,
          250,
          10,
          300,
          275,
          275,
          20,
          275,
          15,
          300,
          1,
          275,
          300,
          250,
          18,
          10,
          2,
          1,
          10,
          250,
          250,
          10,
          1,
          10,
          250,
          10,
          440,
          275,
          60,
          2,
          1,
          275,
          5,
          250,
          10,
          1,
          275,
          275,
          250,
          20,
          15,
          15,
          250,
          10,
          10,
          10,
          10,
          13,
          10,
          275,
          1,
          280,
          10,
          2,
          20,
          256,
          400,
          10,
          82,
          250,
          100,
          209,
          200,
          50,
          75,
          250,
          25,
          28,
          50,
          1,
          275,
          310,
          275,
          380,
          12,
          250,
          275,
          36,
          25,
          275,
          1,
          250,
          310,
          10,
          253,
          50,
          250,
          275,
          10,
          250,
          127,
          250,
          275,
          10,
          2,
          250,
          30,
          50,
          250,
          50,
          12,
          50,
          15,
          250,
          275,
          10,
          53,
          50,
          18,
          13,
          10,
          10,
          250,
          275,
          280,
          14,
          16,
          120,
          250,
          14,
          1,
          250,
          20,
          35,
          10,
          1,
          20,
          250,
          50,
          250,
          50,
          280,
          10,
          20,
          300,
          10,
          275,
          250,
          100,
          250,
          2,
          320,
          8,
          275,
          275,
          16,
          250,
          10,
          250,
          50,
          250,
          250,
          100,
          23,
          250,
          320,
          275,
          10,
          1,
          9,
          10,
          275,
          20,
          250,
          10,
          250,
          250,
          6,
          11,
          15,
          20,
          275,
          1,
          250,
          250,
          10,
          100,
          36,
          18,
          43,
          14,
          20,
          250,
          250,
          275,
          250,
          20,
          100,
          20,
          275,
          280,
          250,
          10,
          25,
          280,
          275,
          275,
          275,
          12,
          1,
          550,
          275
         ],
         "xaxis": "x",
         "yaxis": "y"
        }
       ],
       "layout": {
        "barmode": "relative",
        "legend": {
         "tracegroupgap": 0
        },
        "template": {
         "data": {
          "bar": [
           {
            "error_x": {
             "color": "#2a3f5f"
            },
            "error_y": {
             "color": "#2a3f5f"
            },
            "marker": {
             "line": {
              "color": "#E5ECF6",
              "width": 0.5
             },
             "pattern": {
              "fillmode": "overlay",
              "size": 10,
              "solidity": 0.2
             }
            },
            "type": "bar"
           }
          ],
          "barpolar": [
           {
            "marker": {
             "line": {
              "color": "#E5ECF6",
              "width": 0.5
             },
             "pattern": {
              "fillmode": "overlay",
              "size": 10,
              "solidity": 0.2
             }
            },
            "type": "barpolar"
           }
          ],
          "carpet": [
           {
            "aaxis": {
             "endlinecolor": "#2a3f5f",
             "gridcolor": "white",
             "linecolor": "white",
             "minorgridcolor": "white",
             "startlinecolor": "#2a3f5f"
            },
            "baxis": {
             "endlinecolor": "#2a3f5f",
             "gridcolor": "white",
             "linecolor": "white",
             "minorgridcolor": "white",
             "startlinecolor": "#2a3f5f"
            },
            "type": "carpet"
           }
          ],
          "choropleth": [
           {
            "colorbar": {
             "outlinewidth": 0,
             "ticks": ""
            },
            "type": "choropleth"
           }
          ],
          "contour": [
           {
            "colorbar": {
             "outlinewidth": 0,
             "ticks": ""
            },
            "colorscale": [
             [
              0,
              "#0d0887"
             ],
             [
              0.1111111111111111,
              "#46039f"
             ],
             [
              0.2222222222222222,
              "#7201a8"
             ],
             [
              0.3333333333333333,
              "#9c179e"
             ],
             [
              0.4444444444444444,
              "#bd3786"
             ],
             [
              0.5555555555555556,
              "#d8576b"
             ],
             [
              0.6666666666666666,
              "#ed7953"
             ],
             [
              0.7777777777777778,
              "#fb9f3a"
             ],
             [
              0.8888888888888888,
              "#fdca26"
             ],
             [
              1,
              "#f0f921"
             ]
            ],
            "type": "contour"
           }
          ],
          "contourcarpet": [
           {
            "colorbar": {
             "outlinewidth": 0,
             "ticks": ""
            },
            "type": "contourcarpet"
           }
          ],
          "heatmap": [
           {
            "colorbar": {
             "outlinewidth": 0,
             "ticks": ""
            },
            "colorscale": [
             [
              0,
              "#0d0887"
             ],
             [
              0.1111111111111111,
              "#46039f"
             ],
             [
              0.2222222222222222,
              "#7201a8"
             ],
             [
              0.3333333333333333,
              "#9c179e"
             ],
             [
              0.4444444444444444,
              "#bd3786"
             ],
             [
              0.5555555555555556,
              "#d8576b"
             ],
             [
              0.6666666666666666,
              "#ed7953"
             ],
             [
              0.7777777777777778,
              "#fb9f3a"
             ],
             [
              0.8888888888888888,
              "#fdca26"
             ],
             [
              1,
              "#f0f921"
             ]
            ],
            "type": "heatmap"
           }
          ],
          "heatmapgl": [
           {
            "colorbar": {
             "outlinewidth": 0,
             "ticks": ""
            },
            "colorscale": [
             [
              0,
              "#0d0887"
             ],
             [
              0.1111111111111111,
              "#46039f"
             ],
             [
              0.2222222222222222,
              "#7201a8"
             ],
             [
              0.3333333333333333,
              "#9c179e"
             ],
             [
              0.4444444444444444,
              "#bd3786"
             ],
             [
              0.5555555555555556,
              "#d8576b"
             ],
             [
              0.6666666666666666,
              "#ed7953"
             ],
             [
              0.7777777777777778,
              "#fb9f3a"
             ],
             [
              0.8888888888888888,
              "#fdca26"
             ],
             [
              1,
              "#f0f921"
             ]
            ],
            "type": "heatmapgl"
           }
          ],
          "histogram": [
           {
            "marker": {
             "pattern": {
              "fillmode": "overlay",
              "size": 10,
              "solidity": 0.2
             }
            },
            "type": "histogram"
           }
          ],
          "histogram2d": [
           {
            "colorbar": {
             "outlinewidth": 0,
             "ticks": ""
            },
            "colorscale": [
             [
              0,
              "#0d0887"
             ],
             [
              0.1111111111111111,
              "#46039f"
             ],
             [
              0.2222222222222222,
              "#7201a8"
             ],
             [
              0.3333333333333333,
              "#9c179e"
             ],
             [
              0.4444444444444444,
              "#bd3786"
             ],
             [
              0.5555555555555556,
              "#d8576b"
             ],
             [
              0.6666666666666666,
              "#ed7953"
             ],
             [
              0.7777777777777778,
              "#fb9f3a"
             ],
             [
              0.8888888888888888,
              "#fdca26"
             ],
             [
              1,
              "#f0f921"
             ]
            ],
            "type": "histogram2d"
           }
          ],
          "histogram2dcontour": [
           {
            "colorbar": {
             "outlinewidth": 0,
             "ticks": ""
            },
            "colorscale": [
             [
              0,
              "#0d0887"
             ],
             [
              0.1111111111111111,
              "#46039f"
             ],
             [
              0.2222222222222222,
              "#7201a8"
             ],
             [
              0.3333333333333333,
              "#9c179e"
             ],
             [
              0.4444444444444444,
              "#bd3786"
             ],
             [
              0.5555555555555556,
              "#d8576b"
             ],
             [
              0.6666666666666666,
              "#ed7953"
             ],
             [
              0.7777777777777778,
              "#fb9f3a"
             ],
             [
              0.8888888888888888,
              "#fdca26"
             ],
             [
              1,
              "#f0f921"
             ]
            ],
            "type": "histogram2dcontour"
           }
          ],
          "mesh3d": [
           {
            "colorbar": {
             "outlinewidth": 0,
             "ticks": ""
            },
            "type": "mesh3d"
           }
          ],
          "parcoords": [
           {
            "line": {
             "colorbar": {
              "outlinewidth": 0,
              "ticks": ""
             }
            },
            "type": "parcoords"
           }
          ],
          "pie": [
           {
            "automargin": true,
            "type": "pie"
           }
          ],
          "scatter": [
           {
            "marker": {
             "colorbar": {
              "outlinewidth": 0,
              "ticks": ""
             }
            },
            "type": "scatter"
           }
          ],
          "scatter3d": [
           {
            "line": {
             "colorbar": {
              "outlinewidth": 0,
              "ticks": ""
             }
            },
            "marker": {
             "colorbar": {
              "outlinewidth": 0,
              "ticks": ""
             }
            },
            "type": "scatter3d"
           }
          ],
          "scattercarpet": [
           {
            "marker": {
             "colorbar": {
              "outlinewidth": 0,
              "ticks": ""
             }
            },
            "type": "scattercarpet"
           }
          ],
          "scattergeo": [
           {
            "marker": {
             "colorbar": {
              "outlinewidth": 0,
              "ticks": ""
             }
            },
            "type": "scattergeo"
           }
          ],
          "scattergl": [
           {
            "marker": {
             "colorbar": {
              "outlinewidth": 0,
              "ticks": ""
             }
            },
            "type": "scattergl"
           }
          ],
          "scattermapbox": [
           {
            "marker": {
             "colorbar": {
              "outlinewidth": 0,
              "ticks": ""
             }
            },
            "type": "scattermapbox"
           }
          ],
          "scatterpolar": [
           {
            "marker": {
             "colorbar": {
              "outlinewidth": 0,
              "ticks": ""
             }
            },
            "type": "scatterpolar"
           }
          ],
          "scatterpolargl": [
           {
            "marker": {
             "colorbar": {
              "outlinewidth": 0,
              "ticks": ""
             }
            },
            "type": "scatterpolargl"
           }
          ],
          "scatterternary": [
           {
            "marker": {
             "colorbar": {
              "outlinewidth": 0,
              "ticks": ""
             }
            },
            "type": "scatterternary"
           }
          ],
          "surface": [
           {
            "colorbar": {
             "outlinewidth": 0,
             "ticks": ""
            },
            "colorscale": [
             [
              0,
              "#0d0887"
             ],
             [
              0.1111111111111111,
              "#46039f"
             ],
             [
              0.2222222222222222,
              "#7201a8"
             ],
             [
              0.3333333333333333,
              "#9c179e"
             ],
             [
              0.4444444444444444,
              "#bd3786"
             ],
             [
              0.5555555555555556,
              "#d8576b"
             ],
             [
              0.6666666666666666,
              "#ed7953"
             ],
             [
              0.7777777777777778,
              "#fb9f3a"
             ],
             [
              0.8888888888888888,
              "#fdca26"
             ],
             [
              1,
              "#f0f921"
             ]
            ],
            "type": "surface"
           }
          ],
          "table": [
           {
            "cells": {
             "fill": {
              "color": "#EBF0F8"
             },
             "line": {
              "color": "white"
             }
            },
            "header": {
             "fill": {
              "color": "#C8D4E3"
             },
             "line": {
              "color": "white"
             }
            },
            "type": "table"
           }
          ]
         },
         "layout": {
          "annotationdefaults": {
           "arrowcolor": "#2a3f5f",
           "arrowhead": 0,
           "arrowwidth": 1
          },
          "autotypenumbers": "strict",
          "coloraxis": {
           "colorbar": {
            "outlinewidth": 0,
            "ticks": ""
           }
          },
          "colorscale": {
           "diverging": [
            [
             0,
             "#8e0152"
            ],
            [
             0.1,
             "#c51b7d"
            ],
            [
             0.2,
             "#de77ae"
            ],
            [
             0.3,
             "#f1b6da"
            ],
            [
             0.4,
             "#fde0ef"
            ],
            [
             0.5,
             "#f7f7f7"
            ],
            [
             0.6,
             "#e6f5d0"
            ],
            [
             0.7,
             "#b8e186"
            ],
            [
             0.8,
             "#7fbc41"
            ],
            [
             0.9,
             "#4d9221"
            ],
            [
             1,
             "#276419"
            ]
           ],
           "sequential": [
            [
             0,
             "#0d0887"
            ],
            [
             0.1111111111111111,
             "#46039f"
            ],
            [
             0.2222222222222222,
             "#7201a8"
            ],
            [
             0.3333333333333333,
             "#9c179e"
            ],
            [
             0.4444444444444444,
             "#bd3786"
            ],
            [
             0.5555555555555556,
             "#d8576b"
            ],
            [
             0.6666666666666666,
             "#ed7953"
            ],
            [
             0.7777777777777778,
             "#fb9f3a"
            ],
            [
             0.8888888888888888,
             "#fdca26"
            ],
            [
             1,
             "#f0f921"
            ]
           ],
           "sequentialminus": [
            [
             0,
             "#0d0887"
            ],
            [
             0.1111111111111111,
             "#46039f"
            ],
            [
             0.2222222222222222,
             "#7201a8"
            ],
            [
             0.3333333333333333,
             "#9c179e"
            ],
            [
             0.4444444444444444,
             "#bd3786"
            ],
            [
             0.5555555555555556,
             "#d8576b"
            ],
            [
             0.6666666666666666,
             "#ed7953"
            ],
            [
             0.7777777777777778,
             "#fb9f3a"
            ],
            [
             0.8888888888888888,
             "#fdca26"
            ],
            [
             1,
             "#f0f921"
            ]
           ]
          },
          "colorway": [
           "#636efa",
           "#EF553B",
           "#00cc96",
           "#ab63fa",
           "#FFA15A",
           "#19d3f3",
           "#FF6692",
           "#B6E880",
           "#FF97FF",
           "#FECB52"
          ],
          "font": {
           "color": "#2a3f5f"
          },
          "geo": {
           "bgcolor": "white",
           "lakecolor": "white",
           "landcolor": "#E5ECF6",
           "showlakes": true,
           "showland": true,
           "subunitcolor": "white"
          },
          "hoverlabel": {
           "align": "left"
          },
          "hovermode": "closest",
          "mapbox": {
           "style": "light"
          },
          "paper_bgcolor": "white",
          "plot_bgcolor": "#E5ECF6",
          "polar": {
           "angularaxis": {
            "gridcolor": "white",
            "linecolor": "white",
            "ticks": ""
           },
           "bgcolor": "#E5ECF6",
           "radialaxis": {
            "gridcolor": "white",
            "linecolor": "white",
            "ticks": ""
           }
          },
          "scene": {
           "xaxis": {
            "backgroundcolor": "#E5ECF6",
            "gridcolor": "white",
            "gridwidth": 2,
            "linecolor": "white",
            "showbackground": true,
            "ticks": "",
            "zerolinecolor": "white"
           },
           "yaxis": {
            "backgroundcolor": "#E5ECF6",
            "gridcolor": "white",
            "gridwidth": 2,
            "linecolor": "white",
            "showbackground": true,
            "ticks": "",
            "zerolinecolor": "white"
           },
           "zaxis": {
            "backgroundcolor": "#E5ECF6",
            "gridcolor": "white",
            "gridwidth": 2,
            "linecolor": "white",
            "showbackground": true,
            "ticks": "",
            "zerolinecolor": "white"
           }
          },
          "shapedefaults": {
           "line": {
            "color": "#2a3f5f"
           }
          },
          "ternary": {
           "aaxis": {
            "gridcolor": "white",
            "linecolor": "white",
            "ticks": ""
           },
           "baxis": {
            "gridcolor": "white",
            "linecolor": "white",
            "ticks": ""
           },
           "bgcolor": "#E5ECF6",
           "caxis": {
            "gridcolor": "white",
            "linecolor": "white",
            "ticks": ""
           }
          },
          "title": {
           "x": 0.05
          },
          "xaxis": {
           "automargin": true,
           "gridcolor": "white",
           "linecolor": "white",
           "ticks": "",
           "title": {
            "standoff": 15
           },
           "zerolinecolor": "white",
           "zerolinewidth": 2
          },
          "yaxis": {
           "automargin": true,
           "gridcolor": "white",
           "linecolor": "white",
           "ticks": "",
           "title": {
            "standoff": 15
           },
           "zerolinecolor": "white",
           "zerolinewidth": 2
          }
         }
        },
        "title": {
         "text": "Arabica: Number of Bags"
        },
        "xaxis": {
         "anchor": "y",
         "domain": [
          0,
          1
         ],
         "title": {
          "text": "Number of Bags"
         }
        },
        "yaxis": {
         "anchor": "x",
         "domain": [
          0,
          1
         ],
         "title": {
          "text": "count"
         }
        }
       }
      }
     },
     "metadata": {},
     "output_type": "display_data"
    },
    {
     "data": {
      "application/vnd.plotly.v1+json": {
       "config": {
        "plotlyServerURL": "https://plot.ly"
       },
       "data": [
        {
         "alignmentgroup": "True",
         "bingroup": "x",
         "hovertemplate": "Processing Method=%{x}<br>count=%{y}<extra></extra>",
         "legendgroup": "",
         "marker": {
          "color": "#636efa",
          "pattern": {
           "shape": ""
          }
         },
         "name": "",
         "offsetgroup": "",
         "orientation": "v",
         "showlegend": false,
         "type": "histogram",
         "x": [
          "Washed / Wet",
          "Washed / Wet",
          "Natural / Dry",
          "Washed / Wet",
          "Washed / Wet",
          "Natural / Dry",
          "Natural / Dry",
          "Washed / Wet",
          "Washed / Wet",
          "Washed / Wet",
          "Washed / Wet",
          "Natural / Dry",
          "Washed / Wet",
          "Washed / Wet",
          "Washed / Wet",
          "Washed / Wet",
          "Natural / Dry",
          "Washed / Wet",
          "Pulped natural / honey",
          "Natural / Dry",
          "Washed / Wet",
          "Natural / Dry",
          "Washed / Wet",
          "Washed / Wet",
          "Washed / Wet",
          "Semi-washed / Semi-pulped",
          "Natural / Dry",
          "Semi-washed / Semi-pulped",
          "Semi-washed / Semi-pulped",
          "Washed / Wet",
          "Washed / Wet",
          "Natural / Dry",
          "Washed / Wet",
          "Washed / Wet",
          "Washed / Wet",
          "Washed / Wet",
          "Natural / Dry",
          "Washed / Wet",
          "Washed / Wet",
          "Semi-washed / Semi-pulped",
          "Natural / Dry",
          "Natural / Dry",
          "Washed / Wet",
          "Washed / Wet",
          "Washed / Wet",
          "Washed / Wet",
          "Semi-washed / Semi-pulped",
          "Natural / Dry",
          "Natural / Dry",
          "Washed / Wet",
          "Washed / Wet",
          "Washed / Wet",
          "Washed / Wet",
          "Washed / Wet",
          "Washed / Wet",
          "Natural / Dry",
          "Natural / Dry",
          "Natural / Dry",
          "Natural / Dry",
          "Washed / Wet",
          "Washed / Wet",
          "Washed / Wet",
          "Washed / Wet",
          "Natural / Dry",
          "Washed / Wet",
          "Washed / Wet",
          "Semi-washed / Semi-pulped",
          "Washed / Wet",
          "Washed / Wet",
          "Semi-washed / Semi-pulped",
          "Natural / Dry",
          "Natural / Dry",
          "Natural / Dry",
          "Natural / Dry",
          "Pulped natural / honey",
          "Washed / Wet",
          "Washed / Wet",
          "Washed / Wet",
          "Washed / Wet",
          "Pulped natural / honey",
          "Washed / Wet",
          "Washed / Wet",
          "Washed / Wet",
          "Washed / Wet",
          "Other",
          "Washed / Wet",
          "Washed / Wet",
          "Washed / Wet",
          "Washed / Wet",
          "Washed / Wet",
          "Washed / Wet",
          "Washed / Wet",
          "Washed / Wet",
          "Washed / Wet",
          "Washed / Wet",
          "Washed / Wet",
          "Washed / Wet",
          "Washed / Wet",
          "Washed / Wet",
          "Semi-washed / Semi-pulped",
          "Semi-washed / Semi-pulped",
          "Washed / Wet",
          "Washed / Wet",
          "Washed / Wet",
          "Washed / Wet",
          "Washed / Wet",
          "Washed / Wet",
          "Washed / Wet",
          "Washed / Wet",
          "Washed / Wet",
          "Washed / Wet",
          "Other",
          "Natural / Dry",
          "Washed / Wet",
          "Washed / Wet",
          "Washed / Wet",
          "Washed / Wet",
          "Washed / Wet",
          "Natural / Dry",
          "Washed / Wet",
          "Washed / Wet",
          "Natural / Dry",
          "Natural / Dry",
          "Washed / Wet",
          "Washed / Wet",
          "Natural / Dry",
          "Washed / Wet",
          "Washed / Wet",
          "Natural / Dry",
          "Washed / Wet",
          "Washed / Wet",
          "Other",
          "Semi-washed / Semi-pulped",
          "Washed / Wet",
          "Washed / Wet",
          "Washed / Wet",
          "Washed / Wet",
          "Washed / Wet",
          "Washed / Wet",
          "Washed / Wet",
          "Washed / Wet",
          "Washed / Wet",
          "Natural / Dry",
          "Natural / Dry",
          "Washed / Wet",
          "Natural / Dry",
          "Washed / Wet",
          "Natural / Dry",
          "Washed / Wet",
          "Natural / Dry",
          "Natural / Dry",
          "Natural / Dry",
          "Washed / Wet",
          "Washed / Wet",
          "Washed / Wet",
          "Washed / Wet",
          "Washed / Wet",
          "Washed / Wet",
          "Natural / Dry",
          "Washed / Wet",
          "Washed / Wet",
          "Natural / Dry",
          "Other",
          "Washed / Wet",
          "Natural / Dry",
          "Washed / Wet",
          "Washed / Wet",
          "Washed / Wet",
          "Natural / Dry",
          "Washed / Wet",
          "Natural / Dry",
          "Natural / Dry",
          "Washed / Wet",
          "Natural / Dry",
          "Washed / Wet",
          "Washed / Wet",
          "Washed / Wet",
          "Washed / Wet",
          "Washed / Wet",
          "Washed / Wet",
          "Washed / Wet",
          "Washed / Wet",
          "Natural / Dry",
          "Washed / Wet",
          "Natural / Dry",
          "Semi-washed / Semi-pulped",
          "Washed / Wet",
          "Washed / Wet",
          "Natural / Dry",
          "Washed / Wet",
          "Natural / Dry",
          "Natural / Dry",
          "Semi-washed / Semi-pulped",
          "Washed / Wet",
          "Natural / Dry",
          "Washed / Wet",
          "Natural / Dry",
          "Washed / Wet",
          "Washed / Wet",
          "Natural / Dry",
          "Natural / Dry",
          "Washed / Wet",
          "Washed / Wet",
          "Natural / Dry",
          "Washed / Wet",
          "Natural / Dry",
          "Washed / Wet",
          "Washed / Wet",
          "Washed / Wet",
          "Natural / Dry",
          "Natural / Dry",
          "Washed / Wet",
          "Washed / Wet",
          "Washed / Wet",
          "Washed / Wet",
          "Washed / Wet",
          "Washed / Wet",
          "Natural / Dry",
          "Washed / Wet",
          "Washed / Wet",
          "Washed / Wet",
          "Washed / Wet",
          "Natural / Dry",
          "Washed / Wet",
          "Washed / Wet",
          "Washed / Wet",
          "Washed / Wet",
          "Washed / Wet",
          "Washed / Wet",
          "Washed / Wet",
          "Other",
          "Washed / Wet",
          "Washed / Wet",
          "Natural / Dry",
          "Semi-washed / Semi-pulped",
          "Washed / Wet",
          "Washed / Wet",
          "Natural / Dry",
          "Washed / Wet",
          "Washed / Wet",
          "Washed / Wet",
          "Semi-washed / Semi-pulped",
          "Natural / Dry",
          "Washed / Wet",
          "Natural / Dry",
          "Natural / Dry",
          "Semi-washed / Semi-pulped",
          "Washed / Wet",
          "Washed / Wet",
          "Washed / Wet",
          "Washed / Wet",
          "Washed / Wet",
          "Washed / Wet",
          "Washed / Wet",
          "Washed / Wet",
          "Washed / Wet",
          "Washed / Wet",
          "Washed / Wet",
          "Natural / Dry",
          "Semi-washed / Semi-pulped",
          "Washed / Wet",
          "Natural / Dry",
          "Washed / Wet",
          "Washed / Wet",
          "Washed / Wet",
          "Washed / Wet",
          "Washed / Wet",
          "Semi-washed / Semi-pulped",
          "Washed / Wet",
          "Washed / Wet",
          "Semi-washed / Semi-pulped",
          "Washed / Wet",
          "Washed / Wet",
          "Washed / Wet",
          "Washed / Wet",
          "Natural / Dry",
          "Washed / Wet",
          "Washed / Wet",
          "Washed / Wet",
          "Pulped natural / honey",
          "Washed / Wet",
          "Washed / Wet",
          "Washed / Wet",
          "Natural / Dry",
          "Natural / Dry",
          "Washed / Wet",
          "Washed / Wet",
          "Washed / Wet",
          "Washed / Wet",
          "Washed / Wet",
          "Washed / Wet",
          "Washed / Wet",
          "Semi-washed / Semi-pulped",
          "Washed / Wet",
          "Natural / Dry",
          "Washed / Wet",
          "Washed / Wet",
          "Natural / Dry",
          "Washed / Wet",
          "Washed / Wet",
          "Washed / Wet",
          "Washed / Wet",
          "Washed / Wet",
          "Washed / Wet",
          "Washed / Wet",
          "Washed / Wet",
          "Washed / Wet",
          "Washed / Wet",
          "Washed / Wet",
          "Washed / Wet",
          "Natural / Dry",
          "Natural / Dry",
          "Washed / Wet",
          "Washed / Wet",
          "Washed / Wet",
          "Washed / Wet",
          "Washed / Wet",
          "Washed / Wet",
          "Washed / Wet",
          "Washed / Wet",
          "Natural / Dry",
          "Natural / Dry",
          "Washed / Wet",
          "Semi-washed / Semi-pulped",
          "Washed / Wet",
          "Washed / Wet",
          "Pulped natural / honey",
          "Natural / Dry",
          "Natural / Dry",
          "Washed / Wet",
          "Washed / Wet",
          "Other",
          "Washed / Wet",
          "Natural / Dry",
          "Natural / Dry",
          "Natural / Dry",
          "Washed / Wet",
          "Natural / Dry",
          "Other",
          "Washed / Wet",
          "Washed / Wet",
          "Washed / Wet",
          "Natural / Dry",
          "Washed / Wet",
          "Washed / Wet",
          "Washed / Wet",
          "Washed / Wet",
          "Washed / Wet",
          "Semi-washed / Semi-pulped",
          "Washed / Wet",
          "Natural / Dry",
          "Natural / Dry",
          "Washed / Wet",
          "Washed / Wet",
          "Semi-washed / Semi-pulped",
          "Washed / Wet",
          "Natural / Dry",
          "Washed / Wet",
          "Washed / Wet",
          "Washed / Wet",
          "Natural / Dry",
          "Washed / Wet",
          "Natural / Dry",
          "Washed / Wet",
          "Natural / Dry",
          "Washed / Wet",
          "Washed / Wet",
          "Natural / Dry",
          "Washed / Wet",
          "Semi-washed / Semi-pulped",
          "Washed / Wet",
          "Washed / Wet",
          "Washed / Wet",
          "Natural / Dry",
          "Washed / Wet",
          "Natural / Dry",
          "Natural / Dry",
          "Washed / Wet",
          "Washed / Wet",
          "Washed / Wet",
          "Pulped natural / honey",
          "Washed / Wet",
          "Washed / Wet",
          "Other",
          "Washed / Wet",
          "Natural / Dry",
          "Washed / Wet",
          "Other",
          "Washed / Wet",
          "Natural / Dry",
          "Washed / Wet",
          "Washed / Wet",
          "Washed / Wet",
          "Washed / Wet",
          "Washed / Wet",
          "Washed / Wet",
          "Washed / Wet",
          "Washed / Wet",
          "Washed / Wet",
          "Washed / Wet",
          "Washed / Wet",
          "Other",
          "Washed / Wet",
          "Natural / Dry",
          "Washed / Wet",
          "Washed / Wet",
          "Natural / Dry",
          "Pulped natural / honey",
          "Natural / Dry",
          "Washed / Wet",
          "Washed / Wet",
          "Washed / Wet",
          "Washed / Wet",
          "Washed / Wet",
          "Washed / Wet",
          "Washed / Wet",
          "Natural / Dry",
          "Washed / Wet",
          "Washed / Wet",
          "Washed / Wet",
          "Natural / Dry",
          "Natural / Dry",
          "Washed / Wet",
          "Washed / Wet",
          "Natural / Dry",
          "Natural / Dry",
          "Washed / Wet",
          "Washed / Wet",
          "Washed / Wet",
          "Natural / Dry",
          "Washed / Wet",
          "Washed / Wet",
          "Washed / Wet",
          "Washed / Wet",
          "Washed / Wet",
          "Washed / Wet",
          "Washed / Wet",
          "Washed / Wet",
          "Pulped natural / honey",
          "Semi-washed / Semi-pulped",
          "Washed / Wet",
          "Washed / Wet",
          "Washed / Wet",
          "Natural / Dry",
          "Washed / Wet",
          "Washed / Wet",
          "Washed / Wet",
          "Washed / Wet",
          "Washed / Wet",
          "Washed / Wet",
          "Washed / Wet",
          "Natural / Dry",
          "Washed / Wet",
          "Washed / Wet",
          "Washed / Wet",
          "Washed / Wet",
          "Washed / Wet",
          "Washed / Wet",
          "Washed / Wet",
          "Washed / Wet",
          "Semi-washed / Semi-pulped",
          "Washed / Wet",
          "Washed / Wet",
          "Washed / Wet",
          "Washed / Wet",
          "Semi-washed / Semi-pulped",
          "Natural / Dry",
          "Semi-washed / Semi-pulped",
          "Washed / Wet",
          "Washed / Wet",
          "Washed / Wet",
          "Washed / Wet",
          "Washed / Wet",
          "Washed / Wet",
          "Washed / Wet",
          "Washed / Wet",
          "Natural / Dry",
          "Washed / Wet",
          "Washed / Wet",
          "Semi-washed / Semi-pulped",
          "Natural / Dry",
          "Washed / Wet",
          "Washed / Wet",
          "Semi-washed / Semi-pulped",
          "Washed / Wet",
          "Washed / Wet",
          "Washed / Wet",
          "Washed / Wet",
          "Washed / Wet",
          "Washed / Wet",
          "Washed / Wet",
          "Natural / Dry",
          "Natural / Dry",
          "Washed / Wet",
          "Natural / Dry",
          "Natural / Dry",
          "Washed / Wet",
          "Washed / Wet",
          "Pulped natural / honey",
          "Natural / Dry",
          "Washed / Wet",
          "Washed / Wet",
          "Natural / Dry",
          "Washed / Wet",
          "Washed / Wet",
          "Washed / Wet",
          "Semi-washed / Semi-pulped",
          "Washed / Wet",
          "Washed / Wet",
          "Washed / Wet",
          "Washed / Wet",
          "Natural / Dry",
          "Washed / Wet",
          "Washed / Wet",
          "Natural / Dry",
          "Washed / Wet",
          "Washed / Wet",
          "Natural / Dry",
          "Washed / Wet",
          "Washed / Wet",
          "Natural / Dry",
          "Washed / Wet",
          "Washed / Wet",
          "Washed / Wet",
          "Natural / Dry",
          "Washed / Wet",
          "Washed / Wet",
          "Washed / Wet",
          "Washed / Wet",
          "Washed / Wet",
          "Washed / Wet",
          "Washed / Wet",
          "Washed / Wet",
          "Washed / Wet",
          "Natural / Dry",
          "Natural / Dry",
          "Washed / Wet",
          "Washed / Wet",
          "Natural / Dry",
          "Washed / Wet",
          "Washed / Wet",
          "Washed / Wet",
          "Washed / Wet",
          "Washed / Wet",
          "Other",
          "Washed / Wet",
          "Washed / Wet",
          "Washed / Wet",
          "Washed / Wet",
          "Washed / Wet",
          "Washed / Wet",
          "Natural / Dry",
          "Natural / Dry",
          "Washed / Wet",
          "Washed / Wet",
          "Washed / Wet",
          "Washed / Wet",
          "Washed / Wet",
          "Washed / Wet",
          "Washed / Wet",
          "Natural / Dry",
          "Washed / Wet",
          "Washed / Wet",
          "Natural / Dry",
          "Natural / Dry",
          "Washed / Wet",
          "Washed / Wet",
          "Washed / Wet",
          "Washed / Wet",
          "Washed / Wet",
          "Washed / Wet",
          "Washed / Wet",
          "Washed / Wet",
          "Washed / Wet",
          "Natural / Dry",
          "Washed / Wet",
          "Natural / Dry",
          "Semi-washed / Semi-pulped",
          "Natural / Dry",
          "Semi-washed / Semi-pulped",
          "Washed / Wet",
          "Washed / Wet",
          "Washed / Wet",
          "Washed / Wet",
          "Natural / Dry",
          "Washed / Wet",
          "Washed / Wet",
          "Washed / Wet",
          "Other",
          "Washed / Wet",
          "Semi-washed / Semi-pulped",
          "Washed / Wet",
          "Washed / Wet",
          "Washed / Wet",
          "Natural / Dry",
          "Washed / Wet",
          "Pulped natural / honey",
          "Natural / Dry",
          "Other",
          "Washed / Wet",
          "Natural / Dry",
          "Natural / Dry",
          "Washed / Wet",
          "Washed / Wet",
          "Washed / Wet",
          "Washed / Wet",
          "Washed / Wet",
          "Washed / Wet",
          "Natural / Dry",
          "Natural / Dry",
          "Washed / Wet",
          "Washed / Wet",
          "Semi-washed / Semi-pulped",
          "Washed / Wet",
          "Washed / Wet",
          "Semi-washed / Semi-pulped",
          "Washed / Wet",
          "Washed / Wet",
          "Washed / Wet",
          "Washed / Wet",
          "Washed / Wet",
          "Washed / Wet",
          "Washed / Wet",
          "Washed / Wet",
          "Natural / Dry",
          "Washed / Wet",
          "Washed / Wet",
          "Washed / Wet",
          "Natural / Dry",
          "Washed / Wet",
          "Washed / Wet",
          "Washed / Wet",
          "Natural / Dry",
          "Washed / Wet",
          "Washed / Wet",
          "Semi-washed / Semi-pulped",
          "Washed / Wet",
          "Washed / Wet",
          "Washed / Wet",
          "Washed / Wet",
          "Washed / Wet",
          "Washed / Wet",
          "Washed / Wet",
          "Semi-washed / Semi-pulped",
          "Washed / Wet",
          "Washed / Wet",
          "Washed / Wet",
          "Washed / Wet",
          "Washed / Wet",
          "Washed / Wet",
          "Semi-washed / Semi-pulped",
          "Washed / Wet",
          "Washed / Wet",
          "Washed / Wet",
          "Natural / Dry",
          "Natural / Dry",
          "Washed / Wet",
          "Other",
          "Washed / Wet",
          "Natural / Dry",
          "Washed / Wet",
          "Washed / Wet",
          "Washed / Wet",
          "Washed / Wet",
          "Washed / Wet",
          "Semi-washed / Semi-pulped",
          "Washed / Wet",
          "Other",
          "Washed / Wet",
          "Washed / Wet",
          "Washed / Wet",
          "Semi-washed / Semi-pulped",
          "Washed / Wet",
          "Natural / Dry",
          "Washed / Wet",
          "Semi-washed / Semi-pulped",
          "Washed / Wet",
          "Washed / Wet",
          "Washed / Wet",
          "Natural / Dry",
          "Washed / Wet",
          "Washed / Wet",
          "Washed / Wet",
          "Natural / Dry",
          "Washed / Wet",
          "Washed / Wet",
          "Washed / Wet",
          "Washed / Wet",
          "Washed / Wet",
          "Natural / Dry",
          "Washed / Wet",
          "Washed / Wet",
          "Natural / Dry",
          "Washed / Wet",
          "Other",
          "Washed / Wet",
          "Washed / Wet",
          "Washed / Wet",
          "Washed / Wet",
          "Washed / Wet",
          "Natural / Dry",
          "Natural / Dry",
          "Natural / Dry",
          "Washed / Wet",
          "Washed / Wet",
          "Washed / Wet",
          "Washed / Wet",
          "Semi-washed / Semi-pulped",
          "Washed / Wet",
          "Washed / Wet",
          "Washed / Wet",
          "Washed / Wet",
          "Washed / Wet",
          "Washed / Wet",
          "Natural / Dry",
          "Washed / Wet",
          "Natural / Dry",
          "Washed / Wet",
          "Washed / Wet",
          "Washed / Wet",
          "Natural / Dry",
          "Natural / Dry",
          "Washed / Wet",
          "Natural / Dry",
          "Natural / Dry",
          "Natural / Dry",
          "Washed / Wet",
          "Natural / Dry",
          "Washed / Wet",
          "Washed / Wet",
          "Washed / Wet",
          "Washed / Wet",
          "Washed / Wet",
          "Washed / Wet",
          "Washed / Wet",
          "Pulped natural / honey",
          "Washed / Wet",
          "Pulped natural / honey",
          "Washed / Wet",
          "Washed / Wet",
          "Washed / Wet",
          "Natural / Dry",
          "Washed / Wet",
          "Natural / Dry",
          "Semi-washed / Semi-pulped",
          "Washed / Wet",
          "Washed / Wet",
          "Washed / Wet",
          "Washed / Wet",
          "Washed / Wet",
          "Washed / Wet",
          "Washed / Wet",
          "Other",
          "Washed / Wet",
          "Natural / Dry",
          "Washed / Wet",
          "Natural / Dry",
          "Washed / Wet",
          "Washed / Wet",
          "Other",
          "Washed / Wet",
          "Washed / Wet",
          "Washed / Wet",
          "Washed / Wet",
          "Semi-washed / Semi-pulped",
          "Washed / Wet",
          "Washed / Wet",
          "Natural / Dry",
          "Washed / Wet",
          "Washed / Wet",
          "Washed / Wet",
          "Natural / Dry",
          "Other",
          "Washed / Wet",
          "Natural / Dry",
          "Washed / Wet",
          "Washed / Wet",
          "Washed / Wet",
          "Other",
          "Semi-washed / Semi-pulped",
          "Washed / Wet",
          "Washed / Wet",
          "Washed / Wet",
          "Washed / Wet",
          "Washed / Wet",
          "Washed / Wet",
          "Washed / Wet",
          "Washed / Wet",
          "Semi-washed / Semi-pulped",
          "Washed / Wet",
          "Natural / Dry",
          "Natural / Dry",
          "Washed / Wet",
          "Washed / Wet",
          "Semi-washed / Semi-pulped",
          "Washed / Wet",
          "Washed / Wet",
          "Semi-washed / Semi-pulped",
          "Washed / Wet",
          "Washed / Wet",
          "Washed / Wet",
          "Washed / Wet",
          "Washed / Wet",
          "Washed / Wet",
          "Washed / Wet",
          "Washed / Wet",
          "Washed / Wet",
          "Washed / Wet",
          "Other",
          "Washed / Wet",
          "Semi-washed / Semi-pulped",
          "Natural / Dry",
          "Natural / Dry",
          "Washed / Wet",
          "Natural / Dry",
          "Natural / Dry",
          "Washed / Wet",
          "Semi-washed / Semi-pulped",
          "Washed / Wet",
          "Washed / Wet",
          "Other",
          "Washed / Wet",
          "Washed / Wet",
          "Washed / Wet",
          "Washed / Wet",
          "Washed / Wet",
          "Washed / Wet",
          "Washed / Wet",
          "Washed / Wet",
          "Other",
          "Washed / Wet",
          "Semi-washed / Semi-pulped",
          "Washed / Wet",
          "Washed / Wet",
          "Washed / Wet",
          "Washed / Wet",
          "Washed / Wet",
          "Washed / Wet",
          "Washed / Wet",
          "Washed / Wet",
          "Washed / Wet",
          "Washed / Wet",
          "Washed / Wet",
          "Washed / Wet",
          "Washed / Wet",
          "Natural / Dry",
          "Washed / Wet",
          "Washed / Wet",
          "Washed / Wet",
          "Washed / Wet",
          "Washed / Wet",
          "Washed / Wet",
          "Natural / Dry",
          "Washed / Wet",
          "Washed / Wet",
          "Washed / Wet",
          "Washed / Wet",
          "Washed / Wet",
          "Washed / Wet",
          "Washed / Wet",
          "Washed / Wet",
          "Washed / Wet",
          "Washed / Wet",
          "Washed / Wet",
          "Washed / Wet",
          "Washed / Wet",
          "Washed / Wet",
          "Washed / Wet",
          "Washed / Wet",
          "Washed / Wet",
          "Washed / Wet",
          "Washed / Wet",
          "Natural / Dry",
          "Natural / Dry",
          "Washed / Wet",
          "Washed / Wet",
          "Washed / Wet",
          "Washed / Wet",
          "Washed / Wet",
          "Washed / Wet",
          "Washed / Wet",
          "Washed / Wet",
          "Washed / Wet",
          "Washed / Wet",
          "Washed / Wet",
          "Washed / Wet",
          "Washed / Wet",
          "Washed / Wet",
          "Washed / Wet",
          "Washed / Wet",
          "Washed / Wet",
          "Washed / Wet",
          "Washed / Wet",
          "Washed / Wet",
          "Washed / Wet",
          "Washed / Wet",
          "Washed / Wet",
          "Washed / Wet",
          "Washed / Wet",
          "Washed / Wet",
          "Natural / Dry",
          "Semi-washed / Semi-pulped",
          "Washed / Wet",
          "Washed / Wet",
          "Washed / Wet",
          "Other",
          "Washed / Wet",
          "Washed / Wet",
          "Semi-washed / Semi-pulped",
          "Washed / Wet",
          "Washed / Wet",
          "Washed / Wet",
          "Washed / Wet",
          "Washed / Wet",
          "Washed / Wet",
          "Washed / Wet",
          "Washed / Wet",
          "Washed / Wet",
          "Washed / Wet",
          "Natural / Dry",
          "Washed / Wet",
          "Washed / Wet",
          "Washed / Wet",
          "Natural / Dry",
          "Washed / Wet",
          "Washed / Wet",
          "Washed / Wet",
          "Washed / Wet",
          "Natural / Dry",
          "Washed / Wet",
          "Washed / Wet",
          "Washed / Wet",
          "Washed / Wet",
          "Washed / Wet",
          "Washed / Wet",
          "Washed / Wet",
          "Washed / Wet",
          "Washed / Wet",
          "Washed / Wet",
          "Washed / Wet",
          "Natural / Dry",
          "Washed / Wet",
          "Washed / Wet",
          "Washed / Wet",
          "Natural / Dry",
          "Washed / Wet",
          "Washed / Wet",
          "Natural / Dry",
          "Washed / Wet",
          "Washed / Wet",
          "Washed / Wet",
          "Washed / Wet",
          "Natural / Dry",
          "Washed / Wet",
          "Natural / Dry",
          "Washed / Wet",
          "Natural / Dry",
          "Washed / Wet",
          "Washed / Wet",
          "Washed / Wet",
          "Washed / Wet",
          "Washed / Wet",
          "Washed / Wet",
          "Washed / Wet",
          "Washed / Wet",
          "Washed / Wet",
          "Washed / Wet",
          "Washed / Wet",
          "Washed / Wet",
          "Washed / Wet",
          "Washed / Wet",
          "Washed / Wet",
          "Washed / Wet",
          "Washed / Wet",
          "Washed / Wet",
          "Washed / Wet",
          "Washed / Wet",
          "Washed / Wet",
          "Washed / Wet",
          "Washed / Wet",
          "Washed / Wet",
          "Washed / Wet",
          "Washed / Wet",
          "Washed / Wet",
          "Natural / Dry",
          "Other",
          "Washed / Wet"
         ],
         "xaxis": "x",
         "yaxis": "y"
        }
       ],
       "layout": {
        "barmode": "relative",
        "legend": {
         "tracegroupgap": 0
        },
        "template": {
         "data": {
          "bar": [
           {
            "error_x": {
             "color": "#2a3f5f"
            },
            "error_y": {
             "color": "#2a3f5f"
            },
            "marker": {
             "line": {
              "color": "#E5ECF6",
              "width": 0.5
             },
             "pattern": {
              "fillmode": "overlay",
              "size": 10,
              "solidity": 0.2
             }
            },
            "type": "bar"
           }
          ],
          "barpolar": [
           {
            "marker": {
             "line": {
              "color": "#E5ECF6",
              "width": 0.5
             },
             "pattern": {
              "fillmode": "overlay",
              "size": 10,
              "solidity": 0.2
             }
            },
            "type": "barpolar"
           }
          ],
          "carpet": [
           {
            "aaxis": {
             "endlinecolor": "#2a3f5f",
             "gridcolor": "white",
             "linecolor": "white",
             "minorgridcolor": "white",
             "startlinecolor": "#2a3f5f"
            },
            "baxis": {
             "endlinecolor": "#2a3f5f",
             "gridcolor": "white",
             "linecolor": "white",
             "minorgridcolor": "white",
             "startlinecolor": "#2a3f5f"
            },
            "type": "carpet"
           }
          ],
          "choropleth": [
           {
            "colorbar": {
             "outlinewidth": 0,
             "ticks": ""
            },
            "type": "choropleth"
           }
          ],
          "contour": [
           {
            "colorbar": {
             "outlinewidth": 0,
             "ticks": ""
            },
            "colorscale": [
             [
              0,
              "#0d0887"
             ],
             [
              0.1111111111111111,
              "#46039f"
             ],
             [
              0.2222222222222222,
              "#7201a8"
             ],
             [
              0.3333333333333333,
              "#9c179e"
             ],
             [
              0.4444444444444444,
              "#bd3786"
             ],
             [
              0.5555555555555556,
              "#d8576b"
             ],
             [
              0.6666666666666666,
              "#ed7953"
             ],
             [
              0.7777777777777778,
              "#fb9f3a"
             ],
             [
              0.8888888888888888,
              "#fdca26"
             ],
             [
              1,
              "#f0f921"
             ]
            ],
            "type": "contour"
           }
          ],
          "contourcarpet": [
           {
            "colorbar": {
             "outlinewidth": 0,
             "ticks": ""
            },
            "type": "contourcarpet"
           }
          ],
          "heatmap": [
           {
            "colorbar": {
             "outlinewidth": 0,
             "ticks": ""
            },
            "colorscale": [
             [
              0,
              "#0d0887"
             ],
             [
              0.1111111111111111,
              "#46039f"
             ],
             [
              0.2222222222222222,
              "#7201a8"
             ],
             [
              0.3333333333333333,
              "#9c179e"
             ],
             [
              0.4444444444444444,
              "#bd3786"
             ],
             [
              0.5555555555555556,
              "#d8576b"
             ],
             [
              0.6666666666666666,
              "#ed7953"
             ],
             [
              0.7777777777777778,
              "#fb9f3a"
             ],
             [
              0.8888888888888888,
              "#fdca26"
             ],
             [
              1,
              "#f0f921"
             ]
            ],
            "type": "heatmap"
           }
          ],
          "heatmapgl": [
           {
            "colorbar": {
             "outlinewidth": 0,
             "ticks": ""
            },
            "colorscale": [
             [
              0,
              "#0d0887"
             ],
             [
              0.1111111111111111,
              "#46039f"
             ],
             [
              0.2222222222222222,
              "#7201a8"
             ],
             [
              0.3333333333333333,
              "#9c179e"
             ],
             [
              0.4444444444444444,
              "#bd3786"
             ],
             [
              0.5555555555555556,
              "#d8576b"
             ],
             [
              0.6666666666666666,
              "#ed7953"
             ],
             [
              0.7777777777777778,
              "#fb9f3a"
             ],
             [
              0.8888888888888888,
              "#fdca26"
             ],
             [
              1,
              "#f0f921"
             ]
            ],
            "type": "heatmapgl"
           }
          ],
          "histogram": [
           {
            "marker": {
             "pattern": {
              "fillmode": "overlay",
              "size": 10,
              "solidity": 0.2
             }
            },
            "type": "histogram"
           }
          ],
          "histogram2d": [
           {
            "colorbar": {
             "outlinewidth": 0,
             "ticks": ""
            },
            "colorscale": [
             [
              0,
              "#0d0887"
             ],
             [
              0.1111111111111111,
              "#46039f"
             ],
             [
              0.2222222222222222,
              "#7201a8"
             ],
             [
              0.3333333333333333,
              "#9c179e"
             ],
             [
              0.4444444444444444,
              "#bd3786"
             ],
             [
              0.5555555555555556,
              "#d8576b"
             ],
             [
              0.6666666666666666,
              "#ed7953"
             ],
             [
              0.7777777777777778,
              "#fb9f3a"
             ],
             [
              0.8888888888888888,
              "#fdca26"
             ],
             [
              1,
              "#f0f921"
             ]
            ],
            "type": "histogram2d"
           }
          ],
          "histogram2dcontour": [
           {
            "colorbar": {
             "outlinewidth": 0,
             "ticks": ""
            },
            "colorscale": [
             [
              0,
              "#0d0887"
             ],
             [
              0.1111111111111111,
              "#46039f"
             ],
             [
              0.2222222222222222,
              "#7201a8"
             ],
             [
              0.3333333333333333,
              "#9c179e"
             ],
             [
              0.4444444444444444,
              "#bd3786"
             ],
             [
              0.5555555555555556,
              "#d8576b"
             ],
             [
              0.6666666666666666,
              "#ed7953"
             ],
             [
              0.7777777777777778,
              "#fb9f3a"
             ],
             [
              0.8888888888888888,
              "#fdca26"
             ],
             [
              1,
              "#f0f921"
             ]
            ],
            "type": "histogram2dcontour"
           }
          ],
          "mesh3d": [
           {
            "colorbar": {
             "outlinewidth": 0,
             "ticks": ""
            },
            "type": "mesh3d"
           }
          ],
          "parcoords": [
           {
            "line": {
             "colorbar": {
              "outlinewidth": 0,
              "ticks": ""
             }
            },
            "type": "parcoords"
           }
          ],
          "pie": [
           {
            "automargin": true,
            "type": "pie"
           }
          ],
          "scatter": [
           {
            "marker": {
             "colorbar": {
              "outlinewidth": 0,
              "ticks": ""
             }
            },
            "type": "scatter"
           }
          ],
          "scatter3d": [
           {
            "line": {
             "colorbar": {
              "outlinewidth": 0,
              "ticks": ""
             }
            },
            "marker": {
             "colorbar": {
              "outlinewidth": 0,
              "ticks": ""
             }
            },
            "type": "scatter3d"
           }
          ],
          "scattercarpet": [
           {
            "marker": {
             "colorbar": {
              "outlinewidth": 0,
              "ticks": ""
             }
            },
            "type": "scattercarpet"
           }
          ],
          "scattergeo": [
           {
            "marker": {
             "colorbar": {
              "outlinewidth": 0,
              "ticks": ""
             }
            },
            "type": "scattergeo"
           }
          ],
          "scattergl": [
           {
            "marker": {
             "colorbar": {
              "outlinewidth": 0,
              "ticks": ""
             }
            },
            "type": "scattergl"
           }
          ],
          "scattermapbox": [
           {
            "marker": {
             "colorbar": {
              "outlinewidth": 0,
              "ticks": ""
             }
            },
            "type": "scattermapbox"
           }
          ],
          "scatterpolar": [
           {
            "marker": {
             "colorbar": {
              "outlinewidth": 0,
              "ticks": ""
             }
            },
            "type": "scatterpolar"
           }
          ],
          "scatterpolargl": [
           {
            "marker": {
             "colorbar": {
              "outlinewidth": 0,
              "ticks": ""
             }
            },
            "type": "scatterpolargl"
           }
          ],
          "scatterternary": [
           {
            "marker": {
             "colorbar": {
              "outlinewidth": 0,
              "ticks": ""
             }
            },
            "type": "scatterternary"
           }
          ],
          "surface": [
           {
            "colorbar": {
             "outlinewidth": 0,
             "ticks": ""
            },
            "colorscale": [
             [
              0,
              "#0d0887"
             ],
             [
              0.1111111111111111,
              "#46039f"
             ],
             [
              0.2222222222222222,
              "#7201a8"
             ],
             [
              0.3333333333333333,
              "#9c179e"
             ],
             [
              0.4444444444444444,
              "#bd3786"
             ],
             [
              0.5555555555555556,
              "#d8576b"
             ],
             [
              0.6666666666666666,
              "#ed7953"
             ],
             [
              0.7777777777777778,
              "#fb9f3a"
             ],
             [
              0.8888888888888888,
              "#fdca26"
             ],
             [
              1,
              "#f0f921"
             ]
            ],
            "type": "surface"
           }
          ],
          "table": [
           {
            "cells": {
             "fill": {
              "color": "#EBF0F8"
             },
             "line": {
              "color": "white"
             }
            },
            "header": {
             "fill": {
              "color": "#C8D4E3"
             },
             "line": {
              "color": "white"
             }
            },
            "type": "table"
           }
          ]
         },
         "layout": {
          "annotationdefaults": {
           "arrowcolor": "#2a3f5f",
           "arrowhead": 0,
           "arrowwidth": 1
          },
          "autotypenumbers": "strict",
          "coloraxis": {
           "colorbar": {
            "outlinewidth": 0,
            "ticks": ""
           }
          },
          "colorscale": {
           "diverging": [
            [
             0,
             "#8e0152"
            ],
            [
             0.1,
             "#c51b7d"
            ],
            [
             0.2,
             "#de77ae"
            ],
            [
             0.3,
             "#f1b6da"
            ],
            [
             0.4,
             "#fde0ef"
            ],
            [
             0.5,
             "#f7f7f7"
            ],
            [
             0.6,
             "#e6f5d0"
            ],
            [
             0.7,
             "#b8e186"
            ],
            [
             0.8,
             "#7fbc41"
            ],
            [
             0.9,
             "#4d9221"
            ],
            [
             1,
             "#276419"
            ]
           ],
           "sequential": [
            [
             0,
             "#0d0887"
            ],
            [
             0.1111111111111111,
             "#46039f"
            ],
            [
             0.2222222222222222,
             "#7201a8"
            ],
            [
             0.3333333333333333,
             "#9c179e"
            ],
            [
             0.4444444444444444,
             "#bd3786"
            ],
            [
             0.5555555555555556,
             "#d8576b"
            ],
            [
             0.6666666666666666,
             "#ed7953"
            ],
            [
             0.7777777777777778,
             "#fb9f3a"
            ],
            [
             0.8888888888888888,
             "#fdca26"
            ],
            [
             1,
             "#f0f921"
            ]
           ],
           "sequentialminus": [
            [
             0,
             "#0d0887"
            ],
            [
             0.1111111111111111,
             "#46039f"
            ],
            [
             0.2222222222222222,
             "#7201a8"
            ],
            [
             0.3333333333333333,
             "#9c179e"
            ],
            [
             0.4444444444444444,
             "#bd3786"
            ],
            [
             0.5555555555555556,
             "#d8576b"
            ],
            [
             0.6666666666666666,
             "#ed7953"
            ],
            [
             0.7777777777777778,
             "#fb9f3a"
            ],
            [
             0.8888888888888888,
             "#fdca26"
            ],
            [
             1,
             "#f0f921"
            ]
           ]
          },
          "colorway": [
           "#636efa",
           "#EF553B",
           "#00cc96",
           "#ab63fa",
           "#FFA15A",
           "#19d3f3",
           "#FF6692",
           "#B6E880",
           "#FF97FF",
           "#FECB52"
          ],
          "font": {
           "color": "#2a3f5f"
          },
          "geo": {
           "bgcolor": "white",
           "lakecolor": "white",
           "landcolor": "#E5ECF6",
           "showlakes": true,
           "showland": true,
           "subunitcolor": "white"
          },
          "hoverlabel": {
           "align": "left"
          },
          "hovermode": "closest",
          "mapbox": {
           "style": "light"
          },
          "paper_bgcolor": "white",
          "plot_bgcolor": "#E5ECF6",
          "polar": {
           "angularaxis": {
            "gridcolor": "white",
            "linecolor": "white",
            "ticks": ""
           },
           "bgcolor": "#E5ECF6",
           "radialaxis": {
            "gridcolor": "white",
            "linecolor": "white",
            "ticks": ""
           }
          },
          "scene": {
           "xaxis": {
            "backgroundcolor": "#E5ECF6",
            "gridcolor": "white",
            "gridwidth": 2,
            "linecolor": "white",
            "showbackground": true,
            "ticks": "",
            "zerolinecolor": "white"
           },
           "yaxis": {
            "backgroundcolor": "#E5ECF6",
            "gridcolor": "white",
            "gridwidth": 2,
            "linecolor": "white",
            "showbackground": true,
            "ticks": "",
            "zerolinecolor": "white"
           },
           "zaxis": {
            "backgroundcolor": "#E5ECF6",
            "gridcolor": "white",
            "gridwidth": 2,
            "linecolor": "white",
            "showbackground": true,
            "ticks": "",
            "zerolinecolor": "white"
           }
          },
          "shapedefaults": {
           "line": {
            "color": "#2a3f5f"
           }
          },
          "ternary": {
           "aaxis": {
            "gridcolor": "white",
            "linecolor": "white",
            "ticks": ""
           },
           "baxis": {
            "gridcolor": "white",
            "linecolor": "white",
            "ticks": ""
           },
           "bgcolor": "#E5ECF6",
           "caxis": {
            "gridcolor": "white",
            "linecolor": "white",
            "ticks": ""
           }
          },
          "title": {
           "x": 0.05
          },
          "xaxis": {
           "automargin": true,
           "gridcolor": "white",
           "linecolor": "white",
           "ticks": "",
           "title": {
            "standoff": 15
           },
           "zerolinecolor": "white",
           "zerolinewidth": 2
          },
          "yaxis": {
           "automargin": true,
           "gridcolor": "white",
           "linecolor": "white",
           "ticks": "",
           "title": {
            "standoff": 15
           },
           "zerolinecolor": "white",
           "zerolinewidth": 2
          }
         }
        },
        "title": {
         "text": "Arabica: Processing Method"
        },
        "xaxis": {
         "anchor": "y",
         "domain": [
          0,
          1
         ],
         "title": {
          "text": "Processing Method"
         }
        },
        "yaxis": {
         "anchor": "x",
         "domain": [
          0,
          1
         ],
         "title": {
          "text": "count"
         }
        }
       }
      }
     },
     "metadata": {},
     "output_type": "display_data"
    }
   ],
   "source": [
    "for column_name in arabica.columns:\n",
    "    fig = px.histogram(arabica, x=column_name, title='Arabica: {}'.format(column_name))\n",
    "    fig.show()"
   ]
  },
  {
   "cell_type": "markdown",
   "id": "becoming-journalism",
   "metadata": {},
   "source": [
    "## cleaning outliers\n",
    "* define heuristics that classify outliers for each column\n",
    "* set outliers to median  "
   ]
  },
  {
   "cell_type": "code",
   "execution_count": null,
   "id": "7ddc83ad",
   "metadata": {},
   "outputs": [],
   "source": []
  },
  {
   "cell_type": "markdown",
   "id": "foreign-beginning",
   "metadata": {},
   "source": [
    "## Identify \n",
    " * Which countries have more than 10 and less than 30 entries?\n",
    " * Which is the producer with most entries?\n",
    " * What is the mosts common and least common \"Processing Method\""
   ]
  },
  {
   "cell_type": "code",
   "execution_count": 95,
   "id": "sudden-crawford",
   "metadata": {},
   "outputs": [
    {
     "data": {
      "text/plain": [
       "['Ethiopia',\n",
       " 'Uganda',\n",
       " 'Thailand',\n",
       " 'Kenya',\n",
       " 'China',\n",
       " 'El Salvador',\n",
       " 'Indonesia',\n",
       " 'Nicaragua',\n",
       " 'Malawi']"
      ]
     },
     "execution_count": 95,
     "metadata": {},
     "output_type": "execute_result"
    }
   ],
   "source": [
    "countries_more_than_10 = arabica[\"Country of Origin\"].value_counts() > 10\n",
    "countries_less_than_30 = arabica[\"Country of Origin\"].value_counts() < 30\n",
    "wanted_countries = countries_less_than_30 * countries_more_than_10\n",
    "wanted_countries.index[wanted_countries].to_list()"
   ]
  }
 ],
 "metadata": {
  "kernelspec": {
   "display_name": "Python 3",
   "language": "python",
   "name": "python3"
  },
  "language_info": {
   "codemirror_mode": {
    "name": "ipython",
    "version": 3
   },
   "file_extension": ".py",
   "mimetype": "text/x-python",
   "name": "python",
   "nbconvert_exporter": "python",
   "pygments_lexer": "ipython3",
   "version": "3.9.7"
  }
 },
 "nbformat": 4,
 "nbformat_minor": 5
}
